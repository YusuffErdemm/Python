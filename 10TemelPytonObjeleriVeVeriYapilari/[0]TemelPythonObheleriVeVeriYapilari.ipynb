{
 "cells": [
  {
   "cell_type": "markdown",
   "id": "9d848503",
   "metadata": {
    "toc": true
   },
   "source": [
    "<h1>Table of Contents<span class=\"tocSkip\"></span></h1>\n",
    "<div class=\"toc\"><ul class=\"toc-item\"><li><span><a href=\"#TEMEL-PYTHON-OBJELERI-ve-VERI-YAPILARI\" data-toc-modified-id=\"TEMEL-PYTHON-OBJELERI-ve-VERI-YAPILARI-1\">TEMEL PYTHON OBJELERI ve VERI YAPILARI</a></span><ul class=\"toc-item\"><li><span><a href=\"#Degisken-tanimlama-kurallari\" data-toc-modified-id=\"Degisken-tanimlama-kurallari-1.1\">Degisken tanimlama kurallari</a></span></li></ul></li><li><span><a href=\"#STRING\" data-toc-modified-id=\"STRING-2\">STRING</a></span><ul class=\"toc-item\"><li><span><a href=\"#String-Indexleme-Ve-Parcalama\" data-toc-modified-id=\"String-Indexleme-Ve-Parcalama-2.1\">String Indexleme Ve Parcalama</a></span></li></ul></li><li><span><a href=\"#Data-Type-Transformations\" data-toc-modified-id=\"Data-Type-Transformations-3\">Data Type Transformations</a></span><ul class=\"toc-item\"><li><span><a href=\"#\\n-ve-\\t\" data-toc-modified-id=\"\\n-ve-\\t-3.1\">\\n ve \\t</a></span></li><li><span><a href=\"#type()-fonksiyonu\" data-toc-modified-id=\"type()-fonksiyonu-3.2\">type() fonksiyonu</a></span></li><li><span><a href=\"#sep=&quot;-&quot;-parametresi\" data-toc-modified-id=\"sep=&quot;-&quot;-parametresi-3.3\">sep=\" \" parametresi</a></span></li><li><span><a href=\"#*-`-li-Parametreler\" data-toc-modified-id=\"*-`-li-Parametreler-3.4\">* ` li Parametreler</a></span></li></ul></li><li><span><a href=\"#Stringlerde-Formatlama\" data-toc-modified-id=\"Stringlerde-Formatlama-4\">Stringlerde Formatlama</a></span><ul class=\"toc-item\"><li><span><a href=\"#.format()-fonksiyonu\" data-toc-modified-id=\".format()-fonksiyonu-4.1\">.format() fonksiyonu</a></span></li></ul></li><li><span><a href=\"#LIST`s\" data-toc-modified-id=\"LIST`s-5\">LIST`s</a></span><ul class=\"toc-item\"><li><span><a href=\"#Liste-Islemleri\" data-toc-modified-id=\"Liste-Islemleri-5.1\">Liste Islemleri</a></span><ul class=\"toc-item\"><li><span><a href=\"#Liste-Olusturma\" data-toc-modified-id=\"Liste-Olusturma-5.1.1\">Liste Olusturma</a></span><ul class=\"toc-item\"><li><span><a href=\"#Listeleri-indexleme\" data-toc-modified-id=\"Listeleri-indexleme-5.1.1.1\">Listeleri indexleme</a></span></li></ul></li></ul></li><li><span><a href=\"#Temel-liste-metotlari-ve-islemleri\" data-toc-modified-id=\"Temel-liste-metotlari-ve-islemleri-5.2\">Temel liste metotlari ve islemleri</a></span><ul class=\"toc-item\"><li><span><a href=\"#append()-metodu\" data-toc-modified-id=\"append()-metodu-5.2.1\">append() metodu</a></span></li><li><span><a href=\"#pop()-metodu\" data-toc-modified-id=\"pop()-metodu-5.2.2\">pop() metodu</a></span></li><li><span><a href=\"#sort()-metodu\" data-toc-modified-id=\"sort()-metodu-5.2.3\">sort() metodu</a></span></li><li><span><a href=\"#Liste-ekleme\" data-toc-modified-id=\"Liste-ekleme-5.2.4\">Liste ekleme</a></span></li></ul></li><li><span><a href=\"#Liste-Icinde-Listeler\" data-toc-modified-id=\"Liste-Icinde-Listeler-5.3\">Liste Icinde Listeler</a></span></li></ul></li><li><span><a href=\"#TUPLE`S\" data-toc-modified-id=\"TUPLE`S-6\">TUPLE`S</a></span><ul class=\"toc-item\"><li><ul class=\"toc-item\"><li><span><a href=\"#count\" data-toc-modified-id=\"count-6.0.1\">count</a></span></li><li><span><a href=\"#index\" data-toc-modified-id=\"index-6.0.2\">index</a></span></li></ul></li></ul></li><li><span><a href=\"#DICTIONARYS\" data-toc-modified-id=\"DICTIONARYS-7\">DICTIONARYS</a></span><ul class=\"toc-item\"><li><ul class=\"toc-item\"><li><span><a href=\"#Sozluge-ekleme-yapmak\" data-toc-modified-id=\"Sozluge-ekleme-yapmak-7.0.1\">Sozluge ekleme yapmak</a></span></li></ul></li><li><span><a href=\"#Ic-Ice-Sozlukler\" data-toc-modified-id=\"Ic-Ice-Sozlukler-7.1\">Ic Ice Sozlukler</a></span><ul class=\"toc-item\"><li><span><a href=\"#keys()\" data-toc-modified-id=\"keys()-7.1.1\">keys()</a></span></li><li><span><a href=\"#values()\" data-toc-modified-id=\"values()-7.1.2\">values()</a></span></li><li><span><a href=\"#items()\" data-toc-modified-id=\"items()-7.1.3\">items()</a></span></li></ul></li></ul></li><li><span><a href=\"#Kullanicidan-Girdi-Alma\" data-toc-modified-id=\"Kullanicidan-Girdi-Alma-8\">Kullanicidan Girdi Alma</a></span><ul class=\"toc-item\"><li><span><a href=\"#input()-fonksiyonu\" data-toc-modified-id=\"input()-fonksiyonu-8.1\">input() fonksiyonu</a></span></li></ul></li></ul></div>"
   ]
  },
  {
   "cell_type": "markdown",
   "id": "826b198f",
   "metadata": {},
   "source": [
    "# TEMEL PYTHON OBJELERI ve VERI YAPILARI\n",
    "---\n",
    "- Tam sayilar INTEGER \n",
    "- Ondalik sayilar FLOAT  \n",
    "- Toplama + , Cikartma - , Carpma * , Bolme / "
   ]
  },
  {
   "cell_type": "code",
   "execution_count": 1,
   "id": "194dc7ef",
   "metadata": {},
   "outputs": [
    {
     "name": "stdout",
     "output_type": "stream",
     "text": [
      "39\n",
      "4.333333333333333\n",
      "20\n"
     ]
    }
   ],
   "source": [
    "print(13 * 3) \n",
    "print(13 / 3) \n",
    "i = 10\n",
    "print(i + i)"
   ]
  },
  {
   "cell_type": "markdown",
   "id": "7f35ba91",
   "metadata": {},
   "source": [
    "## Degisken tanimlama kurallari\n",
    " 1. Değişken isimleri bir **sayı** ile başlayamaz.\n",
    " 2. Değişken ismi kelimelerden oluşuyorsa aralarında **boşluk** olamaz.\n",
    " 3. :'\",<>/?|\\()!@#$%^&*~-+ Buradaki semboller değişken ismi içinde kullanılamaz.(Sadece _ sembolü kullanılabilir)\n",
    " 4. Pythonda **tanımlı** anahtar kelimeler değişken ismi olarak kullanılamaz.(while, not vs. )"
   ]
  },
  {
   "cell_type": "markdown",
   "id": "8d7dd969",
   "metadata": {},
   "source": [
    "**iki degiskenin degeri bibiri ile degistirmek icin pratik bir yontem var:**"
   ]
  },
  {
   "cell_type": "code",
   "execution_count": 3,
   "id": "694a8cb5",
   "metadata": {},
   "outputs": [
    {
     "name": "stdout",
     "output_type": "stream",
     "text": [
      "3\n",
      "4\n"
     ]
    }
   ],
   "source": [
    "a = 4\n",
    "b = 3\n",
    "a, b = b, a\n",
    "print(a) \n",
    "print(b)  "
   ]
  },
  {
   "cell_type": "code",
   "execution_count": 4,
   "id": "90ae31ca",
   "metadata": {},
   "outputs": [
    {
     "name": "stdout",
     "output_type": "stream",
     "text": [
      "4\n",
      "3\n",
      "2\n"
     ]
    }
   ],
   "source": [
    "a += 1\n",
    "print(a)  # 4 a=a+1 ile ayni sey!\n",
    "b = b - 1\n",
    "print(b)  # 3 Oldu.\n",
    "b -= 1\n",
    "print(b)  # 2oldu:)"
   ]
  },
  {
   "cell_type": "markdown",
   "id": "3c5757fe",
   "metadata": {},
   "source": [
    "- Tamsayi bolemesi icin--> \" // \"\n",
    "- Bolumden Kalanini bulma (mod)--> \" % \"\n",
    "- Ust Alma--> \" ** \""
   ]
  },
  {
   "cell_type": "code",
   "execution_count": 6,
   "id": "73df751b",
   "metadata": {},
   "outputs": [
    {
     "name": "stdout",
     "output_type": "stream",
     "text": [
      "2\n",
      "2\n",
      "2.4\n",
      "248832\n"
     ]
    }
   ],
   "source": [
    "print(12 // 5)  # 2\n",
    "print(12 % 5)  # 2\n",
    "print(12 / 5)  # 2.4\n",
    "print(12 ** 5)  # 248832"
   ]
  },
  {
   "cell_type": "markdown",
   "id": "8942fa32",
   "metadata": {},
   "source": [
    "# STRING"
   ]
  },
  {
   "cell_type": "code",
   "execution_count": 7,
   "id": "165c1440",
   "metadata": {},
   "outputs": [
    {
     "name": "stdout",
     "output_type": "stream",
     "text": [
      "yusuf erdem\n",
      "yusuf erdem\n",
      "yusuf erdem\n",
      "naber iyi misin?\n"
     ]
    }
   ],
   "source": [
    "print(\"yusuf erdem\")  # yusuf erdem\n",
    "print(\"\"\"yusuf erdem\"\"\")  # yusuf erdem\n",
    "print('yusuf erdem')  # yusuf erdem\n",
    "naber = \"naber iyi misin?\"\n",
    "print(naber)  # naber iyi misin?"
   ]
  },
  {
   "cell_type": "markdown",
   "id": "7e6c800c",
   "metadata": {},
   "source": [
    "## String Indexleme Ve Parcalama\n"
   ]
  },
  {
   "cell_type": "code",
   "execution_count": 8,
   "id": "1c5de7e3",
   "metadata": {},
   "outputs": [
    {
     "name": "stdout",
     "output_type": "stream",
     "text": [
      "r\n",
      "i\n"
     ]
    }
   ],
   "source": [
    "x = \"irem\"\n",
    "print(x[1])  \n",
    "print(x[0])  "
   ]
  },
  {
   "cell_type": "code",
   "execution_count": 9,
   "id": "a2ec75fe",
   "metadata": {},
   "outputs": [
    {
     "name": "stdout",
     "output_type": "stream",
     "text": [
      "19\n",
      "iremi\n",
      "mi cok seviyorum\n",
      "imc vom\n",
      "ieicksvyrm\n"
     ]
    }
   ],
   "source": [
    "y = \"iremi cok seviyorum\"\n",
    "print(len(y))  # 19\n",
    "print(y[0:5])  # iremi\n",
    "print(y[3:19])  # mi cok seviyorum\n",
    "print(y[::3])  # imc vom Bastan 3 er atlaya atlaya stringi al\n",
    "print(y[0:19:2])  # ieicksvyrm 0 dan 19 a 2 ser atlayarak stringi al"
   ]
  },
  {
   "cell_type": "code",
   "execution_count": 10,
   "id": "1e8ff98b",
   "metadata": {},
   "outputs": [
    {
     "name": "stdout",
     "output_type": "stream",
     "text": [
      "iremicokseviyorum\n",
      "seviyorumseviyorumseviyorum\n",
      "iremi cok seviyorum\n",
      "iremi cok seviyorum\n"
     ]
    }
   ],
   "source": [
    "a = \"iremi\"\n",
    "b = \"cok\"\n",
    "c = \"seviyorum\"\n",
    "print(a + b + c)  # iremicokseviyorum ?? ayrilmadi\n",
    "print(c * 3)  # seviyorumseviyorumseviyorum\n",
    "print(a, b, c)  # iremi cok seviyorum\n",
    "print(\"iremi\", \"cok\", \"seviyorum\")  # iremi cok seviyorum"
   ]
  },
  {
   "cell_type": "markdown",
   "id": "31fd30b0",
   "metadata": {},
   "source": [
    "# Data Type Transformations"
   ]
  },
  {
   "cell_type": "code",
   "execution_count": 11,
   "id": "0345bdc2",
   "metadata": {},
   "outputs": [
    {
     "name": "stdout",
     "output_type": "stream",
     "text": [
      "42.0\n",
      "42\n",
      "345\n",
      "3\n",
      "4\n"
     ]
    }
   ],
   "source": [
    "a = 42\n",
    "a = float(a)\n",
    "print(a)  # 42.0\n",
    "float(-1)\n",
    "c = 42.3\n",
    "c = int(c)  # Float'i integer'a\n",
    "print(c)  # 42\n",
    "d = 345\n",
    "d = str(d)  # Int'i String'e\n",
    "print(d)  # 345\n",
    "print(len(d))  # 3\n",
    "a = str(3.14)\n",
    "print(len(a))  # 4 icindeki nokta bile string e dondu"
   ]
  },
  {
   "cell_type": "code",
   "execution_count": 12,
   "id": "a4bd3264",
   "metadata": {},
   "outputs": [
    {
     "name": "stdout",
     "output_type": "stream",
     "text": [
      "3144234\n",
      "3.142324\n"
     ]
    }
   ],
   "source": [
    "a = \"3144234\"\n",
    "b = int(a)\n",
    "print(b)  # 3144234\n",
    "a = \"3.142324\"\n",
    "\"\"\"\n",
    "c=int(a) # invalid literal for int() with base 10: '3.142324'\n",
    "\"\"\"\n",
    "c = float(a)\n",
    "print(c)  # 3.142324"
   ]
  },
  {
   "cell_type": "markdown",
   "id": "4f5eee15",
   "metadata": {},
   "source": [
    "## \\n ve \\t\n",
    "---\n",
    "`Print icinde`   \n",
    "**\\n** kullanirsak alt satirdan isleme devam eder   \n",
    "**\\t** kullanilirsa bir tab bosluk birakarak devam eder  "
   ]
  },
  {
   "cell_type": "code",
   "execution_count": 16,
   "id": "652e24be",
   "metadata": {},
   "outputs": [
    {
     "name": "stdout",
     "output_type": "stream",
     "text": [
      "yakisiyomu\n",
      "lan\n",
      "top\n",
      "----------------------------------------------------------------------------------------------------\n",
      "yakisiyomu\tlan\ttop\n",
      "----------------------------------------------------------------------------------------------------\n",
      "yakisiyomu\t\t\t\t\t\tlan\n"
     ]
    }
   ],
   "source": [
    "print(\"yakisiyomu\\nlan\\ntop\")\n",
    "print(\"--\"*50)\n",
    "print(\"yakisiyomu\\tlan\\ttop\")\n",
    "print(\"--\"*50)\n",
    "print(\"yakisiyomu\\t\\t\\t\\t\\t\\tlan\") "
   ]
  },
  {
   "cell_type": "markdown",
   "id": "238527fc",
   "metadata": {},
   "source": [
    "## type() fonksiyonu\n",
    "`type()` fonksiyonu  icine gonderilen verinin hangi veri tipinde oldugunu soyler"
   ]
  },
  {
   "cell_type": "code",
   "execution_count": 17,
   "id": "1ed44b62",
   "metadata": {},
   "outputs": [
    {
     "name": "stdout",
     "output_type": "stream",
     "text": [
      "<class 'int'>\n",
      "<class 'float'>\n",
      "<class 'str'>\n"
     ]
    }
   ],
   "source": [
    "# ! Integer (Tamsayı) türü\n",
    "a = 65\n",
    "print(type(a))\n",
    "\n",
    "#! Float (Ondalıklı Sayı) türü\n",
    "a = 5.87\n",
    "print(type(a))\n",
    "\n",
    "#! String (Karakter Dizisi) türü\n",
    "a = \"YUSUF\"\n",
    "print(type(a))"
   ]
  },
  {
   "cell_type": "markdown",
   "id": "0c6d75dc",
   "metadata": {},
   "source": [
    "## sep=\" \" parametresi"
   ]
  },
  {
   "cell_type": "markdown",
   "id": "8dee0c84",
   "metadata": {},
   "source": [
    "print() fonksiyonunda kullanılabilen sep parametresi yazdırdığımız \n",
    "değerlerin arasına istediğimiz karakterlerin \n",
    "yerleştirilmesini sağlar. Eğer bu parametreyi kullanmazsak değerlerin arasına varsayılan \n",
    "olarak boşluk yerleştirildiğini biliyoruz"
   ]
  },
  {
   "cell_type": "code",
   "execution_count": 19,
   "id": "0cd23b5d",
   "metadata": {},
   "outputs": [
    {
     "name": "stdout",
     "output_type": "stream",
     "text": [
      "12 9 1998\n",
      "12/9/1998\n",
      "12\n",
      "9\n",
      "1998\n"
     ]
    }
   ],
   "source": [
    "print(12, 9, 1998)  # 12 9 1998\n",
    "print(12, 9, 1998, sep=\"/\")  # 12/9/1998\n",
    "print(12, 9, 1998, sep=\"\\n\")  # 12 ; 9 ; 1998"
   ]
  },
  {
   "cell_type": "markdown",
   "id": "c97e7101",
   "metadata": {},
   "source": [
    "## * ` li Parametreler\n"
   ]
  },
  {
   "cell_type": "code",
   "execution_count": 20,
   "id": "10eeea37",
   "metadata": {},
   "outputs": [
    {
     "name": "stdout",
     "output_type": "stream",
     "text": [
      "T B M M\n",
      "T B M M\n",
      "T.M.B.B\n"
     ]
    }
   ],
   "source": [
    "print(\"T\", \"B\", \"M\", \"M\")\n",
    "print(*\"TBMM\")  # T B M M\n",
    "print(*\"TMBB\", sep=\".\")  # T.B.M.M"
   ]
  },
  {
   "cell_type": "markdown",
   "id": "df67b416",
   "metadata": {},
   "source": [
    "# Stringlerde Formatlama\n",
    "---\n",
    "## .format() fonksiyonu"
   ]
  },
  {
   "cell_type": "code",
   "execution_count": 21,
   "id": "c00ce0f3",
   "metadata": {},
   "outputs": [
    {
     "name": "stdout",
     "output_type": "stream",
     "text": [
      "3 + 4'nin toplami 7'dir.\n"
     ]
    }
   ],
   "source": [
    "a = 3\n",
    "b = 4\n",
    "print(\"{} + {}'nin toplami {}'dir.\".format(a, b, a + b))"
   ]
  },
  {
   "cell_type": "code",
   "execution_count": 23,
   "id": "3b526124",
   "metadata": {},
   "outputs": [
    {
     "name": "stdout",
     "output_type": "stream",
     "text": [
      "06 BAE 227\n"
     ]
    }
   ],
   "source": [
    "# arabanin plakasini yazdiralim\n",
    "print(\"{2} {0} {1}\".format(\"BAE\", 227, \"06\"))  # 06 BAE 227"
   ]
  },
  {
   "cell_type": "markdown",
   "id": "678f0b31",
   "metadata": {},
   "source": [
    "# LIST`s"
   ]
  },
  {
   "cell_type": "markdown",
   "id": "31455919",
   "metadata": {},
   "source": [
    "## Liste Islemleri\n",
    "### Liste Olusturma"
   ]
  },
  {
   "cell_type": "code",
   "execution_count": 24,
   "id": "89a7378c",
   "metadata": {},
   "outputs": [
    {
     "name": "stdout",
     "output_type": "stream",
     "text": [
      "[3, 4, 5, 6, 'Yusuf', 3.14, 5, 232]\n"
     ]
    }
   ],
   "source": [
    "# Liste Olusturma\n",
    "liste = [3, 4, 5, 6, \"Yusuf\", 3.14, 5, 232]\n",
    "print(liste)  # [3, 4, 5, 6, 'Yusuf', 3.14, 5, 232]\n",
    "bos_liste = []"
   ]
  },
  {
   "cell_type": "code",
   "execution_count": 26,
   "id": "b4cf6681",
   "metadata": {},
   "outputs": [
    {
     "name": "stdout",
     "output_type": "stream",
     "text": [
      "[]\n"
     ]
    }
   ],
   "source": [
    "#` bos liste\n",
    "bos_liste = list()\n",
    "print(bos_liste)  # []"
   ]
  },
  {
   "cell_type": "code",
   "execution_count": 27,
   "id": "60740012",
   "metadata": {},
   "outputs": [
    {
     "name": "stdout",
     "output_type": "stream",
     "text": [
      "['m', 'e', 'r', 'h', 'a', 'b', 'a']\n"
     ]
    }
   ],
   "source": [
    "s = \"merhaba\"\n",
    "lst = list(s)\n",
    "print(lst)  # ['m', 'e', 'r', 'h', 'a', 'b', 'a'] liste bu sekildede olusturulabilir"
   ]
  },
  {
   "cell_type": "markdown",
   "id": "192d7f91",
   "metadata": {},
   "source": [
    "#### Listeleri indexleme"
   ]
  },
  {
   "cell_type": "code",
   "execution_count": 28,
   "id": "0079b689",
   "metadata": {},
   "outputs": [
    {
     "name": "stdout",
     "output_type": "stream",
     "text": [
      "9\n",
      "5\n",
      "10\n",
      "[10, 9, 8, 7, 6, 5, 4, 3, 2]\n"
     ]
    }
   ],
   "source": [
    "a = [2, 3, 4, 5, 6, 7, 8, 9, 10]\n",
    "print(len(a))  # 9\n",
    "print(a[3])  # 5\n",
    "print(a[-1])  # 10\n",
    "print(a[::-1])  # [10, 9, 8, 7, 6, 5, 4, 3, 2]"
   ]
  },
  {
   "cell_type": "markdown",
   "id": "8417b8c3",
   "metadata": {},
   "source": [
    "## Temel liste metotlari ve islemleri"
   ]
  },
  {
   "cell_type": "code",
   "execution_count": 32,
   "id": "92c0eca5",
   "metadata": {},
   "outputs": [
    {
     "name": "stdout",
     "output_type": "stream",
     "text": [
      "[1, 2, 3, 4, 5, 6, 7, 8, 9, 10]\n",
      "[1, 2, 3, 4, 5, 'irem']\n",
      "[1, 2, 3, 4, 5, 'Yusuf']\n",
      "[12, 2, 3, 4, 5]\n",
      "[12, 2, 3, 4, 5, 12, 2, 3, 4, 5, 12, 2, 3, 4, 5]\n"
     ]
    }
   ],
   "source": [
    "liste1 = [1, 2, 3, 4, 5]\n",
    "liste2 = [6, 7, 8, 9, 10]\n",
    "print(liste1 + liste2)  # [1,2,3,4,5,6,7,8,9,10]\n",
    "name = [\"irem\"]\n",
    "print(liste1 + name)  # [1,2,3,4,5 , 'irem']\n",
    "print(liste1 + [\"Yusuf\"])  # [1, 2, 3, 4, 5, 'Yusuf']\n",
    "\n",
    "lst = [1, 2, 3, 4, 5]\n",
    "lst[0] = 12\n",
    "print(lst)  # [12,2,3,4,5] gibi istedigimiz index i degistirebiliyoruz\n",
    "print(lst * 3) "
   ]
  },
  {
   "cell_type": "markdown",
   "id": "8f0ef797",
   "metadata": {},
   "source": [
    "### append() metodu\n",
    "- bu sekilde yazdigimiz halde son indexin pesine ekleme yapar"
   ]
  },
  {
   "cell_type": "code",
   "execution_count": 43,
   "id": "7e7daa07",
   "metadata": {},
   "outputs": [
    {
     "name": "stdout",
     "output_type": "stream",
     "text": [
      "[1, 2, 3, 'Yusuf']\n"
     ]
    }
   ],
   "source": [
    "liste22 = [1, 2, 3]\n",
    "liste22.append(\"Yusuf\")\n",
    "print(liste22)  # [1, 2, 3, 'Yusuf']\n"
   ]
  },
  {
   "cell_type": "markdown",
   "id": "2f15ca7b",
   "metadata": {},
   "source": [
    "### pop() metodu\n",
    "- icine gonderdigimiz index`deki elemani siler"
   ]
  },
  {
   "cell_type": "code",
   "execution_count": 34,
   "id": "4347907c",
   "metadata": {},
   "outputs": [
    {
     "name": "stdout",
     "output_type": "stream",
     "text": [
      "[2, 3]\n"
     ]
    }
   ],
   "source": [
    "liste = [1, 2, 3]\n",
    "liste.pop(0)\n",
    "print((liste))  # [ 2 ,3 ]"
   ]
  },
  {
   "cell_type": "markdown",
   "id": "412c620d",
   "metadata": {},
   "source": [
    "### sort() metodu\n",
    "- Kucukten buyuge veya Alfabetik olarak siralar"
   ]
  },
  {
   "cell_type": "code",
   "execution_count": 35,
   "id": "c399a8c3",
   "metadata": {},
   "outputs": [
    {
     "name": "stdout",
     "output_type": "stream",
     "text": [
      "[2, 3, 23, 42, 44, 51]\n",
      "['ahmet', 'ceylan', 'deniz', 'yusuf']\n",
      "['yusuf', 'deniz', 'ceylan', 'ahmet']\n"
     ]
    }
   ],
   "source": [
    "lst23 = [23, 42, 51, 2, 3, 44]\n",
    "lst23.sort()\n",
    "print(lst23)  # [2, 3, 23,42,44,51] kucukten buyuge siraladik\n",
    "\n",
    "lst24 = [\"ahmet\", 'ceylan', 'yusuf', 'deniz']\n",
    "lst24.sort()\n",
    "print(lst24)  # ['ahmet', 'ceylan', 'deniz', 'yusuf'] alfabetik olarak siraladi\n",
    "lst24 = [\"ahmet\", 'ceylan', 'yusuf', 'deniz']\n",
    "lst24.sort(reverse=True)\n",
    "print(lst24)  # ['yusuf', 'deniz', 'ceylan', 'ahmet'] terse cevirdik"
   ]
  },
  {
   "cell_type": "markdown",
   "id": "ef09f476",
   "metadata": {},
   "source": [
    "### Liste ekleme"
   ]
  },
  {
   "cell_type": "code",
   "execution_count": 36,
   "id": "08a9e0f5",
   "metadata": {},
   "outputs": [
    {
     "name": "stdout",
     "output_type": "stream",
     "text": [
      "[[1, 2, 3, 4, 4, 5, 6, 7, 8, 9, 10, 11]]\n"
     ]
    }
   ],
   "source": [
    "lst1 = [1, 2, 3, 4]\n",
    "lst2 = [4, 5, 6, 7]\n",
    "lst3 = [8, 9, 10, 11]\n",
    "yeni_liste = [lst1 + lst2 + lst3]\n",
    "print(yeni_liste)  # [[1, 2, 3, 4, 4, 5, 6, 7, 8, 9, 10, 11]]"
   ]
  },
  {
   "cell_type": "markdown",
   "id": "84247072",
   "metadata": {},
   "source": [
    "## Liste Icinde Listeler"
   ]
  },
  {
   "cell_type": "code",
   "execution_count": 37,
   "id": "9e120cba",
   "metadata": {},
   "outputs": [
    {
     "name": "stdout",
     "output_type": "stream",
     "text": [
      "[1, 3]\n",
      "3\n"
     ]
    }
   ],
   "source": [
    "lst4 = [[2, 4], [1, 3], [6, 5]]  # 3e ulasmak istiyoruz\n",
    "print(lst4[1])  # [1 3]\n",
    "print(lst4[1][1])  # 3"
   ]
  },
  {
   "cell_type": "markdown",
   "id": "e3d8dd1f",
   "metadata": {},
   "source": [
    "# TUPLE`S\n",
    "---\n",
    "listlere oldukça benzer ancak farkları tuple`lar degistirilemez"
   ]
  },
  {
   "cell_type": "code",
   "execution_count": 38,
   "id": "60735539",
   "metadata": {},
   "outputs": [
    {
     "name": "stdout",
     "output_type": "stream",
     "text": [
      "(1, 2, 3, 4, 5)\n",
      "2\n",
      "<class 'tuple'>\n"
     ]
    }
   ],
   "source": [
    "demet = (1, 2, 3, 4, 5)\n",
    "print(demet)  # (1, 2, 3, 4, 5)\n",
    "print(demet[1])  # 2\n",
    "print(type(demet))  # <class 'tuple'>"
   ]
  },
  {
   "cell_type": "markdown",
   "id": "d0ddbefc",
   "metadata": {},
   "source": [
    "### count\n",
    "### index"
   ]
  },
  {
   "cell_type": "code",
   "execution_count": 44,
   "id": "c8e043a8",
   "metadata": {},
   "outputs": [
    {
     "name": "stdout",
     "output_type": "stream",
     "text": [
      "9\n",
      "5\n",
      "1\n"
     ]
    }
   ],
   "source": [
    "tuple = (1, 2, 3, 4, 2, 1, 2, 2, 2, \"yusuf\", \"erdem\")\n",
    "print(tuple.index(\"yusuf\"))  # 9\n",
    "# tuple.remove(\"erdem\")  AttributeError: 'tuple' object has no attribute 'remove'\n",
    "print(tuple.count(2))  # 5\n",
    "print(tuple.count(\"yusuf\"))  # 1"
   ]
  },
  {
   "cell_type": "markdown",
   "id": "15468fec",
   "metadata": {},
   "source": [
    "# DICTIONARYS"
   ]
  },
  {
   "cell_type": "code",
   "execution_count": 45,
   "id": "b92cfe7e",
   "metadata": {},
   "outputs": [
    {
     "name": "stdout",
     "output_type": "stream",
     "text": [
      "{}\n",
      "{'bir': 1, 'iki': 2, 'Dort': 4}\n",
      "1\n"
     ]
    }
   ],
   "source": [
    "sozluk1 = {\"bir\": 1, \"iki\": 2, \"Dort\": 4}\n",
    "sozluk2 = {}  # bos sozluk olusturduk , veya\n",
    "sozluk3 = dict()\n",
    "print(sozluk3)  # {}\n",
    "print(sozluk1)  # {'bir': 1, 'iki': 2, 'Dort': 4}\n",
    "print(sozluk1[\"bir\"])  # 1"
   ]
  },
  {
   "cell_type": "markdown",
   "id": "abdedd82",
   "metadata": {},
   "source": [
    "### Sozluge ekleme yapmak"
   ]
  },
  {
   "cell_type": "code",
   "execution_count": 46,
   "id": "dd538342",
   "metadata": {},
   "outputs": [
    {
     "name": "stdout",
     "output_type": "stream",
     "text": [
      "{'bir': 1, 'iki': 2, 'Dort': 4, 'bes': 5}\n"
     ]
    }
   ],
   "source": [
    "sozluk1[\"bes\"] = 5\n",
    "print(sozluk1)  # {'bir': 1, 'iki': 2, 'Dort': 4, 'bes': 5}"
   ]
  },
  {
   "cell_type": "code",
   "execution_count": 49,
   "id": "7ad70493",
   "metadata": {},
   "outputs": [
    {
     "name": "stdout",
     "output_type": "stream",
     "text": [
      "[[1, 2], [3, 4], [5, 6]]\n",
      "[3, 4]\n",
      "4\n",
      "{'bir': 1, 'iki': 2, 'uc': 10}\n",
      "11\n"
     ]
    }
   ],
   "source": [
    "liste4 = {\"bir\": [1, 2, 3, 4], \"iki\": [[1, 2], [3, 4], [5, 6]], \"uc\": 15}\n",
    "print(liste4[\"iki\"])  # [[1, 2], [3, 4], [5, 6]]\n",
    "\n",
    "# yukaradaki iki numarali sozlukten [3,4] un icindeki 4 e erismek istiyoruz\n",
    "print(liste4[\"iki\"][1])  # [3 ,4]\n",
    "print(liste4[\"iki\"][1][1])  # 4\n",
    "sozluk5 = {\"bir\": 1, \"iki\": 2, \"uc\": 3}\n",
    "sozluk5[\"uc\"] = 10\n",
    "print(sozluk5)  # {'bir': 1, 'iki': 2, 'uc': 10}  istedigimiz degeri degistirebiliyoruz\n",
    "sozluk5[\"uc\"] += 1\n",
    "print(sozluk5[\"uc\"])  # 11\n",
    "\n"
   ]
  },
  {
   "cell_type": "markdown",
   "id": "d5ce69d8",
   "metadata": {},
   "source": [
    "## Ic Ice Sozlukler\n"
   ]
  },
  {
   "cell_type": "code",
   "execution_count": 50,
   "id": "6fb4e0db",
   "metadata": {},
   "outputs": [
    {
     "name": "stdout",
     "output_type": "stream",
     "text": [
      "{'bir': 1, 'iki': 2, 'üç': 3}\n",
      "2\n",
      "yaz\n"
     ]
    }
   ],
   "source": [
    "a = {\"sayilar\": {\"bir\": 1, \"iki\": 2, \"üç\": 3}, \"meyveler\": {\"kiraz\": \"yaz\", \"portakal\": \"kış\", \"erik\": \"yaz\"}}\n",
    "print(a[\"sayilar\"])  # {'bir': 1, 'iki': 2, 'üç': 3}\n",
    "print(a[\"sayilar\"][\"iki\"])  # 2\n",
    "print(a[\"meyveler\"][\"kiraz\"])  # yaz"
   ]
  },
  {
   "cell_type": "markdown",
   "id": "e5e39378",
   "metadata": {},
   "source": [
    "### keys()"
   ]
  },
  {
   "cell_type": "code",
   "execution_count": 51,
   "id": "16d7de3c",
   "metadata": {},
   "outputs": [
    {
     "name": "stdout",
     "output_type": "stream",
     "text": [
      "dict_keys(['bir', 'iki', 'Dort', 'bes'])\n"
     ]
    }
   ],
   "source": [
    "print(sozluk1.keys())"
   ]
  },
  {
   "cell_type": "markdown",
   "id": "bf9b4d94",
   "metadata": {},
   "source": [
    "### values()"
   ]
  },
  {
   "cell_type": "code",
   "execution_count": 53,
   "id": "f001dc2e",
   "metadata": {},
   "outputs": [
    {
     "name": "stdout",
     "output_type": "stream",
     "text": [
      "dict_values([1, 2, 4, 5])\n"
     ]
    }
   ],
   "source": [
    "print(sozluk1.values())"
   ]
  },
  {
   "cell_type": "markdown",
   "id": "874fe86a",
   "metadata": {},
   "source": [
    "### items()"
   ]
  },
  {
   "cell_type": "code",
   "execution_count": 54,
   "id": "4bc1b2b2",
   "metadata": {},
   "outputs": [
    {
     "data": {
      "text/plain": [
       "dict_items([('bir', 1), ('iki', 2), ('Dort', 4), ('bes', 5)])"
      ]
     },
     "execution_count": 54,
     "metadata": {},
     "output_type": "execute_result"
    }
   ],
   "source": [
    "sozluk1.items()"
   ]
  },
  {
   "cell_type": "markdown",
   "id": "bf081cd0",
   "metadata": {},
   "source": [
    "# Kullanicidan Girdi Alma\n",
    "---\n",
    "## input() fonksiyonu"
   ]
  },
  {
   "cell_type": "code",
   "execution_count": 55,
   "id": "873c43d8",
   "metadata": {},
   "outputs": [
    {
     "name": "stdout",
     "output_type": "stream",
     "text": [
      "lutfen bir sayi giriniz:12\n"
     ]
    },
    {
     "data": {
      "text/plain": [
       "'12'"
      ]
     },
     "execution_count": 55,
     "metadata": {},
     "output_type": "execute_result"
    }
   ],
   "source": [
    "input(\"lutfen bir sayi giriniz:\")\n",
    "# iyide biz bu input fonksiyonundan gelen degeri nasil yakaliycaz yani kullanicidan gelen degeri?\n",
    "# bir degiskene atayabiliriz"
   ]
  },
  {
   "cell_type": "code",
   "execution_count": null,
   "id": "3852a3a7",
   "metadata": {},
   "outputs": [],
   "source": [
    "a =input(\"lutfen sayi gir \")"
   ]
  },
  {
   "cell_type": "code",
   "execution_count": null,
   "id": "761c9e65",
   "metadata": {},
   "outputs": [],
   "source": [
    "print(\"girdiginiz sayi:\", a)\n"
   ]
  },
  {
   "cell_type": "code",
   "execution_count": null,
   "id": "4d44d0cb",
   "metadata": {},
   "outputs": [],
   "source": [
    "b=input(\"Bir sayi giriniz\")\n",
    "print(b*3)  # in:22 out:222222\n",
    "# cunku\n",
    "print(type(b))  # <class 'str'>"
   ]
  },
  {
   "cell_type": "markdown",
   "id": "43a5146d",
   "metadata": {},
   "source": [
    "Peki Bunu Nasil Integer a ceviricez?"
   ]
  },
  {
   "cell_type": "code",
   "execution_count": null,
   "id": "e5f46db6",
   "metadata": {},
   "outputs": [],
   "source": [
    "b=int(input(\"lutfen bir sayi giriniz\"))\n",
    "print(b*3) "
   ]
  },
  {
   "cell_type": "code",
   "execution_count": 1,
   "id": "27cf296b",
   "metadata": {},
   "outputs": [
    {
     "name": "stdout",
     "output_type": "stream",
     "text": [
      "1.sayi12\n",
      "2.sayi14\n",
      "3.sayi16\n",
      "42\n"
     ]
    }
   ],
   "source": [
    "x=int(input(\"1.sayi\"))  # 10\n",
    "y=int(input(\"2.sayi\"))  # 20\n",
    "z=int(input(\"3.sayi\"))  # 30\n",
    "print(x+y+z)  # 60"
   ]
  },
  {
   "cell_type": "markdown",
   "id": "3047e173",
   "metadata": {},
   "source": [
    "**Peki Kullanici biz int istedik yanlis bir input girdi ?**"
   ]
  },
  {
   "cell_type": "code",
   "execution_count": 2,
   "id": "cf4fc51a",
   "metadata": {},
   "outputs": [
    {
     "name": "stdout",
     "output_type": "stream",
     "text": [
      "a:asdjsadk1dwdsa\n",
      "Lutfen dogru bir Input giriniz.\n"
     ]
    }
   ],
   "source": [
    "try:\n",
    "    a=int(input(\"a:\"))\n",
    "    print(a)\n",
    "except ValueError:\n",
    "    print(\"Lutfen dogru bir Input giriniz.\")\n"
   ]
  },
  {
   "cell_type": "code",
   "execution_count": null,
   "id": "132b9f1d",
   "metadata": {},
   "outputs": [],
   "source": []
  }
 ],
 "metadata": {
  "kernelspec": {
   "display_name": "Python 3",
   "language": "python",
   "name": "python3"
  },
  "language_info": {
   "codemirror_mode": {
    "name": "ipython",
    "version": 3
   },
   "file_extension": ".py",
   "mimetype": "text/x-python",
   "name": "python",
   "nbconvert_exporter": "python",
   "pygments_lexer": "ipython3",
   "version": "3.9.3"
  },
  "toc": {
   "base_numbering": 1,
   "nav_menu": {},
   "number_sections": false,
   "sideBar": false,
   "skip_h1_title": false,
   "title_cell": "Table of Contents",
   "title_sidebar": "Contents",
   "toc_cell": true,
   "toc_position": {},
   "toc_section_display": false,
   "toc_window_display": false
  }
 },
 "nbformat": 4,
 "nbformat_minor": 5
}
