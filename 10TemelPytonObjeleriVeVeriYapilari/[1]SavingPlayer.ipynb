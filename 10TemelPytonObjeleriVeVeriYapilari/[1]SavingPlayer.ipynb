{
 "cells": [
  {
   "cell_type": "code",
   "execution_count": 1,
   "id": "a51297d6",
   "metadata": {},
   "outputs": [
    {
     "name": "stdout",
     "output_type": "stream",
     "text": [
      "Player saving program\n",
      "Name:Luiz\n",
      "Surname:Gustavo\n",
      "Team:Fenerbahce\n",
      "information is being saved....\n",
      "Name of The Player:Luiz\n",
      "Surname of The Player:Gustavo\n",
      "Team:Fenerbahce\n",
      "Save Completed......\n"
     ]
    }
   ],
   "source": [
    "print(\"Player saving program\")\n",
    "\n",
    "ad=input(\"Name:\")\n",
    "soyad=input(\"Surname:\")\n",
    "takim=input(\"Team:\")\n",
    "\n",
    "informations=[ad,soyad,takim]\n",
    "\n",
    "print(\"information is being saved....\")\n",
    "print(\"Name of The Player:{}\\nSurname of The Player:{}\\nTeam:{}\".format(informations[0],informations[1],informations[2]))\n",
    "\n",
    "print(\"Save Completed......\")\n",
    "\n",
    "\n"
   ]
  },
  {
   "cell_type": "code",
   "execution_count": null,
   "id": "ede9d9ac",
   "metadata": {},
   "outputs": [],
   "source": []
  }
 ],
 "metadata": {
  "kernelspec": {
   "display_name": "Python 3",
   "language": "python",
   "name": "python3"
  },
  "language_info": {
   "codemirror_mode": {
    "name": "ipython",
    "version": 3
   },
   "file_extension": ".py",
   "mimetype": "text/x-python",
   "name": "python",
   "nbconvert_exporter": "python",
   "pygments_lexer": "ipython3",
   "version": "3.9.3"
  },
  "toc": {
   "base_numbering": 1,
   "nav_menu": {},
   "number_sections": false,
   "sideBar": false,
   "skip_h1_title": false,
   "title_cell": "Table of Contents",
   "title_sidebar": "Contents",
   "toc_cell": false,
   "toc_position": {},
   "toc_section_display": true,
   "toc_window_display": false
  }
 },
 "nbformat": 4,
 "nbformat_minor": 5
}
