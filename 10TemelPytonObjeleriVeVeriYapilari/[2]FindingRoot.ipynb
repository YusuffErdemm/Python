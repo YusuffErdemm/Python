{
 "cells": [
  {
   "cell_type": "markdown",
   "id": "f2aaa408",
   "metadata": {},
   "source": [
    "\n",
    "Oncelikle Notlar alalim.\n",
    "---\n",
    "**denklem : ax^2 bx + c  \n",
    "delta hesabi : b^2-4*a*c**\n",
    "\n",
    "`1st root: (-b - delta ** 0.5)/(2*a)\n",
    "\n",
    "`2nd root:  (-b + delta ** 0.5)/(2*a)\n",
    "\n",
    "\n",
    "\n",
    "\n",
    "\n"
   ]
  },
  {
   "cell_type": "code",
   "execution_count": null,
   "id": "04378fa8",
   "metadata": {},
   "outputs": [],
   "source": [
    "a=float(input(\"enter the value of a:\"))\n",
    "b=float(input(\"enter the value of b:\"))\n",
    "c=float(input(\"enter the value of c:\"))\n",
    "\n",
    "delta=b**2-4*a*c\n",
    "x1=(-b-delta**0.5)/(2*a)\n",
    "x2=(-b+delta**0.5)/(2*a)\n",
    "\n",
    "print(\"1st root:{}\\n2nd root:{}\".format(x1,x2))\n",
    "\n",
    "\n",
    "\n",
    "\n",
    "\n",
    "\n",
    "\n"
   ]
  },
  {
   "cell_type": "code",
   "execution_count": null,
   "id": "ba7f9f58",
   "metadata": {},
   "outputs": [],
   "source": []
  }
 ],
 "metadata": {
  "kernelspec": {
   "display_name": "Python 3",
   "language": "python",
   "name": "python3"
  },
  "language_info": {
   "codemirror_mode": {
    "name": "ipython",
    "version": 3
   },
   "file_extension": ".py",
   "mimetype": "text/x-python",
   "name": "python",
   "nbconvert_exporter": "python",
   "pygments_lexer": "ipython3",
   "version": "3.9.3"
  },
  "toc": {
   "base_numbering": 1,
   "nav_menu": {},
   "number_sections": false,
   "sideBar": false,
   "skip_h1_title": false,
   "title_cell": "Table of Contents",
   "title_sidebar": "Contents",
   "toc_cell": false,
   "toc_position": {},
   "toc_section_display": true,
   "toc_window_display": false
  }
 },
 "nbformat": 4,
 "nbformat_minor": 5
}
