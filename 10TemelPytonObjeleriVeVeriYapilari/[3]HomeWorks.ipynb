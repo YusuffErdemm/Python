{
 "cells": [
  {
   "cell_type": "code",
   "execution_count": 1,
   "id": "a21f7008",
   "metadata": {},
   "outputs": [
    {
     "name": "stdout",
     "output_type": "stream",
     "text": [
      "multiplying 3 numbers entered \n",
      "1st num:21\n",
      "2nd num:2\n",
      "3rd num:21\n",
      "21 x 2 x 21 = 882.\n"
     ]
    }
   ],
   "source": [
    "#` Kullanicidan aldiginiz 3 sayiyi carparak ekrana yazdirin.Ekrana yazdirma islemini format metoduyla yapmaya calisin\n",
    "print(\"multiplying 3 numbers entered \")\n",
    "\n",
    "a = int(input(\"1st num:\"))\n",
    "b = int(input(\"2nd num:\"))\n",
    "c = int(input(\"3rd num:\"))\n",
    "\n",
    "operation = (a * b * c)\n",
    "\n",
    "print(\"{} x {} x {} = {}.\".format(a, b, c, operation))"
   ]
  },
  {
   "cell_type": "code",
   "execution_count": 2,
   "id": "1721057f",
   "metadata": {},
   "outputs": [
    {
     "name": "stdout",
     "output_type": "stream",
     "text": [
      "Body Mass Index\n",
      "Enter your weight:80\n",
      "Enter your Height:121\n",
      "Your Body Mass Index: 0.005464107642920566\n"
     ]
    }
   ],
   "source": [
    "# Kullanıcıdan aldığınız boy ve kilo değerlerine göre kullanıcının beden kitle indeksini bulun.\n",
    "# body mass index : weight / Height(m)*Height(m)\n",
    "\n",
    "print(\"Body Mass Index\")\n",
    "\n",
    "weight = int(input(\"Enter your weight:\"))\n",
    "height = float(input(\"Enter your Height:\"))\n",
    "\n",
    "BMI = (weight/ (height * height))\n",
    "print(\"Your Body Mass Index:\", BMI)\n",
    "\n"
   ]
  },
  {
   "cell_type": "code",
   "execution_count": null,
   "id": "c1fa5dc2",
   "metadata": {},
   "outputs": [
    {
     "name": "stdout",
     "output_type": "stream",
     "text": [
      "vehicle fuel calculation\n"
     ]
    }
   ],
   "source": [
    "#` Bir aracın kilometrede ne kadar yaktığı ve kaç kilometre yol yaptığı bilgilerini alın\n",
    "#` ve sürücünü toplam ne kadar ödemesini gerektiğini hesaplayın.\n",
    "\n",
    "print(\"vehicle fuel calculation\")\n",
    "\n",
    "fuel = float(input(\"How much fuel does the vehicle consume per 1 km:\"))\n",
    "day = int(input(\"How many kilometers are you driving a day?:\"))\n",
    "work = int(input(\"How Many Days are u going to work?:\"))\n",
    "\n",
    "expense = (fuel * day * work)\n",
    "\n",
    "print(\"Your Expense:\", expense)"
   ]
  },
  {
   "cell_type": "code",
   "execution_count": null,
   "id": "dca3f38d",
   "metadata": {},
   "outputs": [],
   "source": [
    "# Kullanıcıdan ad,soyad ve numara bilgisini alarak bunları alt alta ekrana yazdırın.\n",
    "\n",
    "print(\"Registration Form\")\n",
    "\n",
    "name = input(\"Name:\")\n",
    "surname = input(\"Surname:\")\n",
    "no = int(input(\"Phone Number:\"))\n",
    "\n",
    "print(\"Name:{}\\nSurname:{}\\nTel:{}\".format(name, surname, no))\n",
    "\n",
    "confirmation = input(\"Do you confirm?(yes veya no):\")\n",
    "print(\"\\n\\n\\nBilgileriniz Kaydedildi.\")\n",
    "\n"
   ]
  },
  {
   "cell_type": "code",
   "execution_count": null,
   "id": "e44a013d",
   "metadata": {},
   "outputs": [],
   "source": [
    "#` Kullanıcıdan iki tane sayı isteyin ve bu sayıların değerlerini birbirleriyle değiştirin.\n",
    "\n",
    "num1 = int(input(\"num1:\"))\n",
    "num2 = int(input(\"num2:\"))\n",
    "\n",
    "num1, num2 = num2, num1\n",
    "\n",
    "print(\"Values after change\\n {} {}\".format(num1, num2))\n",
    "\n"
   ]
  },
  {
   "cell_type": "code",
   "execution_count": null,
   "id": "2f9e497b",
   "metadata": {},
   "outputs": [],
   "source": [
    "#` Kullanıcıdan bir dik üçgenin dik olan iki kenarını(a,b) alın ve hipotenüs uzunluğunu bulmaya çalışın.\n",
    "\n",
    "print(\"---finding the hypotenuse---\")\n",
    "a = int(input(\"side1:\"))\n",
    "b = int(input(\"side2:\"))\n",
    "\n",
    "hyp = (((a ** 2) + (b ** 2)) ** 0.5)\n",
    "\n",
    "print(\"{} and {} hypotenuse of triangle is :{}\".format(a, b, hyp))\n",
    "\n"
   ]
  },
  {
   "cell_type": "code",
   "execution_count": null,
   "id": "129e0b23",
   "metadata": {},
   "outputs": [],
   "source": []
  }
 ],
 "metadata": {
  "kernelspec": {
   "display_name": "Python 3",
   "language": "python",
   "name": "python3"
  },
  "language_info": {
   "codemirror_mode": {
    "name": "ipython",
    "version": 3
   },
   "file_extension": ".py",
   "mimetype": "text/x-python",
   "name": "python",
   "nbconvert_exporter": "python",
   "pygments_lexer": "ipython3",
   "version": "3.9.3"
  },
  "toc": {
   "base_numbering": 1,
   "nav_menu": {},
   "number_sections": false,
   "sideBar": false,
   "skip_h1_title": false,
   "title_cell": "Table of Contents",
   "title_sidebar": "Contents",
   "toc_cell": false,
   "toc_position": {},
   "toc_section_display": true,
   "toc_window_display": false
  }
 },
 "nbformat": 4,
 "nbformat_minor": 5
}
