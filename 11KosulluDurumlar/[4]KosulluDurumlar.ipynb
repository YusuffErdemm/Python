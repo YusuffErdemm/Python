{
 "cells": [
  {
   "cell_type": "markdown",
   "id": "1259a96f",
   "metadata": {
    "toc": true
   },
   "source": [
    "<h1>Table of Contents<span class=\"tocSkip\"></span></h1>\n",
    "<div class=\"toc\"><ul class=\"toc-item\"><li><ul class=\"toc-item\"><li><span><a href=\"#Mantiksal-Degerler\" data-toc-modified-id=\"Mantiksal-Degerler-0.1\">Mantiksal Degerler</a></span><ul class=\"toc-item\"><li><span><a href=\"#Boolean\" data-toc-modified-id=\"Boolean-0.1.1\">Boolean</a></span></li></ul></li><li><span><a href=\"#MANTIKSAL-BAGLACLAR\" data-toc-modified-id=\"MANTIKSAL-BAGLACLAR-0.2\">MANTIKSAL BAGLACLAR</a></span><ul class=\"toc-item\"><li><span><a href=\"#and-(ve)-operatoru\" data-toc-modified-id=\"and-(ve)-operatoru-0.2.1\">and (ve) operatoru</a></span></li><li><span><a href=\"#or-(veya)-operatoru\" data-toc-modified-id=\"or-(veya)-operatoru-0.2.2\">or (veya) operatoru</a></span></li><li><span><a href=\"#not-(degil)-Operatoru\" data-toc-modified-id=\"not-(degil)-Operatoru-0.2.3\">not (degil) Operatoru</a></span></li></ul></li><li><span><a href=\"#Kosullu-Blok-Durumlari\" data-toc-modified-id=\"Kosullu-Blok-Durumlari-0.3\">Kosullu Blok Durumlari</a></span></li></ul></li><li><span><a href=\"#Kosullu-Durumlar\" data-toc-modified-id=\"Kosullu-Durumlar-1\">Kosullu Durumlar</a></span><ul class=\"toc-item\"><li><span><a href=\"#If-Blogu\" data-toc-modified-id=\"If-Blogu-1.1\">If Blogu</a></span></li><li><span><a href=\"#Else-Blogu\" data-toc-modified-id=\"Else-Blogu-1.2\">Else Blogu</a></span></li><li><span><a href=\"#if-elif-else-Blokları\" data-toc-modified-id=\"if-elif-else-Blokları-1.3\">if-elif-else Blokları</a></span></li><li><span><a href=\"#if-if-if-Bloklari\" data-toc-modified-id=\"if-if-if-Bloklari-1.4\">if-if-if Bloklari</a></span></li></ul></li></ul></div>"
   ]
  },
  {
   "cell_type": "markdown",
   "id": "b7257bb7",
   "metadata": {},
   "source": [
    "## Mantiksal Degerler \n",
    "### Boolean\n",
    " Boolean degerler aslinda Pytonda bir veri tipidir ve iki degere sahiplerdir  \n",
    "` True , false `"
   ]
  },
  {
   "cell_type": "code",
   "execution_count": 1,
   "id": "ac8cc47d",
   "metadata": {},
   "outputs": [
    {
     "name": "stdout",
     "output_type": "stream",
     "text": [
      "<class 'bool'>\n",
      "<class 'bool'>\n"
     ]
    }
   ],
   "source": [
    "a = True\n",
    "print(type(a))  \n",
    "b = False\n",
    "print(type(b)) "
   ]
  },
  {
   "cell_type": "markdown",
   "id": "1e0f699b",
   "metadata": {},
   "source": [
    "Pythonda bir sayı değeri eğer **0**'dan **farklıysa** **True**,   \n",
    "\n",
    "0 ise **False** olarak anlam kazanır.    \n",
    "\n",
    "Bunu **bool()** fonksiyonuyla dönüştürme yaparak görebiliriz."
   ]
  },
  {
   "cell_type": "code",
   "execution_count": 7,
   "id": "2ebf4a72",
   "metadata": {},
   "outputs": [
    {
     "name": "stdout",
     "output_type": "stream",
     "text": [
      "True\n",
      "False\n",
      "True\n",
      "False\n"
     ]
    }
   ],
   "source": [
    "print(bool(12.4))  \n",
    "print(bool(0))  \n",
    "print(1 == 1)  \n",
    "print(1 == 2)  "
   ]
  },
  {
   "cell_type": "markdown",
   "id": "43b88c81",
   "metadata": {},
   "source": [
    "**Ayrıca Pythonda eğer bir değişkenin değerini sonradan belirlemek isterseniz geçici  \n",
    "olarak bu değişken None (atanmamış anlamında) değerine eşitleyebilirsiniz**"
   ]
  },
  {
   "cell_type": "code",
   "execution_count": 8,
   "id": "fe2d635e",
   "metadata": {},
   "outputs": [
    {
     "name": "stdout",
     "output_type": "stream",
     "text": [
      "None\n"
     ]
    }
   ],
   "source": [
    "a = None\n",
    "print(a)  # None"
   ]
  },
  {
   "cell_type": "markdown",
   "id": "6b8a514b",
   "metadata": {},
   "source": [
    "    == Esit ise True Degil ise False\n",
    "    != Esit degil ise True esit ise False\n",
    "    > Sol sagdan buyuk ise True\n",
    "    < Sol sagdan Kucuk ise True Buyuk ise False\n",
    "    >= Sol Sagdan Buyuk esit ise True degil Ise false\n",
    "    <= Sol sagdan kucuk esit ise True degil ise False"
   ]
  },
  {
   "cell_type": "code",
   "execution_count": 9,
   "id": "ce230dda",
   "metadata": {},
   "outputs": [
    {
     "name": "stdout",
     "output_type": "stream",
     "text": [
      "True\n",
      "False\n",
      "True\n",
      "True\n"
     ]
    }
   ],
   "source": [
    "print(\"mehmet\" == \"mehmet\")  # True\n",
    "print(\"mehmet\" != \"mehmet\")  # False\n",
    "print(\"ahmet\" < \"burak\")  # True \"Alfabetik olarak bakar )\n",
    "print(42 <= 42)  # True"
   ]
  },
  {
   "cell_type": "markdown",
   "id": "f568f7d1",
   "metadata": {},
   "source": [
    "## MANTIKSAL BAGLACLAR"
   ]
  },
  {
   "cell_type": "markdown",
   "id": "e29bd6da",
   "metadata": {},
   "source": [
    "### and (ve) operatoru\n",
    ">Bu mantıksal bağlaç, bütün karşılaştırma işlemlerinin sonucunun True olmasına bakar. \n",
    " Bağlanan karşılaştırma işlemlerinin  hepsinin kendi içinde sonucu True ise genel sonuç True ,\n",
    " diğer durumlarda ise sonuç False çıkar. \n",
    " \n",
    " Kullanımı şu şekildedir:\n"
   ]
  },
  {
   "cell_type": "code",
   "execution_count": 11,
   "id": "7f7f9a4e",
   "metadata": {},
   "outputs": [
    {
     "name": "stdout",
     "output_type": "stream",
     "text": [
      "True\n",
      "False\n",
      "False\n"
     ]
    }
   ],
   "source": [
    "print(\"a\" == \"a\" and 4 < 8)  \n",
    "print(\"Yusuf\" != \"irem\" and 2 == 3)  \n",
    "print(\"Yusuf\" == \"yusuf\")"
   ]
  },
  {
   "cell_type": "markdown",
   "id": "381244a0",
   "metadata": {},
   "source": [
    "### or (veya) operatoru\n",
    ">Bu mantıksal bağlaç, bütün karşılaştırma işlemlerinin sonuçlarından en az birinin True olmasına bakar. \n",
    " Bağlanan karşılaştırma işlemlerinin en az birinin True olmasında genel sonuç True , \n",
    " diğer durumlarda ise sonuç False çıkar. \n",
    " \n",
    " Kullanımı şu şekildedir:"
   ]
  },
  {
   "cell_type": "code",
   "execution_count": 12,
   "id": "3fd8e406",
   "metadata": {},
   "outputs": [
    {
     "name": "stdout",
     "output_type": "stream",
     "text": [
      "True\n",
      "False\n"
     ]
    }
   ],
   "source": [
    "print(1 < 2 or 1 == 3) \n",
    "print(12 == 13 or 13 == 14)"
   ]
  },
  {
   "cell_type": "markdown",
   "id": "9a857b93",
   "metadata": {},
   "source": [
    "### not (degil) Operatoru\n",
    ">not operatörü aslında bir mantıksal bağlaç değildir. Bu operatör sadece bir mantıksal değeri veya karşılaştırma \n",
    " işlemininin tam tersi sonuca çevirir. Yani, not operatörü True olan bir sonucu False , \n",
    " False olan bir sonucu True sonucuna çevirir. \n",
    " \n",
    " Kullanımı şu şekildedir:"
   ]
  },
  {
   "cell_type": "code",
   "execution_count": 14,
   "id": "afbcc0e6",
   "metadata": {},
   "outputs": [
    {
     "name": "stdout",
     "output_type": "stream",
     "text": [
      "False\n",
      "True\n",
      "True\n"
     ]
    }
   ],
   "source": [
    "print(not 2 == 2) \n",
    "print(not 1 == 2)  \n",
    "print(not \"Python\" == \"Php\")\n",
    "\n"
   ]
  },
  {
   "cell_type": "markdown",
   "id": "b0114901",
   "metadata": {},
   "source": [
    "**Operatorleri Beraber Kullanma**"
   ]
  },
  {
   "cell_type": "code",
   "execution_count": 15,
   "id": "4b211c6a",
   "metadata": {},
   "outputs": [
    {
     "name": "stdout",
     "output_type": "stream",
     "text": [
      "False\n",
      "True\n"
     ]
    }
   ],
   "source": [
    "print(not 2 == 2) or (\"yusuf\" == \"irem\")\n",
    "print((\"Yusuf\" == \"Yusuf \" and \"ahmet\" > \"Yusuf\") or 3.12 != 3.13)"
   ]
  },
  {
   "cell_type": "markdown",
   "id": "cf3691f1",
   "metadata": {},
   "source": [
    "## Kosullu Blok Durumlari  \n",
    " >Python Programlarinin Calisma Mantigi \n",
    "  Python programlari calistirilmaya basladigi zaman kodlarimiz yukaridan baslayarak teker teker calistirilir \n",
    "  calistirilacak kod kalmayinca programimiz sona erer.\n",
    "  \n",
    "  ornek olarak:"
   ]
  },
  {
   "cell_type": "code",
   "execution_count": 19,
   "id": "b51308d0",
   "metadata": {
    "collapsed": true
   },
   "outputs": [
    {
     "name": "stdout",
     "output_type": "stream",
     "text": [
      "9\n"
     ]
    },
    {
     "data": {
      "text/plain": [
       "'\\nAncak Her Program bu kadar basit olmayabilir.\\nÇoğu zaman Python programlarımız belirli bloklardan oluşur ve bu bloklar her zaman çalışmak zorunda olmaz.\\nPeki bu bloklar nasıl tanımlanır ? Pythonda bir blok tanımlama işlemi Girintiler sayesinde olmaktadır.\\nÖrnek olması açısından, Pythonda bloklar şu şekilde oluşabilir'"
      ]
     },
     "execution_count": 19,
     "metadata": {},
     "output_type": "execute_result"
    }
   ],
   "source": [
    "a = 2\n",
    "b = 3\n",
    "c = 4\n",
    "print(a + b + c)\n",
    "\n",
    "\"\"\"\n",
    "Ancak Her Program bu kadar basit olmayabilir.\n",
    "Çoğu zaman Python programlarımız belirli bloklardan oluşur ve bu bloklar her zaman çalışmak zorunda olmaz.\n",
    "Peki bu bloklar nasıl tanımlanır ? Pythonda bir blok tanımlama işlemi Girintiler sayesinde olmaktadır.\n",
    "Örnek olması açısından, Pythonda bloklar şu şekilde oluşabilir\"\"\""
   ]
  },
  {
   "cell_type": "code",
   "execution_count": 20,
   "id": "dfeaaea9",
   "metadata": {},
   "outputs": [
    {
     "name": "stdout",
     "output_type": "stream",
     "text": [
      "2\n",
      "Merhaba\n"
     ]
    }
   ],
   "source": [
    "if (a == 2):\n",
    "    print(a)  # Blok 2'ye ait kod\n",
    "print(\"Merhaba\")"
   ]
  },
  {
   "cell_type": "markdown",
   "id": "4cd2c30a",
   "metadata": {},
   "source": [
    "Dikkat ederseniz burada daha önce görmediğimiz bir şey yaptık ve if in bulunduğu satırdan sonraki print işlemini \n",
    " bir tab kadar girintili yazdık. Burada gördüğümüz gibi, girintiler(tab) Pythonda bir blok oluşturmak için kullanılıyor \n",
    " ve her bloğunun çalıştırılması gerekmiyor. Mesela yukarıda gördüğümüz kodda 2 print işlemi de çalıştı.  Ancak kodumuzu şu şekilde yazsaydık, ilk print işlemi çalışmayacaktı."
   ]
  },
  {
   "cell_type": "code",
   "execution_count": 22,
   "id": "1bd4c75d",
   "metadata": {},
   "outputs": [
    {
     "name": "stdout",
     "output_type": "stream",
     "text": [
      "merhaba\n"
     ]
    }
   ],
   "source": [
    "a = 2  # Blok 1 'e ait kod\n",
    "if a == 3:\n",
    "    print(a)  # Blok 2'ye ait kod\n",
    "print(\"merhaba\")"
   ]
  },
  {
   "cell_type": "markdown",
   "id": "a9c2f35b",
   "metadata": {},
   "source": [
    "# Kosullu Durumlar\n",
    "Koşullu durumlar aslında günlük yaşamda sürekli karşılaştığımız durumlardır.  \n",
    "Örneğin havanın yağmurlu olma koşuluna göre şemsiyemizi alırız veya uykumuzun gelme koşuluna göre uyuruz.   \n",
    "Aslında programlamada da birçok koşullu durumla karşılaşırız. Örneğin , belli koşullara göre belli işlemleri yaparız ,  \n",
    "belli koşullara göre yapmayız. İşte bunlar koşullu durumların temeli oluşturur.   \n",
    "\n",
    "\n",
    "İsterseniz koşullu durumları yazmaya if blokları ile başlayalım.\"\"\"\n",
    "## If Blogu"
   ]
  },
  {
   "cell_type": "markdown",
   "id": "96c8859f",
   "metadata": {},
   "source": [
    "if bloğu programımızın içinde herhangi bir yerde belli bir koşulu kontrol edecek isek kullanılan bloklardır.  \n",
    "Yazımı şu şekildedir;\n",
    "\n",
    "> if (koşul):\n",
    ">>if bloğu - Koşul sağlanınca (True) çalışır. Bu hizadaki her işlem bu if bloğuna ait.  \n",
    "             if bloğu - Girintiyle oluşturulur.  \n",
    "                        Yapılacak İşlemler  \n",
    "\n"
   ]
  },
  {
   "cell_type": "code",
   "execution_count": 26,
   "id": "634809b4",
   "metadata": {},
   "outputs": [
    {
     "name": "stdout",
     "output_type": "stream",
     "text": [
      "Yasinizi Giriniz:14\n",
      "Mekana Giremezsiniz\n"
     ]
    }
   ],
   "source": [
    "#- 18 Yas Kontrolu\n",
    "\n",
    "yas = int(input(\"Yasinizi Giriniz:\"))\n",
    "\n",
    "if yas < 18:\n",
    "    print(\"Mekana Giremezsiniz\")\n"
   ]
  },
  {
   "cell_type": "code",
   "execution_count": 28,
   "id": "fe08ad14",
   "metadata": {},
   "outputs": [
    {
     "name": "stdout",
     "output_type": "stream",
     "text": [
      "Sayi Giriniz:-21\n",
      "Negatif Sayi\n"
     ]
    }
   ],
   "source": [
    "sayi = int(input(\"Sayi Giriniz:\"))\n",
    "if sayi < 0:\n",
    "    print(\"Negatif Sayi\")  \n"
   ]
  },
  {
   "cell_type": "markdown",
   "id": "e85f6f07",
   "metadata": {},
   "source": [
    "**Burda bir sorun var Yasi 22 girersek Bir cikti Vermiyor veya sayiyi 3 girersek Bu durumda:**"
   ]
  },
  {
   "cell_type": "markdown",
   "id": "86179b22",
   "metadata": {},
   "source": [
    "## Else Blogu\n",
    "else blokları if koşulu sağlanmadığı zaman (False) çalışan bloklardır.  \n",
    "\n",
    "Kullanımı şu şekildedir;\n",
    "\n",
    ">else:\n",
    ">>else bloğu - Yukarısındaki herhangi bir if bloğu (veya ilerde göreceğimiz elif bloğu) çalışmadığı  \n",
    ">>zaman çalışır.  \n",
    ">> else bloğu - Girintiyle oluşturulur  \n",
    ">>>Yapılacak İşlemler\n",
    "\n"
   ]
  },
  {
   "cell_type": "markdown",
   "id": "3b4340a2",
   "metadata": {},
   "source": [
    "**18 Yas Kontrolu**"
   ]
  },
  {
   "cell_type": "code",
   "execution_count": 29,
   "id": "2e487359",
   "metadata": {},
   "outputs": [
    {
     "name": "stdout",
     "output_type": "stream",
     "text": [
      "Yasinizi Girisiniz:32\n",
      "Mekana Hosgeldiniz!\n"
     ]
    }
   ],
   "source": [
    "yasi = int(input(\"Yasinizi Girisiniz:\"))\n",
    "\n",
    "if yasi < 18:\n",
    "    print(\"Mekana Giremezsiniz :/\")\n",
    "else:\n",
    "    print(\"Mekana Hosgeldiniz!\") "
   ]
  },
  {
   "cell_type": "markdown",
   "id": "fb2a6b41",
   "metadata": {},
   "source": [
    "## if-elif-else Blokları\n",
    ">if koşul: \n",
    ">>       Yapılacak İşlemler\n",
    "\n",
    ">elif başka bir koşul:\n",
    ">>       Yapılacak İşlemler\n",
    "\n",
    ">elif başka bir koşul:\n",
    ">>       Yapılacak İşlemler\n",
    "\n",
    "           ..\n",
    "           ..\n",
    ">else:\n",
    ">>       Yapılacak İşlemler \n",
    "               \n",
    " Programlarımızda, Kaç tane koşulumuz var ise o kadar elif bloğu oluşturabiliriz. Ayrıca else in yazılması zorunlu  \n",
    " değildir. if - elif - else kalıplarında, hangi koşul sağlanırsa program o bloğu çalıştırır ve if-elif-blokları  \n",
    " sona erer. Şimdi isterseniz kullanıcıya işlem seçtirdiğimiz bir programla , bu kalıbı öğrenmeye başlayalım.  \n"
   ]
  },
  {
   "cell_type": "code",
   "execution_count": 34,
   "id": "1678c108",
   "metadata": {},
   "outputs": [
    {
     "name": "stdout",
     "output_type": "stream",
     "text": [
      "Islem Seciniz:3\n",
      "3. Islem Secildi.\n"
     ]
    }
   ],
   "source": [
    "islem=int(input(\"Islem Seciniz:\")) # 3 tane Islemimiz olsun\n",
    "if islem==1:\n",
    "    print(\"1. Islem Secildi.\")\n",
    "elif islem ==2:\n",
    "    print(\"2. Islemi Secildi.\")\n",
    "elif islem ==3:\n",
    "    print(\"3. Islem Secildi.\")\n",
    "else:\n",
    "    print(\"Gecersiz Islem.\") "
   ]
  },
  {
   "cell_type": "markdown",
   "id": "0469e6bd",
   "metadata": {},
   "source": [
    "## if-if-if Bloklari \n",
    "Bu blokları öğrenmeden önce isterseniz öğrendiğimiz bilgilerle, bir harf notu hesaplama sistemi yapalım.  \n",
    "Daha sonra bu kalıpları anlamaya çalışalım.  \n",
    "note = float(input(\"Notunuzu giriniz:\"))  "
   ]
  },
  {
   "cell_type": "code",
   "execution_count": 41,
   "id": "61890a86",
   "metadata": {},
   "outputs": [
    {
     "name": "stdout",
     "output_type": "stream",
     "text": [
      "Notunuzu giriniz:91\n",
      "AA\n",
      "BA\n",
      "BA\n",
      "BB\n",
      "CB\n",
      "CC\n",
      "DC\n",
      "DD\n"
     ]
    }
   ],
   "source": [
    "note = float(input(\"Notunuzu giriniz:\"))\n",
    "\n",
    "if note >= 90:\n",
    "    print(\"AA\")\n",
    "if note >= 85:\n",
    "    print(\"BA\")\n",
    "if note >= 90:\n",
    "    print(\"BA\")\n",
    "if note >= 80:\n",
    "    print(\"BB\")\n",
    "if note >= 75:\n",
    "    print(\"CB\")\n",
    "if note >= 70:\n",
    "    print(\"CC\")\n",
    "if note >= 65:\n",
    "    print(\"DC\")\n",
    "if note >= 60:\n",
    "    print(\"DD\")\n",
    "else:\n",
    "    print(\"Dersten Kaldınız\")"
   ]
  },
  {
   "cell_type": "markdown",
   "id": "b454c961",
   "metadata": {},
   "source": [
    "**ISTE BU YUZDEN ELIF KULLANIYORUZ**"
   ]
  },
  {
   "cell_type": "code",
   "execution_count": null,
   "id": "3775c5c7",
   "metadata": {},
   "outputs": [],
   "source": []
  }
 ],
 "metadata": {
  "kernelspec": {
   "display_name": "Python 3",
   "language": "python",
   "name": "python3"
  },
  "language_info": {
   "codemirror_mode": {
    "name": "ipython",
    "version": 3
   },
   "file_extension": ".py",
   "mimetype": "text/x-python",
   "name": "python",
   "nbconvert_exporter": "python",
   "pygments_lexer": "ipython3",
   "version": "3.9.3"
  },
  "toc": {
   "base_numbering": 1,
   "nav_menu": {},
   "number_sections": false,
   "sideBar": false,
   "skip_h1_title": false,
   "title_cell": "Table of Contents",
   "title_sidebar": "Contents",
   "toc_cell": true,
   "toc_position": {},
   "toc_section_display": true,
   "toc_window_display": false
  }
 },
 "nbformat": 4,
 "nbformat_minor": 5
}
