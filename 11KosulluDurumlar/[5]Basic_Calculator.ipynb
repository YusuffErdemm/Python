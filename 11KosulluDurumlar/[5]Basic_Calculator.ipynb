{
 "cells": [
  {
   "cell_type": "code",
   "execution_count": 3,
   "id": "d36ae5db",
   "metadata": {},
   "outputs": [
    {
     "name": "stdout",
     "output_type": "stream",
     "text": [
      "\n",
      "***************************************\n",
      "Calculator Program\n",
      "1. Plus\n",
      "\n",
      "2. Minus\n",
      "\n",
      "3. Multiply\n",
      "\n",
      "4. Divided \n",
      "\n",
      "***************************************\n",
      "\n",
      "1st Number: 21\n",
      "2sn Number: 21\n",
      "enter operation:1\n",
      "Invalid Operation\n"
     ]
    }
   ],
   "source": [
    "print(\"\"\"\n",
    "***************************************\n",
    "Calculator Program\n",
    "1. Plus\n",
    "\n",
    "2. Minus\n",
    "\n",
    "3. Multiply\n",
    "\n",
    "4. Divided \n",
    "\n",
    "***************************************\n",
    "\"\"\")\n",
    "\n",
    "a=int(input(\"1st Number: \"))\n",
    "b=int(input(\"2sn Number: \"))\n",
    "\n",
    "operation=input(\"enter operation:\")\n",
    "\n",
    "if operation ==1:\n",
    "    print(\"{} + {}  {} .\".format(a,b,a+b))\n",
    "elif operation ==2:\n",
    "    print(\"{} - {}  {} . \".format(a,b,a-b))\n",
    "elif operation ==3:\n",
    "    print(\"{} * {}  {} .\".format(a,b,a*b))\n",
    "elif operation ==4:\n",
    "    print(\"{} / {}  {} .\".format(a,b,a/b))\n",
    "else:\n",
    "    print(\"Invalid Operation\")"
   ]
  },
  {
   "cell_type": "code",
   "execution_count": null,
   "id": "af263a18",
   "metadata": {},
   "outputs": [],
   "source": []
  }
 ],
 "metadata": {
  "kernelspec": {
   "display_name": "Python 3",
   "language": "python",
   "name": "python3"
  },
  "language_info": {
   "codemirror_mode": {
    "name": "ipython",
    "version": 3
   },
   "file_extension": ".py",
   "mimetype": "text/x-python",
   "name": "python",
   "nbconvert_exporter": "python",
   "pygments_lexer": "ipython3",
   "version": "3.9.3"
  },
  "toc": {
   "base_numbering": 1,
   "nav_menu": {},
   "number_sections": false,
   "sideBar": false,
   "skip_h1_title": false,
   "title_cell": "Table of Contents",
   "title_sidebar": "Contents",
   "toc_cell": false,
   "toc_position": {},
   "toc_section_display": true,
   "toc_window_display": false
  }
 },
 "nbformat": 4,
 "nbformat_minor": 5
}
