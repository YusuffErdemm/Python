{
 "cells": [
  {
   "cell_type": "markdown",
   "id": "42b21e89",
   "metadata": {},
   "source": [
    "Kullanıcıdan alınan boy ve kilo değerlerine göre beden kitle indeksini hesaplayın ve  \n",
    "şu kurallara göre ekrana şu yazıları yazdırın  Beden Kitle İndeksi: Weight / Height(m) *  height(m)\n",
    "\n",
    "> If BMİ  18.5'un under -------> Thin\n",
    "\n",
    "> If  BMI is between 18.5 and 25 ------> Normal\n",
    "\n",
    "> If BMİ is between 25 and 30  --------> overweight\n",
    "\n",
    "> BMİ is Over 30 -------------> Obese\"\"\""
   ]
  },
  {
   "cell_type": "code",
   "execution_count": 1,
   "id": "2c5f5ae5",
   "metadata": {},
   "outputs": [
    {
     "name": "stdout",
     "output_type": "stream",
     "text": [
      "\n",
      "&&&&&&&&&&&&&&&&&&&&&&&&&&&&&&&&&&&&&&&&&&&&\n",
      "Body Mass Index Calculator\n",
      "&&&&&&&&&&&&&&&&&&&&&&&&&&&&&&&&&&&&&&&&&&&&\n",
      "\n",
      "Kilonuzu Giriniz:80\n",
      "Boyunuzu giriniz:180\n",
      "You are thin.\n"
     ]
    }
   ],
   "source": [
    "print(\"\"\"\n",
    "&&&&&&&&&&&&&&&&&&&&&&&&&&&&&&&&&&&&&&&&&&&&\n",
    "Body Mass Index Calculator\n",
    "&&&&&&&&&&&&&&&&&&&&&&&&&&&&&&&&&&&&&&&&&&&&\n",
    "\"\"\")\n",
    "\n",
    "weight =int(input(\"Kilonuzu Giriniz:\"))\n",
    "height =float(input(\"Boyunuzu giriniz:\"))\n",
    "\n",
    "bmi = weight/ (height*height)\n",
    "\n",
    "if bmi <= 18.5:\n",
    "    print(\"You are thin.\")\n",
    "elif 18.5<bmi<25:\n",
    "    print(\"Your weight Normal\")\n",
    "elif 25<bmi<30:\n",
    "    print(\"you are overweight.\")\n",
    "elif bmi>30:\n",
    "    print(\"Get well soon, you are obese.\")"
   ]
  },
  {
   "cell_type": "markdown",
   "id": "55220044",
   "metadata": {},
   "source": [
    ">Kullanıcıdan 3 tane sayı alın ve en büyük sayıyı ekrana yazdırın."
   ]
  },
  {
   "cell_type": "code",
   "execution_count": 2,
   "id": "0973c73f",
   "metadata": {},
   "outputs": [
    {
     "name": "stdout",
     "output_type": "stream",
     "text": [
      "1st Num:21\n",
      "2nd Num:21\n",
      "3rd Num:2\n",
      "Biggest Num: 21\n"
     ]
    }
   ],
   "source": [
    "num1=int(input(\"1st Num:\"))\n",
    "num2=int(input(\"2nd Num:\"))\n",
    "num3=int(input(\"3rd Num:\"))\n",
    "\n",
    "if num1>=num2 and num1>=num3:\n",
    "    print(\"Biggest Num:\",num1)\n",
    "elif num2>=num1 and num2>=num3:\n",
    "    print(\"Biggest Num:\",num2)\n",
    "elif num3>=num2 and num3>=num1:\n",
    "    print(\"Biggest Num:\",num3)\n",
    "\n"
   ]
  },
  {
   "cell_type": "markdown",
   "id": "da890e2d",
   "metadata": {},
   "source": [
    "> Kullanıcının girdiği vize1,vize2,final notlarına notlarına göre harf notunu hesaplayın.\n",
    "\n",
    "    Vize1 toplam notun %30'una etki edecek.\n",
    "\n",
    "    Vize2 toplam notun %30'una etki edecek.\n",
    "\n",
    "    Final toplam notun %40'ına etki edecek.\n",
    "\n",
    "\n",
    "    Toplam Not >=  90 -----> AA\n",
    "\n",
    "    Toplam Not >=  85 -----> BA\n",
    "\n",
    "    Toplam Not >=  80 -----> BB\n",
    "\n",
    "    Toplam Not >=  75 -----> CB\n",
    "\n",
    "    Toplam Not >=  70 -----> CC\n",
    "\n",
    "    Toplam Not >=  65 -----> DC\n",
    "\n",
    "    Toplam Not >=  60 -----> DD\n",
    "\n",
    "    Toplam Not >=  55 -----> FD\n",
    "\n",
    "    Toplam Not <  55 -----> FF\n"
   ]
  },
  {
   "cell_type": "code",
   "execution_count": null,
   "id": "40096f95",
   "metadata": {},
   "outputs": [
    {
     "name": "stdout",
     "output_type": "stream",
     "text": [
      "#### Donem Ici Not Hesaplama Araci #####\n"
     ]
    }
   ],
   "source": [
    "print(\"#### Donem Ici Not Hesaplama Araci #####\")\n",
    "midterm1=int(input(\"1st midterm:\"))\n",
    "midterm2=int(input(\"2snd midterm:\"))\n",
    "final=int(input(\"Final exam:\"))\n",
    "\n",
    "average=((midterm1*0.30) + (midterm2*0.30) + (final*0.40))\n",
    "\n",
    "if average >=90:\n",
    "    print(\"AA\")\n",
    "elif 90>average>=85:\n",
    "    print(\"BA\")\n",
    "elif 85>average>=80:\n",
    "    print(\"BB\")\n",
    "elif 80>average>=75:\n",
    "    print(\"CB\")\n",
    "elif 75>average>=70:\n",
    "    print(\"CC\")\n",
    "elif 70>average>=65:\n",
    "    print(\"DC\")\n",
    "elif 65>average>=60:\n",
    "    print(\"DD\")\n",
    "elif 60>average>=55:\n",
    "    print(\"FD\")\n",
    "elif 55>average>=50:\n",
    "    print(\"FF\")\n",
    "elif average<50:\n",
    "    print(\"Are we stuck again?\")"
   ]
  },
  {
   "cell_type": "markdown",
   "id": "21f06c8f",
   "metadata": {},
   "source": [
    "\n",
    "***Şimdi de geometrik şekil hesaplama işlemi yapalım. İlk olarak kullanıcıdan  \n",
    "üçgenin mi dörtgenin mi tipini bulmak istediğini sorun.**  \n",
    "\n",
    "Eğer kullanıcı \"Dörtgen\" cevabını verirse , 4 tane kenar isteyip bu dörtgenin kare mi ,  \n",
    "dikdörtgen mi yoksa sıradan bir dörtgen mi olduğunu bulmaya çalışın.  \n",
    "\n",
    "Eğer kullanıcı \"Üçgen\" cevabını verirse , 3 tane kenar isteyip bu üçgenin ikizkenar mı ,  \n",
    "eşkenar mı yoksa sıradan bir üçgen mi olduğunu bulmaya çalışın. Eğer verilen kenarlar bir üçgen belirtmiyorsa,  \n",
    "ekrana \"Üçgen belirtmiyor\" şeklinde bir yazı yazın.\n",
    "\n",
    "o Üçgen belirtme şartını bilmiyorsunuz internetten bakabilirsiniz.  \n",
    "Ayrıca , bu problemde mutlak değer bulmaya ihtiyacınız olacak. \n",
    "\n",
    "Bunun için,  \n",
    "Pythonda hazır bir fonksiyon olan abs() fonksiyonunu kullanabilirsiniz. Kullanımı şu şekildedir ;   \n",
    "abs(-4)  \n",
    "4  \n",
    "`\n",
    "\n",
    "***"
   ]
  },
  {
   "cell_type": "code",
   "execution_count": null,
   "id": "03bfdc04",
   "metadata": {},
   "outputs": [],
   "source": [
    "print(\"    Geometrik Sekil Hesaplama Islemi    \")\n",
    "\n",
    "sekil=input(\"Ucgenin mi Tipini Bulmak Istiyorsunuz Dortgenin Mi?:\")\n",
    "if sekil == \"Dortgen\":\n",
    "    Kenar1=int(input(\"1. Kenari Giriniz:\"))\n",
    "    Kenar2=int(input(\"2. Kenari Giriniz:\"))\n",
    "    Kenar3=int(input(\"3. Kenari Giriniz:\"))\n",
    "    Kenar4=int(input(\"4. Kenari Giriniz:\"))\n",
    "    if Kenar1==Kenar2==Kenar3==Kenar4:\n",
    "        print(\"Girdiginiz Dortgen Bir Karedir.\")\n",
    "    else:\n",
    "        print(\"Dikdortgen Girdiniz\")\n",
    "elif (sekil == \"Ucgen\"):\n",
    "    a = int(input(\"Kenar-1:\"))\n",
    "    b = int(input(\"Kenar-2:\"))\n",
    "    c = int(input(\"Kenar-3:\"))\n",
    "    if (abs(a + b) > c and abs(a + c) > b and abs(b + c) > a):\n",
    "        if (a == b and a == c):\n",
    "            print(\"Eşkenar Üçgen...\")\n",
    "        elif ((a == b and a != c) or (a == c and a != b) or (b == c and b != a)):\n",
    "            print(\"İkizkenar Üçgen....\")\n",
    "        else:\n",
    "            print(\"Çeşitkenar Üçgen...\")\n",
    "    else:\n",
    "        print(\"Üçgen belirtmiyor...\")\n",
    "\n",
    "else:\n",
    "    print(\"Geçersiz Şekil...\")\n",
    "\n"
   ]
  },
  {
   "cell_type": "code",
   "execution_count": null,
   "id": "6f732ec7",
   "metadata": {},
   "outputs": [],
   "source": []
  }
 ],
 "metadata": {
  "kernelspec": {
   "display_name": "Python 3",
   "language": "python",
   "name": "python3"
  },
  "language_info": {
   "codemirror_mode": {
    "name": "ipython",
    "version": 3
   },
   "file_extension": ".py",
   "mimetype": "text/x-python",
   "name": "python",
   "nbconvert_exporter": "python",
   "pygments_lexer": "ipython3",
   "version": "3.9.3"
  },
  "toc": {
   "base_numbering": 1,
   "nav_menu": {},
   "number_sections": false,
   "sideBar": false,
   "skip_h1_title": false,
   "title_cell": "Table of Contents",
   "title_sidebar": "Contents",
   "toc_cell": false,
   "toc_position": {},
   "toc_section_display": true,
   "toc_window_display": false
  }
 },
 "nbformat": 4,
 "nbformat_minor": 5
}
