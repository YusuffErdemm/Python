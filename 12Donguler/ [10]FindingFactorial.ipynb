{
 "cells": [
  {
   "cell_type": "code",
   "execution_count": null,
   "id": "92d6444d",
   "metadata": {},
   "outputs": [
    {
     "name": "stdout",
     "output_type": "stream",
     "text": [
      "Num:5\n",
      "5 Factorial is = 120 \n"
     ]
    }
   ],
   "source": [
    "#For Dongusu Ile Faktoriyel Bulalim.\n",
    "\n",
    "#Press to 'q' for Quit.\n",
    "\n",
    "\n",
    "while True:\n",
    "    Num=input(\"Num:\")\n",
    "    if Num == \"q\":\n",
    "        print(\"The program is terminating...\")\n",
    "        break\n",
    "    else:\n",
    "        Num=int(Num)\n",
    "        factorial=1\n",
    "\n",
    "        for i in range(2,Num+1):\n",
    "            factorial =factorial*i\n",
    "        print(\"{} Factorial is = {} \".format(Num,factorial))\n",
    "\n",
    "\n"
   ]
  },
  {
   "cell_type": "code",
   "execution_count": null,
   "id": "01cbacc8",
   "metadata": {},
   "outputs": [],
   "source": []
  }
 ],
 "metadata": {
  "kernelspec": {
   "display_name": "Python 3",
   "language": "python",
   "name": "python3"
  },
  "language_info": {
   "codemirror_mode": {
    "name": "ipython",
    "version": 3
   },
   "file_extension": ".py",
   "mimetype": "text/x-python",
   "name": "python",
   "nbconvert_exporter": "python",
   "pygments_lexer": "ipython3",
   "version": "3.9.3"
  },
  "toc": {
   "base_numbering": 1,
   "nav_menu": {},
   "number_sections": false,
   "sideBar": false,
   "skip_h1_title": false,
   "title_cell": "Table of Contents",
   "title_sidebar": "Contents",
   "toc_cell": false,
   "toc_position": {},
   "toc_section_display": true,
   "toc_window_display": false
  }
 },
 "nbformat": 4,
 "nbformat_minor": 5
}
