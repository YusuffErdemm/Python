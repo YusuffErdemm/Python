{
 "cells": [
  {
   "cell_type": "code",
   "execution_count": 2,
   "id": "0c9669ee",
   "metadata": {},
   "outputs": [
    {
     "name": "stdout",
     "output_type": "stream",
     "text": [
      "[1, 1, 2, 3, 5, 8, 13, 21, 34, 55, 89, 144, 233, 377, 610, 987, 1597, 2584, 4181, 6765, 10946, 17711]\n"
     ]
    }
   ],
   "source": [
    "\"\"\"\n",
    "Fibonacci Serisi yeni bir sayiyi onceki iki sayinin toplami seklinde olusturur.\n",
    "1,1,2,3,5,8,13,21,34.......\n",
    "\n",
    "\"\"\"\n",
    "\n",
    "a=1 # 1. Fibonacci\n",
    "b=1 # 2. Fibonacci\n",
    "\n",
    "fibonacci=[a,b]\n",
    "\n",
    "for i in range(20):\n",
    "\n",
    "    a,b =b,a+b\n",
    "    fibonacci.append(b)\n",
    "\n",
    "print(fibonacci)\n",
    "\n",
    "\n"
   ]
  },
  {
   "cell_type": "code",
   "execution_count": null,
   "id": "0dbd72e7",
   "metadata": {},
   "outputs": [],
   "source": []
  }
 ],
 "metadata": {
  "kernelspec": {
   "display_name": "Python 3",
   "language": "python",
   "name": "python3"
  },
  "language_info": {
   "codemirror_mode": {
    "name": "ipython",
    "version": 3
   },
   "file_extension": ".py",
   "mimetype": "text/x-python",
   "name": "python",
   "nbconvert_exporter": "python",
   "pygments_lexer": "ipython3",
   "version": "3.9.3"
  },
  "toc": {
   "base_numbering": 1,
   "nav_menu": {},
   "number_sections": false,
   "sideBar": false,
   "skip_h1_title": false,
   "title_cell": "Table of Contents",
   "title_sidebar": "Contents",
   "toc_cell": false,
   "toc_position": {},
   "toc_section_display": true,
   "toc_window_display": false
  }
 },
 "nbformat": 4,
 "nbformat_minor": 5
}
