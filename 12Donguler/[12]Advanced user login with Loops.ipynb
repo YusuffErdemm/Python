{
 "cells": [
  {
   "cell_type": "code",
   "execution_count": null,
   "id": "d4e8c7ef",
   "metadata": {},
   "outputs": [
    {
     "name": "stdout",
     "output_type": "stream",
     "text": [
      "\n",
      "*************************\n",
      "Kullanici Girisi Programi\n",
      "*************************\n",
      "\n",
      "Kullanici Adi:Kaizuken\n",
      "Parola:2121sadsa\n",
      "You entered the password and username incorrectly!\n"
     ]
    }
   ],
   "source": [
    "print(\"\"\"\n",
    "*************************\n",
    "Kullanici Girisi Programi\n",
    "*************************\n",
    "\"\"\")\n",
    "\n",
    "sys_username=\"Kaizuuken\"\n",
    "sys_password=\"Yusufwashere3\"\n",
    "Right=3\n",
    "while True:\n",
    "    username=input(\"Kullanici Adi:\")\n",
    "    password=input(\"Parola:\")\n",
    "    if username == sys_username and sys_password != password:\n",
    "        print(\"You entered the password incorrectly!\")\n",
    "        Right-=1\n",
    "    elif username != sys_username and sys_password == password:\n",
    "        print(\"You entered the  username   incorrectly!.\")\n",
    "        Right -= 1\n",
    "    elif username != sys_username and password != sys_password:\n",
    "        print(\"You entered the password and username incorrectly!\")\n",
    "        Right -= 1\n",
    "    else:\n",
    "        print(\"Login successful\")\n",
    "\n",
    "    if Right==0:\n",
    "        print(\"Your right to enter is finished\")\n",
    "        break\n",
    "\n",
    "\n"
   ]
  },
  {
   "cell_type": "code",
   "execution_count": null,
   "id": "4d47eaf4",
   "metadata": {},
   "outputs": [],
   "source": []
  }
 ],
 "metadata": {
  "kernelspec": {
   "display_name": "Python 3",
   "language": "python",
   "name": "python3"
  },
  "language_info": {
   "codemirror_mode": {
    "name": "ipython",
    "version": 3
   },
   "file_extension": ".py",
   "mimetype": "text/x-python",
   "name": "python",
   "nbconvert_exporter": "python",
   "pygments_lexer": "ipython3",
   "version": "3.9.3"
  },
  "toc": {
   "base_numbering": 1,
   "nav_menu": {},
   "number_sections": false,
   "sideBar": false,
   "skip_h1_title": false,
   "title_cell": "Table of Contents",
   "title_sidebar": "Contents",
   "toc_cell": false,
   "toc_position": {},
   "toc_section_display": true,
   "toc_window_display": false
  }
 },
 "nbformat": 4,
 "nbformat_minor": 5
}
