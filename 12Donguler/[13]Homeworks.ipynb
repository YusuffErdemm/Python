{
 "cells": [
  {
   "cell_type": "markdown",
   "id": "58957630",
   "metadata": {},
   "source": [
    "### Problem 1\n",
    "Kullanıcıdan aldığınız bir sayının mükemmel olup olmadığını bulmaya çalışın.  \n",
    "\n",
    "Bir sayının kendi hariç bölenlerinin toplamı kendine eşitse bu sayıya \"mükemmel sayı\" denir. Örnek olarak,  \n",
    "6 mükemmel bir sayıdır. (1 + 2 + 3 = 6)\"\"\"  \n"
   ]
  },
  {
   "cell_type": "code",
   "execution_count": null,
   "id": "ddbf0fd7",
   "metadata": {},
   "outputs": [],
   "source": [
    "print(\"Welcome! to Perfect Number Finder Program.\")\n",
    "print(\"******************************************\")\n",
    "\n",
    "Num = int(input(\"Num:\"))\n",
    "\n",
    "i=1\n",
    "total=0\n",
    "\n",
    "while i < Num:\n",
    "    if Num % i == 0:\n",
    "        total+=i\n",
    "    i+=1\n",
    "\n",
    "if Num == total:\n",
    "        print(Num,\"is an Perfect Number.!\")\n",
    "else:\n",
    "        print(Num,\"is just a number :(\")"
   ]
  },
  {
   "cell_type": "markdown",
   "id": "a1e054dc",
   "metadata": {},
   "source": [
    "## Problem 2\n",
    "Kullanıcıdan aldığınız bir sayının \"Armstrong\" sayısı olup olmadığını bulmaya çalışın.\n",
    "\n",
    "Örnek olarak, Bir sayı eğer 4 basamaklı ise ve oluşturan rakamlardan herbirinin 4. kuvvetinin toplamı\n",
    "( 3 basamaklı sayılar için 3.kuvveti ) o sayıya eşitse bu sayıya \"Armstrong\" sayısı denir.\n",
    "\n",
    "Örnek olarak : 1634 = 1^4 + 6^4 + 3^4 + 4^4"
   ]
  },
  {
   "cell_type": "code",
   "execution_count": null,
   "id": "9e2b409c",
   "metadata": {},
   "outputs": [],
   "source": [
    "print(\"***********************************************\")\n",
    "print(\"Finding Amstrong Number\")\n",
    "print(\"***********************************************\")\n",
    "\n",
    "num=input(\"B:\")\n",
    "digit=len(num)\n",
    "num=int(num)\n",
    "total=0\n",
    "digitcalculation=0\n",
    "\n",
    "temporary_num = num\n",
    "\n",
    "\n",
    "while temporary_num>0:\n",
    "    digitcalculation=temporary_num%10\n",
    "    total+=digitcalculation ** digit\n",
    "    temporary_num=temporary_num//10\n",
    "\n",
    "if total==num:\n",
    "    print(num,\"is an Amstrong number!\")\n",
    "else:\n",
    "    print(num,\"isnt an Amstrong Number.\")"
   ]
  },
  {
   "cell_type": "markdown",
   "id": "5f779507",
   "metadata": {},
   "source": [
    "### Problem 3\n",
    "1'den 10'kadar olan sayılarla ekrana çarpım tablosu bastırmaya çalışın.\n",
    "\n",
    "İpucu: İç içe 2 tane for döngüsü kullanın. Aynı zamanda sayıları range() fonksiyonunu kullanarak elde edin.\n",
    "\"\"\""
   ]
  },
  {
   "cell_type": "code",
   "execution_count": null,
   "id": "fea13c5e",
   "metadata": {},
   "outputs": [],
   "source": [
    "print(\"******************************************\")\n",
    "print(\"The Multiplication Table\")\n",
    "print(\"******************************************\")\n",
    "\n",
    "for i in range(1,11):\n",
    "    print(\"******************************************\")\n",
    "    for j in range(1,11):\n",
    "        print(\"{} x {} = {}\".format(i,j,i*j))"
   ]
  },
  {
   "cell_type": "markdown",
   "id": "13e5f7ad",
   "metadata": {},
   "source": [
    "### Problem 4\n",
    "Her bir while döngüsünde kullanıcıdan bir sayı alın ve kullanıcının girdiği sayıları \"toplam\" isimli bir değişkene \n",
    "ekleyin. Kullanıcı \"q\" tuşuna bastığı zaman döngüyü sonlandırın ve ekrana \"toplam değişkenini\" bastırın.\n",
    "\n",
    "İpucu : while döngüsünü sonsuz koşulla başlatın ve kullanıcı q'ya basarsa döngüyü break ile sonlandırın.\"\"\""
   ]
  },
  {
   "cell_type": "code",
   "execution_count": null,
   "id": "dbaf15a0",
   "metadata": {},
   "outputs": [],
   "source": [
    "total=0\n",
    "\n",
    "while True:\n",
    "    num=input(\"Sayi:\")\n",
    "    if num==\"q\":\n",
    "        print(\"the program is terminating..\")\n",
    "        break\n",
    "\n",
    "    num=int(num)\n",
    "    total+=num\n",
    "print(\"total:\",total)"
   ]
  },
  {
   "cell_type": "markdown",
   "id": "90000269",
   "metadata": {},
   "source": [
    "### Problem 5\n",
    "1'den 100'e kadar olan sayılardan sadece 3'e bölünen sayıları ekrana bastırın. Bu işlemi continue ile yapmaya çalışın.\n",
    "\"\"\""
   ]
  },
  {
   "cell_type": "code",
   "execution_count": null,
   "id": "ee894c28",
   "metadata": {},
   "outputs": [],
   "source": [
    "Numbersdividedby_3=[]\n",
    "for i in range(101):\n",
    "    if i%3 == 0:\n",
    "        Numbersdividedby_3.append(i)\n",
    "print(Numbersdividedby_3)\n",
    "\n",
    "# Continue kullanarakda deneyelim\n",
    "\n",
    "sayilar=[]\n",
    "\n",
    "for i in range(0,101):\n",
    "    if i%3 !=0:\n",
    "        continue\n",
    "    else:\n",
    "        sayilar.append(i)"
   ]
  },
  {
   "cell_type": "code",
   "execution_count": null,
   "id": "a9fccf9e",
   "metadata": {},
   "outputs": [],
   "source": []
  }
 ],
 "metadata": {
  "kernelspec": {
   "display_name": "Python 3",
   "language": "python",
   "name": "python3"
  },
  "language_info": {
   "codemirror_mode": {
    "name": "ipython",
    "version": 3
   },
   "file_extension": ".py",
   "mimetype": "text/x-python",
   "name": "python",
   "nbconvert_exporter": "python",
   "pygments_lexer": "ipython3",
   "version": "3.9.3"
  },
  "toc": {
   "base_numbering": 1,
   "nav_menu": {},
   "number_sections": false,
   "sideBar": false,
   "skip_h1_title": false,
   "title_cell": "Table of Contents",
   "title_sidebar": "Contents",
   "toc_cell": false,
   "toc_position": {},
   "toc_section_display": true,
   "toc_window_display": false
  }
 },
 "nbformat": 4,
 "nbformat_minor": 5
}
