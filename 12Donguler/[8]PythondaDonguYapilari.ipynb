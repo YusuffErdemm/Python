{
 "cells": [
  {
   "cell_type": "markdown",
   "id": "2f5d4dba",
   "metadata": {
    "toc": true
   },
   "source": [
    "<h1>Table of Contents<span class=\"tocSkip\"></span></h1>\n",
    "<div class=\"toc\"><ul class=\"toc-item\"><li><span><a href=\"#Dongu-Yapilarini-Kullanma\" data-toc-modified-id=\"Dongu-Yapilarini-Kullanma-1\">Dongu Yapilarini Kullanma</a></span><ul class=\"toc-item\"><li><span><a href=\"#For-Donguleri\" data-toc-modified-id=\"For-Donguleri-1.1\">For Donguleri</a></span><ul class=\"toc-item\"><li><span><a href=\"#in-Operatoru\" data-toc-modified-id=\"in-Operatoru-1.1.1\">in Operatoru</a></span></li></ul></li><li><span><a href=\"#Listeler-Uzerinde-Gezinmek\" data-toc-modified-id=\"Listeler-Uzerinde-Gezinmek-1.2\">Listeler Uzerinde Gezinmek</a></span></li><li><span><a href=\"#Liste-Elemanlarini-Toplamak\" data-toc-modified-id=\"Liste-Elemanlarini-Toplamak-1.3\">Liste Elemanlarini Toplamak</a></span></li><li><span><a href=\"#While-Donguleri\" data-toc-modified-id=\"While-Donguleri-1.4\">While Donguleri</a></span><ul class=\"toc-item\"><li><span><a href=\"#range()-Fonksiyonu\" data-toc-modified-id=\"range()-Fonksiyonu-1.4.1\">range() Fonksiyonu</a></span></li><li><span><a href=\"#break-ifadesi\" data-toc-modified-id=\"break-ifadesi-1.4.2\">break ifadesi</a></span></li><li><span><a href=\"#continue-ifadesi\" data-toc-modified-id=\"continue-ifadesi-1.4.3\">continue ifadesi</a></span><ul class=\"toc-item\"><li><span><a href=\"#List-Comprehension-ile\" data-toc-modified-id=\"List-Comprehension-ile-1.4.3.1\">List Comprehension ile</a></span></li></ul></li></ul></li></ul></li></ul></div>"
   ]
  },
  {
   "cell_type": "markdown",
   "id": "2d30caa0",
   "metadata": {},
   "source": [
    "# Dongu Yapilarini Kullanma\n",
    "---\n",
    " Şimdiye kadar yazdığımız programlarda yazdığımız programlar bir defa çalışıyor ve sona eriyordu. Ancak biz çoğu zaman  \n",
    " programlarımızın belli koşullarda çalışmasını sürekli devam ettirmesini ve işlemlerini tekrar etmesini isteriz. İşte  \n",
    " bunları yapmamızı sağlayan yapılara döngü diyoruz.  \n",
    " \n",
    "Döngüler bütün programlama dillerinde bulunan ve belli koşullarda işlemlerini sürekli tekrar eden yapılardır.  \n",
    "İsterseniz gerçek hayattaki programlara bakarak döngü mantığını anlamaya çalışalım.  \n",
    "\n",
    "Örneğin , siz ATM makinesine gidip kartınızı yerleştiriyorsunuz ve program başlıyor. Para Çekme, Para Yatırma ,  \n",
    "Vergileri Ödeme gibi işlemleri tekrar tekrar gerçekleştiriyorsunuz. Programın sona ermesi ise Kart İade seçeneği ile  \n",
    "gerçekleşiyor. Yani siz Kart İade tuşuna basmadığınız sürece ATM makinesi çalışmaya devam ediyor. Buna bakarak ,  \n",
    "aslında ATM makinesi döngü yapılarını kullanıyor diyebiliriz.\n",
    "\n",
    "Başka bir örnek düşünelim. Örneğin siz bir siteye login olma işlemi gerçekleştiriyorsunuz. Biz kullanıcı adı ve  \n",
    "parolayı yanlış girdiğimiz sürece program sürekli bize kullanıcı adı ve parola soruyor. Programın sona ermesi ise biz  \n",
    "kullanıcı adı ve parolayı doğru girdiğimizde gerçekleşiyor. Yine burada da siz döngü yapılarının kullanıldığını  \n",
    "düşünebilirsiniz.  \n",
    "\n",
    "\n",
    "\n"
   ]
  },
  {
   "cell_type": "markdown",
   "id": "4b7d2111",
   "metadata": {},
   "source": [
    "## For Donguleri"
   ]
  },
  {
   "cell_type": "markdown",
   "id": "6ff9500d",
   "metadata": {},
   "source": [
    "### in Operatoru\n",
    "Pythondaki in operatörü , bir elemanın başka bir listede,demette veya stringte (karakter dizileri)  \n",
    "bulunup bulunmadığını kontrol eder.  \n",
    "\n",
    "Kullanımı şu şekildedir;  "
   ]
  },
  {
   "cell_type": "code",
   "execution_count": 1,
   "id": "d42136e6",
   "metadata": {},
   "outputs": [
    {
     "name": "stdout",
     "output_type": "stream",
     "text": [
      "True\n",
      "True\n",
      "False\n",
      "True\n",
      "False\n"
     ]
    }
   ],
   "source": [
    "print(\"a\" in \"Merhaba\")  \n",
    "print(\"mer\" in \"merhaba\") \n",
    "print(\"t\" in \"merhaba\") \n",
    "print(4 in [1, 2, 3, 4]) \n",
    "print(not 4 in [1, 2, 3, 4])"
   ]
  },
  {
   "cell_type": "markdown",
   "id": "a2d174fa",
   "metadata": {},
   "source": [
    "> **For Dongusu Yapisi**\n",
    "\n",
    "for Döngüsü , listelerin ,demetlerin, stringlerin ve hatta sözlüklerin \n",
    "üzerinde dolaşmamızı sağlayan bir döngü türüdür. Yapısı şu şekildedir.\n",
    "\n",
    ">for eleman in veri_yapısı(liste,demet vs):\n",
    ">>            Yapılacak İşlemler\n",
    "\n",
    "Bu yapı bize şunu söyler;\n",
    "\n",
    " eleman değişkeni her döngünün başında listenin,demetin vs. her bir elemanına eşit olacak ve her döngüde bu elemanla işlem yapılacak."
   ]
  },
  {
   "cell_type": "markdown",
   "id": "301bca24",
   "metadata": {},
   "source": [
    "## Listeler Uzerinde Gezinmek"
   ]
  },
  {
   "cell_type": "code",
   "execution_count": 2,
   "id": "276393d5",
   "metadata": {},
   "outputs": [
    {
     "name": "stdout",
     "output_type": "stream",
     "text": [
      "1\n",
      "2\n",
      "3\n",
      "4\n",
      "5\n",
      "6\n",
      "7\n"
     ]
    }
   ],
   "source": [
    "liste = [1, 2, 3, 4, 5, 6, 7]\n",
    "\n",
    "for eleman in liste:\n",
    "    print(eleman)  \n",
    "\n"
   ]
  },
  {
   "cell_type": "markdown",
   "id": "36aa7c37",
   "metadata": {},
   "source": [
    "## Liste Elemanlarini Toplamak"
   ]
  },
  {
   "cell_type": "code",
   "execution_count": 3,
   "id": "896def58",
   "metadata": {},
   "outputs": [
    {
     "name": "stdout",
     "output_type": "stream",
     "text": [
      "toplam 1\n",
      "toplam 3\n",
      "toplam 6\n",
      "toplam 10\n",
      "toplam 15\n",
      "toplam 21\n",
      "toplam 28\n"
     ]
    }
   ],
   "source": [
    "toplam = 0\n",
    "liste = [1, 2, 3, 4, 5, 6, 7]\n",
    "for eleman in liste:\n",
    "    toplam = toplam + eleman\n",
    "    print(\"toplam\", toplam)\n",
    "\n"
   ]
  },
  {
   "cell_type": "code",
   "execution_count": 4,
   "id": "a7fa9987",
   "metadata": {},
   "outputs": [
    {
     "name": "stdout",
     "output_type": "stream",
     "text": [
      "Toplam: 1 , Eleman: 1 \n",
      "Toplam: 3 , Eleman: 2 \n",
      "Toplam: 6 , Eleman: 3 \n",
      "Toplam: 10 , Eleman: 4 \n",
      "Toplam: 15 , Eleman: 5 \n"
     ]
    }
   ],
   "source": [
    "toplam = 0\n",
    "liste = [1, 2, 3, 4, 5]\n",
    "\n",
    "for eleman in liste:\n",
    "    toplam = toplam + eleman\n",
    "    print(\"Toplam: {} , Eleman: {} \".format(toplam, eleman))"
   ]
  },
  {
   "cell_type": "code",
   "execution_count": 6,
   "id": "0a3e07e9",
   "metadata": {},
   "outputs": [
    {
     "name": "stdout",
     "output_type": "stream",
     "text": [
      "2\n",
      "4\n",
      "6\n",
      "8\n",
      "10\n"
     ]
    }
   ],
   "source": [
    "# Cift Sayilari Bastirma\n",
    "\n",
    "lst = [1, 2, 3, 4, 5, 6, 7, 8, 9, 10]\n",
    "\n",
    "for i in lst:\n",
    "    if i % 2 == 0:\n",
    "        print(i)"
   ]
  },
  {
   "cell_type": "code",
   "execution_count": 8,
   "id": "713ead44",
   "metadata": {},
   "outputs": [
    {
     "name": "stdout",
     "output_type": "stream",
     "text": [
      "P\n",
      "Y\n",
      "T\n",
      "H\n",
      "O\n",
      "N\n"
     ]
    }
   ],
   "source": [
    "s = \"Python\".upper()\n",
    "\n",
    "for i in s:\n",
    "    print(i)"
   ]
  },
  {
   "cell_type": "code",
   "execution_count": 9,
   "id": "8087946e",
   "metadata": {},
   "outputs": [
    {
     "name": "stdout",
     "output_type": "stream",
     "text": [
      "PPP\n",
      "YYY\n",
      "TTT\n",
      "HHH\n",
      "OOO\n",
      "NNN\n"
     ]
    }
   ],
   "source": [
    "for i in s:\n",
    "    print(i * 3)"
   ]
  },
  {
   "cell_type": "code",
   "execution_count": 10,
   "id": "205dc231",
   "metadata": {},
   "outputs": [
    {
     "name": "stdout",
     "output_type": "stream",
     "text": [
      "1\n",
      "2\n",
      "3\n",
      "4\n",
      "5\n",
      "6\n"
     ]
    }
   ],
   "source": [
    "demet = (1, 2, 3, 4, 5, 6)\n",
    "\n",
    "for i in demet:\n",
    "    print(i) "
   ]
  },
  {
   "cell_type": "markdown",
   "id": "b534fa14",
   "metadata": {},
   "source": [
    "**Demetler Uzerinde Uygulanabilen For Dongusunde Cok Pratik Bir Yontem Bulunuyor.**"
   ]
  },
  {
   "cell_type": "code",
   "execution_count": 11,
   "id": "0861a3b7",
   "metadata": {},
   "outputs": [
    {
     "name": "stdout",
     "output_type": "stream",
     "text": [
      "1 2\n",
      "3 4\n",
      "5 6\n",
      "7 8\n"
     ]
    }
   ],
   "source": [
    "liste = [(1, 2), (3, 4), (5, 6), (7, 8)]\n",
    "\n",
    "for (i, j) in liste:\n",
    "    print(i, j)"
   ]
  },
  {
   "cell_type": "code",
   "execution_count": 12,
   "id": "8cfe5a0a",
   "metadata": {},
   "outputs": [
    {
     "name": "stdout",
     "output_type": "stream",
     "text": [
      "i: 1 , j: 2\n",
      "i: 3 , j: 4\n",
      "i: 5 , j: 6\n",
      "i: 7 , j: 8\n"
     ]
    }
   ],
   "source": [
    "liste = [(1, 2), (3, 4), (5, 6), (7, 8)]\n",
    "\n",
    "for i, j in liste:\n",
    "    print(\"i: {} , j: {}\".format(i, j))"
   ]
  },
  {
   "cell_type": "code",
   "execution_count": 13,
   "id": "23a9f650",
   "metadata": {},
   "outputs": [
    {
     "name": "stdout",
     "output_type": "stream",
     "text": [
      "1 2 3\n",
      "4 5 6\n",
      "7 8 9\n",
      "10 11 12\n"
     ]
    }
   ],
   "source": [
    "# Demet içindeki elemanları yazdiralim\n",
    "liste = [(1, 2, 3), (4, 5, 6), (7, 8, 9), (10, 11, 12)]\n",
    "\n",
    "for i, j, k in liste:\n",
    "    print(i, j, k) "
   ]
  },
  {
   "cell_type": "code",
   "execution_count": 14,
   "id": "5b3087b5",
   "metadata": {},
   "outputs": [
    {
     "name": "stdout",
     "output_type": "stream",
     "text": [
      "6\n",
      "120\n",
      "504\n",
      "1320\n"
     ]
    }
   ],
   "source": [
    "#` Demet Icindeki elemanlari Carptirma\n",
    "liste = [(1, 2, 3), (4, 5, 6), (7, 8, 9), (10, 11, 12)]\n",
    "for i, j, k in liste:\n",
    "    print(i * j * k)  # Out: 6 ; 120 ; 504 ; 1320"
   ]
  },
  {
   "cell_type": "code",
   "execution_count": 15,
   "id": "d85a4c1c",
   "metadata": {},
   "outputs": [
    {
     "name": "stdout",
     "output_type": "stream",
     "text": [
      "dict_keys(['bir', 'iki', 'üç', 'dört'])\n",
      "dict_values([1, 2, 3, 4])\n",
      "dict_items([('bir', 1), ('iki', 2), ('üç', 3), ('dört', 4)])\n"
     ]
    }
   ],
   "source": [
    "sozluk = {\"bir\": 1, \"iki\": 2, \"üç\": 3, \"dört\": 4}\n",
    "print(sozluk.keys())  \n",
    "print(sozluk.values())  \n",
    "print(sozluk.items())"
   ]
  },
  {
   "cell_type": "code",
   "execution_count": 16,
   "id": "048d6e31",
   "metadata": {},
   "outputs": [
    {
     "name": "stdout",
     "output_type": "stream",
     "text": [
      "bir\n",
      "iki\n",
      "üç\n",
      "dört\n"
     ]
    }
   ],
   "source": [
    "sozluk = {\"bir\": 1, \"iki\": 2, \"üç\": 3, \"dört\": 4}\n",
    "\n",
    "for i in sozluk:\n",
    "    print(i)"
   ]
  },
  {
   "cell_type": "code",
   "execution_count": 17,
   "id": "4d3df3cf",
   "metadata": {},
   "outputs": [
    {
     "name": "stdout",
     "output_type": "stream",
     "text": [
      "bir\n",
      "iki\n",
      "üç\n",
      "dört\n"
     ]
    }
   ],
   "source": [
    "sozluk = {\"bir\": 1, \"iki\": 2, \"üç\": 3, \"dört\": 4}\n",
    "\n",
    "for i in sozluk.keys():\n",
    "    print(i)"
   ]
  },
  {
   "cell_type": "code",
   "execution_count": 18,
   "id": "10f9d597",
   "metadata": {},
   "outputs": [
    {
     "name": "stdout",
     "output_type": "stream",
     "text": [
      "1\n",
      "2\n",
      "3\n",
      "4\n"
     ]
    }
   ],
   "source": [
    "sozluk = {\"bir\": 1, \"iki\": 2, \"üç\": 3, \"dört\": 4}\n",
    "\n",
    "for i in sozluk.values():\n",
    "    print(i) "
   ]
  },
  {
   "cell_type": "code",
   "execution_count": 19,
   "id": "a31bc633",
   "metadata": {},
   "outputs": [
    {
     "name": "stdout",
     "output_type": "stream",
     "text": [
      "Anahtar : bir Deger 1\n",
      "Anahtar : iki Deger 2\n",
      "Anahtar : üç Deger 3\n",
      "Anahtar : dört Deger 4\n"
     ]
    }
   ],
   "source": [
    "sozluk = {\"bir\": 1, \"iki\": 2, \"üç\": 3, \"dört\": 4}\n",
    "\n",
    "for i, j in sozluk.items():\n",
    "    print(\"Anahtar :\", i, \"Deger\", j)"
   ]
  },
  {
   "cell_type": "code",
   "execution_count": 20,
   "id": "a2b03350",
   "metadata": {},
   "outputs": [
    {
     "name": "stdout",
     "output_type": "stream",
     "text": [
      "28\n"
     ]
    }
   ],
   "source": [
    "# Programın ciktisi nedir?\n",
    "\n",
    "\n",
    "liste = [2, 1, 10, 2, 23, 1, 56, 3]\n",
    "\n",
    "total = 0\n",
    "for i in liste:\n",
    "    if (not (i % 2 == 0)):\n",
    "        total += i\n",
    "\n",
    "print(total)"
   ]
  },
  {
   "cell_type": "markdown",
   "id": "2ee3a943",
   "metadata": {},
   "source": [
    "## While Donguleri\n",
    "Bu bölümde while döngülerinin yapısını ve nasıl kullanılacağını öğrenmeye çalışacağız.  \n",
    "\n",
    "while döngüleri belli bir koşul sağlandığı sürece bloğundaki işlemleri gerçekleştirmeye devam eder.   \n",
    "while döngülerinin sona ermesi için koşul durumunun bir süre sonra False olması gereklidir.Yapısı şu şekildedir;  \n",
    "\n",
    ">while (koşul):  \n",
    " >>                               İşlem1  \n",
    " >>                               İşlem2  \n",
    " >>                               İşlem3  \n",
    " >>                                 //  \n",
    " >>                                 //  \n",
    "\n"
   ]
  },
  {
   "cell_type": "code",
   "execution_count": 23,
   "id": "9b2b4732",
   "metadata": {},
   "outputs": [
    {
     "name": "stdout",
     "output_type": "stream",
     "text": [
      "i'nin degeri: 0\n",
      "i'nin degeri: 1\n",
      "i'nin degeri: 2\n",
      "i'nin degeri: 3\n",
      "i'nin degeri: 4\n",
      "i'nin degeri: 5\n",
      "i'nin degeri: 6\n",
      "i'nin degeri: 7\n",
      "i'nin degeri: 8\n",
      "i'nin degeri: 9\n"
     ]
    }
   ],
   "source": [
    "# i yi birer birer 10 olana dek 10 dahil degil yazdiralim\n",
    "i= 0\n",
    "while i < 10:\n",
    "    print(\"i'nin degeri:\", i)\n",
    "    i += 1 "
   ]
  },
  {
   "cell_type": "code",
   "execution_count": 24,
   "id": "03e261d1",
   "metadata": {},
   "outputs": [
    {
     "name": "stdout",
     "output_type": "stream",
     "text": [
      "0\n",
      "2\n",
      "4\n",
      "6\n",
      "8\n",
      "10\n",
      "12\n",
      "14\n",
      "16\n",
      "18\n"
     ]
    }
   ],
   "source": [
    "i = 0\n",
    "while i < 20:\n",
    "    print(i)\n",
    "    i = i + 2"
   ]
  },
  {
   "cell_type": "code",
   "execution_count": 25,
   "id": "53d37861",
   "metadata": {},
   "outputs": [
    {
     "name": "stdout",
     "output_type": "stream",
     "text": [
      "Python Ogreniyorum.\n",
      "Python Ogreniyorum.\n",
      "Python Ogreniyorum.\n",
      "Python Ogreniyorum.\n",
      "Python Ogreniyorum.\n",
      "Python Ogreniyorum.\n",
      "Python Ogreniyorum.\n",
      "Python Ogreniyorum.\n",
      "Python Ogreniyorum.\n",
      "Python Ogreniyorum.\n",
      "Python Ogreniyorum.\n",
      "Python Ogreniyorum.\n",
      "Python Ogreniyorum.\n",
      "Python Ogreniyorum.\n",
      "Python Ogreniyorum.\n",
      "Python Ogreniyorum.\n",
      "Python Ogreniyorum.\n",
      "Python Ogreniyorum.\n",
      "Python Ogreniyorum.\n",
      "Python Ogreniyorum.\n",
      "Python Ogreniyorum.\n",
      "Python Ogreniyorum.\n",
      "Python Ogreniyorum.\n",
      "Python Ogreniyorum.\n",
      "Python Ogreniyorum.\n",
      "Python Ogreniyorum.\n",
      "Python Ogreniyorum.\n",
      "Python Ogreniyorum.\n",
      "Python Ogreniyorum.\n",
      "Python Ogreniyorum.\n",
      "Python Ogreniyorum.\n",
      "Python Ogreniyorum.\n",
      "Python Ogreniyorum.\n",
      "Python Ogreniyorum.\n",
      "Python Ogreniyorum.\n",
      "Python Ogreniyorum.\n",
      "Python Ogreniyorum.\n",
      "Python Ogreniyorum.\n",
      "Python Ogreniyorum.\n",
      "Python Ogreniyorum.\n"
     ]
    }
   ],
   "source": [
    "i = 0\n",
    "\n",
    "while i < 40:\n",
    "    print(\"Python Ogreniyorum.\")\n",
    "    i += 1"
   ]
  },
  {
   "cell_type": "code",
   "execution_count": 26,
   "id": "16c9a23a",
   "metadata": {},
   "outputs": [
    {
     "name": "stdout",
     "output_type": "stream",
     "text": [
      "1\n",
      "2\n",
      "3\n",
      "4\n",
      "5\n"
     ]
    }
   ],
   "source": [
    "# Liste üzerinde indeks ile gezinme\n",
    "# Once For dongusu ile gezinelim\n",
    "liste = [1, 2, 3, 4, 5]\n",
    "for i in liste:\n",
    "    print(i)"
   ]
  },
  {
   "cell_type": "code",
   "execution_count": 27,
   "id": "191ba808",
   "metadata": {},
   "outputs": [
    {
     "name": "stdout",
     "output_type": "stream",
     "text": [
      "indeks: 0 eleman: 1\n",
      "indeks: 1 eleman: 2\n",
      "indeks: 2 eleman: 3\n",
      "indeks: 3 eleman: 4\n",
      "indeks: 4 eleman: 5\n"
     ]
    }
   ],
   "source": [
    "#` While Dongusu ile gezinelim\n",
    "\n",
    "liste = [1, 2, 3, 4, 5]\n",
    "indeks = 0\n",
    "while indeks < len(liste):  # KOUSULUMUZ INDEX 5 DEN KUCUK OLDUGU SURECE\n",
    "    print(\"indeks:\", indeks, \"eleman:\", liste[indeks])\n",
    "    indeks += 1"
   ]
  },
  {
   "cell_type": "markdown",
   "id": "3cfb0f6a",
   "metadata": {},
   "source": [
    "###  range() Fonksiyonu\n",
    "Pythondaki bu hazır fonksiyon bizim verdiğimiz değerlere göre range isimli bir yapı oluşturur ve bu yapı listelere  \n",
    "oldukça benzer. Bu yapı başlangıç, bitiş ve opsiyonel olarak artırma değeri alarak listelere benzeyen bir sayı dizisi   oluşturur. Kullanımlarını öğrenmeye başlayalım.  "
   ]
  },
  {
   "cell_type": "code",
   "execution_count": 29,
   "id": "04164d06",
   "metadata": {},
   "outputs": [
    {
     "name": "stdout",
     "output_type": "stream",
     "text": [
      "range(0, 20)\n",
      "0 1 2 3 4 5 6 7 8 9 10 11 12 13 14 15 16 17 18 19\n"
     ]
    }
   ],
   "source": [
    "range(0, 20)  # 0'dan 20' a kadar (dahil değil) sayı dizisi oluşturur.\n",
    "print(range(0, 20))  # range(0,20)\n",
    "print(*range(0, 20))"
   ]
  },
  {
   "cell_type": "code",
   "execution_count": 31,
   "id": "d0154038",
   "metadata": {},
   "outputs": [
    {
     "data": {
      "text/plain": [
       "[0, 1, 2, 3, 4, 5, 6, 7, 8, 9, 10, 11, 12, 13, 14, 15, 16, 17, 18, 19]"
      ]
     },
     "execution_count": 31,
     "metadata": {},
     "output_type": "execute_result"
    }
   ],
   "source": [
    "liste = list(range(0, 20))\n",
    "liste"
   ]
  },
  {
   "cell_type": "code",
   "execution_count": 34,
   "id": "3e836834",
   "metadata": {},
   "outputs": [
    {
     "name": "stdout",
     "output_type": "stream",
     "text": [
      "0 2 4 6 8\n"
     ]
    }
   ],
   "source": [
    "# 2 ser atlayarak yazmasini istiyoruz?\n",
    "print(*range(0, 10, 2))"
   ]
  },
  {
   "cell_type": "code",
   "execution_count": 35,
   "id": "f1086ee6",
   "metadata": {},
   "outputs": [
    {
     "name": "stdout",
     "output_type": "stream",
     "text": [
      "5 10 15 20 25 30 35 40 45 50 55 60 65 70 75 80 85 90 95\n"
     ]
    }
   ],
   "source": [
    "print(*range(5, 100, 5))  # 5'ten 100'e kadar olan ve 5 ile bölünebilen sayılar"
   ]
  },
  {
   "cell_type": "code",
   "execution_count": 36,
   "id": "f759078d",
   "metadata": {},
   "outputs": [
    {
     "name": "stdout",
     "output_type": "stream",
     "text": [
      "\n",
      "20 19 18 17 16 15 14 13 12 11 10 9 8 7 6 5 4 3 2 1\n"
     ]
    }
   ],
   "source": [
    "print(*range(20, 0))  # 20'den geri gelen sayıları oluşturmaz.\n",
    "print(*range(20, 0, -1))  # 20'den geri gelen sayıları oluşturur."
   ]
  },
  {
   "cell_type": "code",
   "execution_count": 52,
   "id": "296158d8",
   "metadata": {},
   "outputs": [
    {
     "name": "stdout",
     "output_type": "stream",
     "text": [
      "0\n",
      "1\n",
      "2\n",
      "3\n",
      "4\n",
      "----------------------------------------------------------------------------------------------------\n",
      "0\n",
      "1\n",
      "2\n",
      "3\n",
      "4\n",
      "5\n",
      "6\n",
      "7\n",
      "8\n",
      "9\n",
      "----------------------------------------------------------------------------------------------------\n",
      "*\n",
      "**\n",
      "***\n",
      "****\n",
      "*****\n",
      "******\n",
      "*******\n",
      "********\n",
      "*********\n",
      "**********\n",
      "***********\n",
      "************\n",
      "*************\n",
      "**************\n",
      "***************\n",
      "****************\n",
      "*****************\n",
      "******************\n",
      "*******************\n"
     ]
    }
   ],
   "source": [
    "# Şimdi de, range fonksiyonu ile oluşturduğumuz yapının üzerinde for döngüsü ile gezinelim.\n",
    "\n",
    "for i in range(0, 5):\n",
    "    print(i) \n",
    "print(\"-\"*100)\n",
    "for sayi in range(10):\n",
    "    print(sayi)\n",
    "print(\"-\"*100)\n",
    "for i in range(1,20):  # yildizi bir string olarak alip once 1 ile 2 ile 19 a kadar sira ile carpiyor.\n",
    "    print(\"*\" * i)\n",
    "    "
   ]
  },
  {
   "cell_type": "markdown",
   "id": "ef2cd96c",
   "metadata": {},
   "source": [
    "### break ifadesi\n",
    "break ifadesi sadece ve sadece içindeki bulunduğu döngüyü sonlandırır. Eğer iç içe döngüler bulunuyorsa ve en içteki döngüde   break kullanılmışsa sadece içteki döngü sona erer. Örneklerle break ifadesini anlamaya çalışalım.  "
   ]
  },
  {
   "cell_type": "code",
   "execution_count": 1,
   "id": "d59dbec7",
   "metadata": {},
   "outputs": [
    {
     "name": "stdout",
     "output_type": "stream",
     "text": [
      "0\n",
      "1\n",
      "2\n",
      "3\n",
      "4\n",
      "5\n",
      "6\n",
      "7\n",
      "8\n",
      "9\n",
      "10\n"
     ]
    }
   ],
   "source": [
    "i = 0\n",
    "while i < 20:\n",
    "    print(i)\n",
    "    if i == 10:\n",
    "        break\n",
    "    i += 1"
   ]
  },
  {
   "cell_type": "code",
   "execution_count": 2,
   "id": "d096f086",
   "metadata": {},
   "outputs": [
    {
     "name": "stdout",
     "output_type": "stream",
     "text": [
      "i: 1\n",
      "i: 2\n",
      "i: 3\n",
      "i: 4\n"
     ]
    }
   ],
   "source": [
    "#For dongusu ile break kullanalim\n",
    "\n",
    "lst = [1, 2, 3, 4, 5, 6, 7, 8, 9, 10]\n",
    "\n",
    "for i in lst:\n",
    "    if i == 5:\n",
    "        break\n",
    "    print(\"i:\", i)  # i:1; i:2; i:3; i:4"
   ]
  },
  {
   "cell_type": "code",
   "execution_count": 3,
   "id": "295671e7",
   "metadata": {},
   "outputs": [
    {
     "name": "stdout",
     "output_type": "stream",
     "text": [
      "Isminizi Giriniz(CikmakIcin 'q' ya basiniz):yusuf\n",
      "Isminiz yusuf\n",
      "Isminizi Giriniz(CikmakIcin 'q' ya basiniz):Yusuf\n",
      "Isminiz Yusuf\n",
      "Isminizi Giriniz(CikmakIcin 'q' ya basiniz):Yusufffff\n",
      "Isminiz Yusufffff\n",
      "Isminizi Giriniz(CikmakIcin 'q' ya basiniz):q\n",
      "Programdan Cikiliyor.\n"
     ]
    }
   ],
   "source": [
    "while True:\n",
    "    isim = input(\"Isminizi Giriniz(CikmakIcin 'q' ya basiniz):\")\n",
    "    if isim == \"q\":\n",
    "        print(\"Programdan Cikiliyor.\")\n",
    "        break\n",
    "    print(\"Isminiz\", isim)  # in;Yusuf out:isminiz Yusuf  , in: Yusuf Erdem out:isminiz Yusuf Erdem\n",
    "    # in:q out: Programdan Cikiliyor..."
   ]
  },
  {
   "cell_type": "markdown",
   "id": "48f4bd8c",
   "metadata": {},
   "source": [
    "### continue ifadesi\n",
    "continue ifadesi  \n",
    " continue ifadesi break'e göre biraz daha az kullanılan bir ifadedir. Anlamı şu şekildedir;  \n",
    "\n",
    "    Döngü herhangi bir yerde ve herhangi bir zamanda continue ifadesiyle karşılaştığı zaman geri kalan işlemlerini  \n",
    "    yapmadan direk bloğunun başına döner.  "
   ]
  },
  {
   "cell_type": "code",
   "execution_count": 5,
   "id": "b2946181",
   "metadata": {},
   "outputs": [
    {
     "name": "stdout",
     "output_type": "stream",
     "text": [
      "[0, 1, 2, 3, 4, 5, 6, 7, 8, 9, 10]\n",
      "i: 0\n",
      "i: 1\n",
      "i: 2\n",
      "i: 4\n",
      "i: 6\n",
      "i: 7\n",
      "i: 8\n",
      "i: 9\n",
      "i: 10\n"
     ]
    }
   ],
   "source": [
    "liste = list(range(11))\n",
    "print(liste)  # [0, 1, 2, 3, 4, 5, 6, 7, 8, 9, 10]\n",
    "for i in liste:\n",
    "    if i == 3 or i == 5:\n",
    "        continue\n",
    "    print(\"i:\", i)  \n",
    "    \n",
    "# i: 3 ve i:5  BASTIRILMADI"
   ]
  },
  {
   "cell_type": "code",
   "execution_count": 7,
   "id": "c7772259",
   "metadata": {},
   "outputs": [
    {
     "name": "stdout",
     "output_type": "stream",
     "text": [
      "i: 0\n",
      "i: 1\n",
      "i: 3\n",
      "i: 4\n",
      "i: 5\n",
      "i: 6\n",
      "i: 7\n",
      "i: 8\n",
      "i: 9\n"
     ]
    }
   ],
   "source": [
    "\"\"\"i=0\n",
    "while i < 10:\n",
    "    if i == 2:\n",
    "        continue\n",
    "    print(i)\n",
    "    i+=1\"\"\"  # bu kodu calistirdigimiz zaman 0 i almaya basliyor 2 de islemleri atlayip tekrar artirma islemini\n",
    "# yapamadigindan sonsuz donguye giriyor o yuzden arttirma islemini continue den once yapmaliyiz.\n",
    "\n",
    "i = 0  # Kodun sorunsuz hali\n",
    "\n",
    "while i < 10:\n",
    "    if i == 2:\n",
    "        i += 1  # Artırma işlemi\n",
    "        continue\n",
    "    print(\"i:\", i)\n",
    "    i += 1"
   ]
  },
  {
   "cell_type": "markdown",
   "id": "8edfb66e",
   "metadata": {},
   "source": [
    "#### List Comprehension ile"
   ]
  },
  {
   "cell_type": "code",
   "execution_count": 9,
   "id": "d8be06fc",
   "metadata": {},
   "outputs": [
    {
     "data": {
      "text/plain": [
       "[1, 2, 3, 4, 5]"
      ]
     },
     "execution_count": 9,
     "metadata": {},
     "output_type": "execute_result"
    }
   ],
   "source": [
    "#` Listelerdeki append metodunu hatırlayalım.\n",
    "liste=[1, 2, 3, 4]\n",
    "liste.append(5)\n",
    "liste"
   ]
  },
  {
   "cell_type": "code",
   "execution_count": 10,
   "id": "dbe75f57",
   "metadata": {},
   "outputs": [
    {
     "name": "stdout",
     "output_type": "stream",
     "text": [
      "[1, 2, 3, 4, 5]\n"
     ]
    }
   ],
   "source": [
    "liste1 = [1, 2, 3, 4, 5]\n",
    "liste2=list() # Bos Liste\n",
    "for i in liste1:\n",
    "    liste2.append(i)  # liste2 'ye liste1 in elemanları for döngüsü yardımıyla atıyoruz\n",
    "print(liste2)"
   ]
  },
  {
   "cell_type": "markdown",
   "id": "a9f31390",
   "metadata": {},
   "source": [
    " Acaba bu kodumuzu list comprehension ile daha kısa yazabilir miyiz ?"
   ]
  },
  {
   "cell_type": "code",
   "execution_count": 12,
   "id": "0fe5b57a",
   "metadata": {},
   "outputs": [
    {
     "name": "stdout",
     "output_type": "stream",
     "text": [
      "[1, 2, 3, 4, 5, 6, 7, 8, 9]\n"
     ]
    }
   ],
   "source": [
    "liste3=[1,2,3,4,5,6,7,8,9]\n",
    "\n",
    "liste4=[i for i in liste3]\n",
    "print(liste4)"
   ]
  },
  {
   "cell_type": "code",
   "execution_count": 14,
   "id": "37277038",
   "metadata": {},
   "outputs": [
    {
     "name": "stdout",
     "output_type": "stream",
     "text": [
      "[6, 8, 10]\n"
     ]
    }
   ],
   "source": [
    "liste =[3,4,5]  # her elemani 2 ile carpip yeni bir liste olusturmak istiyorum.\n",
    "liste1=[i*2 for i in liste]\n",
    "print(liste1)"
   ]
  },
  {
   "cell_type": "code",
   "execution_count": 15,
   "id": "76f53264",
   "metadata": {},
   "outputs": [
    {
     "name": "stdout",
     "output_type": "stream",
     "text": [
      "[2, 12, 30]\n"
     ]
    }
   ],
   "source": [
    "liste=[(1,2),(3,4),(5,6)]\n",
    "\n",
    "liste1=[i*j for i,j in liste]\n",
    "print(liste1)"
   ]
  },
  {
   "cell_type": "code",
   "execution_count": 17,
   "id": "e71ddc3a",
   "metadata": {},
   "outputs": [
    {
     "name": "stdout",
     "output_type": "stream",
     "text": [
      "['p', 'y', 't', 'h', 'o', 'n']\n"
     ]
    }
   ],
   "source": [
    "s=\"python\"\n",
    "liste1=[i for i in s]\n",
    "print(liste1)"
   ]
  },
  {
   "cell_type": "code",
   "execution_count": 18,
   "id": "8f49b82f",
   "metadata": {},
   "outputs": [
    {
     "name": "stdout",
     "output_type": "stream",
     "text": [
      "['YYY', 'uuu', 'sss', 'uuu', 'fff']\n"
     ]
    }
   ],
   "source": [
    "lst=[]\n",
    "a=\"Yusuf\"\n",
    "for i in a:\n",
    "    lst.append(i*3)\n",
    "print(lst)"
   ]
  },
  {
   "cell_type": "code",
   "execution_count": 20,
   "id": "aff7a763",
   "metadata": {},
   "outputs": [
    {
     "name": "stdout",
     "output_type": "stream",
     "text": [
      "['YYY', 'uuu', 'sss', 'uuu', 'fff']\n"
     ]
    }
   ],
   "source": [
    "# ----------- soylede yapabiliriz.\n",
    "\n",
    "liste42=list()\n",
    "isim=\"Yusuf\"\n",
    "liste42=[i*3 for i in isim]\n",
    "print(liste42)"
   ]
  },
  {
   "cell_type": "code",
   "execution_count": 23,
   "id": "0102290b",
   "metadata": {},
   "outputs": [
    {
     "name": "stdout",
     "output_type": "stream",
     "text": [
      "[[1, 2, 3], [4, 5, 6, 7, 8], [9, 10, 11, 12, 13, 14, 15]]\n"
     ]
    }
   ],
   "source": [
    "liste = [[1,2,3],[4,5,6,7,8],[9,10,11,12,13,14,15]]\n",
    "yeni_liste=[]\n",
    "for i in liste:\n",
    "    yeni_liste.append(i)\n",
    "print(yeni_liste)"
   ]
  },
  {
   "cell_type": "code",
   "execution_count": 27,
   "id": "1e01f7db",
   "metadata": {},
   "outputs": [
    {
     "name": "stdout",
     "output_type": "stream",
     "text": [
      "x: 1\n",
      "x: 2\n",
      "x: 3\n",
      "x: 4\n",
      "x: 5\n",
      "x: 6\n",
      "x: 7\n",
      "x: 8\n",
      "x: 9\n",
      "x: 10\n",
      "x: 11\n",
      "x: 12\n",
      "x: 13\n",
      "x: 14\n",
      "x: 15\n",
      "[1, 2, 3, 4, 5, 6, 7, 8, 9, 10, 11, 12, 13, 14, 15]\n"
     ]
    }
   ],
   "source": [
    "liste = [[1,2,3],[4,5,6,7,8],[9,10,11,12,13,14,15]]\n",
    "liste2 = list()\n",
    "for i in liste:\n",
    "    for x in i:\n",
    "        print(\"x:\",x)\n",
    "        liste2.append(x)\n",
    "print(liste2)"
   ]
  },
  {
   "cell_type": "code",
   "execution_count": 28,
   "id": "35940017",
   "metadata": {},
   "outputs": [
    {
     "name": "stdout",
     "output_type": "stream",
     "text": [
      "[1, 2, 3, 4, 5, 6, 7, 8, 9, 10, 11, 12, 13, 14, 15]\n"
     ]
    }
   ],
   "source": [
    "# List Comprehention ile:\n",
    "liste = [[1,2,3],[4,5,6,7,8],[9,10,11,12,13,14,15]]\n",
    "liste2=[x for i in liste for x in i]\n",
    "print(liste2)  # [1, 2, 3, 4, 5, 6, 7, 8, 9, 10, 11, 12, 13, 14, 15]\n",
    "\n"
   ]
  },
  {
   "cell_type": "code",
   "execution_count": 64,
   "id": "63c6920a",
   "metadata": {},
   "outputs": [
    {
     "name": "stdout",
     "output_type": "stream",
     "text": [
      "[25, 36, 62, 28, 38, 64, 30, 40, 67, 1, 27, 56, 1, 25, 55, 2, 21, 51]\n"
     ]
    }
   ],
   "source": [
    "m=[[[ 25, 36, 62],[ 28, 38, 64],[ 30, 40, 67]],[[ 1, 27, 56],[ 1, 25, 55],[ 2, 21, 51]]]\n",
    "n=[]\n",
    "for i in m:\n",
    "    for z in i:\n",
    "        for f in z:\n",
    "            n.append(f)\n",
    "print(n)\n",
    "    "
   ]
  },
  {
   "cell_type": "code",
   "execution_count": null,
   "id": "52adcda0",
   "metadata": {},
   "outputs": [],
   "source": []
  }
 ],
 "metadata": {
  "kernelspec": {
   "display_name": "Python 3",
   "language": "python",
   "name": "python3"
  },
  "language_info": {
   "codemirror_mode": {
    "name": "ipython",
    "version": 3
   },
   "file_extension": ".py",
   "mimetype": "text/x-python",
   "name": "python",
   "nbconvert_exporter": "python",
   "pygments_lexer": "ipython3",
   "version": "3.9.3"
  },
  "toc": {
   "base_numbering": 1,
   "nav_menu": {},
   "number_sections": false,
   "sideBar": false,
   "skip_h1_title": false,
   "title_cell": "Table of Contents",
   "title_sidebar": "Contents",
   "toc_cell": true,
   "toc_position": {},
   "toc_section_display": true,
   "toc_window_display": false
  }
 },
 "nbformat": 4,
 "nbformat_minor": 5
}
