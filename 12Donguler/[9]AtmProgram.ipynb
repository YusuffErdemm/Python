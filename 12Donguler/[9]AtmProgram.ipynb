{
 "cells": [
  {
   "cell_type": "code",
   "execution_count": null,
   "id": "7b254a34",
   "metadata": {},
   "outputs": [
    {
     "name": "stdout",
     "output_type": "stream",
     "text": [
      "\n",
      "****************************\n",
      "Welcome to ATM Program!\n",
      "Operation;\n",
      "\n",
      "1.Balance inquiry\n",
      "\n",
      "2.Pay Into\n",
      "\n",
      "3.Withdraw Money\n",
      "\n",
      "Press 'q' to exit the program.\n",
      "****************************\n",
      "\n",
      "Select Action:1\n",
      "Your Balance Is 1000.\n",
      "Select Action:2\n",
      "enter quantity:200\n",
      "Select Action:1\n",
      "Your Balance Is 1200.\n",
      "Select Action:3\n",
      "Plase enter quantity:30000\n",
      "Your balance is insufficient. Please enter a value in the range 0-1200.\n"
     ]
    }
   ],
   "source": [
    "print(\"\"\"\n",
    "****************************\n",
    "Welcome to ATM Program!\n",
    "Operation;\n",
    "\n",
    "1.Balance inquiry\n",
    "\n",
    "2.Pay Into\n",
    "\n",
    "3.Withdraw Money\n",
    "\n",
    "Press 'q' to exit the program.\n",
    "****************************\n",
    "\"\"\")\n",
    "\n",
    "balance=1000\n",
    "\n",
    "while True:\n",
    "    operation = input(\"Select Action:\")\n",
    "    if operation == \"q\":\n",
    "        print(\"We hope you come again.\")\n",
    "        break\n",
    "    elif operation == \"1\":\n",
    "        print(\"Your Balance Is {}.\".format(balance))\n",
    "\n",
    "    elif operation == \"2\":\n",
    "        payinto=int(input(\"enter quantity:\"))\n",
    "        balance+=payinto\n",
    "    elif operation == \"3\":\n",
    "        Withdraw=int(input(\"Plase enter quantity:\"))\n",
    "        if balance - Withdraw < 0:\n",
    "            print(\"Your balance is insufficient. Please enter a value in the range 0-{}.\".format(balance))\n",
    "            continue  # Bunu silsemde de islemi yapip en basa dondu.\n",
    "        else:\n",
    "            balance = balance - Withdraw\n",
    "\n",
    "\n",
    "    else:\n",
    "        print(\"Invalid Action.\")"
   ]
  },
  {
   "cell_type": "code",
   "execution_count": null,
   "id": "a9ee3b3a",
   "metadata": {},
   "outputs": [],
   "source": []
  }
 ],
 "metadata": {
  "kernelspec": {
   "display_name": "Python 3",
   "language": "python",
   "name": "python3"
  },
  "language_info": {
   "codemirror_mode": {
    "name": "ipython",
    "version": 3
   },
   "file_extension": ".py",
   "mimetype": "text/x-python",
   "name": "python",
   "nbconvert_exporter": "python",
   "pygments_lexer": "ipython3",
   "version": "3.9.3"
  },
  "toc": {
   "base_numbering": 1,
   "nav_menu": {},
   "number_sections": false,
   "sideBar": false,
   "skip_h1_title": false,
   "title_cell": "Table of Contents",
   "title_sidebar": "Contents",
   "toc_cell": false,
   "toc_position": {},
   "toc_section_display": true,
   "toc_window_display": false
  }
 },
 "nbformat": 4,
 "nbformat_minor": 5
}
