{
 "cells": [
  {
   "cell_type": "markdown",
   "id": "ecd533ec",
   "metadata": {
    "toc": true
   },
   "source": [
    "<h1>Table of Contents<span class=\"tocSkip\"></span></h1>\n",
    "<div class=\"toc\"><ul class=\"toc-item\"><li><span><a href=\"#Methods\" data-toc-modified-id=\"Methods-1\">Methods</a></span></li><li><span><a href=\"#Fonksiyonların-Tanımlanması\" data-toc-modified-id=\"Fonksiyonların-Tanımlanması-2\">Fonksiyonların Tanımlanması</a></span><ul class=\"toc-item\"><li><span><a href=\"#Parametreler-ve-Argümanlar\" data-toc-modified-id=\"Parametreler-ve-Argümanlar-2.1\">Parametreler ve Argümanlar</a></span></li></ul></li><li><span><a href=\"#Fonksiyonlarda-Return\" data-toc-modified-id=\"Fonksiyonlarda-Return-3\">Fonksiyonlarda Return</a></span><ul class=\"toc-item\"><li><span><a href=\"#Parametrelerin-Varsayilan-Degerleri\" data-toc-modified-id=\"Parametrelerin-Varsayilan-Degerleri-3.1\">Parametrelerin Varsayilan Degerleri</a></span></li><li><span><a href=\"#Esnek-Sayida-Degerler\" data-toc-modified-id=\"Esnek-Sayida-Degerler-3.2\">Esnek Sayida Degerler</a></span><ul class=\"toc-item\"><li><span><a href=\"#*`li-Parametreler\" data-toc-modified-id=\"*`li-Parametreler-3.2.1\">*`li Parametreler</a></span></li></ul></li><li><span><a href=\"#Global-Ve-Local-Degiskenler\" data-toc-modified-id=\"Global-Ve-Local-Degiskenler-3.3\">Global Ve Local Degiskenler</a></span></li><li><span><a href=\"#Lambda-Ifadeleri-(-EXPRESSTION-)\" data-toc-modified-id=\"Lambda-Ifadeleri-(-EXPRESSTION-)-3.4\">Lambda Ifadeleri ( EXPRESSTION )</a></span></li></ul></li></ul></div>"
   ]
  },
  {
   "cell_type": "markdown",
   "id": "2770c6a6",
   "metadata": {},
   "source": [
    "## Methods\n",
    "Metodlar bir obje üzerinde belli işlemleri gerçekleştiren objelere özgü fonksiyonlardır ve  \n",
    "objelerin üzerinde metodlar şu şekilde kullanılır"
   ]
  },
  {
   "cell_type": "code",
   "execution_count": 5,
   "id": "06ad4c75",
   "metadata": {},
   "outputs": [
    {
     "name": "stdout",
     "output_type": "stream",
     "text": [
      "[1, 'Yusuf', 2, 3, 4, 5]\n",
      "[1, 'Yusuf', 2, 3, 4]\n",
      "[1, 'Yusuf', 2, 3, 4, 'Python']\n"
     ]
    }
   ],
   "source": [
    "liste = [1, 2, 3, 4, 5]\n",
    "liste.insert(1, 'Yusuf')\n",
    "print(liste)\n",
    "\n",
    "liste.pop()\n",
    "print(liste) # Son elemani Cikarttik\n",
    "\n",
    "liste.append(\"Python\")\n",
    "print(liste)"
   ]
  },
  {
   "cell_type": "markdown",
   "id": "29f67087",
   "metadata": {},
   "source": [
    "**fonksiyonlar programlamada belli işlevleri olan ve tekrar tekrar kullandığımız yapılardır. Örneğin kursumuzun  \n",
    "başlarından beri kullandığımız print() fonksiyonunun görevi içine gönderdiğimiz değerleri ekrana yazdırdırmaktır.**\n",
    "\n",
    "**Bu fonksiyon Python geliştiricileri tarafından bir defa yazılmış ve biz de bu fonksiyonu programlarımızın değişik  \n",
    "yerlerinde tekrar tekrar kullanıyoruz. İşte fonksiyonların kullanım amacı tam olarak budur. Fonksiyonlar bir defa  \n",
    "tanımlanır ve programlarda ihtiyacımız olduğu zaman kullanırız. Ayrıca fonksiyonlar kod tekrarını engeller ve kodlarımız  \n",
    "daha derli toplu durur.**  \n",
    "\n",
    "**İsterseniz şimdi de fonksiyonların ne olduğunu gerçek hayattan benzetme yaparak anlamaya çalışalım.  \n",
    "Örneğin evimize bir adet katı meyve sıkacağı alıyoruz ve canımız ne zaman meyve suyu isterse bu aleti kullanıyoruz.  \n",
    "Yani aslında bu aletin görevi ve fonksiyonu meyve suyu hazırlamaktır.**  \n",
    "\n",
    "**Python geliştiricilerin yazdığı fonksiyonlara yani bizim hazır kullandığımız fonksiyonlara(print(),type() vs.) gömülü  \n",
    "fonksiyonlar(built-in function) denilmektedir.Ancak bunlardan hariç olarak biz kendi özel fonksiyonlarımızı  \n",
    "(user-defined functions) da tanımlayabiliriz.**  "
   ]
  },
  {
   "cell_type": "markdown",
   "id": "98e15767",
   "metadata": {},
   "source": [
    "## Fonksiyonların Tanımlanması"
   ]
  },
  {
   "cell_type": "markdown",
   "id": "7781a06e",
   "metadata": {},
   "source": [
    "\n",
    " Fonksiyon tanımlamanın yapısı şu şekildedir;\n",
    "\n",
    " >def fonksiyon_adı(parametre1,parametre2..... (opsiyonel)):  \n",
    "  >>     Fonksiyon bloğu  \n",
    "  >>     Yapılacak işlemler  \n",
    "  >>     dönüş değeri - Opsiyonel  "
   ]
  },
  {
   "cell_type": "code",
   "execution_count": 9,
   "id": "eacc9a6b",
   "metadata": {},
   "outputs": [
    {
     "name": "stdout",
     "output_type": "stream",
     "text": [
      "<class 'function'>\n",
      "Selamin Aleykum\n",
      "Naber?\n"
     ]
    }
   ],
   "source": [
    "#` Bir selamlama Fonksiyonu tanimlayalim\n",
    "\n",
    "def selamla():\n",
    "    print(\"Selamin Aleykum\")\n",
    "    print(\"Naber?\")\n",
    "print(type(selamla))\n",
    "selamla()"
   ]
  },
  {
   "cell_type": "markdown",
   "id": "91ca5348",
   "metadata": {},
   "source": [
    "### Parametreler ve Argümanlar"
   ]
  },
  {
   "cell_type": "markdown",
   "id": "98cc9c2e",
   "metadata": {},
   "source": [
    "Biliyorsunuz biz selamla fonksiyonunun içine herhangi bir değer göndermiyorduk ve fonksiyonumuz hep aynı işi  \n",
    "yapıyordu. Ancak çoğu zaman fonksiyonlarımız içine gönderdiğimiz değerlerle farklı işlemler yaparlar.  \n",
    "\n",
    "Örneğin katı meyve sıkacağına eğer \"Elma\" verirsek elma suyu, \"Nar\" verirsek nar suyu hazırlayacaktır. Fonksiyonlarda da  \n",
    "Parametreleri bu şekilde düşünebilirsiniz.  \n",
    "\n",
    "İsterseniz şimdi selamlama fonksiyonumuzu bir tane parametre alacak şekilde tanımlayalım  "
   ]
  },
  {
   "cell_type": "code",
   "execution_count": 10,
   "id": "dfae1a28",
   "metadata": {},
   "outputs": [
    {
     "name": "stdout",
     "output_type": "stream",
     "text": [
      "Merhaba, Yusuf\n"
     ]
    }
   ],
   "source": [
    "def selamla(isim):\n",
    "    print(\"Merhaba,\",isim)\n",
    "\n",
    "selamla(\"Yusuf\")  #Merhaba, Yusuf"
   ]
  },
  {
   "cell_type": "markdown",
   "id": "08d02476",
   "metadata": {},
   "source": [
    "Bizim fonksiyon tanımlarken tanımladığımız herbir değişken birer Parametre , fonksiyon çağrısı yaptığımız zaman içine  \n",
    "gönderdiğimiz değerler ise Argüman olmaktadır. Burada fonksiyonu çağırırken gönderdiğimiz \"Kemal\" değeri \"isim\" isimli  \n",
    "parametreye eşit oluyor ve fonksiyonumuz bu değere göre işlem yapıyor. \"Ayşe\" değerini gönderdiğimizde ise fonksiyonumuz  \n",
    "bu değere göre işlem yaparak ekrana farklı bir değer yazdırıyor.  \n",
    "\n",
    "---\n",
    "Şimdi isterseniz farklı bir fonksiyon tanımlayalım ve 3 tane parametre alsın.  "
   ]
  },
  {
   "cell_type": "code",
   "execution_count": 11,
   "id": "beaba9c7",
   "metadata": {},
   "outputs": [
    {
     "name": "stdout",
     "output_type": "stream",
     "text": [
      "toplamlari: 9\n"
     ]
    }
   ],
   "source": [
    "# Toplama Fonksiyonu\n",
    "\n",
    "def toplama(a,b,c):\n",
    "    print(\"toplamlari:\",a+b+c)\n",
    "\n",
    "toplama(2,3,4)\n",
    "\n"
   ]
  },
  {
   "cell_type": "code",
   "execution_count": 12,
   "id": "ab54203d",
   "metadata": {},
   "outputs": [],
   "source": [
    "# Faktoriyel Hesaplama Fonksiyonu\n",
    "\n",
    "def faktoriyel(sayi):\n",
    "    faktoriyel=1\n",
    "    if sayi == 1 or sayi == 0:\n",
    "        print(\"esittir:\",faktoriyel)\n",
    "    else:\n",
    "        while sayi>=1:\n",
    "            faktoriyel*=sayi\n",
    "            sayi-=1\n",
    "        print(\"Faktoriyel = {}.\".format(faktoriyel))"
   ]
  },
  {
   "cell_type": "code",
   "execution_count": 14,
   "id": "9b192e32",
   "metadata": {},
   "outputs": [
    {
     "name": "stdout",
     "output_type": "stream",
     "text": [
      "Faktoriyel = 24.\n"
     ]
    }
   ],
   "source": [
    "faktoriyel(4)"
   ]
  },
  {
   "cell_type": "markdown",
   "id": "a592612a",
   "metadata": {},
   "source": [
    "## Fonksiyonlarda Return\n",
    "Önceki bölümde yazdığımız fonksiyonları hatırlayacak olursak, bu fonksiyonlar sadece ekrana print ile değer  \n",
    "yazdırıyordu. Ancak bu fonksiyonlar yaptıklar işlemler bize herhangi bir değer vermiyorlardı. Ancak biz programlarımızda  \n",
    "bir fonksiyon sonucunda elde edilen değerleri alıp programlarımızın bambaşka yerlerinde kullanmak isteyebiliriz.  \n",
    "\n",
    " return ifadesi fonksiyonun işlemi bittikten sonra çağrıldığı yere değer döndürmesi anlamı taşır.  \n",
    " Böylelikle, fonksiyonda aldığımız değeri bir değişkende depolayabilir ve değeri programın başka yerlerinde  \n",
    " kullanabiliriz.  \n",
    " \n",
    " Şimdi iki tane çok basit fonksiyon yazalım ve return neden gereklidir anlamaya çalışalım."
   ]
  },
  {
   "cell_type": "code",
   "execution_count": 15,
   "id": "5bf0e07b",
   "metadata": {},
   "outputs": [
    {
     "name": "stdout",
     "output_type": "stream",
     "text": [
      "18\n"
     ]
    }
   ],
   "source": [
    "def toplama(a,b,c):\n",
    "    return a+b+c\n",
    "def ikiylecarp(a):\n",
    "    return a*2\n",
    "toplam=toplama(2,3,4)\n",
    "print(ikiylecarp(toplam))"
   ]
  },
  {
   "cell_type": "code",
   "execution_count": 17,
   "id": "6fd64911",
   "metadata": {},
   "outputs": [
    {
     "name": "stdout",
     "output_type": "stream",
     "text": [
      "1. Fonksiyon Calisti.\n",
      "2. Fonksiyon Calisti.\n",
      "3. Fonksiyon Calisti.\n",
      "2.0\n"
     ]
    }
   ],
   "source": [
    "def kareal(a):\n",
    "    print(\"1. Fonksiyon Calisti.\")\n",
    "    return a**2\n",
    "def ikiylecarp(a):\n",
    "    print(\"2. Fonksiyon Calisti.\")\n",
    "    return a*2\n",
    "def dordebol(a):\n",
    "    print(\"3. Fonksiyon Calisti.\")\n",
    "    return a/4\n",
    "\n",
    "#~ Ucunu birlikte Calistiralim\n",
    "\n",
    "print(dordebol(ikiylecarp(kareal(2)))) # fogoh(o) mantigi "
   ]
  },
  {
   "cell_type": "markdown",
   "id": "76468a6f",
   "metadata": {},
   "source": [
    "return ifadesinden sonra fonksiyonumuz tamamıyla sona erer. Yani, return ifadesinden sonra yapılan herhangi  \n",
    "bir işlem çalıştırılmaz.  \n",
    "\n",
    "### Parametrelerin Varsayilan Degerleri"
   ]
  },
  {
   "cell_type": "code",
   "execution_count": 19,
   "id": "97605e7d",
   "metadata": {},
   "outputs": [
    {
     "name": "stdout",
     "output_type": "stream",
     "text": [
      "Merhaba Yusuf\n"
     ]
    }
   ],
   "source": [
    "def selamla(isim):\n",
    "    print(\"Merhaba\",isim)\n",
    "\n",
    "selamla(\"Yusuf\")"
   ]
  },
  {
   "cell_type": "code",
   "execution_count": 20,
   "id": "b20b2971",
   "metadata": {},
   "outputs": [
    {
     "name": "stdout",
     "output_type": "stream",
     "text": [
      "Merhaba Isimsiz\n",
      "Merhaba Yusuf\n"
     ]
    }
   ],
   "source": [
    "#` bunu varsayılan değerler ile yapabiliriz. Varsayılan değerleri anlamak için selamla fonksiyonunu ,\n",
    "#` varsayılan parametre değeri ile yazalım.\n",
    "\n",
    "def selamla(isim=\"Isimsiz\"):\n",
    "    print(\"Merhaba\",isim)\n",
    "selamla() \n",
    "selamla(\"Yusuf\")\n",
    "\n"
   ]
  },
  {
   "cell_type": "code",
   "execution_count": 21,
   "id": "dc5f8d22",
   "metadata": {},
   "outputs": [],
   "source": [
    "# Peki birçok parametreye sahip olursak ne olacak ?\n",
    "def ogrenci_bilgileri(ad=\"Bilgi yok\",soyad=\"Bilgi Yok\",numara=\"Bilgi Yok\"):\n",
    "    print(\"Ad:\",ad,\"soyad:\",soyad,\"Numara\",numara)"
   ]
  },
  {
   "cell_type": "code",
   "execution_count": 22,
   "id": "6286f9bf",
   "metadata": {},
   "outputs": [
    {
     "name": "stdout",
     "output_type": "stream",
     "text": [
      "Ad: Bilgi yok soyad: Bilgi Yok Numara Bilgi Yok\n"
     ]
    }
   ],
   "source": [
    "ogrenci_bilgileri()"
   ]
  },
  {
   "cell_type": "code",
   "execution_count": 23,
   "id": "bafd7b7f",
   "metadata": {},
   "outputs": [
    {
     "name": "stdout",
     "output_type": "stream",
     "text": [
      "Ad: yusuf soyad: erdem Numara Bilgi Yok\n"
     ]
    }
   ],
   "source": [
    "ogrenci_bilgileri(\"yusuf\",\"erdem\")"
   ]
  },
  {
   "cell_type": "code",
   "execution_count": 24,
   "id": "b00f7015",
   "metadata": {},
   "outputs": [
    {
     "name": "stdout",
     "output_type": "stream",
     "text": [
      "Ad: Bilgi yok soyad: Bilgi Yok Numara 5539665664\n"
     ]
    }
   ],
   "source": [
    "ogrenci_bilgileri(numara=\"5539665664\")"
   ]
  },
  {
   "cell_type": "markdown",
   "id": "91929346",
   "metadata": {},
   "source": [
    "### Esnek Sayida Degerler\n",
    "Simdilik Fonksiyon yazildiginda ozel olarak kac tane parametresi olacagini onceden belirtmemiz gerekiyor  \n",
    "Ornegin:  \n",
    " >def toplama(a,b,c):  \n",
    "  >>   print(a,b,c)  \n",
    "\n",
    " toplama(2,3,4,5) # 4 deger giremeyiz  \n"
   ]
  },
  {
   "cell_type": "markdown",
   "id": "d0aa2402",
   "metadata": {},
   "source": [
    "- Peki ben bir fonksiyonu esnek sayıda argümanla kullanmak istersem ne yapacağım ? Bunun için de Yıldızlı Parametre\n",
    "kullanmam gerekiyor. Kullanımı şu şekildedir;\n",
    "#### *`li Parametreler"
   ]
  },
  {
   "cell_type": "code",
   "execution_count": 30,
   "id": "f691cf33",
   "metadata": {},
   "outputs": [
    {
     "name": "stdout",
     "output_type": "stream",
     "text": [
      "(2, 3, 4, 5, 6, 7)\n"
     ]
    }
   ],
   "source": [
    "def toplama(*parametreler):\n",
    "    print(parametreler)\n",
    "\n",
    "toplama(2,3,4,5,6,7)\n",
    "# bana tuple olarak dondurdu. o Zaman bunlari for donguleri ile toplayabiliriz"
   ]
  },
  {
   "cell_type": "code",
   "execution_count": 27,
   "id": "1091d830",
   "metadata": {},
   "outputs": [
    {
     "name": "stdout",
     "output_type": "stream",
     "text": [
      "35\n"
     ]
    }
   ],
   "source": [
    "def toplama(*parametreler):\n",
    "    toplam=0\n",
    "    for i in parametreler:\n",
    "        toplam+=i\n",
    "    print(toplam)\n",
    "toplama(2,3,4,5,6,7,8)"
   ]
  },
  {
   "cell_type": "markdown",
   "id": "ba55167f",
   "metadata": {},
   "source": [
    "print fonksiyonunu tekrar hatırlayacak olursak aslında print fonksiyonu bu şekilde tanımlanmış bir fonksiyondur.  \n",
    "Çünkü biz print fonksiyonuna istediğimiz sayıda argüman gönderebiliyorduk."
   ]
  },
  {
   "cell_type": "markdown",
   "id": "68228911",
   "metadata": {},
   "source": [
    "### Global Ve Local Degiskenler"
   ]
  },
  {
   "cell_type": "markdown",
   "id": "2a5123c8",
   "metadata": {},
   "source": [
    "Pythonda fonksiyonlarda tanımlanan değişkenler Python tarafından Yerel (Local) değişkenler olarak tanımlanırlar.Yani  \n",
    "bir fonksiyon bloğunda oluşturulan değişkenler fonksiyona özgüdür ve fonksiyon çalışmasını bitirdikten sonra bu değişken  \n",
    "ler bellekten silinir ve yok olur. Böylelikle , fonksiyon içinde tanımlanmış bir değişkene başka bir yerden erişilemez.  \n",
    "\n",
    "Pythonda en genel kapsama sahip değişkenler ise Global değişkenler olarak tanımlanırlar ve global değişkenlere  \n",
    "tanımlandığı andan itibaren programın her yerinden ulaşabiliriz.  \n",
    "\n",
    "Yerel değişkenleri anlamak için bir tane fonksiyon tanımlayalım.    "
   ]
  },
  {
   "cell_type": "code",
   "execution_count": 32,
   "id": "9710664e",
   "metadata": {},
   "outputs": [
    {
     "name": "stdout",
     "output_type": "stream",
     "text": [
      "10\n"
     ]
    }
   ],
   "source": [
    "def fonsiyon():\n",
    "    a=10\n",
    "    print(a)\n",
    "\n",
    "fonsiyon()"
   ]
  },
  {
   "cell_type": "code",
   "execution_count": 34,
   "id": "2758ceba",
   "metadata": {},
   "outputs": [
    {
     "ename": "NameError",
     "evalue": "name 'a' is not defined",
     "output_type": "error",
     "traceback": [
      "\u001b[0;31m---------------------------------------------------------------------------\u001b[0m",
      "\u001b[0;31mNameError\u001b[0m                                 Traceback (most recent call last)",
      "\u001b[0;32m<ipython-input-34-913a9f77c046>\u001b[0m in \u001b[0;36m<module>\u001b[0;34m\u001b[0m\n\u001b[0;32m----> 1\u001b[0;31m \u001b[0mprint\u001b[0m\u001b[0;34m(\u001b[0m\u001b[0ma\u001b[0m\u001b[0;34m)\u001b[0m\u001b[0;34m\u001b[0m\u001b[0;34m\u001b[0m\u001b[0m\n\u001b[0m\u001b[1;32m      2\u001b[0m \u001b[0;34m\u001b[0m\u001b[0m\n\u001b[1;32m      3\u001b[0m \u001b[0;31m# a Yok olmus oldu olusturuldu ve kayboldu\u001b[0m\u001b[0;34m\u001b[0m\u001b[0;34m\u001b[0m\u001b[0;34m\u001b[0m\u001b[0m\n\u001b[1;32m      4\u001b[0m \u001b[0;31m# yani, a değişkeni burada bir yerel değişkendir.\u001b[0m\u001b[0;34m\u001b[0m\u001b[0;34m\u001b[0m\u001b[0;34m\u001b[0m\u001b[0m\n",
      "\u001b[0;31mNameError\u001b[0m: name 'a' is not defined"
     ]
    }
   ],
   "source": [
    "print(a) \n",
    "\n",
    "# a Yok olmus oldu olusturuldu ve kayboldu\n",
    "# yani, a değişkeni burada bir yerel değişkendir."
   ]
  },
  {
   "cell_type": "code",
   "execution_count": 35,
   "id": "f1a97060",
   "metadata": {},
   "outputs": [
    {
     "name": "stdout",
     "output_type": "stream",
     "text": [
      "5\n",
      "5\n"
     ]
    }
   ],
   "source": [
    "#`  Peki Global Degiskenler?\n",
    "\n",
    "a=5\n",
    "def fonsiyon():\n",
    "    print(a)\n",
    "\n",
    "fonsiyon() # 5\n",
    "print(a)"
   ]
  },
  {
   "cell_type": "code",
   "execution_count": 36,
   "id": "a6829225",
   "metadata": {},
   "outputs": [],
   "source": [
    "c = 10 #~ Globalde tanımlanmış bir değişken\n",
    "def fonksiyon():\n",
    "    c = 2 #~ Yerelde tanımlanmış bir değişken\n",
    "    print(c)"
   ]
  },
  {
   "cell_type": "code",
   "execution_count": 37,
   "id": "fe2a22c2",
   "metadata": {},
   "outputs": [
    {
     "name": "stdout",
     "output_type": "stream",
     "text": [
      "2\n"
     ]
    }
   ],
   "source": [
    "fonksiyon()"
   ]
  },
  {
   "cell_type": "code",
   "execution_count": 39,
   "id": "040499a5",
   "metadata": {},
   "outputs": [
    {
     "name": "stdout",
     "output_type": "stream",
     "text": [
      "10\n"
     ]
    },
    {
     "data": {
      "text/plain": [
       "'Kodumuz çalıştığında ilk olarak c isimli global değişken oluşuyor. fonksiyon çağrıldığında ise c isimli başka bir\\nyerel değişken oluşuyor gibi düşünebilirsiniz. Böyle bir durumda elimizden iki tane c değişkeni var. Python bu durumda\\nglobal c değişkeni yerine kendi yerel c değişkenini kullanıyor.'"
      ]
     },
     "execution_count": 39,
     "metadata": {},
     "output_type": "execute_result"
    }
   ],
   "source": [
    "print(c) \n",
    "\n",
    "\"\"\"Kodumuz çalıştığında ilk olarak c isimli global değişken oluşuyor. fonksiyon çağrıldığında ise c isimli başka bir\n",
    "yerel değişken oluşuyor gibi düşünebilirsiniz. Böyle bir durumda elimizden iki tane c değişkeni var. Python bu durumda\n",
    "global c değişkeni yerine kendi yerel c değişkenini kullanıyor.\"\"\""
   ]
  },
  {
   "cell_type": "code",
   "execution_count": 40,
   "id": "de050853",
   "metadata": {},
   "outputs": [],
   "source": [
    "#~ Peki globaldakini nasil kullaniriz?"
   ]
  },
  {
   "cell_type": "code",
   "execution_count": 41,
   "id": "1043818e",
   "metadata": {},
   "outputs": [
    {
     "name": "stdout",
     "output_type": "stream",
     "text": [
      "4\n",
      "4\n"
     ]
    }
   ],
   "source": [
    "d = 10\n",
    "\n",
    "\n",
    "def fonksiyon():\n",
    "    global d\n",
    "\n",
    "    d = 4\n",
    "    print(d)\n",
    "\n",
    "fonksiyon()\n",
    "print(d)  "
   ]
  },
  {
   "cell_type": "code",
   "execution_count": 42,
   "id": "30fc7bfc",
   "metadata": {},
   "outputs": [
    {
     "name": "stdout",
     "output_type": "stream",
     "text": [
      "10\n",
      "10\n",
      "10\n",
      "10\n"
     ]
    }
   ],
   "source": [
    "#` Peki bir if veya while bloğunda yerel bir değişken tanımlanır mı hemen bakalım.\n",
    "\n",
    "if True:\n",
    "    t=10\n",
    "    print(t) # 10\n",
    "\n",
    "print(t)  # 10 Globade tanimladi\n",
    "\n",
    "while True:\n",
    "    deger=10\n",
    "    print(deger)\n",
    "    break    # 10\n",
    "\n",
    "print(deger)  #~ 10 Burada gördüğümüz gibi, if ve while bloklarında tanımlanan değişkenler yerel bir değişken yerine\n",
    "#~ global bir değişken olmaktadır."
   ]
  },
  {
   "cell_type": "markdown",
   "id": "89b45f49",
   "metadata": {},
   "source": [
    "### Lambda Ifadeleri ( EXPRESSTION )"
   ]
  },
  {
   "cell_type": "code",
   "execution_count": 44,
   "id": "c3fc5125",
   "metadata": {},
   "outputs": [
    {
     "name": "stdout",
     "output_type": "stream",
     "text": [
      "[2, 4, 6, 8, 10]\n",
      "[4, 6, 8, 10, 12]\n",
      "4\n",
      "6\n",
      "6\n",
      "6\n",
      "iliD amalmargorP nohtyP\n",
      "medrE fusuY\n",
      "nohtyP\n",
      "False\n",
      "True\n",
      "False\n"
     ]
    }
   ],
   "source": [
    "\"\"\" lambda ifadeleri fonksiyonlarımızı oluşturmak için Pythonda bulunan pratik bir yöntemdir ve gerektiği yerlerde bu\n",
    " ifadeleri kullanabiliriz. Biliyorsunuz listelerimizi oluşturmak için List Comprehension yöntemini kullanabiliyorduk.\n",
    " List Comprehension yöntemini hatırlayalım.\"\"\"\n",
    "\n",
    "liste1=[1,2,3,4,5]\n",
    "liste2=[]\n",
    "for i in liste1:\n",
    "    liste2.append(i*2)\n",
    "print(liste2) # [2,4,6,8,10]\n",
    "\n",
    "# List Comprehension ile...\n",
    "\n",
    "liste3=[2,3,4,5,6]\n",
    "liste4=[i * 2 for i in liste3]\n",
    "print(liste4)\n",
    "\n",
    "\"\"\"~ Aynı buradaki gibi bir fonksiyonu da tek satır halinde lambda ifadeleriyle oluşturabiliriz.\n",
    "` İlk önce yapısına bakalım sonra örneklerimize geçelim.\n",
    "\n",
    "`                etiket = lambda parametre1,parametre2.... :  İşlem\"\"\"\n",
    "\n",
    "def ikiylecarp(x):\n",
    "    return x*2\n",
    "print(ikiylecarp(2)) # 4\n",
    "\n",
    "#! Lambda Ile?\n",
    "\n",
    "ikiylecarp1= lambda x :x*2 # # x parametre x* 2 return ifadesi ve ikiyleçarp değeri de bir etikettir(değişken gibi)\n",
    "print(ikiylecarp1(3)) # 6\n",
    "\n",
    "#~ ------------------------------------------------------------------------------------------------------------------\n",
    "\n",
    "def toplama(a,b,c):\n",
    "    return a+b+c\n",
    "\n",
    "print(toplama(1,2,3)) # 6\n",
    "\n",
    "# Lambda ile\n",
    "\n",
    "toplama1=lambda a,b,c: a+b+c\n",
    "print(toplama1(1,2,3)) # 6\n",
    "\n",
    "# Stringi ters çevirme\n",
    "\n",
    "def terscevir(s):\n",
    "    return s[::-1]\n",
    "print(terscevir(\"Python Programlama Dili\")) # iliD amalmargorP nohtyP\n",
    "\n",
    "# Lambda ile\n",
    "\n",
    "ters=lambda s :s[::-1]\n",
    "print(ters(\"Yusuf Erdem\")) # medrE fusuY\n",
    "\n",
    "s=\"Python\"\n",
    "print(ters(s))  # nohtyP\n",
    "\n",
    "# --------------------------------------------------------------------------------------\n",
    "\n",
    "def cifmi(x):\n",
    "    return (x%2 == 0)\n",
    "print(cifmi(7))  # False\n",
    "print(cifmi(8))  # True\n",
    "\n",
    "#` Lambda ile :\n",
    "cifttek=lambda x : x%2 == 0\n",
    "\n",
    "print(cifttek(13)) # False\n",
    "\n",
    "\n",
    "#~ İşte lambda ifadesini bu şekilde küçük fonksiyonlar için kullanabiliriz. lambda ifadelerini özellikle kısa bir\n",
    "#~ fonksiyonu def ifadesiyle yazmanın zahmetli olduğu zamanlarda kullanılabilir.\n",
    "\n",
    "\n"
   ]
  },
  {
   "cell_type": "code",
   "execution_count": null,
   "id": "0266dfde",
   "metadata": {},
   "outputs": [],
   "source": []
  }
 ],
 "metadata": {
  "kernelspec": {
   "display_name": "Python 3",
   "language": "python",
   "name": "python3"
  },
  "language_info": {
   "codemirror_mode": {
    "name": "ipython",
    "version": 3
   },
   "file_extension": ".py",
   "mimetype": "text/x-python",
   "name": "python",
   "nbconvert_exporter": "python",
   "pygments_lexer": "ipython3",
   "version": "3.9.3"
  },
  "toc": {
   "base_numbering": 1,
   "nav_menu": {},
   "number_sections": false,
   "sideBar": false,
   "skip_h1_title": false,
   "title_cell": "Table of Contents",
   "title_sidebar": "Contents",
   "toc_cell": true,
   "toc_position": {},
   "toc_section_display": true,
   "toc_window_display": false
  }
 },
 "nbformat": 4,
 "nbformat_minor": 5
}
