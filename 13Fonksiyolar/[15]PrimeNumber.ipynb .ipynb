{
 "cells": [
  {
   "cell_type": "code",
   "execution_count": null,
   "id": "834bee00",
   "metadata": {},
   "outputs": [
    {
     "name": "stdout",
     "output_type": "stream",
     "text": [
      "Number:22\n",
      "22 Isnt a Prime Number!!\n",
      "Number:12\n",
      "12 Isnt a Prime Number!!\n",
      "Number:31\n",
      "31 Is a Prime number\n"
     ]
    }
   ],
   "source": [
    "\"\"\"Asal Sayilar 1 ve Kendisinden Baska Bir Sayiya Bolunmeyen Sayilardir.\"\"\"\n",
    "\n",
    "def is_it_prime(num):\n",
    "    if num == 1:\n",
    "        return False\n",
    "    elif num==2:\n",
    "        return True\n",
    "    for i in range(2,num):\n",
    "        if num % i == 0:\n",
    "            return False\n",
    "        else:\n",
    "            return True\n",
    "\n",
    "while True:\n",
    "    try:\n",
    "        num=input(\"Number:\")\n",
    "\n",
    "        if num ==\"q\":\n",
    "            break\n",
    "        else:\n",
    "            num=int(num)\n",
    "\n",
    "        is_it_prime(num)\n",
    "\n",
    "        if is_it_prime(num)==False:\n",
    "            print(num,\"Isnt a Prime Number!!\")\n",
    "        else:\n",
    "            print(num,\"Is a Prime number\")\n",
    "    except ValueError:\n",
    "        print(\"Please Enter a Number!\")\n",
    "\n",
    "\"\"\" HATA BLOGU Sonradan eklendi.\"\"\"\n",
    "\n",
    "\n",
    "\n"
   ]
  },
  {
   "cell_type": "code",
   "execution_count": null,
   "id": "732596cb",
   "metadata": {},
   "outputs": [],
   "source": []
  }
 ],
 "metadata": {
  "kernelspec": {
   "display_name": "Python 3",
   "language": "python",
   "name": "python3"
  },
  "language_info": {
   "codemirror_mode": {
    "name": "ipython",
    "version": 3
   },
   "file_extension": ".py",
   "mimetype": "text/x-python",
   "name": "python",
   "nbconvert_exporter": "python",
   "pygments_lexer": "ipython3",
   "version": "3.9.3"
  },
  "toc": {
   "base_numbering": 1,
   "nav_menu": {},
   "number_sections": false,
   "sideBar": false,
   "skip_h1_title": false,
   "title_cell": "Table of Contents",
   "title_sidebar": "Contents",
   "toc_cell": false,
   "toc_position": {},
   "toc_section_display": true,
   "toc_window_display": false
  }
 },
 "nbformat": 4,
 "nbformat_minor": 5
}
