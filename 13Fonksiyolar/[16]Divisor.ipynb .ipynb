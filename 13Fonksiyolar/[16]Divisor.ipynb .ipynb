{
 "cells": [
  {
   "cell_type": "code",
   "execution_count": null,
   "id": "00ba24e1",
   "metadata": {},
   "outputs": [
    {
     "name": "stdout",
     "output_type": "stream",
     "text": [
      "ENTER A NUMBER (Press 'q' For quit) :21\n",
      "disivors: [3, 7, 21]\n",
      "ENTER A NUMBER (Press 'q' For quit) :312\n",
      "disivors: [2, 3, 4, 6, 8, 12, 13, 24, 26, 39, 52, 78, 104, 156, 312]\n",
      "ENTER A NUMBER (Press 'q' For quit) :412321\n",
      "disivors: [7, 13, 23, 91, 161, 197, 299, 1379, 2093, 2561, 4531, 17927, 31717, 58903, 412321]\n",
      "ENTER A NUMBER (Press 'q' For quit) :75435123412352341523523424\n"
     ]
    }
   ],
   "source": [
    "def disivor(num):\n",
    "    disivors=[]\n",
    "    for i in range(2,num+1):\n",
    "        if num % i == 0:\n",
    "            disivors.append(i)\n",
    "\n",
    "    return disivors\n",
    "while True:\n",
    "    try:\n",
    "        num = input(\"ENTER A NUMBER (Press 'q' For quit) :\")\n",
    "        if  num == \"q\":\n",
    "            print(\"The program is terminating \")    \n",
    "            break\n",
    "        else:\n",
    "            num=int(num)\n",
    "            print(\"disivors:\",disivor(num))\n",
    "    except ValueError:\n",
    "        print(\"Value Error ! Please Enter a Number.\")"
   ]
  },
  {
   "cell_type": "code",
   "execution_count": null,
   "id": "90ddb67d",
   "metadata": {},
   "outputs": [],
   "source": []
  }
 ],
 "metadata": {
  "kernelspec": {
   "display_name": "Python 3",
   "language": "python",
   "name": "python3"
  },
  "language_info": {
   "codemirror_mode": {
    "name": "ipython",
    "version": 3
   },
   "file_extension": ".py",
   "mimetype": "text/x-python",
   "name": "python",
   "nbconvert_exporter": "python",
   "pygments_lexer": "ipython3",
   "version": "3.9.3"
  },
  "toc": {
   "base_numbering": 1,
   "nav_menu": {},
   "number_sections": false,
   "sideBar": false,
   "skip_h1_title": false,
   "title_cell": "Table of Contents",
   "title_sidebar": "Contents",
   "toc_cell": false,
   "toc_position": {},
   "toc_section_display": true,
   "toc_window_display": false
  }
 },
 "nbformat": 4,
 "nbformat_minor": 5
}
