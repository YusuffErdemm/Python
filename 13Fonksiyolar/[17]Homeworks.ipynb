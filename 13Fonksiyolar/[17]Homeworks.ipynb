{
 "cells": [
  {
   "cell_type": "markdown",
   "id": "a9b3d1d2",
   "metadata": {},
   "source": [
    "\"\"\"1'den 1000'e kadar olan sayılardan mükemmel sayı olanları ekrana yazdırın. Bunun için bir sayının mükemmel olup  \n",
    "olmadığını dönen bir tane fonksiyon yazın.  \n",
    "\n",
    "Bir sayının bölenlerinin toplamı kendine eşitse bu sayı mükemmel bir sayıdır. Örnek olarak 6 mükemmel bir sayıdır  \n",
    " (1 + 2 + 3 = 6).  "
   ]
  },
  {
   "cell_type": "code",
   "execution_count": 3,
   "id": "c8923535",
   "metadata": {},
   "outputs": [
    {
     "name": "stdout",
     "output_type": "stream",
     "text": [
      "Number:6\n",
      "6 Is a Perfect Num!\n"
     ]
    }
   ],
   "source": [
    "def perfectnum(num):\n",
    "    disivors=0\n",
    "    for i in range(1,num):\n",
    "        if num % i == 0:\n",
    "            disivors+=i\n",
    "    return disivors\n",
    "\n",
    "num=int(input(\"Number:\"))\n",
    "if perfectnum(num) == num:\n",
    "    print(num,\"Is a Perfect Num!\")\n",
    "else:\n",
    "    print(num,\"Is Just a nubmer :(\")"
   ]
  },
  {
   "cell_type": "markdown",
   "id": "25b2819d",
   "metadata": {},
   "source": [
    "Kullanıcıdan 2 tane sayı alarak bu sayıların en büyük ortak bölenini (EBOB) dönen bir tane fonksiyon yazın.  \n",
    "\n",
    "Problem için şu siteye bakabilirsiniz;  "
   ]
  },
  {
   "cell_type": "code",
   "execution_count": 4,
   "id": "50d54236",
   "metadata": {},
   "outputs": [],
   "source": [
    "#LCD : largest common dividers asdjaskdasd\n",
    "def lcd(num1, num2):\n",
    "    i = 1\n",
    "    lcd = 1\n",
    "    while (i <= num1 and i <= num2):\n",
    "\n",
    "        if (not (num1 % i) and not (num2 % i)):\n",
    "            lcd = i\n",
    "        i += 1\n",
    "    return lcd\n",
    "\n"
   ]
  },
  {
   "cell_type": "code",
   "execution_count": 5,
   "id": "600825ce",
   "metadata": {},
   "outputs": [
    {
     "name": "stdout",
     "output_type": "stream",
     "text": [
      "Number-1:21\n",
      "Number-2:20\n",
      "Ebob: 1\n"
     ]
    }
   ],
   "source": [
    "num1 = int(input(\"Number-1:\"))\n",
    "num2 = int(input(\"Number-2:\"))\n",
    "\n",
    "print(\"Ebob:\", lcd(num1, num2))"
   ]
  },
  {
   "cell_type": "markdown",
   "id": "6b62a738",
   "metadata": {},
   "source": [
    "Kullanıcıdan 2 basamaklı bir sayı alın ve bu sayının okunuşunu bulan bir fonksiyon yazın.   \n",
    "\n",
    "Örnek: 97 ---------> Doksan Yedi   "
   ]
  },
  {
   "cell_type": "code",
   "execution_count": 6,
   "id": "8936bfcf",
   "metadata": {},
   "outputs": [
    {
     "name": "stdout",
     "output_type": "stream",
     "text": [
      "Sayi----------->21\n",
      "Yirmi Bir\n"
     ]
    }
   ],
   "source": [
    "birler =  [\"\",\"Bir\",\"İki\",\"Üç\",\"Dört\",\"Beş\",\"Altı\",\"Yedi\",\"Sekiz\",\"Dokuz\"]\n",
    "onlar = [\"\",\"On\",\"Yirmi\",\"Otuz\",\"Kırk\",\"Elli\",\"Altmış\",\"Yetmiş\",\"Seksen\",\"Doksan\"]\n",
    "\n",
    "def okunus(sayi):\n",
    "    birinci=sayi%10\n",
    "    ikinci=sayi//10\n",
    "\n",
    "    return onlar[ikinci] +\" \"+birler[birinci]\n",
    "sayi=int(input(\"Sayi----------->\"))\n",
    "print(okunus(sayi))\n",
    "\n"
   ]
  },
  {
   "cell_type": "markdown",
   "id": "b14c4191",
   "metadata": {},
   "source": [
    "1'den 100'e kadar olan sayılardan pisagor üçgeni oluşturanları ekrana yazdıran bir fonksiyon yazın.(a <= 100,b <= 100)   "
   ]
  },
  {
   "cell_type": "code",
   "execution_count": 8,
   "id": "d7e82dcb",
   "metadata": {},
   "outputs": [
    {
     "name": "stdout",
     "output_type": "stream",
     "text": [
      "(3, 4, 5)\n",
      "(4, 3, 5)\n",
      "(5, 12, 13)\n",
      "(6, 8, 10)\n",
      "(7, 24, 25)\n",
      "(8, 6, 10)\n",
      "(8, 15, 17)\n",
      "(9, 12, 15)\n",
      "(9, 40, 41)\n",
      "(10, 24, 26)\n",
      "(11, 60, 61)\n",
      "(12, 5, 13)\n",
      "(12, 9, 15)\n",
      "(12, 16, 20)\n",
      "(12, 35, 37)\n",
      "(13, 84, 85)\n",
      "(14, 48, 50)\n",
      "(15, 8, 17)\n",
      "(15, 20, 25)\n",
      "(15, 36, 39)\n",
      "(16, 12, 20)\n",
      "(16, 30, 34)\n",
      "(16, 63, 65)\n",
      "(18, 24, 30)\n",
      "(18, 80, 82)\n",
      "(20, 15, 25)\n",
      "(20, 21, 29)\n",
      "(20, 48, 52)\n",
      "(20, 99, 101)\n",
      "(21, 20, 29)\n",
      "(21, 28, 35)\n",
      "(21, 72, 75)\n",
      "(24, 7, 25)\n",
      "(24, 10, 26)\n",
      "(24, 18, 30)\n",
      "(24, 32, 40)\n",
      "(24, 45, 51)\n",
      "(24, 70, 74)\n",
      "(25, 60, 65)\n",
      "(27, 36, 45)\n",
      "(28, 21, 35)\n",
      "(28, 45, 53)\n",
      "(28, 96, 100)\n",
      "(30, 16, 34)\n",
      "(30, 40, 50)\n",
      "(30, 72, 78)\n",
      "(32, 24, 40)\n",
      "(32, 60, 68)\n",
      "(33, 44, 55)\n",
      "(33, 56, 65)\n",
      "(35, 12, 37)\n",
      "(35, 84, 91)\n",
      "(36, 15, 39)\n",
      "(36, 27, 45)\n",
      "(36, 48, 60)\n",
      "(36, 77, 85)\n",
      "(39, 52, 65)\n",
      "(39, 80, 89)\n",
      "(40, 9, 41)\n",
      "(40, 30, 50)\n",
      "(40, 42, 58)\n",
      "(40, 75, 85)\n",
      "(40, 96, 104)\n",
      "(42, 40, 58)\n",
      "(42, 56, 70)\n",
      "(44, 33, 55)\n",
      "(45, 24, 51)\n",
      "(45, 28, 53)\n",
      "(45, 60, 75)\n",
      "(48, 14, 50)\n",
      "(48, 20, 52)\n",
      "(48, 36, 60)\n",
      "(48, 55, 73)\n",
      "(48, 64, 80)\n",
      "(48, 90, 102)\n",
      "(51, 68, 85)\n",
      "(52, 39, 65)\n",
      "(54, 72, 90)\n",
      "(55, 48, 73)\n",
      "(56, 33, 65)\n",
      "(56, 42, 70)\n",
      "(56, 90, 106)\n",
      "(57, 76, 95)\n",
      "(60, 11, 61)\n",
      "(60, 25, 65)\n",
      "(60, 32, 68)\n",
      "(60, 45, 75)\n",
      "(60, 63, 87)\n",
      "(60, 80, 100)\n",
      "(60, 91, 109)\n",
      "(63, 16, 65)\n",
      "(63, 60, 87)\n",
      "(63, 84, 105)\n",
      "(64, 48, 80)\n",
      "(65, 72, 97)\n",
      "(66, 88, 110)\n",
      "(68, 51, 85)\n",
      "(69, 92, 115)\n",
      "(70, 24, 74)\n",
      "(72, 21, 75)\n",
      "(72, 30, 78)\n",
      "(72, 54, 90)\n",
      "(72, 65, 97)\n",
      "(72, 96, 120)\n",
      "(75, 40, 85)\n",
      "(75, 100, 125)\n",
      "(76, 57, 95)\n",
      "(77, 36, 85)\n",
      "(80, 18, 82)\n",
      "(80, 39, 89)\n",
      "(80, 60, 100)\n",
      "(80, 84, 116)\n",
      "(84, 13, 85)\n",
      "(84, 35, 91)\n",
      "(84, 63, 105)\n",
      "(84, 80, 116)\n",
      "(88, 66, 110)\n",
      "(90, 48, 102)\n",
      "(90, 56, 106)\n",
      "(91, 60, 109)\n",
      "(92, 69, 115)\n",
      "(96, 28, 100)\n",
      "(96, 40, 104)\n",
      "(96, 72, 120)\n",
      "(99, 20, 101)\n",
      "(100, 75, 125)\n"
     ]
    }
   ],
   "source": [
    "def pisagor():\n",
    "    lst=[]\n",
    "    for i in range(1,101):\n",
    "        for j in range(1,101):\n",
    "            operation=(i**2 + j**2) **0.5\n",
    "            if operation==int(operation):\n",
    "                lst.append((i,j,int(operation)))\n",
    "    return lst\n",
    "for i in pisagor():\n",
    "    print(i)"
   ]
  },
  {
   "cell_type": "code",
   "execution_count": null,
   "id": "f3417a0e",
   "metadata": {},
   "outputs": [],
   "source": []
  }
 ],
 "metadata": {
  "kernelspec": {
   "display_name": "Python 3",
   "language": "python",
   "name": "python3"
  },
  "language_info": {
   "codemirror_mode": {
    "name": "ipython",
    "version": 3
   },
   "file_extension": ".py",
   "mimetype": "text/x-python",
   "name": "python",
   "nbconvert_exporter": "python",
   "pygments_lexer": "ipython3",
   "version": "3.9.3"
  },
  "toc": {
   "base_numbering": 1,
   "nav_menu": {},
   "number_sections": false,
   "sideBar": false,
   "skip_h1_title": false,
   "title_cell": "Table of Contents",
   "title_sidebar": "Contents",
   "toc_cell": false,
   "toc_position": {},
   "toc_section_display": true,
   "toc_window_display": false
  }
 },
 "nbformat": 4,
 "nbformat_minor": 5
}
