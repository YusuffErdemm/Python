{
 "cells": [
  {
   "cell_type": "code",
   "execution_count": 2,
   "id": "60f6fb23",
   "metadata": {},
   "outputs": [
    {
     "name": "stdout",
     "output_type": "stream",
     "text": [
      "Estimated:500\n",
      "information is being questioned....\n",
      "Enter a smaller Num!.\n",
      "Estimated:250\n",
      "information is being questioned....\n",
      "Enter a smaller Num!.\n",
      "Estimated:125\n",
      "information is being questioned...\n",
      "Enter a higher number!\n",
      "Estimated:175\n",
      "information is being questioned...\n",
      "Enter a higher number!\n",
      "Estimated:225\n",
      "information is being questioned....\n",
      "Enter a smaller Num!.\n",
      "Estimated:200\n",
      "information is being questioned...\n",
      "Enter a higher number!\n",
      "Estimated:210\n",
      "information is being questioned....\n",
      "Enter a smaller Num!.\n",
      "Your guesswork is over.\n",
      "Num is : 202\n"
     ]
    }
   ],
   "source": [
    "import random\n",
    "import time\n",
    "\n",
    "\"\"\"\n",
    "\n",
    "Sayi Tahmmini Oyunu\n",
    "\n",
    "\n",
    "\n",
    "1 ile 40 Arasinda sayiyi tahmin edin.\n",
    "\n",
    "\n",
    "\n",
    "\"\"\"\n",
    "\n",
    "random_num=random.randint(1,1000) # 1 ile 40 dahil 1-40 araliginda rastgele sayi uret.\n",
    "estimation_rights=7\n",
    "while True:\n",
    "    estimation = int(input(\"Estimated:\"))\n",
    "    if estimation <random_num:\n",
    "        print(\"information is being questioned...\")\n",
    "        time.sleep(1)  # programi 1 saniyeliyeligine dondur.\n",
    "        print(\"Enter a higher number!\")\n",
    "        estimation_rights-=1\n",
    "    elif estimation>random_num:\n",
    "        print(\"information is being questioned....\")\n",
    "        time.sleep(1)\n",
    "        print(\"Enter a smaller Num!.\")\n",
    "        estimation_rights-=1\n",
    "    else:\n",
    "        print(\"Information is being questioned...\")\n",
    "        time.sleep(1)\n",
    "        print(\"Congratulations You Found The Num in {} guesses!!.\".format(8-estimation_rights))\n",
    "        break\n",
    "    if estimation_rights == 0:\n",
    "        print(\"Your guesswork is over.\")\n",
    "        print(\"Num is :\",random_num)\n",
    "        break\n"
   ]
  },
  {
   "cell_type": "markdown",
   "id": "bda6aff9",
   "metadata": {},
   "source": [
    "**Binary Search yontemi ile log 2^40=5.32  tahminde veya 1-1000 arasindaki bir sayiyi log2^1000=9.96 tahminde  , \n",
    "1 ile 1T Arasindaki sayiyi tahmin etmek icin 30 tahmin yeterli olucaktir.\n",
    "Bu yontem ortadaki sayiyi soyleyerek yarisi veya 20 kati seklinde ortadaki sayidan yola cikarak ilerliyor \n",
    "1 ile 40 arasinda ornegin 20-yuksek-30 alcak deiyse 25 yuksek dediyse 27 gibi**\n"
   ]
  },
  {
   "cell_type": "code",
   "execution_count": null,
   "id": "9a117676",
   "metadata": {},
   "outputs": [],
   "source": []
  }
 ],
 "metadata": {
  "kernelspec": {
   "display_name": "Python 3",
   "language": "python",
   "name": "python3"
  },
  "language_info": {
   "codemirror_mode": {
    "name": "ipython",
    "version": 3
   },
   "file_extension": ".py",
   "mimetype": "text/x-python",
   "name": "python",
   "nbconvert_exporter": "python",
   "pygments_lexer": "ipython3",
   "version": "3.9.3"
  },
  "toc": {
   "base_numbering": 1,
   "nav_menu": {},
   "number_sections": false,
   "sideBar": false,
   "skip_h1_title": false,
   "title_cell": "Table of Contents",
   "title_sidebar": "Contents",
   "toc_cell": false,
   "toc_position": {},
   "toc_section_display": true,
   "toc_window_display": false
  }
 },
 "nbformat": 4,
 "nbformat_minor": 5
}
