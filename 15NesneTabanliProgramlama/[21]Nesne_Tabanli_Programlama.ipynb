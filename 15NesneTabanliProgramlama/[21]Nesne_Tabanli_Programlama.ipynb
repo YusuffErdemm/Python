{
 "cells": [
  {
   "cell_type": "markdown",
   "id": "b76625ac",
   "metadata": {
    "toc": true
   },
   "source": [
    "<h1>Table of Contents<span class=\"tocSkip\"></span></h1>\n",
    "<div class=\"toc\"><ul class=\"toc-item\"><li><span><a href=\"#OBJECT-ORIENTED-PROGRAMMING-(OOP)\" data-toc-modified-id=\"OBJECT-ORIENTED-PROGRAMMING-(OOP)-1\">OBJECT ORIENTED PROGRAMMING (OOP)</a></span><ul class=\"toc-item\"><li><span><a href=\"#OOP-Mantigi\" data-toc-modified-id=\"OOP-Mantigi-1.1\">OOP Mantigi</a></span></li><li><span><a href=\"#Nesne-Nedir?\" data-toc-modified-id=\"Nesne-Nedir?-1.2\">Nesne Nedir?</a></span></li><li><span><a href=\"#Classes\" data-toc-modified-id=\"Classes-1.3\">Classes</a></span><ul class=\"toc-item\"><li><span><a href=\"#__-init-__()-metodu\" data-toc-modified-id=\"__-init-__()-metodu-1.3.1\"><strong>__ init __()</strong> metodu</a></span><ul class=\"toc-item\"><li><span><a href=\"#dir()\" data-toc-modified-id=\"dir()-1.3.1.1\">dir()</a></span></li></ul></li></ul></li><li><span><a href=\"#Self-Parametresi\" data-toc-modified-id=\"Self-Parametresi-1.4\">Self Parametresi</a></span></li><li><span><a href=\"#Methods\" data-toc-modified-id=\"Methods-1.5\">Methods</a></span></li><li><span><a href=\"#INTHERITANCE(Kalitim-veya-Miras-Alma)\" data-toc-modified-id=\"INTHERITANCE(Kalitim-veya-Miras-Alma)-1.6\">INTHERITANCE(Kalitim veya Miras Alma)</a></span><ul class=\"toc-item\"><li><span><a href=\"#Overriding-(Iptal-Etmek)\" data-toc-modified-id=\"Overriding-(Iptal-Etmek)-1.6.1\">Overriding (Iptal Etmek)</a></span></li><li><span><a href=\"#Super-Anahtar-Kelimesi\" data-toc-modified-id=\"Super-Anahtar-Kelimesi-1.6.2\">Super Anahtar Kelimesi</a></span></li></ul></li><li><span><a href=\"#Special-Methods\" data-toc-modified-id=\"Special-Methods-1.7\">Special Methods</a></span><ul class=\"toc-item\"><li><span><a href=\"#__-init-__()-metodu\" data-toc-modified-id=\"__-init-__()-metodu-1.7.1\"><strong>__</strong> <strong>init __()</strong> <strong>metodu</strong></a></span></li><li><span><a href=\"#__-str-__()-metodu\" data-toc-modified-id=\"__-str-__()-metodu-1.7.2\"><strong>__</strong> <strong>str __()</strong> <strong>metodu</strong></a></span></li><li><span><a href=\"#__-len-__()-metodu\" data-toc-modified-id=\"__-len-__()-metodu-1.7.3\"><strong>__</strong> <strong>len __()</strong> <strong>metodu</strong></a></span></li><li><span><a href=\"#__-del-__()-metodu\" data-toc-modified-id=\"__-del-__()-metodu-1.7.4\"><strong>__</strong> <strong>del __()</strong> <strong>metodu</strong></a></span></li></ul></li></ul></li></ul></div>"
   ]
  },
  {
   "cell_type": "markdown",
   "id": "48413afb",
   "metadata": {},
   "source": [
    "# OBJECT ORIENTED PROGRAMMING (OOP)\n",
    "---\n",
    "## OOP Mantigi\n",
    "Nesne Tabanlı Programlama veya ingilizce ismiyle Object Oriented Programming en basit anlamıyla gerçek  \n",
    "hayatı programlamaya uyarlamak olarak düşünülebilir. Örneğin bir tane öğrenci otomasyon sistemi yazmak istiyoruz.  \n",
    "Bunun için öğretmenleri , öğrencileri ve kursları aslında birer nesne olarak oluşturmamız gerekiyor. Böyle bir sistemi  \n",
    "programlamayla gerçekleştirmek için aslında her bir nesnenin yapısını tanımlayıp, daha sonra bu yapılardan nesneler  \n",
    "üretmemiz gerekiyor.  "
   ]
  },
  {
   "cell_type": "markdown",
   "id": "024387d4",
   "metadata": {},
   "source": [
    "## Nesne Nedir?\n",
    "Etrafımıza baktığımızda aslında her bir eşyanın bir obje olduğunu görüyoruz. Örneğin bir tane televizyon kumandasını  \n",
    "düşünelim. Bu kumandanın kendi içinde değişik özellikleri (attribute) ve fonksiyonları(metod) bulunuyor. Örneğin,  \n",
    "kumandanın markası, tuşları aslında bu kumandanın özellikleridir(attribute). Kumandanın kırmızı tuşuna bastığımızda  \n",
    "televizyonun kapanması ve sesi kapatma tuşuna bastığımızda televizyonun sesinin kapanması bu kumandanın metodlarıdır.  \n",
    "Bunun gibi Pythondaki aslında her şey bir objedir. Örneğin, listelere bakacak olursak bu liste objelerinin aslında  \n",
    "birçok metodu ve özelliği bulunur.  "
   ]
  },
  {
   "cell_type": "code",
   "execution_count": 2,
   "id": "0b7889f7",
   "metadata": {},
   "outputs": [
    {
     "name": "stdout",
     "output_type": "stream",
     "text": [
      "[1, 2, 3, 4, 5, 6]\n"
     ]
    },
    {
     "data": {
      "text/plain": [
       "list"
      ]
     },
     "execution_count": 2,
     "metadata": {},
     "output_type": "execute_result"
    }
   ],
   "source": [
    "liste = [1, 2, 3, 4, 5]  # Liste objesi oluşturmak\n",
    "liste.append(6)  # Append metodu\n",
    "print(liste)\n",
    "type(liste) # Liste Objesi\n"
   ]
  },
  {
   "cell_type": "code",
   "execution_count": 3,
   "id": "66923828",
   "metadata": {},
   "outputs": [
    {
     "data": {
      "text/plain": [
       "function"
      ]
     },
     "execution_count": 3,
     "metadata": {},
     "output_type": "execute_result"
    }
   ],
   "source": [
    "sözlük = dict()\n",
    "type(sözlük)  #~ dictionary objesi\n",
    "\n",
    "type((1, 2, 3, 4))  #~ tuple objesi\n",
    "\n",
    "\n",
    "def toplama(a, b):\n",
    "    return a + b\n",
    "\n",
    "\n",
    "type(toplama)  #~ Fonksiyon objesi"
   ]
  },
  {
   "cell_type": "markdown",
   "id": "f2a5c5d7",
   "metadata": {},
   "source": [
    "## Classes\n",
    "---\n",
    "**Artık kendi veri tiplerimizi ve objelerimizi üretmeye başlayacağız.**\n",
    "\n",
    "Kendi veri tiplerimizi oluşturmak ve bu veri tiplerinden objeler üretmemiz için öncelikle objeleri üreteceğimiz yapıyı   \n",
    "tanımlamamız gerekiyor. Bunu tasarladığımız yapıya da sınıf veya ingilizce ismiyle class diyoruz. Şimdi class yapılarını  \n",
    "öğrenerek konumuza başlayalım\n",
    "\n"
   ]
  },
  {
   "cell_type": "code",
   "execution_count": 5,
   "id": "3b9bd229",
   "metadata": {},
   "outputs": [],
   "source": [
    "# Bir Araba Class i olusturalim\n",
    "\n",
    "class Araba():\n",
    "    marka=\"Honda Civic\"\n",
    "    model=\"Fd6\"\n",
    "    yil=2007   # Sınıfımızın özellikleri (attributes)\n",
    "    renk=\"Gumus Gri\"\n",
    "    beygir_gucu=106\n",
    "    silindir=4\n",
    "    "
   ]
  },
  {
   "cell_type": "markdown",
   "id": "39f8b6ad",
   "metadata": {},
   "source": [
    "**Sınıfımızı Pythonda tanımladık. Peki bu sınıftan obje nasıl oluşturacağız ? Bunu da şu şekilde yapabiliyoruz.**\n",
    "\n",
    "` obje_ismi = Sınıf_İsmi(parametreler(opsiyonel))`"
   ]
  },
  {
   "cell_type": "code",
   "execution_count": 6,
   "id": "cf783b38",
   "metadata": {},
   "outputs": [],
   "source": [
    "araba1=Araba()"
   ]
  },
  {
   "cell_type": "code",
   "execution_count": 8,
   "id": "3e73a6b6",
   "metadata": {},
   "outputs": [
    {
     "data": {
      "text/plain": [
       "__main__.Araba"
      ]
     },
     "execution_count": 8,
     "metadata": {},
     "output_type": "execute_result"
    }
   ],
   "source": [
    "type(araba1)"
   ]
  },
  {
   "cell_type": "code",
   "execution_count": 12,
   "id": "2ede3389",
   "metadata": {},
   "outputs": [
    {
     "name": "stdout",
     "output_type": "stream",
     "text": [
      "Gumus Gri\n",
      "4\n"
     ]
    }
   ],
   "source": [
    "araba1.model\n",
    "print(araba1.renk)\n",
    "print(araba1.silindir)"
   ]
  },
  {
   "cell_type": "code",
   "execution_count": 15,
   "id": "c6a58fde",
   "metadata": {},
   "outputs": [
    {
     "name": "stdout",
     "output_type": "stream",
     "text": [
      "4\n",
      "Honda Civic\n"
     ]
    }
   ],
   "source": [
    "araba2 = Araba()\n",
    "print(araba2.silindir) \n",
    "print(araba2.marka)  "
   ]
  },
  {
   "cell_type": "markdown",
   "id": "eb6d101c",
   "metadata": {},
   "source": [
    "Yani biz bir obje oluşturduğumuzda bu özelliklerin değerleri varsayılan olarak gelir. Bu özelliklerin değerlerine , herhangi bir obje oluşturmadan da erişebiliriz.  \n",
    "\n",
    "\n",
    "Bunu da şu şekilde yapabiliriz.  "
   ]
  },
  {
   "cell_type": "code",
   "execution_count": 21,
   "id": "5c3dd34e",
   "metadata": {},
   "outputs": [
    {
     "name": "stdout",
     "output_type": "stream",
     "text": [
      "Honda Civic\n",
      "Fd6\n"
     ]
    }
   ],
   "source": [
    "print(Araba.marka)\n",
    "print(Araba.model)"
   ]
  },
  {
   "cell_type": "markdown",
   "id": "96f09533",
   "metadata": {},
   "source": [
    "**Bizim her bir objeyi başlangıçta farklı değerlerle oluşturmamız için her bir `objeyi` oluştururken objelerin değerlerini  \n",
    "göndermemiz gerekiyor. Bunun için de özel bir metodu kullanmamız gerekmektedir.**"
   ]
  },
  {
   "cell_type": "markdown",
   "id": "63790213",
   "metadata": {},
   "source": [
    "### **__ init __()** metodu"
   ]
  },
  {
   "cell_type": "markdown",
   "id": "1e2fe80d",
   "metadata": {},
   "source": [
    "Peki bu metod ne anlama geliyor ? Ilk olarak dir() fonksiyonu yardımıyla araba1 objemizde neler var bakalım.\n",
    "#### dir()"
   ]
  },
  {
   "cell_type": "code",
   "execution_count": 22,
   "id": "aa69115a",
   "metadata": {},
   "outputs": [
    {
     "name": "stdout",
     "output_type": "stream",
     "text": [
      "['__class__', '__delattr__', '__dict__', '__dir__', '__doc__', '__eq__', '__format__', '__ge__', '__getattribute__', '__gt__', '__hash__', '__init__', '__init_subclass__', '__le__', '__lt__', '__module__', '__ne__', '__new__', '__reduce__', '__reduce_ex__', '__repr__', '__setattr__', '__sizeof__', '__str__', '__subclasshook__', '__weakref__', 'beygir_gucu', 'marka', 'model', 'renk', 'silindir', 'yil']\n"
     ]
    }
   ],
   "source": [
    "print(dir(araba1))"
   ]
  },
  {
   "cell_type": "markdown",
   "id": "638ebd24",
   "metadata": {},
   "source": [
    "Burada objemizin tüm özelliklerini ve metodlarını görüyoruz. Ancak biz herhangi bir metod tanımlamamıştık. Buradaki  \n",
    "metodlar Python tarafından bir obje oluşturulduğunda özel olarak tanımlanan metodlardır ve biz eğer özel olarak bunları   \n",
    "tanımlamazsak Python kendisi bunları varsayılan tanımlıyor. Burada aynı zamanda init metodunu da görüyoruz. Eğer biz bu  \n",
    "metodu kendimiz tanımlarsak objelerimizi farklı değerlerle başlatabiliriz.  \n",
    "\n",
    "Aslında init metodu Pythonda yapıcı(constructor) fonksiyon olarak tanımlanmaktadır. Bu metod objelerimiz oluşturulurken  \n",
    "otomatik olarak ilk çağrılan fonksiyondur. Bu metodu özel olarak tanımlayarak objelerimizi farklı değerlerle  \n",
    "oluşturabiliriz.\n",
    "\n",
    "Peki bu metodu nasıl tanımlayacağız ? Direk örnek üzerinden görmeye çalışalım.  "
   ]
  },
  {
   "cell_type": "code",
   "execution_count": 24,
   "id": "e6615aab",
   "metadata": {},
   "outputs": [],
   "source": [
    "#~ araba Veri tipi\n",
    "\n",
    "class araba():\n",
    "    model = 'Honda Civic'\n",
    "    renk = 'Gumus Gri'\n",
    "    silindir = 4\n",
    "    beygir_gucu = 110\n",
    "\n",
    "# Simdilik Class ozelliklerine Ihtiyacimiz yok.\n",
    "    def __init__(self):\n",
    "        print('Init Fonksiyonu Cagirildi.')"
   ]
  },
  {
   "cell_type": "code",
   "execution_count": 29,
   "id": "56162dd1",
   "metadata": {},
   "outputs": [
    {
     "name": "stdout",
     "output_type": "stream",
     "text": [
      "Init Fonksiyonu Cagirildi.\n"
     ]
    }
   ],
   "source": [
    "araba1=araba() \n",
    "# demek ki __ init __ fonk bir yapıcı method diyebiliriz class ilk örneklendiğinde yapılacak \n",
    "# olan işleri __init__ blokları içerisinde belirleyebiliriz.\n",
    "\n",
    "#Kısaca ilklendirme methodu."
   ]
  },
  {
   "cell_type": "markdown",
   "id": "a373ff56",
   "metadata": {},
   "source": [
    "## Self Parametresi\n",
    "---\n",
    "Peki burada self ne anlama geliyor ? `self` anahtar kelimesi objeyi oluşturduğumuz zaman o objeyi gösteren bir   \n",
    "referanstır ve metodlarımızda en başta bulunması gereken bir parametredir. Yani biz bir objenin bütün özelliklerini ve   \n",
    "metodlarını bu referans üzerinden kullanabiliriz.  \n",
    "\n",
    "Objeler oluşturulurken, Python bu referansı metodlara otomatik olarak kendisi gönderir. Özel olarak self referansını   \n",
    "göndermemize gerek yoktur.  \n",
    "\n",
    "- init metodunu ve self'i iyi anlamak için objelerimize özellikler ekleyelim.  \n",
    "\n"
   ]
  },
  {
   "cell_type": "code",
   "execution_count": 30,
   "id": "ed457ae2",
   "metadata": {},
   "outputs": [],
   "source": [
    "class araba():\n",
    "    def __init__(self, model, renk, beygir_gucu, silindir):\n",
    "        print('Init Fonksiyonu Cagirildi.')\n",
    "        self.model = model\n",
    "        self.renk = renk\n",
    "        self.beygir_gucu = beygir_gucu\n",
    "        self.silindir = silindir"
   ]
  },
  {
   "cell_type": "code",
   "execution_count": 31,
   "id": "900f184f",
   "metadata": {},
   "outputs": [
    {
     "name": "stdout",
     "output_type": "stream",
     "text": [
      "Init Fonksiyonu Cagirildi.\n",
      "Init Fonksiyonu Cagirildi.\n",
      "Honda Civic\n",
      "Bmw M5\n"
     ]
    }
   ],
   "source": [
    "araba1 = araba(\"Honda Civic\", \"Gumus Gri\", 110, 4)\n",
    "araba2 = araba(\"Bmw M5\", \"Austun Yellow\", 600, 8)\n",
    "print(araba1.model) \n",
    "print(araba2.model)"
   ]
  },
  {
   "cell_type": "code",
   "execution_count": 32,
   "id": "876e366c",
   "metadata": {},
   "outputs": [],
   "source": [
    "class araba():\n",
    "    def __init__(self, model='Bilgi Yok', renk='Bilgi Yok', beygir_gucu=70, silindir=4):\n",
    "        self.model = model\n",
    "        self.renk = renk\n",
    "        self.beygir_gucu = beygir_gucu\n",
    "        self.silindir = silindir"
   ]
  },
  {
   "cell_type": "code",
   "execution_count": 33,
   "id": "0e7aab71",
   "metadata": {},
   "outputs": [
    {
     "name": "stdout",
     "output_type": "stream",
     "text": [
      "110\n",
      "4\n",
      "Bilgi Yok\n",
      "Turuncu\n"
     ]
    }
   ],
   "source": [
    "arabax = araba(beygir_gucu=110, renk=\"Turuncu\")\n",
    "print(arabax.beygir_gucu)  # 110\n",
    "print(arabax.silindir)  # 4\n",
    "print(arabax.model)  # Bilgi Yok\n",
    "print(arabax.renk)  # Turuncu"
   ]
  },
  {
   "cell_type": "code",
   "execution_count": 34,
   "id": "fbc53ae1",
   "metadata": {},
   "outputs": [
    {
     "name": "stdout",
     "output_type": "stream",
     "text": [
      "Bmw M5\n",
      "70\n"
     ]
    }
   ],
   "source": [
    "arabax = araba(model='Bmw M5')\n",
    "print(arabax.model)  # Bmw M5\n",
    "print(arabax.beygir_gucu)  # 70 Cunku sadece Modelini tanimladik"
   ]
  },
  {
   "cell_type": "markdown",
   "id": "25f7dfc3",
   "metadata": {},
   "source": [
    "## Methods\n",
    "---\n",
    "Bir Sinif Icerisinde Metotlarimizi Nasil Tanimlayacagiz? Bunun Icin Bir Yazilimici Sinifi Tanimlayalim."
   ]
  },
  {
   "cell_type": "code",
   "execution_count": 37,
   "id": "e5adde19",
   "metadata": {},
   "outputs": [],
   "source": [
    "class Yazilimci():\n",
    "    def __init__(self,isim,soyisim,sirket,maas,diller):\n",
    "        self.isim=isim\n",
    "        self.soyisim=soyisim\n",
    "        self.sirket=sirket\n",
    "        self.maas=maas\n",
    "        self.diller=diller\n"
   ]
  },
  {
   "cell_type": "code",
   "execution_count": 38,
   "id": "b4126328",
   "metadata": {},
   "outputs": [],
   "source": [
    "yazilimci1 = Yazilimci(\"Yusuf\", 'ERDEM', \"Boston Dynamics\", 12000, [\"Python\", \"C\", \"Java\"])\n",
    "yazilimci2 = Yazilimci(\"Yigit\", \"Erdem\", \"GitHub\", 11999, [\"Python\", \"R\", \"SmallTalk\"])"
   ]
  },
  {
   "cell_type": "code",
   "execution_count": 39,
   "id": "0ee80717",
   "metadata": {},
   "outputs": [
    {
     "name": "stdout",
     "output_type": "stream",
     "text": [
      "Boston Dynamics\n",
      "['Python', 'R', 'SmallTalk']\n"
     ]
    }
   ],
   "source": [
    "print(yazilimci1.sirket)\n",
    "print(yazilimci2.diller)"
   ]
  },
  {
   "cell_type": "markdown",
   "id": "7ed6983e",
   "metadata": {},
   "source": [
    "**Simdi Biz Buna Bilgileri Goster Adli Bir `Metod` yazarak ,  \n",
    "her bir özelliğimizin değeri ekrana derli toplu bir şekilde yazdıralim**"
   ]
  },
  {
   "cell_type": "code",
   "execution_count": 50,
   "id": "6773a82c",
   "metadata": {},
   "outputs": [],
   "source": [
    "import time\n",
    "class Yazilimci():\n",
    "    def __init__(self, isim, soyisim, sirket, maas, diller):\n",
    "        self.isim = isim\n",
    "        self.soyisim = soyisim\n",
    "        self.sirket = sirket\n",
    "        self.maas = maas\n",
    "        self.diller = diller\n",
    "\n",
    "    def bilgileri_goster(self):\n",
    "        print(\"\"\"\n",
    "        Calisan Bilgisi:\n",
    "        \n",
    "        Isim: {}\n",
    "        \n",
    "        Soyisim: {}\n",
    "        \n",
    "        Sirket: {}\n",
    "        \n",
    "        Maas: {}\n",
    "        \n",
    "        Diller: {}\n",
    "        \n",
    "        \"\"\".format(self.isim, self.soyisim, self.sirket, self.maas, self.diller))\n",
    "\n",
    "\n",
    "yazilimci1 = Yazilimci(\"Yusuf\", \"Erdem\", \"Boston Dynamics\", 12000, [\"python\", \"Java\", \"C\"])"
   ]
  },
  {
   "cell_type": "code",
   "execution_count": 42,
   "id": "4a5d93d0",
   "metadata": {},
   "outputs": [
    {
     "name": "stdout",
     "output_type": "stream",
     "text": [
      "\n",
      "        Calisan Bilgisi:\n",
      "        \n",
      "        Isim: Yusuf\n",
      "        \n",
      "        Soyisim: Erdem\n",
      "        \n",
      "        Sirket: Boston Dynamics\n",
      "        \n",
      "        Maas: 12000\n",
      "        \n",
      "        Diller: ['python', 'Java', 'C']\n",
      "        \n",
      "        \n"
     ]
    }
   ],
   "source": [
    "yazilimci1.bilgileri_goster()"
   ]
  },
  {
   "cell_type": "markdown",
   "id": "051ea0f8",
   "metadata": {},
   "source": [
    "Burada bilgilerigöster isimli metod tanımlayarak her bir özelliğimizin değeri ekrana derli toplu bir şekilde yazdırmış  \n",
    "olduk. Metodlarımızı yazarken dikkat etmemiz gerek nokta, her metodun birinci parametresinin self referansı olması  \n",
    "gerektiğidir.\n",
    "\n",
    "Ayrıca objelerimizin özelliklerine mutlaka self referansıyla erişmemiz gerekiyor.  \n",
    "Yazilimci class`ina 2 tane daha metod yazalım.  "
   ]
  },
  {
   "cell_type": "code",
   "execution_count": 56,
   "id": "ac005ecb",
   "metadata": {},
   "outputs": [],
   "source": [
    "class Yazilimci():\n",
    "    def __init__(self, isim, soyisim, sirket, maas, diller):\n",
    "        self.isim = isim\n",
    "        self.soyisim = soyisim\n",
    "        self.sirket = sirket\n",
    "        self.maas = maas\n",
    "        self.diller = diller\n",
    "\n",
    "    def bilgileri_goster(self):\n",
    "        print(\"\"\"\n",
    "        Calisan Bilgisi:\n",
    "\n",
    "        Isim: {}\n",
    "\n",
    "        Soyisim: {}\n",
    "\n",
    "        Sirket: {}\n",
    "\n",
    "        Maas: {}\n",
    "\n",
    "        Diller: {}\n",
    "\n",
    "        \"\"\".format(self.isim, self.soyisim, self.sirket, self.maas, self.diller))\n",
    "\n",
    "    def dil_ekle(self, yeni_dil):\n",
    "        print(\"Dil Ekleniyor..\")\n",
    "        time.sleep(1)\n",
    "        self.diller.append(yeni_dil)\n",
    "\n",
    "    def maas_yukselt(self, zam_miktari):\n",
    "        print(\"Zam Yapiliyor..\")\n",
    "        time.sleep(1)\n",
    "        self.maas += zam_miktari"
   ]
  },
  {
   "cell_type": "code",
   "execution_count": 57,
   "id": "cf79c5e8",
   "metadata": {},
   "outputs": [],
   "source": [
    "yazilimci1 = Yazilimci(\"Yusuf\", \"Erdem\", \"Boston Dynamics\", 12000, [\"C\", \"Java\", \"Python\"])"
   ]
  },
  {
   "cell_type": "code",
   "execution_count": 58,
   "id": "e18b88dc",
   "metadata": {},
   "outputs": [
    {
     "name": "stdout",
     "output_type": "stream",
     "text": [
      "\n",
      "        Calisan Bilgisi:\n",
      "\n",
      "        Isim: Yusuf\n",
      "\n",
      "        Soyisim: Erdem\n",
      "\n",
      "        Sirket: Boston Dynamics\n",
      "\n",
      "        Maas: 12000\n",
      "\n",
      "        Diller: ['C', 'Java', 'Python']\n",
      "\n",
      "        \n"
     ]
    }
   ],
   "source": [
    "yazilimci1.bilgileri_goster()"
   ]
  },
  {
   "cell_type": "code",
   "execution_count": 65,
   "id": "ab4bacad",
   "metadata": {},
   "outputs": [
    {
     "name": "stdout",
     "output_type": "stream",
     "text": [
      "Zam Yapiliyor..\n",
      "\n",
      "        Calisan Bilgisi:\n",
      "\n",
      "        Isim: Yusuf\n",
      "\n",
      "        Soyisim: Erdem\n",
      "\n",
      "        Sirket: Boston Dynamics\n",
      "\n",
      "        Maas: 14000\n",
      "\n",
      "        Diller: ['C', 'Java', 'Python']\n",
      "\n",
      "        \n",
      "Dil Ekleniyor..\n",
      "\n",
      "        Calisan Bilgisi:\n",
      "\n",
      "        Isim: Yusuf\n",
      "\n",
      "        Soyisim: Erdem\n",
      "\n",
      "        Sirket: Boston Dynamics\n",
      "\n",
      "        Maas: 14000\n",
      "\n",
      "        Diller: ['C', 'Java', 'Python', 'GoLang']\n",
      "\n",
      "        \n"
     ]
    }
   ],
   "source": [
    "yazilimci1.maas_yukselt(500)\n",
    "yazilimci1.bilgileri_goster()\n",
    "yazilimci1.dil_ekle(\"GoLang\")\n",
    "yazilimci1.bilgileri_goster()"
   ]
  },
  {
   "cell_type": "markdown",
   "id": "780ed21d",
   "metadata": {},
   "source": [
    "## INTHERITANCE(Kalitim veya Miras Alma)\n",
    "---\n",
    "**Inheritance** veya **kalıtım** bir sınıfın başka bir sınıftan özelliklerini(attribute) ve metodlarını miras almasıdır.  \n",
    "\n",
    "`Peki inheritance nerede işimize yarar ? Örneğin, bir şirketin çalışanlarını tasarlamak için sınıflar oluşturuyoruz.   \n",
    "Bunun için Yönetici, Proje Direktörü, İşçi gibi sınıflar oluşturmamız gerekiyor. Aslında baktığımız zaman bu sınıfların   \n",
    "hepsinin belli ortak metodları ve özellikleri bulunuyor. O zaman bu ortak özellikleri ve metodları tekrar tekrar bu   \n",
    "sınıfların içinde tanımlamak yerine, bir tane ana class tanımlayıp bu classların bu classın özelliklerini ve metodlarını  \n",
    "almalarını sağlayabiliriz. \n",
    "\n",
    "Inheritance'ın veya Kalıtım'ın temel mantığı budur.`"
   ]
  },
  {
   "cell_type": "code",
   "execution_count": 66,
   "id": "23b25af4",
   "metadata": {},
   "outputs": [],
   "source": [
    "#~ Bir Calisan sinifi olusturalim\n",
    "\n",
    "class Calisan():\n",
    "    def __init__(self, isim, maas, departman):\n",
    "        print(\"Calisan Sinifinin Init Fonksiyonu.\")\n",
    "        self.isim = isim\n",
    "        self.maas = maas\n",
    "        self.departman = departman\n",
    "\n",
    "    def bilgileri_goster(self):\n",
    "        print(\"Calisan Sinifinin Bilgileri ...\")\n",
    "        print(\"Isim: {} \\n Maas: {} \\nDepartman: {}\\n\".format(self.isim, self.maas, self.departman))\n",
    "\n",
    "    def departman_degis(self, yeni_departman_ismi):\n",
    "        self.departman = yeni_departman_ismi\n",
    "\n",
    "\n",
    "class Yonetici(Calisan):\n",
    "    pass"
   ]
  },
  {
   "cell_type": "code",
   "execution_count": 75,
   "id": "b8867d46",
   "metadata": {},
   "outputs": [
    {
     "name": "stdout",
     "output_type": "stream",
     "text": [
      "Calisan Sinifinin Init Fonksiyonu.\n"
     ]
    }
   ],
   "source": [
    "yonetici= Yonetici(\"Yusuf ERDEM\",\"12500\",\"IT\")"
   ]
  },
  {
   "cell_type": "code",
   "execution_count": 76,
   "id": "c39769ec",
   "metadata": {},
   "outputs": [
    {
     "name": "stdout",
     "output_type": "stream",
     "text": [
      "Calisan Sinifinin Bilgileri ...\n",
      "Isim: Yusuf ERDEM \n",
      " Maas: 12500 \n",
      "Departman: IT\n",
      "\n"
     ]
    }
   ],
   "source": [
    "yonetici.bilgileri_goster()"
   ]
  },
  {
   "cell_type": "code",
   "execution_count": 77,
   "id": "ca4bec75",
   "metadata": {},
   "outputs": [
    {
     "name": "stdout",
     "output_type": "stream",
     "text": [
      "Calisan Sinifinin Bilgileri ...\n",
      "Isim: Yusuf ERDEM \n",
      " Maas: 12500 \n",
      "Departman: Insan Kaynaklari\n",
      "\n"
     ]
    }
   ],
   "source": [
    "yonetici.departman_degis(\"Insan Kaynaklari\")\n",
    "yonetici.bilgileri_goster()"
   ]
  },
  {
   "cell_type": "code",
   "execution_count": 78,
   "id": "0b7930b8",
   "metadata": {},
   "outputs": [
    {
     "name": "stdout",
     "output_type": "stream",
     "text": [
      "['__class__', '__delattr__', '__dict__', '__dir__', '__doc__', '__eq__', '__format__', '__ge__', '__getattribute__', '__gt__', '__hash__', '__init__', '__init_subclass__', '__le__', '__lt__', '__module__', '__ne__', '__new__', '__reduce__', '__reduce_ex__', '__repr__', '__setattr__', '__sizeof__', '__str__', '__subclasshook__', '__weakref__', 'bilgileri_goster', 'departman', 'departman_degis', 'isim', 'maas', 'zam_yap']\n"
     ]
    }
   ],
   "source": [
    "print(dir(yonetici))"
   ]
  },
  {
   "cell_type": "code",
   "execution_count": 79,
   "id": "209f51cd",
   "metadata": {},
   "outputs": [],
   "source": [
    "class Yonetici(Calisan):\n",
    "    def zam_yap(self, zam_yap):\n",
    "        self.maas += zam_yap"
   ]
  },
  {
   "cell_type": "code",
   "execution_count": 80,
   "id": "cc624041",
   "metadata": {},
   "outputs": [
    {
     "name": "stdout",
     "output_type": "stream",
     "text": [
      "Calisan Sinifinin Init Fonksiyonu.\n",
      "Calisan Sinifinin Bilgileri ...\n",
      "Isim: Irem Yalcin \n",
      " Maas: 5000 \n",
      "Departman: Insan Kaynaklari\n",
      "\n"
     ]
    }
   ],
   "source": [
    "yonetici1 = Yonetici(\"Irem Yalcin\", 4500, \"Insan Kaynaklari\")\n",
    "yonetici1.zam_yap(500)\n",
    "yonetici1.bilgileri_goster()"
   ]
  },
  {
   "cell_type": "markdown",
   "id": "297eaf37",
   "metadata": {},
   "source": [
    "### Overriding (Iptal Etmek)\n",
    "Eğer biz miras aldığımız metodları aynı isimle kendi sınıfımızda tekrar tanımlarsak , artık metodu çağırdığımız zaman   \n",
    "miras aldığımız değil kendi metodumuz çalışacaktır. Buna Nesne Tabanlı Programlamada bir metodu override etmek denmektedir.\n",
    "\n",
    "\n",
    "Örneğin artık Çalışan sınıfının init metodunu kullanmak yerine Yönetici sınıfında init metodunu override edebiliriz.  \n",
    "Böylelikle Yönetici sınıfına ekstra özellikler(attribute) ekleyebiliriz.  \n",
    "\n"
   ]
  },
  {
   "cell_type": "code",
   "execution_count": 81,
   "id": "2bd6cd62",
   "metadata": {},
   "outputs": [],
   "source": [
    "class Calisan():\n",
    "    def __init__(self, isim, maas, departman):\n",
    "        print(\"Calisan Sinifinin Init Fonksiyonu.\")\n",
    "        self.isim = isim\n",
    "        self.maas = maas\n",
    "        self.departman = departman\n",
    "\n",
    "    def bilgileri_goster(self):\n",
    "        print(\"Calisan Sinifinin Bilgileri ...\")\n",
    "        print(\"Isim: {} \\n Maas: {} \\nDepartman: {}\\n\".format(self.isim, self.maas, self.departman))\n",
    "\n",
    "    def departman_degis(self, yeni_departman_ismi):\n",
    "        self.departman = yeni_departman_ismi\n",
    "\n",
    "\n",
    "class Yonetici(Calisan):\n",
    "    def __init__(self, isim, maas, departman, kisi_sayisi):  # kisi Sayisi = Sorumlu Oldugu Kisi sayisi\n",
    "        self.isim = isim\n",
    "        self.maas = maas\n",
    "        self.departman = departman\n",
    "        self.kisi_sayisi = kisi_sayisi  # yeni eklenen ozellik.\n",
    "\n",
    "    def zam_yap(self, zam_miktari):\n",
    "        self.maas+=zam_miktari"
   ]
  },
  {
   "cell_type": "markdown",
   "id": "5c19befb",
   "metadata": {},
   "source": [
    "Artik iki init fonk . oldugundan yonetici objesi olusturudugumuzda Yoneticideki init calisacak"
   ]
  },
  {
   "cell_type": "code",
   "execution_count": 83,
   "id": "22d94bce",
   "metadata": {},
   "outputs": [
    {
     "name": "stdout",
     "output_type": "stream",
     "text": [
      "Calisan Sinifinin Bilgileri ...\n",
      "Isim: Yusuf \n",
      " Maas: 12000 \n",
      "Departman: IT\n",
      "\n"
     ]
    }
   ],
   "source": [
    "yonetici21 = Yonetici('Yusuf', 12000, \"IT\", 12)\n",
    "yonetici21.bilgileri_goster()\n",
    "#isim Maas Departman geldi fakat sorumlu oldugu kisi sayisi gelmedi bunun icin asagida tekrar bilgileri gosteri override\n",
    "#etmemiz gerekicek"
   ]
  },
  {
   "cell_type": "code",
   "execution_count": 85,
   "id": "fd18e4cd",
   "metadata": {},
   "outputs": [
    {
     "name": "stdout",
     "output_type": "stream",
     "text": [
      "Yonetici Sinifi Bilgileri...\n",
      "Isim: Yusuf \n",
      " Maas: 12000 \n",
      "Departman: IT\n",
      "Sorumlu Oludu Kisi Sayisi:12\n"
     ]
    }
   ],
   "source": [
    "class Calisan():\n",
    "    def __init__(self, isim, maas, departman):\n",
    "        print(\"Calisan Sinifinin Init Fonksiyonu.\")\n",
    "        self.isim = isim\n",
    "        self.maas = maas\n",
    "        self.departman = departman\n",
    "\n",
    "    def bilgileri_goster(self):\n",
    "        print(\"Calisan Sinifinin Bilgileri ...\")\n",
    "        print(\"Isim: {} \\n Maas: {} \\nDepartman: {}\\n\".format(self.isim, self.maas, self.departman))\n",
    "\n",
    "    def departman_degis(self, yeni_departman_ismi):\n",
    "        self.departman = yeni_departman_ismi\n",
    "\n",
    "\n",
    "class Yonetici(Calisan):\n",
    "    def __init__(self, isim, maas, departman, kisi_sayisi):  # kisi Sayisi = Sorumlu Oldugu Kisi sayisi\n",
    "        self.isim = isim\n",
    "        self.maas = maas\n",
    "        self.departman = departman\n",
    "        self.kisi_sayisi = kisi_sayisi  # yeni eklenen ozellik.\n",
    "\n",
    "    def zam_yap(self, zam_miktari):\n",
    "        self.maas += zam_miktari\n",
    "\n",
    "    def bilgileri_goster(self):\n",
    "        print(\"Yonetici Sinifi Bilgileri...\")\n",
    "        print(\"Isim: {} \\n Maas: {} \\nDepartman: {}\\nSorumlu Oludu Kisi Sayisi:{}\".format(self.isim, self.maas,\n",
    "                                                                                          self.departman,\n",
    "                                                                                          self.kisi_sayisi))\n",
    "\n",
    "\n",
    "yonetici21 = Yonetici('Yusuf', 12000, \"IT\", 12)\n",
    "yonetici21.bilgileri_goster()"
   ]
  },
  {
   "cell_type": "markdown",
   "id": "c02211c7",
   "metadata": {},
   "source": [
    "###  Super Anahtar Kelimesi \n",
    "\n",
    "\n",
    "`super` anahtar kelimesi özellikle override ettiğimiz bir metodun içinde aynı zamanda miras aldığımız bir metodu kullanmak    \n",
    "istersek kullanılabilir. Yani super en genel anlamıyla miras aldığımız sınıfın metodlarını alt sınıflardan kullanmamızısağlar.  \n",
    "\n",
    "Hemen örnek üzerinden anlamaya çalışalım."
   ]
  },
  {
   "cell_type": "code",
   "execution_count": 87,
   "id": "32fb9566",
   "metadata": {},
   "outputs": [
    {
     "name": "stdout",
     "output_type": "stream",
     "text": [
      "Calisan Sinifinin Init Fonksiyonu.\n",
      "Yonetici Sinifi Bilgileri...\n",
      "Isim: Yusuf \n",
      " Maas: 12000 \n",
      "Departman: IT\n",
      "Sorumlu Oludu Kisi Sayisi:13\n"
     ]
    }
   ],
   "source": [
    "class Calisan():\n",
    "    def __init__(self, isim, maas, departman):\n",
    "        print(\"Calisan Sinifinin Init Fonksiyonu.\")\n",
    "        self.isim = isim\n",
    "        self.maas = maas\n",
    "        self.departman = departman\n",
    "\n",
    "    def bilgileri_goster(self):\n",
    "        print(\"Calisan Sinifinin Bilgileri ...\")\n",
    "        print(\"Isim: {} \\n Maas: {} \\nDepartman: {}\\n\".format(self.isim, self.maas, self.departman))\n",
    "\n",
    "    def departman_degis(self, yeni_departman_ismi):\n",
    "        self.departman = yeni_departman_ismi\n",
    "\n",
    "\n",
    "class Yonetici(Calisan):\n",
    "    def __init__(self, isim, maas, departman, kisi_sayisi):  # kisi Sayisi = Sorumlu Oldugu Kisi sayisi\n",
    "        super().__init__(isim, maas,  #Bu Satir Beni self.isim=isim self.maas=maas vs yazmaktan kurtardi sadece ekstra olarak kisi sayisi ekledim\n",
    "                         departman)                                                                                                                                                                                                                                      # Bu Satir Beni self.isim=isim self.maas=maas vs yazmaktan kurtardi sadece ekstra olarak kisi sayisi ekledim\n",
    "        self.kisi_sayisi = kisi_sayisi  # yeni eklenen ozellik.\n",
    "\n",
    "    def zam_yap(self, zam_miktari):\n",
    "        self.maas += zam_miktari\n",
    "\n",
    "    def bilgileri_goster(self):\n",
    "        print(\"Yonetici Sinifi Bilgileri...\")\n",
    "        print(\"Isim: {} \\n Maas: {} \\nDepartman: {}\\nSorumlu Oludu Kisi Sayisi:{}\".format(self.isim, self.maas,self.departman,self.kisi_sayisi))\n",
    "\n",
    "\n",
    "yonetici12 = Yonetici('Yusuf', 12000, \"IT\", 13)\n",
    "yonetici12.bilgileri_goster()\n",
    "\n"
   ]
  },
  {
   "cell_type": "markdown",
   "id": "b4cf0a56",
   "metadata": {},
   "source": [
    "## Special Methods\n",
    "---\n",
    "Nesne tabanlı programlamada son olarak sınıfların özel metodlarını nasıl kendimiz yazarız öğrenmeye çalışalım.\n",
    "\n",
    "Özel metodlar, daha önceden de bahsettiğimiz gibi bizim özel olarak çağırmadığımız ancak her classa ait metodlardır. Bunların çoğu biz tanımlamasak bile Python tarafından varsayılan olarak tanımlanır. Ancak bu metodların bazılarını da özel olarak bizim tanımlamamız gerekmektedir.\n",
    "\n",
    "Daha önceden gördüğümüz init metodu bu metodlara bir örnektir. "
   ]
  },
  {
   "cell_type": "code",
   "execution_count": 91,
   "id": "c5dfcfc0",
   "metadata": {},
   "outputs": [
    {
     "name": "stdout",
     "output_type": "stream",
     "text": [
      "<__main__.Kitap object at 0x10a5d69a0>\n"
     ]
    }
   ],
   "source": [
    "class Kitap():\n",
    "    pass\n",
    "\n",
    "kitap1 = Kitap() #` __init__ methodu\n",
    "print(kitap1) # ciktisi __str__ metodu "
   ]
  },
  {
   "cell_type": "markdown",
   "id": "d01d7e27",
   "metadata": {},
   "source": [
    "### **__** **init __()** **metodu**\n",
    "\n"
   ]
  },
  {
   "cell_type": "code",
   "execution_count": 92,
   "id": "d183fc60",
   "metadata": {},
   "outputs": [],
   "source": [
    "class Kitap():\n",
    "    def __init__(self, isim, yazar, sayfa_sayisi, tur):\n",
    "        print(\"Kitap Objesi Olusturuluyor...\")\n",
    "        self.isim = isim\n",
    "        self.yazar = yazar\n",
    "        self.sayfa_sayisi = sayfa_sayisi\n",
    "        self.tur = tur"
   ]
  },
  {
   "cell_type": "code",
   "execution_count": 94,
   "id": "1aadfb3d",
   "metadata": {},
   "outputs": [
    {
     "name": "stdout",
     "output_type": "stream",
     "text": [
      "Kitap Objesi Olusturuluyor...\n"
     ]
    }
   ],
   "source": [
    "kitap1 = Kitap(\"Homo Saphiens\", \"Yuval Noah HARARI\", 412, \"Populer Bilim\")  # Kendi Metoduz"
   ]
  },
  {
   "cell_type": "markdown",
   "id": "b13e056c",
   "metadata": {},
   "source": [
    "### **__** **str __()** **metodu**\n",
    "\n",
    "\n",
    "normalde print(kitap1) yazarsak\n",
    "\n",
    "`<__main__.Kitap object at 0x7fe1259a00a0> ` Goruruz \n",
    "\n",
    "**Eger str fonksiyonunu kendimiz tanimlarsak kendimiz icine yazi yazabiliriz.**"
   ]
  },
  {
   "cell_type": "code",
   "execution_count": 95,
   "id": "53e4a6fe",
   "metadata": {},
   "outputs": [
    {
     "name": "stdout",
     "output_type": "stream",
     "text": [
      "Kitap Objesi Olusturuluyor...\n"
     ]
    }
   ],
   "source": [
    "class Kitap():\n",
    "    def __init__(self, isim, yazar, sayfa_sayisi, tur):\n",
    "        print(\"Kitap Objesi Olusturuluyor...\")\n",
    "        self.isim = isim\n",
    "        self.yazar = yazar\n",
    "        self.sayfa_sayisi = sayfa_sayisi\n",
    "        self.tur = tur\n",
    "\n",
    "    def __str__(self):\n",
    "        # return kullanmamiz gerekli\n",
    "        return \"Isim:{}\\nYazar:{}\\nSayfa_Sayisi:{}\\nTur{}\".format(self.isim, self.yazar,self.sayfa_sayisi,self.tur)\n",
    "\n",
    "kitap2= Kitap(\"Homo Saphiens\", \"Yuval Noah HARARI\", 412, \"Populer Bilim\")"
   ]
  },
  {
   "cell_type": "code",
   "execution_count": 96,
   "id": "3ec55538",
   "metadata": {},
   "outputs": [
    {
     "name": "stdout",
     "output_type": "stream",
     "text": [
      "Isim:Homo Saphiens\n",
      "Yazar:Yuval Noah HARARI\n",
      "Sayfa_Sayisi:412\n",
      "TurPopuler Bilim\n"
     ]
    }
   ],
   "source": [
    "print(kitap2)"
   ]
  },
  {
   "cell_type": "markdown",
   "id": "91b5ae63",
   "metadata": {},
   "source": [
    "### **__** **len __()** **metodu**"
   ]
  },
  {
   "cell_type": "code",
   "execution_count": 97,
   "id": "d4c5259f",
   "metadata": {},
   "outputs": [
    {
     "name": "stdout",
     "output_type": "stream",
     "text": [
      "Kitap Objesi Olusturuluyor...\n"
     ]
    }
   ],
   "source": [
    "class Kitap():\n",
    "    def __init__(self, isim, yazar, sayfa_sayisi, tur):\n",
    "        print(\"Kitap Objesi Olusturuluyor...\")\n",
    "        self.isim = isim\n",
    "        self.yazar = yazar\n",
    "        self.sayfa_sayisi = sayfa_sayisi\n",
    "        self.tur = tur\n",
    "\n",
    "    def __str__(self):\n",
    "        # return kullanmamiz gerekli\n",
    "        return \"Isim:{}\\nYazar:{}\\nSayfa_Sayisi:{}\\nTur{}\".format(self.isim, self.yazar,self.sayfa_sayisi,self.tur)\n",
    "    def __len__(self):\n",
    "        return self.sayfa_sayisi\n",
    "\n",
    "kitap3= Kitap(\"Homo Saphiens\", \"Yuval Noah HARARI\", 412, \"Populer Bilim\")"
   ]
  },
  {
   "cell_type": "code",
   "execution_count": 100,
   "id": "9ef3be25",
   "metadata": {},
   "outputs": [
    {
     "name": "stdout",
     "output_type": "stream",
     "text": [
      "412\n"
     ]
    }
   ],
   "source": [
    "print(len(kitap3))"
   ]
  },
  {
   "cell_type": "markdown",
   "id": "6814cb3e",
   "metadata": {},
   "source": [
    "### **__** **del __()** **metodu**"
   ]
  },
  {
   "cell_type": "code",
   "execution_count": 101,
   "id": "f31b75b8",
   "metadata": {},
   "outputs": [
    {
     "name": "stdout",
     "output_type": "stream",
     "text": [
      "Kitap Objesi Olusturuluyor...\n"
     ]
    }
   ],
   "source": [
    "class Kitap():\n",
    "    def __init__(self, isim, yazar, sayfa_sayisi, tur):\n",
    "        print(\"Kitap Objesi Olusturuluyor...\")\n",
    "        self.isim = isim\n",
    "        self.yazar = yazar\n",
    "        self.sayfa_sayisi = sayfa_sayisi\n",
    "        self.tur = tur\n",
    "\n",
    "    def __str__(self):\n",
    "        # return kullanmamiz gerekli\n",
    "        return \"Isim:{}\\nYazar:{}\\nSayfa_Sayisi:{}\\nTur{}\".format(self.isim, self.yazar,self.sayfa_sayisi,self.tur)\n",
    "    def __len__(self):\n",
    "        return self.sayfa_sayisi\n",
    "    def __del__(self):\n",
    "        print(\"Kitap Objesi Siliniyor.\")\n",
    "\n",
    "kitap4= Kitap(\"Homo Saphiens\", \"Yuval Noah HARARI\", 412, \"Populer Bilim\")"
   ]
  },
  {
   "cell_type": "code",
   "execution_count": 102,
   "id": "5fde0456",
   "metadata": {},
   "outputs": [
    {
     "name": "stdout",
     "output_type": "stream",
     "text": [
      "Kitap Objesi Siliniyor.\n"
     ]
    }
   ],
   "source": [
    "del kitap4"
   ]
  },
  {
   "cell_type": "code",
   "execution_count": 103,
   "id": "272e92d6",
   "metadata": {},
   "outputs": [
    {
     "ename": "NameError",
     "evalue": "name 'kitap4' is not defined",
     "output_type": "error",
     "traceback": [
      "\u001b[0;31m---------------------------------------------------------------------------\u001b[0m",
      "\u001b[0;31mNameError\u001b[0m                                 Traceback (most recent call last)",
      "\u001b[0;32m<ipython-input-103-43956c1f03a6>\u001b[0m in \u001b[0;36m<module>\u001b[0;34m\u001b[0m\n\u001b[0;32m----> 1\u001b[0;31m \u001b[0mprint\u001b[0m\u001b[0;34m(\u001b[0m\u001b[0mkitap4\u001b[0m\u001b[0;34m)\u001b[0m\u001b[0;34m\u001b[0m\u001b[0;34m\u001b[0m\u001b[0m\n\u001b[0m",
      "\u001b[0;31mNameError\u001b[0m: name 'kitap4' is not defined"
     ]
    }
   ],
   "source": [
    "print(kitap4)"
   ]
  },
  {
   "cell_type": "code",
   "execution_count": null,
   "id": "d3072574",
   "metadata": {},
   "outputs": [],
   "source": []
  }
 ],
 "metadata": {
  "kernelspec": {
   "display_name": "Python 3",
   "language": "python",
   "name": "python3"
  },
  "language_info": {
   "codemirror_mode": {
    "name": "ipython",
    "version": 3
   },
   "file_extension": ".py",
   "mimetype": "text/x-python",
   "name": "python",
   "nbconvert_exporter": "python",
   "pygments_lexer": "ipython3",
   "version": "3.9.3"
  },
  "toc": {
   "base_numbering": 1,
   "nav_menu": {},
   "number_sections": false,
   "sideBar": false,
   "skip_h1_title": false,
   "title_cell": "Table of Contents",
   "title_sidebar": "Contents",
   "toc_cell": true,
   "toc_position": {},
   "toc_section_display": true,
   "toc_window_display": false
  }
 },
 "nbformat": 4,
 "nbformat_minor": 5
}
