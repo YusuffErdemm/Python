{
 "cells": [
  {
   "cell_type": "markdown",
   "id": "f25d0ba2",
   "metadata": {
    "toc": true
   },
   "source": [
    "<h1>Table of Contents<span class=\"tocSkip\"></span></h1>\n",
    "<div class=\"toc\"><ul class=\"toc-item\"><li><span><a href=\"#HATALAR-ve-ISTISNALAR\" data-toc-modified-id=\"HATALAR-ve-ISTISNALAR-1\">HATALAR ve ISTISNALAR</a></span><ul class=\"toc-item\"><li><span><a href=\"#Hatalari-Yakalama\" data-toc-modified-id=\"Hatalari-Yakalama-1.1\">Hatalari Yakalama</a></span><ul class=\"toc-item\"><li><span><a href=\"#try-,-except-bloklari\" data-toc-modified-id=\"try-,-except-bloklari-1.1.1\">try , except bloklari</a></span></li><li><span><a href=\"#try-,-except-,-finally-bloklari\" data-toc-modified-id=\"try-,-except-,-finally-bloklari-1.1.2\">try , except , finally bloklari</a></span></li></ul></li><li><span><a href=\"#Hata-Firlatmak\" data-toc-modified-id=\"Hata-Firlatmak-1.2\">Hata Firlatmak</a></span></li></ul></li></ul></div>"
   ]
  },
  {
   "cell_type": "markdown",
   "id": "0542f52e",
   "metadata": {},
   "source": [
    "# HATALAR ve ISTISNALAR"
   ]
  },
  {
   "cell_type": "markdown",
   "id": "1f06f031",
   "metadata": {},
   "source": [
    "**Python programlarında bazen bir değişkenin tanımlanmadan kullanılmaya çalıştırılması , bazen de yapılamayacak bir  \n",
    "aritmetik işlemin yapılması Pythonda hatalara yol açar. Ancak bu istisnai durumlarda, hataların türüne göre  \n",
    "programlarımızı daha güvenli bir şekilde yazabiliriz.Yani hata çıkarabilecek kodlarımızı öngörerek bu hataları  \n",
    "programlarımızda yakalayabiliriz.**\n",
    "\n",
    "**Pythondaki bazı hatalara şunlar örnek verilebilir;**  "
   ]
  },
  {
   "cell_type": "code",
   "execution_count": 1,
   "id": "3b5d8448",
   "metadata": {},
   "outputs": [
    {
     "ename": "NameError",
     "evalue": "name 'a' is not defined",
     "output_type": "error",
     "traceback": [
      "\u001b[0;31m---------------------------------------------------------------------------\u001b[0m",
      "\u001b[0;31mNameError\u001b[0m                                 Traceback (most recent call last)",
      "\u001b[0;32m<ipython-input-1-bca0e2660b9f>\u001b[0m in \u001b[0;36m<module>\u001b[0;34m\u001b[0m\n\u001b[0;32m----> 1\u001b[0;31m \u001b[0mprint\u001b[0m\u001b[0;34m(\u001b[0m\u001b[0ma\u001b[0m\u001b[0;34m)\u001b[0m\u001b[0;34m\u001b[0m\u001b[0;34m\u001b[0m\u001b[0m\n\u001b[0m",
      "\u001b[0;31mNameError\u001b[0m: name 'a' is not defined"
     ]
    }
   ],
   "source": [
    "print(a)"
   ]
  },
  {
   "cell_type": "code",
   "execution_count": 2,
   "id": "c2526d0b",
   "metadata": {},
   "outputs": [
    {
     "ename": "ValueError",
     "evalue": "invalid literal for int() with base 10: 'd12dsd1dq8dsajd'",
     "output_type": "error",
     "traceback": [
      "\u001b[0;31m---------------------------------------------------------------------------\u001b[0m",
      "\u001b[0;31mValueError\u001b[0m                                Traceback (most recent call last)",
      "\u001b[0;32m<ipython-input-2-7f305ad73100>\u001b[0m in \u001b[0;36m<module>\u001b[0;34m\u001b[0m\n\u001b[0;32m----> 1\u001b[0;31m \u001b[0mint\u001b[0m\u001b[0;34m(\u001b[0m\u001b[0;34m\"d12dsd1dq8dsajd\"\u001b[0m\u001b[0;34m)\u001b[0m\u001b[0;34m\u001b[0m\u001b[0;34m\u001b[0m\u001b[0m\n\u001b[0m",
      "\u001b[0;31mValueError\u001b[0m: invalid literal for int() with base 10: 'd12dsd1dq8dsajd'"
     ]
    }
   ],
   "source": [
    "int(\"d12dsd1dq8dsajd\")"
   ]
  },
  {
   "cell_type": "code",
   "execution_count": 3,
   "id": "6d0deace",
   "metadata": {},
   "outputs": [
    {
     "ename": "ZeroDivisionError",
     "evalue": "division by zero",
     "output_type": "error",
     "traceback": [
      "\u001b[0;31m---------------------------------------------------------------------------\u001b[0m",
      "\u001b[0;31mZeroDivisionError\u001b[0m                         Traceback (most recent call last)",
      "\u001b[0;32m<ipython-input-3-e8326a161779>\u001b[0m in \u001b[0;36m<module>\u001b[0;34m\u001b[0m\n\u001b[0;32m----> 1\u001b[0;31m \u001b[0;36m2\u001b[0m\u001b[0;34m/\u001b[0m\u001b[0;36m0\u001b[0m\u001b[0;34m\u001b[0m\u001b[0;34m\u001b[0m\u001b[0m\n\u001b[0m",
      "\u001b[0;31mZeroDivisionError\u001b[0m: division by zero"
     ]
    }
   ],
   "source": [
    "2/0"
   ]
  },
  {
   "cell_type": "code",
   "execution_count": 4,
   "id": "a49ab2db",
   "metadata": {},
   "outputs": [
    {
     "ename": "SyntaxError",
     "evalue": "invalid syntax (<ipython-input-4-9d86a57b2066>, line 1)",
     "output_type": "error",
     "traceback": [
      "\u001b[0;36m  File \u001b[0;32m\"<ipython-input-4-9d86a57b2066>\"\u001b[0;36m, line \u001b[0;32m1\u001b[0m\n\u001b[0;31m    print(\"Yusuf\"asdoaskoda)\u001b[0m\n\u001b[0m                 ^\u001b[0m\n\u001b[0;31mSyntaxError\u001b[0m\u001b[0;31m:\u001b[0m invalid syntax\n"
     ]
    }
   ],
   "source": [
    "print(\"Yusuf\"asdoaskoda)"
   ]
  },
  {
   "cell_type": "markdown",
   "id": "ae86d815",
   "metadata": {},
   "source": [
    "## Hatalari Yakalama\n",
    "---\n",
    "### try , except bloklari\n",
    "\n",
    "try ,except bloklarının yapısı şu şekildedir;\n",
    "\n",
    ">               try:\n",
    ">>                   Hata çıkarabilecek kodlar buraya yazılıyor.\n",
    ">>                   Eğer hata çıkarsa program uygun olan except bloğuna girecek.\n",
    ">>                   Hata oluşursa try bloğunun geri kalanındaki işlemler çalışmayacak.\n",
    "  \n",
    ">               except Hata1:\n",
    ">>                  Hata1 oluştuğunda burası çalışacak.\n",
    "  \n",
    ">               except Hata2:\n",
    ">>                  Hata2 oluştuğunda burası çalışacak.\n",
    ">>                   //\n",
    ">>                   //\n",
    ">>                   //\n",
    "                    \n",
    "                  "
   ]
  },
  {
   "cell_type": "code",
   "execution_count": 6,
   "id": "9a0a40bf",
   "metadata": {},
   "outputs": [
    {
     "name": "stdout",
     "output_type": "stream",
     "text": [
      "Bir Hata Olustu\n",
      "Bloklar sona erdi\n"
     ]
    }
   ],
   "source": [
    "try:\n",
    "    a=int(\"192idksad1is\")\n",
    "    print(\"Program Burada\")\n",
    "except:\n",
    "    print(\"Bir Hata Olustu\")\n",
    "print(\"Bloklar sona erdi\")"
   ]
  },
  {
   "cell_type": "markdown",
   "id": "648b4531",
   "metadata": {},
   "source": [
    "> a = int(\"32434aaa\") - Value Error\n",
    "\n",
    "> print(2 / 0) - Zero Division Error\n",
    "- Bu iki hatayi deneyelim"
   ]
  },
  {
   "cell_type": "code",
   "execution_count": 7,
   "id": "088a7646",
   "metadata": {},
   "outputs": [
    {
     "name": "stdout",
     "output_type": "stream",
     "text": [
      "Num1:2\n",
      "Num2:0\n",
      "Bir Sayi 0'a Bolunemez.\n"
     ]
    }
   ],
   "source": [
    "try:\n",
    "    a=int(input(\"Num1:\"))\n",
    "    b=int(input(\"Num2:\"))\n",
    "    print(a/b)\n",
    "except ValueError:\n",
    "    print(\"Lutfen Input'u Dogru giriniz...\")\n",
    "except ZeroDivisionError:\n",
    "    print(\"Bir Sayi 0'a Bolunemez.\")"
   ]
  },
  {
   "cell_type": "code",
   "execution_count": 8,
   "id": "80b80611",
   "metadata": {},
   "outputs": [
    {
     "name": "stdout",
     "output_type": "stream",
     "text": [
      "Num1:kmac1\n",
      "Lutfen Input'u Dogru giriniz...\n"
     ]
    }
   ],
   "source": [
    "try:\n",
    "    a=int(input(\"Num1:\"))\n",
    "    b=int(input(\"Num2:\"))\n",
    "    print(a/b)\n",
    "except ValueError:\n",
    "    print(\"Lutfen Input'u Dogru giriniz...\")\n",
    "except ZeroDivisionError:\n",
    "    print(\"Bir Sayi 0'a Bolunemez.\")"
   ]
  },
  {
   "cell_type": "markdown",
   "id": "03ce3040",
   "metadata": {},
   "source": [
    "**Istersek Bu Iki Hataninda ayni except bloguna girmesini saglayabiliriz.**"
   ]
  },
  {
   "cell_type": "code",
   "execution_count": 10,
   "id": "86601d41",
   "metadata": {},
   "outputs": [
    {
     "name": "stdout",
     "output_type": "stream",
     "text": [
      "Num1:21\n",
      "Num2:0\n",
      "Zero Division or Value Error\n"
     ]
    }
   ],
   "source": [
    "try:\n",
    "    a=int(input(\"Num1:\"))\n",
    "    b=int(input(\"Num2:\"))\n",
    "    print(a/b)\n",
    "except (ValueError,ZeroDivisionError):\n",
    "    print(\"Zero Division or Value Error\")"
   ]
  },
  {
   "cell_type": "markdown",
   "id": "322db659",
   "metadata": {},
   "source": [
    "### try , except , finally bloklari\n",
    "---\n",
    "**Bazen programlarımızda her durumda mutlaka çalışmasını istediğimiz kodlar bulunabilir.Bunun için biz kendi try,except  \n",
    "bloklarına ek olarak bir tane finally bloğu ekleyebiliriz. finally blokları hata olması veya olmaması durumunda mutlaka   çalışacaktır.**\n",
    "\n",
    "Yapısı şu şekildedir;\n",
    ">                try:\n",
    ">>                    Hata çıkarabilecek kodlar buraya yazılıyor.\n",
    ">>                    Eğer hata çıkarsa program uygun olan except bloğuna girecek.\n",
    ">>                    Hata oluşursa try bloğunun geri kalanındaki işlemler çalışmayacak.\n",
    ">                except Hata1:\n",
    ">>                     Hata1 oluştuğunda burası çalışacak.\n",
    ">                except Hata2:\n",
    ">>                     Hata2 oluştuğunda burası çalışacak.\n",
    "\n",
    ">>                    //\n",
    ">>                    //\n",
    ">>                    //\n",
    "\n",
    ">                finally:\n",
    "\n",
    ">>                     Mutlaka çalışması gereken kodlar buraya\n",
    ">>                     Bu blok her türlü çalışacak.\n",
    ">>                     Mesela dosyanin kesinlikle kapanmasi gerekiyor o kodlari buraya yaziyoruz.\"\"\""
   ]
  },
  {
   "cell_type": "code",
   "execution_count": 1,
   "id": "2783b21e",
   "metadata": {},
   "outputs": [
    {
     "name": "stdout",
     "output_type": "stream",
     "text": [
      "Sayı1:2\n",
      "Sayı2:0\n",
      "Bir sayı 0'a bölünemez.\n",
      "Her durumda çalışıyorum.\n"
     ]
    }
   ],
   "source": [
    "try:\n",
    "    a = int(input(\"Sayı1:\"))\n",
    "    b = int(input(\"Sayı2:\"))\n",
    "    print(a / b) # Hata burada oluşuyor. ZeroDivisionError'a bloğuna giriyoruz.\n",
    "except ValueError:\n",
    "    print(\"Lütfen inputları doğru girin.\")\n",
    "except ZeroDivisionError:\n",
    "    print(\"Bir sayı 0'a bölünemez.\")\n",
    "finally:\n",
    "    print(\"Her durumda çalışıyorum.\")"
   ]
  },
  {
   "cell_type": "markdown",
   "id": "81184217",
   "metadata": {},
   "source": [
    "## Hata Firlatmak\n",
    "---\n",
    "Bazen kendi yazdığımız fonksiyonlar yanlış kullanılırsa kendi hatalarımızı üretip Pythonda bu hataları fırlatabiliriz. \n",
    "Bunun içinde raise anahtar kelimesini kullanacağız.\n",
    "\n",
    "Hata fırlatma şu şekilde yapılabilmektedir;  \n",
    "\n",
    "> raise HataAdı(opsiyonel hata mesajı)"
   ]
  },
  {
   "cell_type": "code",
   "execution_count": 7,
   "id": "5c5dc65f",
   "metadata": {},
   "outputs": [],
   "source": [
    "def terscevir(strng):\n",
    "    if type(strng) != str :\n",
    "        raise ValueError(\"Lutfen String bir deger gonderiniz.\")\n",
    "    else:\n",
    "        strng=strng[::-1]\n",
    "        print(strng)"
   ]
  },
  {
   "cell_type": "code",
   "execution_count": 8,
   "id": "119bcd9c",
   "metadata": {},
   "outputs": [
    {
     "name": "stdout",
     "output_type": "stream",
     "text": [
      "nohtyP\n"
     ]
    }
   ],
   "source": [
    "terscevir(\"Python\")"
   ]
  },
  {
   "cell_type": "code",
   "execution_count": 9,
   "id": "cc0eb3c8",
   "metadata": {},
   "outputs": [
    {
     "ename": "ValueError",
     "evalue": "Lutfen String bir deger gonderiniz.",
     "output_type": "error",
     "traceback": [
      "\u001b[0;31m---------------------------------------------------------------------------\u001b[0m",
      "\u001b[0;31mValueError\u001b[0m                                Traceback (most recent call last)",
      "\u001b[0;32m<ipython-input-9-811d8f3197d6>\u001b[0m in \u001b[0;36m<module>\u001b[0;34m\u001b[0m\n\u001b[0;32m----> 1\u001b[0;31m \u001b[0mterscevir\u001b[0m\u001b[0;34m(\u001b[0m\u001b[0;36m12\u001b[0m\u001b[0;34m)\u001b[0m\u001b[0;34m\u001b[0m\u001b[0;34m\u001b[0m\u001b[0m\n\u001b[0m",
      "\u001b[0;32m<ipython-input-7-6212616e9054>\u001b[0m in \u001b[0;36mterscevir\u001b[0;34m(strng)\u001b[0m\n\u001b[1;32m      1\u001b[0m \u001b[0;32mdef\u001b[0m \u001b[0mterscevir\u001b[0m\u001b[0;34m(\u001b[0m\u001b[0mstrng\u001b[0m\u001b[0;34m)\u001b[0m\u001b[0;34m:\u001b[0m\u001b[0;34m\u001b[0m\u001b[0;34m\u001b[0m\u001b[0m\n\u001b[1;32m      2\u001b[0m     \u001b[0;32mif\u001b[0m \u001b[0mtype\u001b[0m\u001b[0;34m(\u001b[0m\u001b[0mstrng\u001b[0m\u001b[0;34m)\u001b[0m \u001b[0;34m!=\u001b[0m \u001b[0mstr\u001b[0m \u001b[0;34m:\u001b[0m\u001b[0;34m\u001b[0m\u001b[0;34m\u001b[0m\u001b[0m\n\u001b[0;32m----> 3\u001b[0;31m         \u001b[0;32mraise\u001b[0m \u001b[0mValueError\u001b[0m\u001b[0;34m(\u001b[0m\u001b[0;34m\"Lutfen String bir deger gonderiniz.\"\u001b[0m\u001b[0;34m)\u001b[0m\u001b[0;34m\u001b[0m\u001b[0;34m\u001b[0m\u001b[0m\n\u001b[0m\u001b[1;32m      4\u001b[0m     \u001b[0;32melse\u001b[0m\u001b[0;34m:\u001b[0m\u001b[0;34m\u001b[0m\u001b[0;34m\u001b[0m\u001b[0m\n\u001b[1;32m      5\u001b[0m         \u001b[0mstrng\u001b[0m\u001b[0;34m=\u001b[0m\u001b[0mstrng\u001b[0m\u001b[0;34m[\u001b[0m\u001b[0;34m:\u001b[0m\u001b[0;34m:\u001b[0m\u001b[0;34m-\u001b[0m\u001b[0;36m1\u001b[0m\u001b[0;34m]\u001b[0m\u001b[0;34m\u001b[0m\u001b[0;34m\u001b[0m\u001b[0m\n",
      "\u001b[0;31mValueError\u001b[0m: Lutfen String bir deger gonderiniz."
     ]
    }
   ],
   "source": [
    "terscevir(12)"
   ]
  },
  {
   "cell_type": "markdown",
   "id": "2cd8c38f",
   "metadata": {},
   "source": [
    "**Lutfen String Bir Deger Gonderin! diyor fakat ben bunu try da nasil yakalayacagim?**"
   ]
  },
  {
   "cell_type": "code",
   "execution_count": 10,
   "id": "fa8a8c17",
   "metadata": {},
   "outputs": [
    {
     "name": "stdout",
     "output_type": "stream",
     "text": [
      "Fonksiyon Hata Verdi\n"
     ]
    }
   ],
   "source": [
    "try:\n",
    "    terscevir(12)\n",
    "except ValueError:\n",
    "    print(\"Fonksiyon Hata Verdi\")\n"
   ]
  },
  {
   "cell_type": "code",
   "execution_count": null,
   "id": "8c5e645f",
   "metadata": {},
   "outputs": [],
   "source": []
  }
 ],
 "metadata": {
  "kernelspec": {
   "display_name": "Python 3",
   "language": "python",
   "name": "python3"
  },
  "language_info": {
   "codemirror_mode": {
    "name": "ipython",
    "version": 3
   },
   "file_extension": ".py",
   "mimetype": "text/x-python",
   "name": "python",
   "nbconvert_exporter": "python",
   "pygments_lexer": "ipython3",
   "version": "3.9.3"
  },
  "toc": {
   "base_numbering": 1,
   "nav_menu": {},
   "number_sections": false,
   "sideBar": false,
   "skip_h1_title": false,
   "title_cell": "Table of Contents",
   "title_sidebar": "Contents",
   "toc_cell": true,
   "toc_position": {},
   "toc_section_display": true,
   "toc_window_display": false
  }
 },
 "nbformat": 4,
 "nbformat_minor": 5
}
