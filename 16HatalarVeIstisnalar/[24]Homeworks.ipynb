{
 "cells": [
  {
   "cell_type": "markdown",
   "id": "ac8c6416",
   "metadata": {},
   "source": [
    "**Problem 1**  \n",
    "\n",
    "---\n",
    "Elinizde stringlerin bulunduğu bir liste bulunduğunu düşünün.\n",
    "\n",
    "liste = [\"345\",\"sadas\",\"324a\",\"14\",\"yusuf\"]\n",
    "\n",
    "\n",
    "Bu listenin içindeki stringlerden içinde sadece rakam bulunanları ekrana yazdırın. Bunu yaparken try,except bloklarını kullanmayı unutmayın.\n",
    "\n"
   ]
  },
  {
   "cell_type": "code",
   "execution_count": 2,
   "id": "a1feca32",
   "metadata": {},
   "outputs": [
    {
     "name": "stdout",
     "output_type": "stream",
     "text": [
      "345\n",
      "Element is not an integer\n",
      "Element is not an integer\n",
      "14\n",
      "Element is not an integer\n"
     ]
    }
   ],
   "source": [
    "liste = [\"345\",\"sadas\",\"324a\",\"14\",\"ysf\"]\n",
    "for i in liste:\n",
    "    try:\n",
    "        i = int(i)\n",
    "        print(i)\n",
    "    except ValueError:\n",
    "        print(\"Element is not an integer\")"
   ]
  },
  {
   "cell_type": "markdown",
   "id": "e80b0ee2",
   "metadata": {},
   "source": [
    "**Problem 2**\n",
    "\n",
    "---\n",
    "Bir sayının çift olup olmadığını sorgulayan bir fonksiyon yazın. Bu fonksiyon, eğer sayı çift ise return ile bu değeri  \n",
    "dönsün. Ancak sayı tek sayı ise fonksiyon raise ile ValueError hatası fırlatsın. Daha sonra, içinde çift ve tek sayılar  \n",
    "bulunduran bir liste tanımlayın ve liste üzerinde gezinerek ekrana sadece çift sayıları bastırın."
   ]
  },
  {
   "cell_type": "code",
   "execution_count": 8,
   "id": "5361b36d",
   "metadata": {},
   "outputs": [],
   "source": [
    "def oddoreven(num):\n",
    "    if num % 2 == 0 :\n",
    "        return num\n",
    "    else:\n",
    "        raise ValueError\n"
   ]
  },
  {
   "cell_type": "code",
   "execution_count": 19,
   "id": "a3a4ba30",
   "metadata": {},
   "outputs": [
    {
     "name": "stdout",
     "output_type": "stream",
     "text": [
      "34\n",
      "2\n",
      "100\n",
      "1800\n"
     ]
    }
   ],
   "source": [
    "list1 = [34,2,1,3,33,100,\"jkdsadasd\",61,1800,\"21usjad\"]\n",
    "for i in list1:\n",
    "    try:\n",
    "        print(oddoreven(i))\n",
    "    except (ValueError,TypeError):\n",
    "        pass"
   ]
  },
  {
   "cell_type": "code",
   "execution_count": null,
   "id": "4908fe33",
   "metadata": {},
   "outputs": [],
   "source": []
  }
 ],
 "metadata": {
  "kernelspec": {
   "display_name": "Python 3",
   "language": "python",
   "name": "python3"
  },
  "language_info": {
   "codemirror_mode": {
    "name": "ipython",
    "version": 3
   },
   "file_extension": ".py",
   "mimetype": "text/x-python",
   "name": "python",
   "nbconvert_exporter": "python",
   "pygments_lexer": "ipython3",
   "version": "3.9.3"
  },
  "toc": {
   "base_numbering": 1,
   "nav_menu": {},
   "number_sections": false,
   "sideBar": false,
   "skip_h1_title": false,
   "title_cell": "Table of Contents",
   "title_sidebar": "Contents",
   "toc_cell": false,
   "toc_position": {},
   "toc_section_display": true,
   "toc_window_display": false
  }
 },
 "nbformat": 4,
 "nbformat_minor": 5
}
