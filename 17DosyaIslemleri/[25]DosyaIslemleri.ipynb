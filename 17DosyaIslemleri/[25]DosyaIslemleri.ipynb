{
 "cells": [
  {
   "cell_type": "markdown",
   "id": "b2686d4a",
   "metadata": {
    "toc": true
   },
   "source": [
    "<h1>Table of Contents<span class=\"tocSkip\"></span></h1>\n",
    "<div class=\"toc\"><ul class=\"toc-item\"><li><span><a href=\"#Dosya-Islemleri\" data-toc-modified-id=\"Dosya-Islemleri-1\">Dosya Islemleri</a></span><ul class=\"toc-item\"><li><span><a href=\"#open()-fonksiyonu\" data-toc-modified-id=\"open()-fonksiyonu-1.1\">open() fonksiyonu</a></span></li><li><span><a href=\"#w-dosya-kipi\" data-toc-modified-id=\"w-dosya-kipi-1.2\">w dosya kipi</a></span></li><li><span><a href=\"#a-kipiyle-dosyalara-yazmak\" data-toc-modified-id=\"a-kipiyle-dosyalara-yazmak-1.3\">a kipiyle dosyalara yazmak</a></span></li><li><span><a href=\"#r-dosya-kipi\" data-toc-modified-id=\"r-dosya-kipi-1.4\">r dosya kipi</a></span></li><li><span><a href=\"#read()-fonksiyonu\" data-toc-modified-id=\"read()-fonksiyonu-1.5\">read() fonksiyonu</a></span></li><li><span><a href=\"#readline()-fonksiyonu\" data-toc-modified-id=\"readline()-fonksiyonu-1.6\">readline() fonksiyonu</a></span></li><li><span><a href=\"#readlines()-fonksiyonu\" data-toc-modified-id=\"readlines()-fonksiyonu-1.7\">readlines() fonksiyonu</a></span></li></ul></li><li><span><a href=\"#Dosyalarda-Kullanılan-Fonksiyonlar\" data-toc-modified-id=\"Dosyalarda-Kullanılan-Fonksiyonlar-2\">Dosyalarda Kullanılan Fonksiyonlar</a></span><ul class=\"toc-item\"><li><span><a href=\"#Dosyalari-Otomatik-kapama\" data-toc-modified-id=\"Dosyalari-Otomatik-kapama-2.1\">Dosyalari Otomatik kapama</a></span></li><li><span><a href=\"#Dosyalari-ileri-sarmak\" data-toc-modified-id=\"Dosyalari-ileri-sarmak-2.2\">Dosyalari ileri sarmak</a></span><ul class=\"toc-item\"><li><span><a href=\"#tell()--ve-seek()-fonksiyonu\" data-toc-modified-id=\"tell()--ve-seek()-fonksiyonu-2.2.1\"><strong>tell()</strong>  ve <strong>seek()</strong> fonksiyonu</a></span></li></ul></li><li><span><a href=\"#Dosyalarda-Değişiklik-Yapmak\" data-toc-modified-id=\"Dosyalarda-Değişiklik-Yapmak-2.3\">Dosyalarda Değişiklik Yapmak</a></span><ul class=\"toc-item\"><li><span><a href=\"#seek()-ve-write()\" data-toc-modified-id=\"seek()-ve-write()-2.3.1\">seek() ve write()</a></span><ul class=\"toc-item\"><li><span><a href=\"#r+-kipi\" data-toc-modified-id=\"r+-kipi-2.3.1.1\">r+ kipi</a></span></li></ul></li></ul></li><li><span><a href=\"#Dosyanin-Sonuna-Degisiklik-yapmak\" data-toc-modified-id=\"Dosyanin-Sonuna-Degisiklik-yapmak-2.4\">Dosyanin Sonuna Degisiklik yapmak</a></span></li><li><span><a href=\"#Dosyanın-Başında-Değişiklik-Yapmak\" data-toc-modified-id=\"Dosyanın-Başında-Değişiklik-Yapmak-2.5\">Dosyanın Başında Değişiklik Yapmak</a></span></li><li><span><a href=\"#Dosyanin-Ortasinda-Degisiklik-Yapmak\" data-toc-modified-id=\"Dosyanin-Ortasinda-Degisiklik-Yapmak-2.6\">Dosyanin Ortasinda Degisiklik Yapmak</a></span><ul class=\"toc-item\"><li><span><a href=\"#insert()-fonksiyonu\" data-toc-modified-id=\"insert()-fonksiyonu-2.6.1\">insert() fonksiyonu</a></span></li><li><span><a href=\"#writelines()-fonksiyonu\" data-toc-modified-id=\"writelines()-fonksiyonu-2.6.2\">writelines() fonksiyonu</a></span></li></ul></li></ul></li></ul></div>"
   ]
  },
  {
   "cell_type": "markdown",
   "id": "8fa4948b",
   "metadata": {},
   "source": [
    "# Dosya Islemleri"
   ]
  },
  {
   "cell_type": "markdown",
   "id": "c8feeb28",
   "metadata": {},
   "source": [
    "## open() fonksiyonu\n",
    "**Bir Dosyayi acmak icin bu fonksiyonu kullaniyoruz .**\n",
    "\n",
    "Yapisi su sekildedir :\n",
    "\n",
    "  >open(dosya_adı,dosya_erişme_kipi)\n",
    "  \n",
    "  Dosya adını istediğimiz isimde verebiliriz. Dosya erişme kipi ise bizim dosya üzerindeki işlemlerimizi   belirler\n",
    "\n",
    "\n",
    "## w dosya kipi\n",
    "Dosyalarımızı açmak ve dosyalarımıza yazmak için \"write\" anlamına gelen \"w\" kipini kullanıyoruz. \"w\" kipi eğer  \n",
    "oluşturmak istediğimiz dizinde öyle bir dosya yoksa dosyayı oluşturuyor , eğer öyle bir dosya varsa dosyayı silip  \n",
    "tekrar oluşturuyor. Yani, eğer açmak istediğimiz dosyadan zaten varsa ve dosyanın içi doluysa \"w\" kipi dosyadaki  \n",
    "bilgileri silip tekrar oluşturacaktır. (Biraz Tehlikeli)"
   ]
  },
  {
   "cell_type": "code",
   "execution_count": 3,
   "id": "8a45cf95",
   "metadata": {},
   "outputs": [
    {
     "data": {
      "text/plain": [
       "<_io.TextIOWrapper name='bilgiler.txt' mode='w' encoding='UTF-8'>"
      ]
     },
     "execution_count": 3,
     "metadata": {},
     "output_type": "execute_result"
    }
   ],
   "source": [
    "open(\"bilgiler.txt\",\"w\")\n",
    "# Dosyayi bulundugumuz dizinde actik."
   ]
  },
  {
   "cell_type": "code",
   "execution_count": 10,
   "id": "0e3bc8b7",
   "metadata": {},
   "outputs": [],
   "source": [
    "file=open(\"/Users/yusuferdem/Desktop/PythonJuPyter/17DosyaIslemleri/bilgiler.txt\",\"w\")\n",
    "file.close() # Kapatmak icin"
   ]
  },
  {
   "cell_type": "code",
   "execution_count": 12,
   "id": "d01f3ec1",
   "metadata": {},
   "outputs": [],
   "source": [
    "file=open(\"/Users/yusuferdem/Desktop/PythonJuPyter/17DosyaIslemleri/bilgiler.txt\",\"w\")\n",
    "file.write(\"Yusuf Erdem şş\")\n",
    "file.close()"
   ]
  },
  {
   "cell_type": "code",
   "execution_count": 13,
   "id": "3a34a701",
   "metadata": {},
   "outputs": [],
   "source": [
    "file=open(\"/Users/yusuferdem/Desktop/PythonJuPyter/17DosyaIslemleri/bilgiler.txt\",\"w\")\n",
    "# Dosyayi sildi ve tekrar olusturdu.. Bunu onlemek icin"
   ]
  },
  {
   "cell_type": "markdown",
   "id": "602e201d",
   "metadata": {},
   "source": [
    "## a kipiyle dosyalara yazmak\n",
    "append\" (ekleme) kelimesinin kısaltması olan \"a\" kipiyle bir dosyayı açtığımızda , dosya eğer yoksa oluşturulur. Eğer  \n",
    "öyle bir dosya mevcut ise, dosya tekrar oluşturulmaz ve dosya imleci dosyanın sonuna giderek dosyaya  \n",
    "ekleme yapmamızı sağlar.  "
   ]
  },
  {
   "cell_type": "code",
   "execution_count": 22,
   "id": "57d4edd9",
   "metadata": {},
   "outputs": [
    {
     "data": {
      "text/plain": [
       "<function TextIOWrapper.close()>"
      ]
     },
     "execution_count": 22,
     "metadata": {},
     "output_type": "execute_result"
    }
   ],
   "source": [
    "file=open(\"/Users/yusuferdem/Desktop/PythonJuPyter/17DosyaIslemleri/bilgiler.txt\",\"a\",encoding=\"utf-8\")\n",
    "file.write(\"Yusuf Erdem\")\n",
    "file.close\n",
    "file.write(\"Irem Yalcin\")\n",
    "file.close"
   ]
  },
  {
   "cell_type": "markdown",
   "id": "51881555",
   "metadata": {},
   "source": [
    "**Soyle bir sorun var ki ekledigim seyleri bitisik yaziyor.**\n",
    "\n",
    "Bunu engellemek icin:"
   ]
  },
  {
   "cell_type": "code",
   "execution_count": 26,
   "id": "18e676f5",
   "metadata": {},
   "outputs": [
    {
     "data": {
      "text/plain": [
       "<function TextIOWrapper.close()>"
      ]
     },
     "execution_count": 26,
     "metadata": {},
     "output_type": "execute_result"
    }
   ],
   "source": [
    "file=open(\"/Users/yusuferdem/Desktop/PythonJuPyter/17DosyaIslemleri/bilgiler.txt\",\"a\",encoding=\"utf-8\")\n",
    "file.write(\"Yusuf Erdem\\n\")\n",
    "file.close\n",
    "file.write(\"Irem Yalcin\\n\")\n",
    "file.close\n",
    "\n",
    " # BASARILI !\n"
   ]
  },
  {
   "cell_type": "markdown",
   "id": "78b95142",
   "metadata": {},
   "source": [
    "**Dosyalari Okumak ve Bilgileri Almak Icin**\n",
    "\n",
    "## r dosya kipi\n",
    "\n",
    "\"r\" kipiyle açtığımız dosya eğer bulunmuyorsa \"FileNotFoundError\" hatası dönecektir\n"
   ]
  },
  {
   "cell_type": "code",
   "execution_count": 29,
   "id": "3cfe3d3e",
   "metadata": {},
   "outputs": [
    {
     "data": {
      "text/plain": [
       "<function TextIOWrapper.close()>"
      ]
     },
     "execution_count": 29,
     "metadata": {},
     "output_type": "execute_result"
    }
   ],
   "source": [
    "file=open(\"/Users/yusuferdem/Desktop/PythonJuPyter/17DosyaIslemleri/bilgiler.txt\",\"r\",encoding=\"utf-8\")\n",
    "file.close"
   ]
  },
  {
   "cell_type": "code",
   "execution_count": 44,
   "id": "ee6d58d2",
   "metadata": {},
   "outputs": [
    {
     "data": {
      "text/plain": [
       "17"
      ]
     },
     "execution_count": 44,
     "metadata": {},
     "output_type": "execute_result"
    }
   ],
   "source": [
    "file=open(\"/Users/yusuferdem/Desktop/PythonJuPyter/17DosyaIslemleri/bilgiler.txt\",\"a\",encoding=\"utf-8\")\n",
    "file.write(\"Yusuf Erdem\\n\")\n",
    "file.write(\"Irem Yalcin\\n\")\n",
    "file.write(\"Yigit Erdem\\n\")\n",
    "file.write(\"Guido Van Rossum\\n\")\n",
    "file.write(\"Serdar Ortac\\n\")\n",
    "file.write(\"Steve Woizniak\\n\")\n",
    "file.write(\"Ibrahim Tatlises\\n\")"
   ]
  },
  {
   "cell_type": "code",
   "execution_count": 45,
   "id": "2cadeadc",
   "metadata": {},
   "outputs": [
    {
     "name": "stdout",
     "output_type": "stream",
     "text": [
      "Yusuf Erdem\n",
      "\n",
      "Irem Yalcin\n",
      "\n",
      "Yigit Erdem\n",
      "\n",
      "Guido Van Rossum\n",
      "\n",
      "Serdar Ortac\n",
      "\n",
      "Steve Woizniak\n",
      "\n",
      "Ibrahim Tatlises\n",
      "\n",
      "Yusuf Erdem\n",
      "\n",
      "Irem Yalcin\n",
      "\n",
      "Yigit Erdem\n",
      "\n",
      "Guido Van Rossum\n",
      "\n",
      "Serdar Ortac\n",
      "\n",
      "Steve Woizniak\n",
      "\n",
      "Ibrahim Tatlises\n",
      "\n"
     ]
    }
   ],
   "source": [
    "file=open(\"/Users/yusuferdem/Desktop/PythonJuPyter/17DosyaIslemleri/bilgiler.txt\",\"r\",encoding=\"utf-8\")\n",
    "for i in file:\n",
    "    print(i)"
   ]
  },
  {
   "cell_type": "markdown",
   "id": "76b211c0",
   "metadata": {},
   "source": [
    "Gormekteyiz ki Birer satir bosluk birakarak yazdi..\n",
    "\n",
    "Bunun onune gecmek icin:"
   ]
  },
  {
   "cell_type": "code",
   "execution_count": 48,
   "id": "156620e6",
   "metadata": {},
   "outputs": [
    {
     "name": "stdout",
     "output_type": "stream",
     "text": [
      "Yusuf Erdem\n",
      "Irem Yalcin\n",
      "Yigit Erdem\n",
      "Guido Van Rossum\n",
      "Serdar Ortac\n",
      "Steve Woizniak\n",
      "Ibrahim Tatlises\n",
      "Yusuf Erdem\n",
      "Irem Yalcin\n",
      "Yigit Erdem\n",
      "Guido Van Rossum\n",
      "Serdar Ortac\n",
      "Steve Woizniak\n",
      "Ibrahim Tatlises\n"
     ]
    },
    {
     "data": {
      "text/plain": [
       "<function TextIOWrapper.close()>"
      ]
     },
     "execution_count": 48,
     "metadata": {},
     "output_type": "execute_result"
    }
   ],
   "source": [
    "file=open(\"/Users/yusuferdem/Desktop/PythonJuPyter/17DosyaIslemleri/bilgiler.txt\",\"r\",encoding=\"utf-8\")\n",
    "for i in file:\n",
    "    print(i,end=\"\")\n",
    "file.close"
   ]
  },
  {
   "cell_type": "markdown",
   "id": "7b943b8a",
   "metadata": {},
   "source": [
    "##  read() fonksiyonu"
   ]
  },
  {
   "cell_type": "markdown",
   "id": "335e47b9",
   "metadata": {},
   "source": [
    "**read() fonksiyonu eğer içine hiçbir değer vermezsek bütün dosyamızı okuyacaktır.**  \n",
    "\n",
    "read() fonksiyonuna değer vererek belli bir kısmı okumayı Sonra  Ogrensek . Daha doğru olur.\n",
    "\n"
   ]
  },
  {
   "cell_type": "code",
   "execution_count": 51,
   "id": "83a6e1aa",
   "metadata": {},
   "outputs": [
    {
     "name": "stdout",
     "output_type": "stream",
     "text": [
      "Yusuf Erdem\n",
      "Irem Yalcin\n",
      "Yigit Erdem\n",
      "Guido Van Rossum\n",
      "Serdar Ortac\n",
      "Steve Woizniak\n",
      "Ibrahim Tatlises\n",
      "Yusuf Erdem\n",
      "Irem Yalcin\n",
      "Yigit Erdem\n",
      "Guido Van Rossum\n",
      "Serdar Ortac\n",
      "Steve Woizniak\n",
      "Ibrahim Tatlises\n",
      "\n"
     ]
    },
    {
     "data": {
      "text/plain": [
       "<function TextIOWrapper.close()>"
      ]
     },
     "execution_count": 51,
     "metadata": {},
     "output_type": "execute_result"
    }
   ],
   "source": [
    "file=open(\"bilgiler.txt\",\"r\")\n",
    "icerik=file.read()\n",
    "print(icerik)\n",
    "file.close"
   ]
  },
  {
   "cell_type": "code",
   "execution_count": 52,
   "id": "500b6082",
   "metadata": {},
   "outputs": [
    {
     "name": "stdout",
     "output_type": "stream",
     "text": [
      "\n"
     ]
    }
   ],
   "source": [
    "icerik2=file.read()\n",
    "print(icerik2)"
   ]
  },
  {
   "cell_type": "markdown",
   "id": "590c415d",
   "metadata": {},
   "source": [
    "Bunun Icerisinde Hicbir sey yok.  \n",
    "\n",
    "read() fonksiyonuyla bir dosyayı okuduğumuzda :  \n",
    "dosya imlecimiz dosyanın en sonuna gider ve read() fonksiyonu 2. okuma da artık boş string döner.\n",
    "\n"
   ]
  },
  {
   "cell_type": "code",
   "execution_count": 55,
   "id": "4c8b7479",
   "metadata": {},
   "outputs": [
    {
     "name": "stdout",
     "output_type": "stream",
     "text": [
      "Yusuf Erdem\n",
      "Irem Yalcin\n",
      "Yigit Erdem\n",
      "Guido Van Rossum\n",
      "Serdar Ortac\n",
      "Steve Woizniak\n",
      "Ibrahim Tatlises\n",
      "Yusuf Erdem\n",
      "Irem Yalcin\n",
      "Yigit Erdem\n",
      "Guido Van Rossum\n",
      "Serdar Ortac\n",
      "Steve Woizniak\n",
      "Ibrahim Tatlises\n",
      "\n"
     ]
    },
    {
     "data": {
      "text/plain": [
       "<function TextIOWrapper.close()>"
      ]
     },
     "execution_count": 55,
     "metadata": {},
     "output_type": "execute_result"
    }
   ],
   "source": [
    "file = open(\"bilgiler.txt\",\"r\", encoding=\"utf-8\")\n",
    "icerik=file.read()\n",
    "print(icerik,sep=\"\") # sep=\"\" Basta 1 bosluk biraktigi icindi.\n",
    "file.close"
   ]
  },
  {
   "cell_type": "markdown",
   "id": "57f9366c",
   "metadata": {},
   "source": [
    "## readline() fonksiyonu\n",
    "readline() fonksiyonu her çağrıldığında dosyanın sadece bir satırını okur. Her seferinde dosya imlecimiz (file) bir satır atlayarak devam eder."
   ]
  },
  {
   "cell_type": "code",
   "execution_count": 58,
   "id": "fb9e27be",
   "metadata": {},
   "outputs": [
    {
     "name": "stdout",
     "output_type": "stream",
     "text": [
      "Yusuf Erdem\n",
      "\n",
      "Irem Yalcin\n",
      "\n",
      "Yigit Erdem\n",
      "\n"
     ]
    },
    {
     "data": {
      "text/plain": [
       "<function TextIOWrapper.close()>"
      ]
     },
     "execution_count": 58,
     "metadata": {},
     "output_type": "execute_result"
    }
   ],
   "source": [
    "file=open(\"bilgiler.txt\",\"r\",encoding=\"utf-8\")\n",
    "print(file.readline())\n",
    "print(file.readline())\n",
    "print(file.readline())\n",
    "\n",
    "file.close\n"
   ]
  },
  {
   "cell_type": "markdown",
   "id": "10293a2b",
   "metadata": {},
   "source": [
    "## readlines() fonksiyonu\n",
    "readlines() fonksiyonu dosyanın bütün satırları bir liste şeklinde döner."
   ]
  },
  {
   "cell_type": "code",
   "execution_count": 62,
   "id": "4ba1c2cc",
   "metadata": {},
   "outputs": [
    {
     "name": "stdout",
     "output_type": "stream",
     "text": [
      "['Yusuf Erdem\\n', 'Irem Yalcin\\n', 'Yigit Erdem\\n', 'Guido Van Rossum\\n', 'Serdar Ortac\\n', 'Steve Woizniak\\n', 'Ibrahim Tatlises\\n', 'Yusuf Erdem\\n', 'Irem Yalcin\\n', 'Yigit Erdem\\n', 'Guido Van Rossum\\n', 'Serdar Ortac\\n', 'Steve Woizniak\\n', 'Ibrahim Tatlises\\n']\n"
     ]
    }
   ],
   "source": [
    "file=open(\"bilgiler.txt\",\"r\")\n",
    "icerik_listesi=file.readlines()\n",
    "print(icerik_listesi)\n",
    "file.close()"
   ]
  },
  {
   "cell_type": "markdown",
   "id": "41ef9655",
   "metadata": {},
   "source": [
    "# Dosyalarda Kullanılan Fonksiyonlar"
   ]
  },
  {
   "cell_type": "markdown",
   "id": "d694af9a",
   "metadata": {},
   "source": [
    "## Dosyalari Otomatik kapama\n",
    "**Dosyalarda işlemlerimiz bittiği zaman dosyamızı kapatmamız gerektiğini biliyoruz. Ancak programlamacılık doğası gereği  \n",
    "çoğu zaman dosyaları kapatmayı unutabiliriz. Bunun için Pythonda dosyalarda işimiz bitince otomatik kapatma özelliği    \n",
    "bulunuyor.**\n",
    "\n",
    "Bundan sonra Pythonda dosya işlemlerimizi şu blok içinde yapacağız.\n",
    "  \n",
    "    with open(dosya_adı,dosya_kipi) as file:\n",
    "        Dosya işlemleri\n",
    "\n",
    "Eğer dosya işlemlerini bu blok içinde yaparsak işlemimiz bittiği zaman dosyamız otomatik olarak kapanacaktır."
   ]
  },
  {
   "cell_type": "code",
   "execution_count": 67,
   "id": "fa52d5f2",
   "metadata": {},
   "outputs": [
    {
     "name": "stdout",
     "output_type": "stream",
     "text": [
      "Yusuf Erdem\n",
      "Irem Yalcin\n",
      "Yigit Erdem\n",
      "Guido Van Rossum\n",
      "Serdar Ortac\n",
      "Steve Woizniak\n",
      "Ibrahim Tatlises\n",
      "Yusuf Erdem\n",
      "Irem Yalcin\n",
      "Yigit Erdem\n",
      "Guido Van Rossum\n",
      "Serdar Ortac\n",
      "Steve Woizniak\n",
      "Ibrahim Tatlises\n"
     ]
    }
   ],
   "source": [
    "with open(\"bilgiler.txt\",\"r\") as file:\n",
    "    for i in file:\n",
    "        print(i,end=\"\")"
   ]
  },
  {
   "cell_type": "markdown",
   "id": "ad87f4de",
   "metadata": {},
   "source": [
    "## Dosyalari ileri sarmak\n",
    "dosyaları okurken sadece dosyanın en başından başlayabiliyorduk ve dosya imlecimiz okuma işleminin sonunda , dosyanın \n",
    "en sonuna gidiyordu. Ancak biz çoğu zaman dosya imlecini (file) dosyanın herhangi bir yerine götürmek isteyebiliriz. \n",
    "Bunun için Pythondaki seek() fonksiyonunu kullanacağız. Ancak ondan önce dosya imlecinin hangi byteda olduğunu söyleyen\n",
    "\n",
    "### **tell()**  ve **seek()** fonksiyonu\n"
   ]
  },
  {
   "cell_type": "code",
   "execution_count": 70,
   "id": "fd792f9a",
   "metadata": {},
   "outputs": [
    {
     "name": "stdout",
     "output_type": "stream",
     "text": [
      "0\n"
     ]
    }
   ],
   "source": [
    "with open(\"bilgiler.txt\",\"r\",encoding=\"utf-8\") as file:\n",
    "    print(file.tell())  # 0 Byte 'da'"
   ]
  },
  {
   "cell_type": "code",
   "execution_count": 71,
   "id": "a56ff53e",
   "metadata": {},
   "outputs": [
    {
     "name": "stdout",
     "output_type": "stream",
     "text": [
      "0\n",
      "20\n"
     ]
    }
   ],
   "source": [
    "with open(\"bilgiler.txt\",\"r\",encoding=\"utf-8\") as file:\n",
    "    print(file.tell())\n",
    "    file.seek(20)\n",
    "    print(file.tell())"
   ]
  },
  {
   "cell_type": "code",
   "execution_count": 76,
   "id": "e1281978",
   "metadata": {},
   "outputs": [
    {
     "name": "stdout",
     "output_type": "stream",
     "text": [
      "0\n",
      " Erdem\n",
      "Irem Yalcin\n",
      "Yigit Erdem\n",
      "Guido Van Rossum\n",
      "Serdar \n"
     ]
    }
   ],
   "source": [
    "with open(\"bilgiler.txt\",\"r\",encoding=\"utf-8\") as file:\n",
    "    print(file.tell())\n",
    "    file.seek(5)\n",
    "    icerik=file.read(55) # 55 Byte Okumak Istiyorum dedik\n",
    "    print(icerik)"
   ]
  },
  {
   "cell_type": "code",
   "execution_count": 77,
   "id": "ce204a92",
   "metadata": {},
   "outputs": [
    {
     "name": "stdout",
     "output_type": "stream",
     "text": [
      "Yusuf Erdem\n",
      "Irem Yalcin\n",
      "Yigit Erdem\n",
      "Guido Van Rossum\n",
      "Serdar Ortac\n",
      "Steve Woizniak\n",
      "Ibrahim Tatlises\n",
      "Yusuf Erdem\n",
      "Irem Yalcin\n",
      "Yigit Erdem\n",
      "Guido Van Rossum\n",
      "Serdar Ortac\n",
      "Steve Woizniak\n",
      "Ibrahim Tatlises\n",
      "\n"
     ]
    }
   ],
   "source": [
    "with open(\"bilgiler.txt\", \"r\", encoding=\"utf-8\") as file:\n",
    "    print(file.read())"
   ]
  },
  {
   "cell_type": "markdown",
   "id": "07fb95f1",
   "metadata": {},
   "source": [
    "## Dosyalarda Değişiklik Yapmak\n",
    "---\n",
    "### seek() ve write()\n",
    "Eğer biz bir dosyanın belli bir yerine seek() fonksiyonu ile gidip, write() fonksiyonunu kullanırsak, yazdığımız  \n",
    "değerler öncesinde bulunan değerlerin üzerine yazılacaktır. Bunun için hem okuma hem de yazma işlemimizi yapmamızı   \n",
    "sağlayan \"r+\" kipini kullanacağız. İlk önce dosyamızda bilgileri görelim.\n",
    "#### r+ kipi \n",
    "\"Hem Okuma Hem Yazma Yapmamizi saglar\""
   ]
  },
  {
   "cell_type": "code",
   "execution_count": 79,
   "id": "094b7ed2",
   "metadata": {},
   "outputs": [
    {
     "name": "stdout",
     "output_type": "stream",
     "text": [
      "Yusuf Erdem\n",
      "Irem Yalcin\n",
      "Yigit Erdem\n",
      "Guido Van Rossum\n",
      "Serdar Ortac\n",
      "Steve Woizniak\n",
      "Ibrahim Tatlises\n",
      "Yusuf Erdem\n",
      "Irem Yalcin\n",
      "Yigit Erdem\n",
      "Guido Van Rossum\n",
      "Serdar Ortac\n",
      "Steve Woizniak\n",
      "Ibrahim Tatlises\n",
      "\n"
     ]
    }
   ],
   "source": [
    "with open(\"bilgiler.txt\",\"r+\",encoding=\"utf-8\") as file:\n",
    "    print(file.read())"
   ]
  },
  {
   "cell_type": "code",
   "execution_count": 86,
   "id": "793f74ab",
   "metadata": {},
   "outputs": [],
   "source": [
    "with open(\"bilgiler.txt\",\"r+\",encoding = \"utf-8\") as file:\n",
    "    file.seek(10) # 10. byte\n",
    "    file.write(\"Deneme\")"
   ]
  },
  {
   "cell_type": "code",
   "execution_count": 87,
   "id": "1996133e",
   "metadata": {},
   "outputs": [
    {
     "name": "stdout",
     "output_type": "stream",
     "text": [
      "Yusuf ErdeDeneme Yalcin\n",
      "Yigit Erdem\n",
      "Guido Van Rossum\n",
      "Serdar Ortac\n",
      "Steve Woizniak\n",
      "Ibrahim Tatlises\n",
      "Yusuf Erdem\n",
      "Irem Yalcin\n",
      "Yigit Erdem\n",
      "Guido Van Rossum\n",
      "Serdar Ortac\n",
      "Steve Woizniak\n",
      "Ibrahim Tatlises\n",
      "\n"
     ]
    }
   ],
   "source": [
    "with open(\"bilgiler.txt\", \"r+\", encoding=\"utf-8\") as file:\n",
    "        print(file.read())"
   ]
  },
  {
   "cell_type": "markdown",
   "id": "40dac221",
   "metadata": {},
   "source": [
    "## Dosyanin Sonuna Degisiklik yapmak\n",
    "\"append\" metoduyla açılan bir dosyanın imleci direk dosyanın sonunda olduğu için sadece write"
   ]
  },
  {
   "cell_type": "code",
   "execution_count": 88,
   "id": "f644bed7",
   "metadata": {},
   "outputs": [],
   "source": [
    "with open(\"bilgiler.txt\",\"a\") as file:\n",
    "    file.write(\"Sondan ekleme yapiyuruum \\n\")"
   ]
  },
  {
   "cell_type": "code",
   "execution_count": 91,
   "id": "9a25f933",
   "metadata": {},
   "outputs": [
    {
     "name": "stdout",
     "output_type": "stream",
     "text": [
      "Yusuf ErdeDeneme Yalcin\n",
      "Yigit Erdem\n",
      "Guido Van Rossum\n",
      "Serdar Ortac\n",
      "Steve Woizniak\n",
      "Ibrahim Tatlises\n",
      "Yusuf Erdem\n",
      "Irem Yalcin\n",
      "Yigit Erdem\n",
      "Guido Van Rossum\n",
      "Serdar Ortac\n",
      "Steve Woizniak\n",
      "Ibrahim Tatlises\n",
      "Sondan ekleme yapiyuruum \n",
      "\n"
     ]
    }
   ],
   "source": [
    "with open(\"bilgiler.txt\",\"r\") as file:\n",
    "    icerik=file.read()\n",
    "    print(icerik)\n"
   ]
  },
  {
   "cell_type": "markdown",
   "id": "77bc0ffe",
   "metadata": {},
   "source": [
    "## Dosyanın Başında Değişiklik Yapmak "
   ]
  },
  {
   "cell_type": "code",
   "execution_count": 92,
   "id": "2337bc78",
   "metadata": {},
   "outputs": [],
   "source": [
    "with open(\"bilgiler.txt\",\"r+\",encoding=\"utf-8\",) as file:\n",
    "    icerik=file.read()\n",
    "    icerik=\"ekleme denemesi\\n\"+icerik\n",
    "    file.seek(0)\n",
    "    file.write(icerik)"
   ]
  },
  {
   "cell_type": "code",
   "execution_count": 94,
   "id": "bf440416",
   "metadata": {},
   "outputs": [
    {
     "name": "stdout",
     "output_type": "stream",
     "text": [
      "ekleme denemesi\n",
      "Yusuf ErdeDeneme Yalcin\n",
      "Yigit Erdem\n",
      "Guido Van Rossum\n",
      "Serdar Ortac\n",
      "Steve Woizniak\n",
      "Ibrahim Tatlises\n",
      "Yusuf Erdem\n",
      "Irem Yalcin\n",
      "Yigit Erdem\n",
      "Guido Van Rossum\n",
      "Serdar Ortac\n",
      "Steve Woizniak\n",
      "Ibrahim Tatlises\n",
      "Sondan ekleme yapiyuruum \n",
      "\n"
     ]
    }
   ],
   "source": [
    "with open(\"bilgiler.txt\",\"r\",encoding=\"utf-8\",) as file:\n",
    "    icerik=file.read()\n",
    "    print(icerik)"
   ]
  },
  {
   "cell_type": "markdown",
   "id": "5b12d5bf",
   "metadata": {},
   "source": [
    "## Dosyanin Ortasinda Degisiklik Yapmak\n",
    "Bunun icin ise:\n",
    "readline() fonksiyonu ile satirlari liste icerisinde donduruyoruz ve bu listeden istedigimiz index e \n",
    "### insert() fonksiyonu\n",
    "ile ekleme yapabiliyoruz"
   ]
  },
  {
   "cell_type": "code",
   "execution_count": 97,
   "id": "bf576535",
   "metadata": {},
   "outputs": [
    {
     "name": "stdout",
     "output_type": "stream",
     "text": [
      "['ekleme denemesi\\n', 'Yusuf ErdeDeneme Yalcin\\n', 'Yigit Erdem\\n', 'Guido Van Rossum\\n', 'Serdar Ortac\\n', 'Steve Woizniak\\n', 'Ibrahim Tatlises\\n', 'Yusuf Erdem\\n', 'Irem Yalcin\\n', 'Yigit Erdem\\n', 'Guido Van Rossum\\n', 'Serdar Ortac\\n', 'Steve Woizniak\\n', 'Ibrahim Tatlises\\n', 'Sondan ekleme yapiyuruum \\n']\n"
     ]
    }
   ],
   "source": [
    "with open(\"bilgiler.txt\",\"r+\",encoding = \"utf-8\") as file:\n",
    "    liste = file.readlines()\n",
    "    print(liste)"
   ]
  },
  {
   "cell_type": "code",
   "execution_count": 114,
   "id": "fa7e739c",
   "metadata": {},
   "outputs": [],
   "source": [
    "with open(\"bilgiler.txt\",\"r+\",encoding = \"utf-8\") as file:\n",
    "    liste = file.readlines()\n",
    "    liste.insert(3,\"Ortaya Ekleme Denemesi\\n\")\n",
    "    file.seek(0)\n",
    "    for i in liste:\n",
    "        file.write(i)"
   ]
  },
  {
   "cell_type": "code",
   "execution_count": 115,
   "id": "274a5f46",
   "metadata": {},
   "outputs": [
    {
     "name": "stdout",
     "output_type": "stream",
     "text": [
      "ekleme denemesi\n",
      "Yusuf ErdeDeneme Yalcin\n",
      "Yigit Erdem\n",
      "Ortaya Ekleme Denemesi\n",
      "Guido Van Rossum\n",
      "Serdar Ortac\n",
      "Steve Woizniak\n",
      "Ibrahim Tatlises\n",
      "Yusuf Erdem\n",
      "Irem Yalcin\n",
      "Yigit Erdem\n",
      "Guido Van Rossum\n",
      "Serdar Ortac\n",
      "Steve Woizniak\n",
      "Ibrahim Tatlises\n",
      "Sondan ekleme yapiyuruum \n",
      "ekleme denemesi\n",
      "\n"
     ]
    }
   ],
   "source": [
    "with open(\"bilgiler.txt\",\"r+\",encoding = \"utf-8\") as file:\n",
    "    icerik=file.read()\n",
    "    print(icerik)"
   ]
  },
  {
   "cell_type": "markdown",
   "id": "cff17689",
   "metadata": {},
   "source": [
    "For loop ile ekleme yapmak biraz hantal geldi ise\n",
    "### writelines() fonksiyonu\n"
   ]
  },
  {
   "cell_type": "code",
   "execution_count": 118,
   "id": "81aa171c",
   "metadata": {},
   "outputs": [],
   "source": [
    "with open(\"bilgiler.txt\",\"r+\",encoding = \"utf-8\") as file:\n",
    "    liste = file.readlines()\n",
    "    liste.insert(5,\"Ikinci ortaya ekleme denemesi\\n\")\n",
    "    file.seek(0)\n",
    "    file.writelines(liste)"
   ]
  },
  {
   "cell_type": "code",
   "execution_count": 120,
   "id": "882b367e",
   "metadata": {},
   "outputs": [
    {
     "name": "stdout",
     "output_type": "stream",
     "text": [
      "ekleme denemesi\n",
      "Yusuf ErdeDeneme Yalcin\n",
      "Yigit Erdem\n",
      "Ortaya Ekleme Denemesi\n",
      "Guido Van Rossum\n",
      "Ikinci ortaya ekleme denemesi\n",
      "Ikinci ortaya ekleme denemesi:\n",
      "Serdar Ortac\n",
      "Steve Woizniak\n",
      "Ibrahim Tatlises\n",
      "Yusuf Erdem\n",
      "Irem Yalcin\n",
      "Yigit Erdem\n",
      "Guido Van Rossum\n",
      "Serdar Ortac\n",
      "Steve Woizniak\n",
      "Ibrahim Tatlises\n",
      "Sondan ekleme yapiyuruum \n",
      "ekleme denemesi\n",
      "\n"
     ]
    }
   ],
   "source": [
    "with open(\"bilgiler.txt\",\"r+\",encoding = \"utf-8\") as file:\n",
    "    icerik=file.read()\n",
    "    print(icerik)"
   ]
  },
  {
   "cell_type": "code",
   "execution_count": null,
   "id": "0de30d10",
   "metadata": {},
   "outputs": [],
   "source": []
  }
 ],
 "metadata": {
  "kernelspec": {
   "display_name": "Python 3",
   "language": "python",
   "name": "python3"
  },
  "language_info": {
   "codemirror_mode": {
    "name": "ipython",
    "version": 3
   },
   "file_extension": ".py",
   "mimetype": "text/x-python",
   "name": "python",
   "nbconvert_exporter": "python",
   "pygments_lexer": "ipython3",
   "version": "3.9.3"
  },
  "toc": {
   "base_numbering": 1,
   "nav_menu": {},
   "number_sections": false,
   "sideBar": false,
   "skip_h1_title": false,
   "title_cell": "Table of Contents",
   "title_sidebar": "Contents",
   "toc_cell": true,
   "toc_position": {},
   "toc_section_display": true,
   "toc_window_display": false
  }
 },
 "nbformat": 4,
 "nbformat_minor": 5
}
