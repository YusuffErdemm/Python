{
 "cells": [
  {
   "cell_type": "markdown",
   "id": "a75add0c",
   "metadata": {
    "toc": true
   },
   "source": [
    "<h1>Table of Contents<span class=\"tocSkip\"></span></h1>\n",
    "<div class=\"toc\"><ul class=\"toc-item\"><li><span><a href=\"#Gomulu-Fonksiyonlar\" data-toc-modified-id=\"Gomulu-Fonksiyonlar-1\">Gomulu Fonksiyonlar</a></span><ul class=\"toc-item\"><li><ul class=\"toc-item\"><li><span><a href=\"#map()-fonksiyonu\" data-toc-modified-id=\"map()-fonksiyonu-1.0.1\">map() fonksiyonu</a></span></li><li><span><a href=\"#reduce()-fonksiyonu\" data-toc-modified-id=\"reduce()-fonksiyonu-1.0.2\">reduce() fonksiyonu</a></span></li><li><span><a href=\"#max()-fonksiyonu\" data-toc-modified-id=\"max()-fonksiyonu-1.0.3\">max() fonksiyonu</a></span></li><li><span><a href=\"#filter()-fonksiyonu\" data-toc-modified-id=\"filter()-fonksiyonu-1.0.4\">filter() fonksiyonu</a></span></li><li><span><a href=\"#zip()-fonksiyonu\" data-toc-modified-id=\"zip()-fonksiyonu-1.0.5\">zip() fonksiyonu</a></span></li><li><span><a href=\"#enumerate()-fonksiyonu\" data-toc-modified-id=\"enumerate()-fonksiyonu-1.0.6\">enumerate() fonksiyonu</a></span></li><li><span><a href=\"#all()-ve-any()-fonksiyonlari\" data-toc-modified-id=\"all()-ve-any()-fonksiyonlari-1.0.7\">all() ve any() fonksiyonlari</a></span></li></ul></li></ul></li></ul></div>"
   ]
  },
  {
   "cell_type": "markdown",
   "id": "a9834a5a",
   "metadata": {},
   "source": [
    "# Gomulu Fonksiyonlar "
   ]
  },
  {
   "cell_type": "markdown",
   "id": "b84e3fa4",
   "metadata": {},
   "source": [
    "### map() fonksiyonu\n",
    "    \n",
    "    map(fonksiyon,iterasyon yapılabilecek veritipi(liste,demet vb),....)\n",
    "\n",
    "**map() fonksiyonu ilk parametre olarak bir tane fonksiyon objesi alır. (Fonksiyonlar da birer obje olduğu için başka bir   \n",
    "fonksiyona gönderilebilir.) 2. parametre olarak da bir tane iterasyon yapılacak veritipi alarak , gönderilen fonksiyonu  \n",
    "her bir eleman üzerinde uygulayarak sonuçları bir map objesi olarak döner.**"
   ]
  },
  {
   "cell_type": "code",
   "execution_count": 15,
   "id": "44e85427",
   "metadata": {},
   "outputs": [
    {
     "data": {
      "text/plain": [
       "<map at 0x10a03b6a0>"
      ]
     },
     "execution_count": 15,
     "metadata": {},
     "output_type": "execute_result"
    }
   ],
   "source": [
    "def double(x):\n",
    "    return x*2\n",
    "map(double,[1,2,3,4,5,6])"
   ]
  },
  {
   "cell_type": "code",
   "execution_count": 16,
   "id": "893d4438",
   "metadata": {},
   "outputs": [
    {
     "data": {
      "text/plain": [
       "[2, 4, 6, 8, 10, 12]"
      ]
     },
     "execution_count": 16,
     "metadata": {},
     "output_type": "execute_result"
    }
   ],
   "source": [
    "list(map(double,[1,2,3,4,5,6]))"
   ]
  },
  {
   "cell_type": "code",
   "execution_count": 20,
   "id": "faad6039",
   "metadata": {},
   "outputs": [
    {
     "name": "stdout",
     "output_type": "stream",
     "text": [
      "[2, 4, 6, 8, 12, 14, 16, 18]\n",
      "[1, 2, 3, 4, 6, 7, 8, 9, 1, 2, 3, 4, 6, 7, 8, 9]\n"
     ]
    }
   ],
   "source": [
    "# Soyle deneyelim\n",
    "lst1=[1,2,3,4,6,7,8,9]\n",
    "\n",
    "print(list(map(double,lst1)))\n",
    "print(double(lst1)) # Burada listeyi 2 ile carpti"
   ]
  },
  {
   "cell_type": "markdown",
   "id": "fe072b47",
   "metadata": {},
   "source": [
    "**Map fonksiyonu birden fazla liste veya demet alabilir.**"
   ]
  },
  {
   "cell_type": "code",
   "execution_count": 21,
   "id": "0f274d75",
   "metadata": {},
   "outputs": [],
   "source": [
    "lst1=[1,2,3,4,6,7,8,9]\n",
    "lst2=[2,4,6,8,10,12,14,16]\n",
    "def multiply(x,y):\n",
    "    return x * y"
   ]
  },
  {
   "cell_type": "code",
   "execution_count": 22,
   "id": "b8d7c5dc",
   "metadata": {},
   "outputs": [
    {
     "data": {
      "text/plain": [
       "[2, 8, 18, 32, 60, 84, 112, 144]"
      ]
     },
     "execution_count": 22,
     "metadata": {},
     "output_type": "execute_result"
    }
   ],
   "source": [
    "list(map(multiply,lst1,lst2))"
   ]
  },
  {
   "cell_type": "markdown",
   "id": "3c2ab496",
   "metadata": {},
   "source": [
    "### reduce() fonksiyonu\n",
    "     \n",
    "     reduce(function, iterasyon yapılabilen veritipi(liste vb.))\n",
    "\n",
    "reduce() fonksiyonu değer olarak aldığı fonksiyonu soldan başlayarak listenin ilk 2 elemanına uygular   \n",
    "ve daha sonra çıkan sonucu listenin 3. elemanına uygular ve bu şekilde devam ederek liste bitince bir tane değer döner.  \n",
    "\n"
   ]
  },
  {
   "cell_type": "code",
   "execution_count": 23,
   "id": "277006f0",
   "metadata": {},
   "outputs": [],
   "source": [
    "from functools import reduce"
   ]
  },
  {
   "cell_type": "code",
   "execution_count": 25,
   "id": "767016e7",
   "metadata": {},
   "outputs": [
    {
     "data": {
      "text/plain": [
       "54"
      ]
     },
     "execution_count": 25,
     "metadata": {},
     "output_type": "execute_result"
    }
   ],
   "source": [
    "def summ(x,y):\n",
    "    return x+y\n",
    "reduce(summ,[12,14,15,13])\n",
    "#Ilk iki elemani topladi sonra 26 sonra 15 ekledi ve 13 ekledi"
   ]
  },
  {
   "cell_type": "code",
   "execution_count": 28,
   "id": "0059df7d",
   "metadata": {},
   "outputs": [
    {
     "data": {
      "text/plain": [
       "120"
      ]
     },
     "execution_count": 28,
     "metadata": {},
     "output_type": "execute_result"
    }
   ],
   "source": [
    "#Faktoriyel bulmak icin kullanalim\n",
    "def factorial(x,y):\n",
    "    return x * y\n",
    "reduce(factorial,[1,2,3,4,5])"
   ]
  },
  {
   "cell_type": "code",
   "execution_count": 31,
   "id": "b7c581e2",
   "metadata": {},
   "outputs": [
    {
     "name": "stdout",
     "output_type": "stream",
     "text": [
      "3000\n"
     ]
    }
   ],
   "source": [
    "#Veya carparak devam edebiliriz\n",
    "print(reduce(factorial,[3,5,10,20])) "
   ]
  },
  {
   "cell_type": "markdown",
   "id": "cc89ecd5",
   "metadata": {},
   "source": [
    "### max() fonksiyonu"
   ]
  },
  {
   "cell_type": "code",
   "execution_count": 32,
   "id": "6109fea7",
   "metadata": {},
   "outputs": [
    {
     "data": {
      "text/plain": [
       "6"
      ]
     },
     "execution_count": 32,
     "metadata": {},
     "output_type": "execute_result"
    }
   ],
   "source": [
    "max([1,2,3,4,5,6])"
   ]
  },
  {
   "cell_type": "code",
   "execution_count": 33,
   "id": "ab5b6ac8",
   "metadata": {},
   "outputs": [
    {
     "name": "stdout",
     "output_type": "stream",
     "text": [
      "100\n"
     ]
    }
   ],
   "source": [
    "# reduce ile max fonksiyonu\n",
    "def maximum(x,y):\n",
    "    if (x > y):\n",
    "        return x\n",
    "    else:\n",
    "        return y\n",
    "    \n",
    "print(reduce(maximum,[-2,1,100,35,32]))"
   ]
  },
  {
   "cell_type": "markdown",
   "id": "c7af6f1d",
   "metadata": {},
   "source": [
    "###  filter() fonksiyonu\n",
    "    filter(fonksiyon,iterasyon yapılabilen bir veritipi(liste vb.))\n",
    "\n",
    "filter() fonksiyonu birinci parametre olarak mutlaka mantıksal değer dönen (True , False) bir fonksiyon alır ve liste\n",
    "gibi veritiplerinin her bir elemanına bu fonksiyonunu uygular. filter sadece True sonuç çıkaran değerleri alarak \n",
    "bir tane filter objesi döner. "
   ]
  },
  {
   "cell_type": "code",
   "execution_count": 34,
   "id": "7088a112",
   "metadata": {},
   "outputs": [],
   "source": [
    "def odd_nums(x):\n",
    "    if x % 2 == 0:\n",
    "        return True\n",
    "    else:\n",
    "        return False"
   ]
  },
  {
   "cell_type": "code",
   "execution_count": 36,
   "id": "99119df5",
   "metadata": {},
   "outputs": [
    {
     "data": {
      "text/plain": [
       "[2, 12, 32, 44, 54]"
      ]
     },
     "execution_count": 36,
     "metadata": {},
     "output_type": "execute_result"
    }
   ],
   "source": [
    "list(filter(odd_nums,[1,2,12,32,31,44,55,54]))"
   ]
  },
  {
   "cell_type": "code",
   "execution_count": 37,
   "id": "d5456d33",
   "metadata": {},
   "outputs": [
    {
     "name": "stdout",
     "output_type": "stream",
     "text": [
      "True\n",
      "True\n",
      "False\n"
     ]
    }
   ],
   "source": [
    "def is_it_prime(x):\n",
    "    i=2\n",
    "    if x==1:\n",
    "        return False # Asal degil\n",
    "    elif x==2:\n",
    "        return True # Asal\n",
    "    else:\n",
    "        while i<x:\n",
    "            if x % i == 0 :\n",
    "                return False # Asal degil\n",
    "            i+=1\n",
    "        else:\n",
    "            return True\n",
    "\n",
    "print(is_it_prime(3))\n",
    "print(is_it_prime(5))\n",
    "print(is_it_prime(12))"
   ]
  },
  {
   "cell_type": "code",
   "execution_count": 39,
   "id": "40582af3",
   "metadata": {},
   "outputs": [
    {
     "data": {
      "text/plain": [
       "[2,\n",
       " 3,\n",
       " 5,\n",
       " 7,\n",
       " 11,\n",
       " 13,\n",
       " 17,\n",
       " 19,\n",
       " 23,\n",
       " 29,\n",
       " 31,\n",
       " 37,\n",
       " 41,\n",
       " 43,\n",
       " 47,\n",
       " 53,\n",
       " 59,\n",
       " 61,\n",
       " 67,\n",
       " 71,\n",
       " 73,\n",
       " 79,\n",
       " 83,\n",
       " 89,\n",
       " 97]"
      ]
     },
     "execution_count": 39,
     "metadata": {},
     "output_type": "execute_result"
    }
   ],
   "source": [
    "list(filter(is_it_prime,range(1,100)))"
   ]
  },
  {
   "cell_type": "markdown",
   "id": "36bb3966",
   "metadata": {},
   "source": [
    "### zip() fonksiyonu \n",
    "\n",
    "**zip fonksiyonu listelerin elemanları sırasıyla demet şeklinde gruplayarak bir tane liste oluşturuyor.**"
   ]
  },
  {
   "cell_type": "code",
   "execution_count": 40,
   "id": "de01d75d",
   "metadata": {},
   "outputs": [],
   "source": [
    "liste1=[1,2,3,4,5]\n",
    "liste2=[6,7,8,9,10]\n",
    "\n",
    "#~  Sonucu [(1,6),(2,7),(3,8),(4,9),(5,10)] yapmaya çalışalım"
   ]
  },
  {
   "cell_type": "code",
   "execution_count": 41,
   "id": "41736827",
   "metadata": {},
   "outputs": [
    {
     "name": "stdout",
     "output_type": "stream",
     "text": [
      "[(1, 6), (2, 7), (3, 8), (4, 9), (5, 10)]\n"
     ]
    }
   ],
   "source": [
    "i=0\n",
    "sonuc=list()\n",
    "while i<len(liste1) and i<len(liste2):\n",
    "    sonuc.append((liste1[i],liste2[i]))\n",
    "    i+=1\n",
    "print(sonuc)"
   ]
  },
  {
   "cell_type": "code",
   "execution_count": 42,
   "id": "5754e662",
   "metadata": {},
   "outputs": [
    {
     "data": {
      "text/plain": [
       "[(1, 6), (2, 7), (3, 8), (4, 9), (5, 10)]"
      ]
     },
     "execution_count": 42,
     "metadata": {},
     "output_type": "execute_result"
    }
   ],
   "source": [
    "list(zip(liste1,liste2))"
   ]
  },
  {
   "cell_type": "code",
   "execution_count": 43,
   "id": "818b2d1d",
   "metadata": {},
   "outputs": [
    {
     "name": "stdout",
     "output_type": "stream",
     "text": [
      "[(1, 5, 'Python'), (2, 6, 'Php'), (3, 7, 'Java'), (4, 8, 'Javascript')]\n"
     ]
    }
   ],
   "source": [
    "liste1 = [1,2,3,4]\n",
    "liste2 = [5,6,7,8]\n",
    "liste3 = [\"Python\",\"Php\",\"Java\",\"Javascript\",\"C\"]\n",
    "\n",
    "print(list(zip(liste1,liste2,liste3)))"
   ]
  },
  {
   "cell_type": "code",
   "execution_count": 48,
   "id": "1abdaaa2",
   "metadata": {},
   "outputs": [
    {
     "name": "stdout",
     "output_type": "stream",
     "text": [
      "[(1, 'Python'), (2, 'Php'), (3, 'Java'), (4, 'Javascript')]\n",
      "i: 1 j: Python\n",
      "i: 2 j: Php\n",
      "i: 3 j: Java\n",
      "i: 4 j: Javascript\n"
     ]
    }
   ],
   "source": [
    "liste1 = [1,2,3,4]\n",
    "liste3 = [\"Python\",\"Php\",\"Java\",\"Javascript\",\"C\"]\n",
    "\n",
    "print(list(zip(liste1,liste3)))\n",
    "\n",
    "for i,j in zip(liste1,liste3):\n",
    "    print(\"i:\",i,\"j:\",j)\n",
    "    "
   ]
  },
  {
   "cell_type": "code",
   "execution_count": 50,
   "id": "8d59bdb1",
   "metadata": {},
   "outputs": [
    {
     "name": "stdout",
     "output_type": "stream",
     "text": [
      "[('Elma', 'Sıfır'), ('Armut', 'Bir'), ('Kiraz', 'İki')]\n"
     ]
    }
   ],
   "source": [
    "#~ Sözlükleri zipleyelim.\n",
    "sözlük1 = {\"Elma\":1,\"Armut\":2,\"Kiraz\":3}\n",
    "sözlük2 = {\"Sıfır\":0,\"Bir\":1,\"İki\":2}\n",
    "\n",
    "print(list(zip(sözlük1,sözlük2))) # Anahtarlar eslesti"
   ]
  },
  {
   "cell_type": "markdown",
   "id": "cf8f5e1e",
   "metadata": {},
   "source": [
    "### enumerate() fonksiyonu\n",
    "enumerate, for döngülerinde çoğu zaman işlerimizi oldukça kolaylaştırmaktadır. Bu fonksiyonlar aklınızda bulunsun.\n",
    "\n",
    "Bir gün elbet ihtiyacınız olacak :)"
   ]
  },
  {
   "cell_type": "code",
   "execution_count": 51,
   "id": "f6b56579",
   "metadata": {},
   "outputs": [
    {
     "name": "stdout",
     "output_type": "stream",
     "text": [
      "[(0, 'Elma'), (1, 'Armut'), (2, 'Muz'), (3, 'Kiraz')]\n"
     ]
    }
   ],
   "source": [
    "liste = [\"Elma\",\"Armut\",\"Muz\",\"Kiraz\"]\n",
    "# sonucu [(0,'Elma'),(1,'Armut'),(2,'Muz'),(3,'Kiraz')] yapmak istiyoruz.\n",
    "\n",
    "sonuc = list()\n",
    "step=0\n",
    "for i in liste:\n",
    "    sonuc.append((step,i))\n",
    "    step+= 1\n",
    "print(sonuc)\n",
    "\n",
    "#~ Enumerate ile nasil yaparz?"
   ]
  },
  {
   "cell_type": "code",
   "execution_count": 52,
   "id": "552d18be",
   "metadata": {},
   "outputs": [
    {
     "name": "stdout",
     "output_type": "stream",
     "text": [
      "[(0, 'Elma'), (1, 'Armut'), (2, 'Muz'), (3, 'Kiraz')]\n"
     ]
    }
   ],
   "source": [
    "print(list(enumerate(liste)))"
   ]
  },
  {
   "cell_type": "code",
   "execution_count": 53,
   "id": "f70dce22",
   "metadata": {},
   "outputs": [
    {
     "name": "stdout",
     "output_type": "stream",
     "text": [
      "eleman: a\n",
      "eleman: c\n",
      "eleman: e\n",
      "eleman: g\n"
     ]
    }
   ],
   "source": [
    "# Örneğin bir listenin çift indekslerini(0,2,4) enumerate kullanarak nasıl yazdırabiliriz ?\n",
    "\n",
    "liste = [\"a\",\"b\",\"c\",\"d\",\"e\",\"f\",\"g\"]\n",
    "\n",
    "for index,eleman in enumerate(liste):\n",
    "    if index % 2 ==0 :\n",
    "        print(\"eleman:\",eleman)"
   ]
  },
  {
   "cell_type": "markdown",
   "id": "b846c2bf",
   "metadata": {},
   "source": [
    "### all() ve any() fonksiyonlari\n",
    "\n",
    "- all() fonksiyonu bütün değerler True ise True, en az bir değer False ise False sonuç döndürür.\n",
    "- any() fonksiyonu bütün değerler False ise False, en az bir değer True ise True sonuç döndürür.\n",
    "\n"
   ]
  },
  {
   "cell_type": "code",
   "execution_count": 54,
   "id": "d4ad9936",
   "metadata": {},
   "outputs": [
    {
     "name": "stdout",
     "output_type": "stream",
     "text": [
      "False\n",
      "True\n",
      "True\n",
      "False\n"
     ]
    }
   ],
   "source": [
    "#~ En az 1 tanesi false olsa bile false dondurelim\n",
    "\n",
    "def hepsi(liste):\n",
    "    for i in liste:\n",
    "        if not i:  # i false ise\n",
    "            return False\n",
    "    return True\n",
    "\n",
    "liste = [True,False,True,False,True]\n",
    "\n",
    "print(hepsi(liste)) # False , Cunku en az birisi false\n",
    "\n",
    "liste = [1,2,3,4,5]\n",
    "print(hepsi(liste)) # True , cunku 0 haric butun sayilar True temsil eder.\n",
    "\n",
    "def herhangi(liste):\n",
    "    for i in liste:\n",
    "        if i:\n",
    "            return True\n",
    "    return False\n",
    "#~  Herhangi bir değer True ise True, Hepsi False ise False döndürmek istiyoruz.\n",
    "liste = [True,False,True,False,True]\n",
    "print(herhangi(liste)) # True\n",
    "\n",
    "liste = [0,0,0,0,0,0,0] # Bütün değerler False , 0 = False\n",
    "print(herhangi(liste)) # False"
   ]
  },
  {
   "cell_type": "markdown",
   "id": "3ec5088a",
   "metadata": {},
   "source": [
    "Aslında bu işlemleri all() ve any() fonksiyonları yapmaktadır. İsterseniz bunların örneklerine bakalım."
   ]
  },
  {
   "cell_type": "code",
   "execution_count": 55,
   "id": "313a6fcf",
   "metadata": {},
   "outputs": [
    {
     "name": "stdout",
     "output_type": "stream",
     "text": [
      "False\n",
      "True\n",
      "True\n",
      "True\n"
     ]
    }
   ],
   "source": [
    "liste = [True,False,True,False,True]\n",
    "print(all(liste)) # False\n",
    "print(any(liste)) # True\n",
    "\n",
    "liste = [1,2,3,4,5]\n",
    "print(all(liste)) # True\n",
    "print(any(liste)) # True"
   ]
  },
  {
   "cell_type": "code",
   "execution_count": null,
   "id": "41319423",
   "metadata": {},
   "outputs": [],
   "source": []
  }
 ],
 "metadata": {
  "kernelspec": {
   "display_name": "Python 3",
   "language": "python",
   "name": "python3"
  },
  "language_info": {
   "codemirror_mode": {
    "name": "ipython",
    "version": 3
   },
   "file_extension": ".py",
   "mimetype": "text/x-python",
   "name": "python",
   "nbconvert_exporter": "python",
   "pygments_lexer": "ipython3",
   "version": "3.9.3"
  },
  "toc": {
   "base_numbering": 1,
   "nav_menu": {},
   "number_sections": false,
   "sideBar": false,
   "skip_h1_title": false,
   "title_cell": "Table of Contents",
   "title_sidebar": "Contents",
   "toc_cell": true,
   "toc_position": {},
   "toc_section_display": true,
   "toc_window_display": false
  }
 },
 "nbformat": 4,
 "nbformat_minor": 5
}
