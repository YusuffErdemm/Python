{
 "cells": [
  {
   "cell_type": "markdown",
   "id": "4e097cf8",
   "metadata": {
    "toc": true
   },
   "source": [
    "<h1>Table of Contents<span class=\"tocSkip\"></span></h1>\n",
    "<div class=\"toc\"><ul class=\"toc-item\"><li><span><a href=\"#Ileri-Seviye-Sayilar\" data-toc-modified-id=\"Ileri-Seviye-Sayilar-1\">Ileri Seviye Sayilar</a></span><ul class=\"toc-item\"><li><ul class=\"toc-item\"><li><span><a href=\"#bin()-hex()-abs()\" data-toc-modified-id=\"bin()-hex()-abs()-1.0.1\">bin() hex() abs()</a></span></li><li><span><a href=\"#round()\" data-toc-modified-id=\"round()-1.0.2\">round()</a></span></li><li><span><a href=\"#max()-ve-min()\" data-toc-modified-id=\"max()-ve-min()-1.0.3\">max() ve min()</a></span></li><li><span><a href=\"#sum()-fonksiyonu\" data-toc-modified-id=\"sum()-fonksiyonu-1.0.4\">sum() fonksiyonu</a></span></li><li><span><a href=\"#pow-()-fonksiyonu\" data-toc-modified-id=\"pow-()-fonksiyonu-1.0.5\">pow () fonksiyonu</a></span></li></ul></li></ul></li><li><span><a href=\"#İleri-Seviye-Karakter-Dizileri-(Stringler)\" data-toc-modified-id=\"İleri-Seviye-Karakter-Dizileri-(Stringler)-2\">İleri Seviye Karakter Dizileri (Stringler)</a></span><ul class=\"toc-item\"><li><ul class=\"toc-item\"><li><span><a href=\"#.upper()-ve-.lower()\" data-toc-modified-id=\".upper()-ve-.lower()-2.0.1\">.upper() ve .lower()</a></span></li><li><span><a href=\"#.replace()\" data-toc-modified-id=\".replace()-2.0.2\">.replace()</a></span></li><li><span><a href=\"#.startswith()-ve-.endswith()\" data-toc-modified-id=\".startswith()-ve-.endswith()-2.0.3\">.startswith() ve .endswith()</a></span></li><li><span><a href=\"#.split()\" data-toc-modified-id=\".split()-2.0.4\">.split()</a></span></li><li><span><a href=\"#.strip()-,-.lstrip()-ve-.rstrip()\" data-toc-modified-id=\".strip()-,-.lstrip()-ve-.rstrip()-2.0.5\">.strip() , .lstrip() ve .rstrip()</a></span></li><li><span><a href=\"#.join()\" data-toc-modified-id=\".join()-2.0.6\">.join()</a></span></li><li><span><a href=\"#.count()\" data-toc-modified-id=\".count()-2.0.7\">.count()</a></span></li><li><span><a href=\"#.find()-ve-.rfind()\" data-toc-modified-id=\".find()-ve-.rfind()-2.0.8\">.find() ve .rfind()</a></span></li></ul></li></ul></li><li><span><a href=\"#İleri-Seviye-Kümeler-(Sets)\" data-toc-modified-id=\"İleri-Seviye-Kümeler-(Sets)-3\">İleri Seviye Kümeler (Sets)</a></span><ul class=\"toc-item\"><li><span><a href=\"#Kumelerin-Metotlari\" data-toc-modified-id=\"Kumelerin-Metotlari-3.1\">Kumelerin Metotlari</a></span><ul class=\"toc-item\"><li><span><a href=\"#.add()\" data-toc-modified-id=\".add()-3.1.1\">.add()</a></span></li><li><span><a href=\"#.difference()\" data-toc-modified-id=\".difference()-3.1.2\">.difference()</a></span></li><li><span><a href=\"#.difference_update()\" data-toc-modified-id=\".difference_update()-3.1.3\">.difference_update()</a></span></li><li><span><a href=\"#discard()\" data-toc-modified-id=\"discard()-3.1.4\">discard()</a></span></li><li><span><a href=\"#.intersection()\" data-toc-modified-id=\".intersection()-3.1.5\">.intersection()</a></span></li><li><span><a href=\"#intersection_update()\" data-toc-modified-id=\"intersection_update()-3.1.6\">intersection_update()</a></span></li><li><span><a href=\"#isdisjoint()\" data-toc-modified-id=\"isdisjoint()-3.1.7\">isdisjoint()</a></span></li><li><span><a href=\"#issubset()-metodu\" data-toc-modified-id=\"issubset()-metodu-3.1.8\">issubset() metodu</a></span></li><li><span><a href=\"#union()-metodu\" data-toc-modified-id=\"union()-metodu-3.1.9\">union() metodu</a></span></li><li><span><a href=\"#update()-metodu\" data-toc-modified-id=\"update()-metodu-3.1.10\">update() metodu</a></span></li></ul></li></ul></li><li><span><a href=\"#Ileri-Seviye-Listeler\" data-toc-modified-id=\"Ileri-Seviye-Listeler-4\">Ileri Seviye Listeler</a></span><ul class=\"toc-item\"><li><span><a href=\"#Listelerin-Metodlari\" data-toc-modified-id=\"Listelerin-Metodlari-4.1\">Listelerin Metodlari</a></span><ul class=\"toc-item\"><li><span><a href=\"#.append()\" data-toc-modified-id=\".append()-4.1.1\">.append()</a></span></li><li><span><a href=\"#.extend()\" data-toc-modified-id=\".extend()-4.1.2\">.extend()</a></span></li><li><span><a href=\"#.insert()\" data-toc-modified-id=\".insert()-4.1.3\">.insert()</a></span></li><li><span><a href=\"#.pop()\" data-toc-modified-id=\".pop()-4.1.4\">.pop()</a></span></li><li><span><a href=\"#.remove()\" data-toc-modified-id=\".remove()-4.1.5\">.remove()</a></span></li><li><span><a href=\"#.index()\" data-toc-modified-id=\".index()-4.1.6\">.index()</a></span></li><li><span><a href=\"#.count()\" data-toc-modified-id=\".count()-4.1.7\">.count()</a></span></li><li><span><a href=\"#.sort()\" data-toc-modified-id=\".sort()-4.1.8\">.sort()</a></span></li></ul></li></ul></li></ul></div>"
   ]
  },
  {
   "cell_type": "markdown",
   "id": "ccda702b",
   "metadata": {},
   "source": [
    "# Ileri Seviye Sayilar"
   ]
  },
  {
   "cell_type": "markdown",
   "id": "d2cedede",
   "metadata": {},
   "source": [
    "Bu konuda sayı veritiplerini biraz daha derinlemesine incelemeye ve sayılar üzerinde uygulanabilen  \n",
    "yararlı fonksiyonları öğrenmeye çalışacağız.  \n",
    "\n",
    "Bazen programlamada sayılarımızı 10'luk taban haricinde 2'lik(binary) ve 16'lık(hexadecimal) tabanda \n",
    "göstermek ve kullanmak isteyebiliriz.  \n",
    "\n",
    "\n",
    "[Binary Sayi Sistemleri](https://www.turkcebilgi.com/ikili_(binary)_sayı_sistemleri)  \n",
    "[Sayi Sisyemleri](https://www.blogkafem.net/2014/01/sayi-sistemleri.html)"
   ]
  },
  {
   "cell_type": "markdown",
   "id": "a0f035d6",
   "metadata": {},
   "source": [
    "### bin() hex() abs()"
   ]
  },
  {
   "cell_type": "code",
   "execution_count": 2,
   "id": "7de27e07",
   "metadata": {},
   "outputs": [
    {
     "name": "stdout",
     "output_type": "stream",
     "text": [
      "0b100\n",
      "0b10011\n",
      "0b1000001001\n"
     ]
    }
   ],
   "source": [
    "# bin() sayimizi 2 lik tabanda yazar\n",
    "print(bin(4))\n",
    "print(bin(19))\n",
    "print(bin(521))"
   ]
  },
  {
   "cell_type": "code",
   "execution_count": 3,
   "id": "0e8ae492",
   "metadata": {},
   "outputs": [
    {
     "name": "stdout",
     "output_type": "stream",
     "text": [
      "0x20\n",
      "0x36\n",
      "0x4bc\n"
     ]
    }
   ],
   "source": [
    "# hex() sayimizi 16 lik tabanda yazar\n",
    "print(hex(32))\n",
    "print(hex(54))\n",
    "print(hex(1212))"
   ]
  },
  {
   "cell_type": "code",
   "execution_count": 4,
   "id": "34918e73",
   "metadata": {},
   "outputs": [
    {
     "name": "stdout",
     "output_type": "stream",
     "text": [
      "4\n",
      "4.5\n",
      "0\n",
      "10\n",
      "10\n"
     ]
    }
   ],
   "source": [
    "#abs() mutlak deger alir\n",
    "print(abs(-4))\n",
    "print(abs(4.5))\n",
    "print(abs(0))\n",
    "print(abs(-10))\n",
    "print(abs(-10))"
   ]
  },
  {
   "cell_type": "markdown",
   "id": "0aabb7b4",
   "metadata": {},
   "source": [
    "### round()\n",
    "**Sayiyi uste veya alta yuvarlar.**"
   ]
  },
  {
   "cell_type": "code",
   "execution_count": 6,
   "id": "93c14226",
   "metadata": {},
   "outputs": [
    {
     "name": "stdout",
     "output_type": "stream",
     "text": [
      "4\n",
      "3\n",
      "3\n",
      "3.2133\n",
      "3.2132\n"
     ]
    }
   ],
   "source": [
    "print(round(3.7))\n",
    "print(round(3.2))\n",
    "print(round(3))   \n",
    "print(round(3.21329321321323,4)) # Ondalıklı sayının 4. hanesine göre yuvarlar \n",
    "print(round(3.21324321321323,4))"
   ]
  },
  {
   "cell_type": "markdown",
   "id": "5220712a",
   "metadata": {},
   "source": [
    "### max() ve min()"
   ]
  },
  {
   "cell_type": "code",
   "execution_count": 9,
   "id": "ec733c7c",
   "metadata": {},
   "outputs": [
    {
     "name": "stdout",
     "output_type": "stream",
     "text": [
      "4\n",
      "131\n",
      "15.6\n",
      "15.6\n"
     ]
    }
   ],
   "source": [
    "print(max(3,4))\n",
    "print(max(100,-2,3,4,1,131))\n",
    "print(max([13.2,-4.32,1.2,15.6])) # Sayilar listede olabilir\n",
    "print(max((13.2,-4.32,1.2,15.6))) # Demet'te"
   ]
  },
  {
   "cell_type": "code",
   "execution_count": 10,
   "id": "fa77b310",
   "metadata": {},
   "outputs": [
    {
     "data": {
      "text/plain": [
       "-2"
      ]
     },
     "execution_count": 10,
     "metadata": {},
     "output_type": "execute_result"
    }
   ],
   "source": [
    "min(100,-2,3,4,1,131)"
   ]
  },
  {
   "cell_type": "markdown",
   "id": "4db5442d",
   "metadata": {},
   "source": [
    "### sum() fonksiyonu \n",
    "verilen değerleri toplayarak döndürür. Değerlerin liste,demet vb. şeklinde verilmesi gerekir.\n"
   ]
  },
  {
   "cell_type": "code",
   "execution_count": 11,
   "id": "7cc88457",
   "metadata": {},
   "outputs": [
    {
     "name": "stdout",
     "output_type": "stream",
     "text": [
      "5\n",
      "25\n"
     ]
    }
   ],
   "source": [
    "print(sum((2,3)))\n",
    "print(sum([3,4,5,6,7]))"
   ]
  },
  {
   "cell_type": "markdown",
   "id": "142b88d8",
   "metadata": {},
   "source": [
    "### pow () fonksiyonu\n",
    "Ust almak icin kullanilabilir\n"
   ]
  },
  {
   "cell_type": "code",
   "execution_count": 13,
   "id": "5b057e17",
   "metadata": {},
   "outputs": [
    {
     "name": "stdout",
     "output_type": "stream",
     "text": [
      "16\n",
      "1298074214633706907132624082305024\n"
     ]
    }
   ],
   "source": [
    "print(pow(2,4)) # Demet liste seklinde vermedende calisiyor.\n",
    "print(pow(32,22))"
   ]
  },
  {
   "cell_type": "markdown",
   "id": "691e105b",
   "metadata": {},
   "source": [
    "# İleri Seviye Karakter Dizileri (Stringler) "
   ]
  },
  {
   "cell_type": "markdown",
   "id": "d3731c11",
   "metadata": {},
   "source": [
    "### .upper() ve .lower()"
   ]
  },
  {
   "cell_type": "code",
   "execution_count": 15,
   "id": "f3c6e68a",
   "metadata": {},
   "outputs": [
    {
     "data": {
      "text/plain": [
       "'PYTHON'"
      ]
     },
     "execution_count": 15,
     "metadata": {},
     "output_type": "execute_result"
    }
   ],
   "source": [
    "\"python\".upper()"
   ]
  },
  {
   "cell_type": "code",
   "execution_count": 16,
   "id": "e29ec0a0",
   "metadata": {},
   "outputs": [
    {
     "data": {
      "text/plain": [
       "'python'"
      ]
     },
     "execution_count": 16,
     "metadata": {},
     "output_type": "execute_result"
    }
   ],
   "source": [
    "\"PYTHON\".lower()"
   ]
  },
  {
   "cell_type": "markdown",
   "id": "ab467444",
   "metadata": {},
   "source": [
    "### .replace() \n",
    "**replace(x,y) : Stringteki x değerlerini y ile değiştirir**"
   ]
  },
  {
   "cell_type": "code",
   "execution_count": 17,
   "id": "d05e30a3",
   "metadata": {},
   "outputs": [
    {
     "name": "stdout",
     "output_type": "stream",
     "text": [
      "Herkes ono bobo bocı gordoş\n",
      "Kunzun\n",
      "Python-Programlama-Dili\n"
     ]
    }
   ],
   "source": [
    "print(\"Herkes ana baba bacı gardaş\".replace(\"a\",\"o\"))\n",
    "print(\"Kunduz\".replace(\"duz\",\"zun\")) \n",
    "print(\"Python Programlama Dili\".replace(\" \",\"-\"))"
   ]
  },
  {
   "cell_type": "markdown",
   "id": "e2a631a4",
   "metadata": {},
   "source": [
    "### .startswith() ve .endswith()\n",
    "\n",
    "startswith(x) : String x ile başlıyorsa True, başlamıyorsa False değeri döndürür.\n",
    "endswith(x)   : String x ile bitiyorsa True, bitmiyorsa False değeri döndürür."
   ]
  },
  {
   "cell_type": "code",
   "execution_count": 18,
   "id": "6b12c257",
   "metadata": {},
   "outputs": [
    {
     "name": "stdout",
     "output_type": "stream",
     "text": [
      "False\n",
      "True\n",
      "True\n"
     ]
    }
   ],
   "source": [
    "print(\"Python\".startswith(\"py\"))\n",
    "print(\"Python\".startswith(\"Py\")) \n",
    "print(\"Python\".endswith(\"on\"))"
   ]
  },
  {
   "cell_type": "markdown",
   "id": "ffe4e844",
   "metadata": {},
   "source": [
    "### .split()\n",
    "**split(a) : Verilen bir a değerine göre string parçalara ayrılarak herbir parça listeye atılır.**"
   ]
  },
  {
   "cell_type": "code",
   "execution_count": 19,
   "id": "af84fc9c",
   "metadata": {},
   "outputs": [
    {
     "name": "stdout",
     "output_type": "stream",
     "text": [
      "['Python', 'Programlama', 'Dili']\n"
     ]
    }
   ],
   "source": [
    "liste = \"Python Programlama Dili\".split(\" \")\n",
    "print(liste)"
   ]
  },
  {
   "cell_type": "code",
   "execution_count": 20,
   "id": "42814aff",
   "metadata": {},
   "outputs": [
    {
     "name": "stdout",
     "output_type": "stream",
     "text": [
      "['Python', 'Php', 'Java', 'C', 'Javascript']\n"
     ]
    }
   ],
   "source": [
    "liste2 = \"Python-Php-Java-C-Javascript\".split(\"-\")\n",
    "print(liste2)"
   ]
  },
  {
   "cell_type": "markdown",
   "id": "b01a600c",
   "metadata": {},
   "source": [
    "### .strip() , .lstrip() ve .rstrip()\n",
    "**strip(x) : Stringin başında ve sonunda bulunan x değerlerini siler.**\n",
    "\n",
    "**lstrip(x) : Stringin sadece başında bulunan x değerlerini siler.**  \n",
    "\n",
    "**rstrip(x) : Stringin sadece sonunda bulunan x değerlerini siler.**  "
   ]
  },
  {
   "cell_type": "code",
   "execution_count": 22,
   "id": "f0a20e5c",
   "metadata": {},
   "outputs": [
    {
     "name": "stdout",
     "output_type": "stream",
     "text": [
      "Yusuf\n",
      "python      \n"
     ]
    }
   ],
   "source": [
    "print(\">>>>>>>>>>>>>>Yusuf>>>>>>>>>>>>>>>>>>>>>>>>>>\".strip(\">\"))\n",
    "print(\"                            python      \".lstrip()) "
   ]
  },
  {
   "cell_type": "markdown",
   "id": "bca494b2",
   "metadata": {},
   "source": [
    "### .join()\n",
    "**Listenin elemanlarını bir string değeriyle birleştirmemizi sağlar.**"
   ]
  },
  {
   "cell_type": "code",
   "execution_count": 23,
   "id": "2865323e",
   "metadata": {},
   "outputs": [
    {
     "data": {
      "text/plain": [
       "'21/02/2014'"
      ]
     },
     "execution_count": 23,
     "metadata": {},
     "output_type": "execute_result"
    }
   ],
   "source": [
    "liste = [\"21\",\"02\",\"2014\"]\n",
    "\"/\".join(liste)"
   ]
  },
  {
   "cell_type": "markdown",
   "id": "e854fbe0",
   "metadata": {},
   "source": [
    "### .count()\n",
    "count(x): Stringin içindeki x değerlerini sayar.  \n",
    "count(x,index): Stringin içindeki x değerlerini verilen index değerinden başlayarak saymaya başlar.  "
   ]
  },
  {
   "cell_type": "code",
   "execution_count": 25,
   "id": "24ee65e7",
   "metadata": {},
   "outputs": [
    {
     "data": {
      "text/plain": [
       "2"
      ]
     },
     "execution_count": 25,
     "metadata": {},
     "output_type": "execute_result"
    }
   ],
   "source": [
    "\"Yusuf Erdem\".count(\"u\")"
   ]
  },
  {
   "cell_type": "code",
   "execution_count": 26,
   "id": "7b95a142",
   "metadata": {},
   "outputs": [
    {
     "data": {
      "text/plain": [
       "1"
      ]
     },
     "execution_count": 26,
     "metadata": {},
     "output_type": "execute_result"
    }
   ],
   "source": [
    "\"Yusuf Erdem\".count(\"u\",2)"
   ]
  },
  {
   "cell_type": "markdown",
   "id": "3c01f6b5",
   "metadata": {},
   "source": [
    "### .find() ve .rfind()\n",
    "find(x) : x değerini baştan itibaren string içinde arar ve bulursa ilk bulduğu   \n",
    "indeksi döndürür. Bulamazsa \"-1\" değerini verir.  \n",
    "\n",
    "rfind(x) : x değerini sondan itibaren string içinde arar ve bulursa ilk bulduğu  \n",
    "indeksi döndürür. Bulamazsa \"-1\" değerini verir.  "
   ]
  },
  {
   "cell_type": "code",
   "execution_count": 27,
   "id": "1ddca4fd",
   "metadata": {},
   "outputs": [
    {
     "name": "stdout",
     "output_type": "stream",
     "text": [
      "0\n",
      "-1\n",
      "4\n",
      "-1\n"
     ]
    }
   ],
   "source": [
    "print(\"araba\".find(\"a\"))\n",
    "print(\"araba\".find(\"s\")) \n",
    "print(\"araba\".rfind(\"a\")) \n",
    "print(\"araba\".rfind(\"s\")) "
   ]
  },
  {
   "cell_type": "markdown",
   "id": "4f2a0bc9",
   "metadata": {},
   "source": [
    "# İleri Seviye Kümeler (Sets)\n",
    "**Kümeler, matematikte olduğu gibi bir elemandan sadece bir adet tutan bir veritipidir. Bu açıdan kullanıldıkları yerlerde**\n",
    "**çok önemli bir veritipi olmaktadırlar.**"
   ]
  },
  {
   "cell_type": "code",
   "execution_count": 1,
   "id": "9e480cb0",
   "metadata": {},
   "outputs": [
    {
     "name": "stdout",
     "output_type": "stream",
     "text": [
      "<class 'set'>\n"
     ]
    }
   ],
   "source": [
    "x=set() # bos kume\n",
    "print(type(x))"
   ]
  },
  {
   "cell_type": "code",
   "execution_count": 3,
   "id": "4b2fc746",
   "metadata": {},
   "outputs": [
    {
     "data": {
      "text/plain": [
       "{1, 2, 3, 4}"
      ]
     },
     "execution_count": 3,
     "metadata": {},
     "output_type": "execute_result"
    }
   ],
   "source": [
    "liste=[1,2,3,1,2,2,1,3,4,2]\n",
    "kume=set(liste)\n",
    "kume # Elemanlar tek elemana indirgendi"
   ]
  },
  {
   "cell_type": "code",
   "execution_count": 5,
   "id": "d15e4e33",
   "metadata": {},
   "outputs": [
    {
     "name": "stdout",
     "output_type": "stream",
     "text": [
      "{' ', 'o', 'n', 'l', 'h', 'g', 'D', 'y', 'a', 't', 'P', 'm', 'i', 'r'}\n"
     ]
    }
   ],
   "source": [
    "x = set(\"Python Programlama Dili\")\n",
    "print(x) # Ayni karakterler tek elemana indirgendi"
   ]
  },
  {
   "cell_type": "code",
   "execution_count": 6,
   "id": "1c760b50",
   "metadata": {},
   "outputs": [
    {
     "name": "stdout",
     "output_type": "stream",
     "text": [
      "{'Php', 'Python'}\n"
     ]
    }
   ],
   "source": [
    "x = {\"Python\",\"Php\",\"Python\"}\n",
    "x=set(x)\n",
    "print(x) # {'Python', 'Php'} Ayni elemanlar tek elemana indirgendi."
   ]
  },
  {
   "cell_type": "code",
   "execution_count": 7,
   "id": "2b9b21d9",
   "metadata": {},
   "outputs": [
    {
     "name": "stdout",
     "output_type": "stream",
     "text": [
      "<class 'set'>\n"
     ]
    }
   ],
   "source": [
    "#` Kümeler de tıpkı sözlükler gibi sırasız bir veri tipidir. Bunu for döngüsüyle görebiliriz.\n",
    "\n",
    "kume={\"Python\",\"Php\",\"Java\",\"C\",\"Javascript\"}\n",
    "print(type(kume))"
   ]
  },
  {
   "cell_type": "code",
   "execution_count": 8,
   "id": "1c83130b",
   "metadata": {},
   "outputs": [
    {
     "name": "stdout",
     "output_type": "stream",
     "text": [
      "Python\n",
      "Javascript\n",
      "Java\n",
      "C\n",
      "Php\n"
     ]
    }
   ],
   "source": [
    "for i in kume:\n",
    "    print(i)"
   ]
  },
  {
   "cell_type": "code",
   "execution_count": 9,
   "id": "179b5e56",
   "metadata": {},
   "outputs": [
    {
     "name": "stdout",
     "output_type": "stream",
     "text": [
      "Buradaki işlemler aslında kümelerde tanımlı değil. Yani biz bir kümenin elemanlarına ne indexle ne de eleman ismiyle erişebiliyoruz. Erişmek için mutlaka veritipi dönüşümü yapmamız gerekiyor.\n"
     ]
    }
   ],
   "source": [
    "try:\n",
    "    print(kume[0]) # TypeError: 'set' object is not subscriptable\n",
    "\n",
    "except TypeError:\n",
    "    print(\"Buradaki işlemler aslında kümelerde tanımlı değil. Yani biz bir kümenin elemanlarına ne indexle ne de\"\n",
    "          \" eleman ismiyle erişebiliyoruz. Erişmek için mutlaka veritipi dönüşümü yapmamız gerekiyor.\")"
   ]
  },
  {
   "cell_type": "code",
   "execution_count": 10,
   "id": "5c875ba7",
   "metadata": {},
   "outputs": [
    {
     "name": "stdout",
     "output_type": "stream",
     "text": [
      "Python\n"
     ]
    }
   ],
   "source": [
    "kume=list(kume)\n",
    "print(kume[0])"
   ]
  },
  {
   "cell_type": "markdown",
   "id": "4fb921d7",
   "metadata": {},
   "source": [
    "## Kumelerin Metotlari"
   ]
  },
  {
   "cell_type": "markdown",
   "id": "0caf0501",
   "metadata": {},
   "source": [
    "###  .add()\n",
    "ile eleman eklenir"
   ]
  },
  {
   "cell_type": "code",
   "execution_count": 12,
   "id": "83adca7e",
   "metadata": {},
   "outputs": [
    {
     "name": "stdout",
     "output_type": "stream",
     "text": [
      "{1, 2, 3, 4}\n"
     ]
    }
   ],
   "source": [
    "x={1,2,3}\n",
    "x.add(4)\n",
    "print(x)"
   ]
  },
  {
   "cell_type": "code",
   "execution_count": 14,
   "id": "6ace3652",
   "metadata": {},
   "outputs": [
    {
     "name": "stdout",
     "output_type": "stream",
     "text": [
      "{1, 2, 3, 4}\n"
     ]
    }
   ],
   "source": [
    "x.add(4) # Tekrar eklenmiyor\n",
    "print(x)"
   ]
  },
  {
   "cell_type": "markdown",
   "id": "5d8ddea3",
   "metadata": {},
   "source": [
    "### .difference()\n",
    "**Bu metod birinci kümenin ikinci kümeden farkını döner.**   \n",
    "        \n",
    "    küme1.difference(küme2) # Küme1'in Küme2'den farkı"
   ]
  },
  {
   "cell_type": "code",
   "execution_count": 16,
   "id": "d25602f4",
   "metadata": {},
   "outputs": [
    {
     "name": "stdout",
     "output_type": "stream",
     "text": [
      "{10, 3, 100, -2}\n",
      "{-1, 23}\n"
     ]
    }
   ],
   "source": [
    "kume1 = {1,2,3,10,34,100,-2}\n",
    "kume2 = {1,2,23,34,-1}\n",
    "print(kume1.difference(kume2)) #kume1 de olupta 2 de almayanlar kume1 fark kume2\n",
    "print(kume2.difference(kume1)) #2 \\ 1 "
   ]
  },
  {
   "cell_type": "markdown",
   "id": "8805c557",
   "metadata": {},
   "source": [
    "###  .difference_update()\n",
    "\n",
    "Bu metod birinci kümenin ikinci kümeden farkını dönerek birinci kümeyi bu farka göre günceller.\n",
    "        \n",
    "    küme1.difference_update(küme2) # Küme1'in Küme2'den farkı"
   ]
  },
  {
   "cell_type": "code",
   "execution_count": 22,
   "id": "250d3e6f",
   "metadata": {},
   "outputs": [
    {
     "name": "stdout",
     "output_type": "stream",
     "text": [
      "{3, 100, 10, -2}\n"
     ]
    }
   ],
   "source": [
    "kume1 = {-2, 1, 2, 3, 10, 34, 100}\n",
    "kume2 = {-1, 1, 2, 23, 34}\n",
    "\n",
    "kume1.difference_update(kume2)  # Kume 1 i 2 de olmayan elamanlarini alip listeyi sadece o elemanlar olacak sekilde guncelledi.\n",
    "print(kume1)"
   ]
  },
  {
   "cell_type": "code",
   "execution_count": 23,
   "id": "2bb50d99",
   "metadata": {},
   "outputs": [
    {
     "name": "stdout",
     "output_type": "stream",
     "text": [
      "{1, 2, 34, 23, -1}\n"
     ]
    }
   ],
   "source": [
    "kume2.difference_update(kume1) # Kume 2 nin kume1 den farkini kume 2 ye ata\n",
    "print(kume2)"
   ]
  },
  {
   "cell_type": "markdown",
   "id": "1c4c7e75",
   "metadata": {},
   "source": [
    "### discard()\n",
    "İçine verilen değeri kümeden çıkartır. Eğer kümede öyle bir değer yoksa, bu metod hiçbir şey yapmaz(Hata vermez).\n",
    "\n"
   ]
  },
  {
   "cell_type": "code",
   "execution_count": 24,
   "id": "43e9d34e",
   "metadata": {},
   "outputs": [
    {
     "name": "stdout",
     "output_type": "stream",
     "text": [
      "{1, 3, 4, 5, 6}\n",
      "{1, 3, 4, 5, 6}\n"
     ]
    }
   ],
   "source": [
    "küme1 = {1,2,3,4,5,6}\n",
    "küme1.discard(2)\n",
    "print(küme1) \n",
    "küme1.discard(1000)\n",
    "print(küme1) "
   ]
  },
  {
   "cell_type": "markdown",
   "id": "6833b579",
   "metadata": {},
   "source": [
    "### .intersection()\n",
    "Bu metod iki kümenin kesişimleri bulmamızı sağlar."
   ]
  },
  {
   "cell_type": "code",
   "execution_count": 25,
   "id": "8c472de9",
   "metadata": {},
   "outputs": [
    {
     "name": "stdout",
     "output_type": "stream",
     "text": [
      "{1, 2, 34}\n"
     ]
    }
   ],
   "source": [
    "küme1 = {1,2,3,10,34,100,-2}\n",
    "küme2 = {1,2,23,34,-1}\n",
    "print(küme1.intersection(küme2))"
   ]
  },
  {
   "cell_type": "markdown",
   "id": "c2b1e309",
   "metadata": {},
   "source": [
    "###  intersection_update()\n",
    "Bu metod birinci kümeyle ikinci kümenin kesişimlerini bulur ve birinci kümeyi bu kesişime göre günceller.\n"
   ]
  },
  {
   "cell_type": "code",
   "execution_count": 26,
   "id": "e6002713",
   "metadata": {},
   "outputs": [
    {
     "name": "stdout",
     "output_type": "stream",
     "text": [
      "{1, 2, 34}\n",
      "{1, 2, 34}\n"
     ]
    }
   ],
   "source": [
    "küme1 = {1,2,3,10,34,100,-2}\n",
    "küme2 = {1,2,23,34,-1}\n",
    "\n",
    "küme1.intersection_update(küme2)\n",
    "print(küme1)\n",
    "küme2.intersection_update(küme1)\n",
    "print(küme2)"
   ]
  },
  {
   "cell_type": "markdown",
   "id": "e752d05f",
   "metadata": {},
   "source": [
    "### isdisjoint()\n",
    "Bu metod, eğer iki kümenin kesişim kümesi boş ise True, değilse False döner.\n",
    "\n"
   ]
  },
  {
   "cell_type": "code",
   "execution_count": 28,
   "id": "c7247780",
   "metadata": {},
   "outputs": [
    {
     "name": "stdout",
     "output_type": "stream",
     "text": [
      "False\n",
      "True\n"
     ]
    }
   ],
   "source": [
    "kume1 = {1,2,3,10,34,100,-2}\n",
    "kume2 = {1,2,23,34,-1}\n",
    "kume3 = {30,40,50}\n",
    "\n",
    "print(kume1.isdisjoint(kume2)) # False , yani ayrik kume degil (ortak eleman var :) )\n",
    "print(kume1.isdisjoint(kume3)) # Kume 1 ve kume 3 ayrik kumeler."
   ]
  },
  {
   "cell_type": "markdown",
   "id": "24e6cd0f",
   "metadata": {},
   "source": [
    "### issubset() metodu\n",
    "Bu metod , birinci küme ikinci kümenin alt kümesiyse True, değilse False döner."
   ]
  },
  {
   "cell_type": "code",
   "execution_count": 29,
   "id": "a223c15e",
   "metadata": {},
   "outputs": [],
   "source": [
    "küme1 = {1,2,3}\n",
    "küme2 = {1,2,3,4}\n",
    "küme3 = {5,6,7}"
   ]
  },
  {
   "cell_type": "code",
   "execution_count": 30,
   "id": "1757b926",
   "metadata": {},
   "outputs": [
    {
     "name": "stdout",
     "output_type": "stream",
     "text": [
      "True\n",
      "False\n"
     ]
    }
   ],
   "source": [
    "print(küme1.issubset(küme2)) \n",
    "print(küme1.issubset(küme3))"
   ]
  },
  {
   "cell_type": "markdown",
   "id": "de5af053",
   "metadata": {},
   "source": [
    "### union() metodu   \n",
    "Bu metod, iki kümenin birleşim kümesini döner."
   ]
  },
  {
   "cell_type": "code",
   "execution_count": 31,
   "id": "321570c7",
   "metadata": {},
   "outputs": [
    {
     "name": "stdout",
     "output_type": "stream",
     "text": [
      "{1, 2, 3, 100, 34, 10, -1, 23, -2}\n"
     ]
    }
   ],
   "source": [
    "küme1 = {1,2,3,10,34,100,-2}\n",
    "küme2 = {1,2,23,34,-1}\n",
    "\n",
    "print(küme1.union(küme2))"
   ]
  },
  {
   "cell_type": "markdown",
   "id": "ecd14de4",
   "metadata": {},
   "source": [
    "###  update() metodu\n",
    "Bu Metod Birlesim kumelerini update eder"
   ]
  },
  {
   "cell_type": "code",
   "execution_count": 32,
   "id": "9848bfff",
   "metadata": {},
   "outputs": [],
   "source": [
    "küme1 = {1,2,3,10,34,100,-2}\n",
    "küme2 = {1,2,23,34,-1}\n",
    "\n",
    "küme1.update(küme2)\n",
    "küme2.update(küme1)"
   ]
  },
  {
   "cell_type": "code",
   "execution_count": 33,
   "id": "0d48ca67",
   "metadata": {},
   "outputs": [
    {
     "name": "stdout",
     "output_type": "stream",
     "text": [
      "{1, 2, 3, 100, 34, 10, -1, 23, -2}\n",
      "{1, 2, 34, 3, 100, 10, -2, 23, -1}\n"
     ]
    }
   ],
   "source": [
    "print(küme1) \n",
    "print(küme2)"
   ]
  },
  {
   "cell_type": "markdown",
   "id": "29ad8d72",
   "metadata": {},
   "source": [
    "# Ileri Seviye Listeler"
   ]
  },
  {
   "cell_type": "markdown",
   "id": "b7622b63",
   "metadata": {},
   "source": [
    "## Listelerin Metodlari"
   ]
  },
  {
   "cell_type": "markdown",
   "id": "a790fc87",
   "metadata": {},
   "source": [
    "###  .append()\n",
    "**listeye eleman eklememizi saglar**"
   ]
  },
  {
   "cell_type": "code",
   "execution_count": 34,
   "id": "6eab1dcb",
   "metadata": {},
   "outputs": [
    {
     "name": "stdout",
     "output_type": "stream",
     "text": [
      "[1, 2, 3, 4, 21]\n",
      "[1, 2, 3, 4, 21, 'Python']\n"
     ]
    },
    {
     "data": {
      "text/plain": [
       "[1, 2, 3, 4, 21, 'Python']"
      ]
     },
     "execution_count": 34,
     "metadata": {},
     "output_type": "execute_result"
    }
   ],
   "source": [
    "liste=[1,2,3,4]\n",
    "liste.append(21)\n",
    "print(liste) \n",
    "liste.append(\"Python\")\n",
    "print(liste) \n",
    "[1, 2, 3, 4, 21, 'Python']"
   ]
  },
  {
   "cell_type": "markdown",
   "id": "82b09f3a",
   "metadata": {},
   "source": [
    " ### .extend() \n",
    "**metodu bir listeye başka bir listenin elemanları eklememizi sağlar.**"
   ]
  },
  {
   "cell_type": "code",
   "execution_count": 39,
   "id": "d89db9fe",
   "metadata": {},
   "outputs": [
    {
     "name": "stdout",
     "output_type": "stream",
     "text": [
      "[1, 2, 3, 4, 5, 6, 7, 10, 11, 12]\n",
      "[1, 2, 3, 4, 5, 6, 7, 10, 11, 12, 13, 14, 15]\n"
     ]
    }
   ],
   "source": [
    "liste = [1,2,3,4,5,6,7]\n",
    "liste.extend([10,11,12])\n",
    "print(liste)\n",
    "liste2=[13,14,15]\n",
    "liste.extend(liste2)\n",
    "print(liste)"
   ]
  },
  {
   "cell_type": "markdown",
   "id": "08c5f428",
   "metadata": {},
   "source": [
    "### .insert() \n",
    "**metodu listenin belli bir indeksine bir eleman eklememizi sağlar.**"
   ]
  },
  {
   "cell_type": "code",
   "execution_count": 13,
   "id": "a69f9ec4",
   "metadata": {},
   "outputs": [
    {
     "name": "stdout",
     "output_type": "stream",
     "text": [
      "[1, 2, 'Python', 3, 4, 5, 6, 7, 8, 9]\n"
     ]
    }
   ],
   "source": [
    "liste = [1,2,3,4,5,6,7,8,9]\n",
    "liste.insert(2,\"Python\")\n",
    "print(liste)"
   ]
  },
  {
   "cell_type": "markdown",
   "id": "7f5ae31f",
   "metadata": {},
   "source": [
    "### .pop() \n",
    "**metodu içine hiçbir değer vermezsek listenin son elemanını silerek ekrana basar. \n",
    "İçine belli bir indeks değeri verirsek o indeksi siler ve ekrana basar**"
   ]
  },
  {
   "cell_type": "code",
   "execution_count": 41,
   "id": "ec1c9c76",
   "metadata": {},
   "outputs": [
    {
     "name": "stdout",
     "output_type": "stream",
     "text": [
      "[1, 2, 3, 4, 5, 6]\n",
      "[1, 2, 4, 5, 6]\n"
     ]
    }
   ],
   "source": [
    "liste=[1,2,3,4,5,6,7]\n",
    "liste.pop()\n",
    "print(liste)\n",
    "liste.pop(2)\n",
    "print(liste)"
   ]
  },
  {
   "cell_type": "markdown",
   "id": "5f56363c",
   "metadata": {},
   "source": [
    "### .remove() \n",
    "**metodu verdiğimiz değeri listeden çıkarmamızı sağlar.**"
   ]
  },
  {
   "cell_type": "code",
   "execution_count": 42,
   "id": "cb7a509e",
   "metadata": {},
   "outputs": [
    {
     "name": "stdout",
     "output_type": "stream",
     "text": [
      "['Python', 'Java', 'C']\n"
     ]
    }
   ],
   "source": [
    "liste = [\"Python\",\"Php\",\"Java\",\"C\"]\n",
    "liste.remove(\"Php\")\n",
    "print(liste)"
   ]
  },
  {
   "cell_type": "markdown",
   "id": "7358517c",
   "metadata": {},
   "source": [
    "### .index()\n",
    "**index() metodu verilen bir değerin baştan başlayarak hangi indekste olduğunu söyler. Değer listede yoksa hata döner. \n",
    "Eğer ekstra index değeri belirtilirse, index metodu() değeri bu indeksten itibaren aramaya çalışır.**"
   ]
  },
  {
   "cell_type": "code",
   "execution_count": 43,
   "id": "3155fbf7",
   "metadata": {},
   "outputs": [
    {
     "data": {
      "text/plain": [
       "4"
      ]
     },
     "execution_count": 43,
     "metadata": {},
     "output_type": "execute_result"
    }
   ],
   "source": [
    "liste = [1,2,3,4,3,3,5,6,7,8,9]\n",
    "liste.index(3) # 3 elemanı baştan başlayarak 2.indekste\n",
    "liste.index(3,3) # 3 elemanı 3.indekten itibaren arandığından 4.indekste"
   ]
  },
  {
   "cell_type": "markdown",
   "id": "80ed565f",
   "metadata": {},
   "source": [
    "### .count() \n",
    "**count() metodu verilen bir değerin listede kaç defa geçtiğini sayar.**"
   ]
  },
  {
   "cell_type": "code",
   "execution_count": 45,
   "id": "ba5d5202",
   "metadata": {},
   "outputs": [
    {
     "data": {
      "text/plain": [
       "0"
      ]
     },
     "execution_count": 45,
     "metadata": {},
     "output_type": "execute_result"
    }
   ],
   "source": [
    "liste = [1,2,3,4,5,6,1,1,1,1,1,1,1,1,8]\n",
    "liste.count(1) \n",
    "liste.count(12)"
   ]
  },
  {
   "cell_type": "markdown",
   "id": "910e189f",
   "metadata": {},
   "source": [
    "### .sort() \n",
    "**sort() metodu bir listenin elemanlarını sayıysa küçükten büyüğe , string ise alfabetik olarak sıralar. \n",
    "Eğer özellikle içine reverse = True değeri verilirse elemanları büyükten küçüğe sıralar.**"
   ]
  },
  {
   "cell_type": "code",
   "execution_count": 46,
   "id": "e34117c4",
   "metadata": {},
   "outputs": [
    {
     "name": "stdout",
     "output_type": "stream",
     "text": [
      "[-2, 1, 3, 12, 34, 100]\n",
      "['C', 'Java', 'Php', 'Python']\n",
      "[100, 34, 12, 3, 1, -2]\n"
     ]
    }
   ],
   "source": [
    "liste = [12,-2,3,1,34,100]\n",
    "liste.sort()\n",
    "print(liste) # [-2, 1, 3, 12, 34, 100]\n",
    "liste2 = [\"Python\",\"Php\",\"C\",\"Java\"]\n",
    "liste2.sort()\n",
    "print(liste2) # ['C', 'Java', 'Php', 'Python'] Harf onceligi\n",
    "liste = [12,-2,3,1,34,100]\n",
    "liste.sort(reverse = True)\n",
    "print(liste) # [100, 34, 12, 3, 1, -2]\n",
    "\n"
   ]
  },
  {
   "cell_type": "code",
   "execution_count": null,
   "id": "f34e77ee",
   "metadata": {},
   "outputs": [],
   "source": []
  }
 ],
 "metadata": {
  "kernelspec": {
   "display_name": "Python 3",
   "language": "python",
   "name": "python3"
  },
  "language_info": {
   "codemirror_mode": {
    "name": "ipython",
    "version": 3
   },
   "file_extension": ".py",
   "mimetype": "text/x-python",
   "name": "python",
   "nbconvert_exporter": "python",
   "pygments_lexer": "ipython3",
   "version": "3.9.3"
  },
  "toc": {
   "base_numbering": 1,
   "nav_menu": {},
   "number_sections": false,
   "sideBar": false,
   "skip_h1_title": false,
   "title_cell": "Table of Contents",
   "title_sidebar": "Contents",
   "toc_cell": true,
   "toc_position": {},
   "toc_section_display": true,
   "toc_window_display": false
  }
 },
 "nbformat": 4,
 "nbformat_minor": 5
}
