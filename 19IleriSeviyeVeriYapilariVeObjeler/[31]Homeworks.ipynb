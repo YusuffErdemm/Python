{
 "cells": [
  {
   "cell_type": "markdown",
   "id": "672c569e",
   "metadata": {},
   "source": [
    "**Problem 1**   \n",
    "---\n",
    "Elinizde uzunca bir string olsun.  \n",
    "Bu string içindeki harflerin frekansını (bir harfin kaç defa geçtiği) bulmaya çalışın.\n",
    "\n",
    "\n",
    "\"\"\"\n"
   ]
  },
  {
   "cell_type": "code",
   "execution_count": 2,
   "id": "2fa0068e",
   "metadata": {},
   "outputs": [
    {
     "name": "stdout",
     "output_type": "stream",
     "text": [
      "Y : 2\n",
      "u : 2\n",
      "s : 1\n",
      "f : 1\n",
      "E : 1\n",
      "r : 3\n",
      "d : 1\n",
      "e : 3\n",
      "m : 2\n",
      "I : 1\n",
      "a : 1\n",
      "l : 1\n",
      "c : 1\n",
      "i : 3\n",
      "n : 1\n",
      "C : 1\n",
      "o : 4\n",
      "k : 1\n",
      "S : 1\n",
      "v : 1\n",
      "y : 1\n",
      "{'Y': 2, 'u': 2, 's': 1, 'f': 1, 'E': 1, 'r': 3, 'd': 1, 'e': 3, 'm': 2, 'I': 1, 'a': 1, 'l': 1, 'c': 1, 'i': 3, 'n': 1, 'C': 1, 'o': 4, 'k': 1, 'S': 1, 'v': 1, 'y': 1}\n"
     ]
    }
   ],
   "source": [
    "s = \"YusufErdemIremYalciniCoookSeviyor\"\n",
    "frequency = dict()\n",
    "\n",
    "for i in s:\n",
    "    if i in frequency:\n",
    "        frequency[i] += 1\n",
    "    else:\n",
    "        frequency[i] = 1\n",
    "for x, y in frequency.items():\n",
    "    print(x, \":\", y)\n",
    "\n",
    "print(frequency)"
   ]
  },
  {
   "cell_type": "markdown",
   "id": "08e4b6bc",
   "metadata": {},
   "source": [
    "# Problem 2\n",
    "\"şiir.txt\" şeklinde bir dosya oluşturun ve içinde şu satırlar yer alsın.\n",
    "\n",
    "                    Memlekete sis çökmüş bir gece \n",
    "                    Usulca yanağıma sen düşüyorsun\n",
    "                    Sabah saat dokuzu beş geçe\n",
    "                    Terk edip bizleri gidiyorsun\n",
    "                    Ayrılık bu kadar yakmamıştı içimizi\n",
    "                    Farkında mısın bilmiyorum\n",
    "                    Aldın beraberinde cumhuriyetimizi\n",
    "                    Korkunç bir veda, sararmıştı her yer\n",
    "                    Ellerini uzat tutmak istiyoruz\n",
    "                    Masmavi gözleri kaybetmiş çocuk\n",
    "                    Aldı bir sabah ruhumuzu\n",
    "                    Lakin nasıl bölmesin yokluğun uykumuzu\n",
    "\n",
    "Bu dosyanın herbir satırını okuyun. Satırların baş harflerini birbirine ekleyerek bir string oluşturun ve bu string'i ekrana yazdırın.\n",
    "\"\"\""
   ]
  },
  {
   "cell_type": "code",
   "execution_count": 3,
   "id": "c78c852d",
   "metadata": {},
   "outputs": [
    {
     "name": "stdout",
     "output_type": "stream",
     "text": [
      "MUSTAFAKEMAL\n",
      ". Please enter a valid e mail\n",
      "coskun.m.murat@gmail.com e mail approved\n",
      "example@xyz.com e mail approved\n",
      "mustafa.com Please enter a valid e mail\n",
      "mustafa@gmail Please enter a valid e mail\n",
      "kerim@yahoo.co Please enter a valid e mail\n"
     ]
    }
   ],
   "source": [
    "first_letters=\"\"\n",
    "\n",
    "with open(\"siir.txt\",\"r\",encoding=\"utf-8\") as file:\n",
    "    for i in file:\n",
    "        first_letters+= i[0]\n",
    "print(first_letters)  # MUSTAFAKEMAL\n",
    "\n",
    "with open(\"mailler.txt\",\"r\") as file:\n",
    "    for i in file:\n",
    "        i=i[:-1] #  Bu her satirdaki boslugu kaldirmak icindi.\n",
    "        if i.endswith(\".com\") and i.find(\"@\") != -1 : #find(x) : x değerini baştan itibaren string içinde arar ve bulursa ilk bulduğu\n",
    "                                                    #indeksi döndürür. Bulamazsa \"-1\" değerini verir.\n",
    "            print(i,\"e mail approved\")\n",
    "\n",
    "        else:\n",
    "            print(i,\"Please enter a valid e mail\")"
   ]
  },
  {
   "cell_type": "markdown",
   "id": "bbb79d13",
   "metadata": {},
   "source": [
    "# Problem3\n",
    "Elinizde 2 tane liste bulunsun. Bu listelerden isim ve soyisimleri birleştirerek , ekrana isim ve soyisimleri isimlere göre sıralı bir şekilde yazdırmaya çalışın.\n",
    "\n",
    "        isim -----> [\"Kerim\",\"Tarık\",\"Ezgi\",\"Kemal\",\"İlkay\",\"Şükran\",\"Merve\"]\n",
    "\n",
    "        soyisim ------> [\"Yılmaz\",\"Öztürk\",\"Dağdeviren\",\"Atatürk\",\"Dikmen\",\"Kaya\",\"Polat\"]\n",
    "        \n"
   ]
  },
  {
   "cell_type": "code",
   "execution_count": 5,
   "id": "029aae70",
   "metadata": {},
   "outputs": [
    {
     "name": "stdout",
     "output_type": "stream",
     "text": [
      "Kerim Yılmaz\n",
      "Tarık Öztürk\n",
      "Ezgi Dağdeviren\n",
      "Kemal Atatürk\n",
      "İlkay Dikmen\n",
      "Şükran Kaya\n",
      "Merve Polat\n",
      "~~~~~~~~~~~~~~~~~~~~~~~~~~~~~~~~~~~~~~\n",
      "Ezgi Dağdeviren\n",
      "Kemal Atatürk\n",
      "Kerim Yılmaz\n",
      "Merve Polat\n",
      "Tarık Öztürk\n",
      "İlkay Dikmen\n",
      "Şükran Kaya\n",
      "[('Ezgi', 'Dağdeviren'), ('Kemal', 'Atatürk'), ('Kerim', 'Yılmaz'), ('Merve', 'Polat'), ('Tarık', 'Öztürk'), ('İlkay', 'Dikmen'), ('Şükran', 'Kaya')]\n"
     ]
    }
   ],
   "source": [
    "name=[\"Kerim\",\"Tarık\",\"Ezgi\",\"Kemal\",\"İlkay\",\"Şükran\",\"Merve\"]\n",
    "surname=[\"Yılmaz\",\"Öztürk\",\"Dağdeviren\",\"Atatürk\",\"Dikmen\",\"Kaya\",\"Polat\"]\n",
    "\n",
    "for i , j in zip(name,surname): # zipleme islemini degiskenede atiyabilirdik a=list(zip(name,surname)) yaparak\n",
    "\n",
    "    print(i,j)\n",
    "\n",
    "print(\"~~~~~~~~~~~~~~~~~~~~~~~~~~~~~~~~~~~~~~\")\n",
    "a=list(zip(name,surname))\n",
    "a.sort() #Harf onceligine gore siraladik\n",
    "\n",
    "for i , j in a:\n",
    "    print(i,j)\n",
    "print(a)"
   ]
  },
  {
   "cell_type": "code",
   "execution_count": null,
   "id": "c7971c97",
   "metadata": {},
   "outputs": [],
   "source": []
  }
 ],
 "metadata": {
  "kernelspec": {
   "display_name": "Python 3",
   "language": "python",
   "name": "python3"
  },
  "language_info": {
   "codemirror_mode": {
    "name": "ipython",
    "version": 3
   },
   "file_extension": ".py",
   "mimetype": "text/x-python",
   "name": "python",
   "nbconvert_exporter": "python",
   "pygments_lexer": "ipython3",
   "version": "3.9.3"
  },
  "toc": {
   "base_numbering": 1,
   "nav_menu": {},
   "number_sections": false,
   "sideBar": false,
   "skip_h1_title": false,
   "title_cell": "Table of Contents",
   "title_sidebar": "Contents",
   "toc_cell": false,
   "toc_position": {},
   "toc_section_display": true,
   "toc_window_display": false
  }
 },
 "nbformat": 4,
 "nbformat_minor": 5
}
