{
 "cells": [
  {
   "cell_type": "markdown",
   "id": "6f63d846",
   "metadata": {
    "toc": true
   },
   "source": [
    "<h1>Table of Contents<span class=\"tocSkip\"></span></h1>\n",
    "<div class=\"toc\"><ul class=\"toc-item\"><li><span><a href=\"#Sqlite-Veritabanı-ve-Tablo-Oluşturma\" data-toc-modified-id=\"Sqlite-Veritabanı-ve-Tablo-Oluşturma-1\">Sqlite Veritabanı ve Tablo Oluşturma</a></span><ul class=\"toc-item\"><li><span><a href=\"#Veritabanı-nedir-?\" data-toc-modified-id=\"Veritabanı-nedir-?-1.1\">Veritabanı nedir ?</a></span></li><li><span><a href=\"#Sqlite-Veritabani\" data-toc-modified-id=\"Sqlite-Veritabani-1.2\">Sqlite Veritabani</a></span></li><li><span><a href=\"#Sqlite-Veritabani-Olusturma\" data-toc-modified-id=\"Sqlite-Veritabani-Olusturma-1.3\">Sqlite Veritabani Olusturma</a></span></li><li><span><a href=\"#Kitaplık-Tablosu-Oluşturma\" data-toc-modified-id=\"Kitaplık-Tablosu-Oluşturma-1.4\">Kitaplık Tablosu Oluşturma</a></span><ul class=\"toc-item\"><li><ul class=\"toc-item\"><li><span><a href=\"#Sorgu1\" data-toc-modified-id=\"Sorgu1-1.4.0.1\">Sorgu1</a></span></li><li><span><a href=\"#Sorgu2\" data-toc-modified-id=\"Sorgu2-1.4.0.2\">Sorgu2</a></span></li></ul></li></ul></li><li><span><a href=\"#Tabloya-Veri-ekleme\" data-toc-modified-id=\"Tabloya-Veri-ekleme-1.5\">Tabloya Veri ekleme</a></span></li><li><span><a href=\"#Tablodan-Veri-Cekme\" data-toc-modified-id=\"Tablodan-Veri-Cekme-1.6\">Tablodan Veri Cekme</a></span></li><li><span><a href=\"#Tablolardaki-Verileri-Guncelleme-ve-Silme\" data-toc-modified-id=\"Tablolardaki-Verileri-Guncelleme-ve-Silme-1.7\">Tablolardaki Verileri Guncelleme ve Silme</a></span><ul class=\"toc-item\"><li><span><a href=\"#Verileri-Güncelleme\" data-toc-modified-id=\"Verileri-Güncelleme-1.7.1\">Verileri Güncelleme</a></span></li><li><span><a href=\"#Veri-Silme\" data-toc-modified-id=\"Veri-Silme-1.7.2\">Veri Silme</a></span></li></ul></li></ul></li></ul></div>"
   ]
  },
  {
   "cell_type": "markdown",
   "id": "b032d6e0",
   "metadata": {},
   "source": [
    "# Sqlite Veritabanı ve Tablo Oluşturma\n",
    " Veritabanı konusu çok çok uzun incelenmesi gereken bir konu olduğu için bu bölümde sadece Sqlite veritabanını basit anlamda incelemeye çalışacağız."
   ]
  },
  {
   "cell_type": "markdown",
   "id": "27d28dd0",
   "metadata": {},
   "source": [
    "## Veritabanı nedir ? \n",
    "Veritabanı uygulamalarımızda , websitelerimizde veya en genel anlamda programlarımızda gerekli olan bilgileri   \n",
    "depoladığımız bir yapıdır. Örneğin , Facebook'un kullanıcıları, gönderileri tuttuğu veritabanları gibi.   \n",
    "Günümüzde kullanılan bazı veritabanı türleri şunlardır;  \n",
    "\n",
    "          Relational Database (İlişkisel Veritabanları) : Tablolardan oluşur. Mysql, Sqlite vs.  \n",
    "          DocumentBased Database (Doküman Veritabanları) : Dokümanlardan oluşur. MongoDb, Azure DocumentDb  \n",
    "                              //\n",
    "                              //\n",
    "                              //\n",
    "Sqlite ilişkisel bir veritabanıdır ve bu veritabanı tablolardan oluşur Her bir tablo veritabanında belli gruplanmış\n",
    "verileri tutar. Örnek bir tablo yapısı şu şekildedir;\n",
    "\n",
    "![Tablo](Unknown.jpg)\n",
    "\n",
    "Buradaki tabloda , **İsim,Yazar,Yayınevi,Sayfa Sayısı** gibi özellikler bizim tablomuzun özellikleridir ve her bir satırda herhangi bir kitabın özellikleri saklanır. Tabloları tıpkı bir excel dosyası gibi düşünebilirsiniz."
   ]
  },
  {
   "cell_type": "markdown",
   "id": "4914c2dd",
   "metadata": {},
   "source": [
    "## Sqlite Veritabani\n",
    "\n",
    "Bu bölümde göreceğimiz Sqlite veritabanı diğer veritabanları gibi sunucu kurmamızı gerektirmez, yani sunucusuz bir \n",
    "veritabanıdır. Bu anlamda herhangi bir programımızın yanına direk olarak kurulabilir.\n",
    "\n",
    "Peki bu veritabanı üzerinde tablo oluşturma, veri ekleme gibi işlemlerimizi nasıl gerçekleştireceğiz ?  \n",
    "İlişkisel veritabanları tablo işlemlerini  SQL(Structured Query Language) adında bir sorgulama diliyle gerçekleştirir.  \n",
    "Ancak bu sorgulama dili çok kapsamlı olduğu için bu bölümde sadece belli başlı sorguları gorecegiz.  \n",
    "\n",
    "Sql dilini incelemek isterseniz şu siteye bakabilirsiniz : **[Link](https://www.w3schools.com/SQL/deFault.asp)**\n",
    "\n",
    "\n"
   ]
  },
  {
   "cell_type": "markdown",
   "id": "84274ed6",
   "metadata": {},
   "source": [
    "## Sqlite Veritabani Olusturma\n",
    "            1. import sqlite3 -  Modülümüzü dahil ediyoruz.\n",
    "            2. con = sqlite3.connect(\"kütüphane.db\") - kütüphane.db veritabanını oluşturup bağlanıyoruz.\n",
    "            Eğer öyle bir veritabanı varsa bağlanıyoruz. Bağlantıyı con isimli bir değişkene atıyoruz.\n",
    "            3.  Database üzerinde Sql sorgularını çalıştırmak için cursor bir tane imleç oluşturuyoruz. \n",
    "            \"cursor =  con.cursor()\n",
    "            4. Veritabanı işlemlerinin sonunda con.close() ile bağlantımızı koparıyoruz."
   ]
  },
  {
   "cell_type": "code",
   "execution_count": 3,
   "id": "3e86cd99",
   "metadata": {},
   "outputs": [],
   "source": [
    "import sqlite3\n",
    "con=sqlite3.connect(\"kutuphane.db\")\n",
    "cursor=con.cursor()\n",
    "con.close()"
   ]
  },
  {
   "cell_type": "markdown",
   "id": "991f0195",
   "metadata": {},
   "source": [
    "## Kitaplık Tablosu Oluşturma\n",
    "Veritabanında kitaplık isimli bir tablo oluşturmak için şu 2 sorgudan birini kullanabiliriz.\n",
    "\n",
    "#### Sorgu1\n",
    "---\n",
    " CREATE TABLE kitaplık (İsim TEXT, Yazar TEXT, Yayınevi TEXT , Sayfa_Sayısı INT) - Bu sorgu kitaplık isimli bir tablo\n",
    " oluşturacak ve bu tablonun özellikleri İsim (TEXT --> String),Yazar(TEXT --> String),Yayınevi (TEXT ---> String),\n",
    " Sayfa_Sayısı(INT --- int) olacak. Ancak bu sorguyu arda arda çalıştırırsak \"Tablo Already Exists\" hatası alacağız.\n",
    "#### Sorgu2\n",
    "---\n",
    " CREATE TABLE IF NOT EXISTS kitaplık (İsim TEXT, Yazar TEXT, Yayınevi TEXT , Sayfa_Sayısı INT) - Bu sorgu tablo yoksa\n",
    "  oluşturacak, tablo varsa hata vermeyecektir.\n",
    "  \n",
    " Kodlarımız şu şekilde;"
   ]
  },
  {
   "cell_type": "code",
   "execution_count": 6,
   "id": "b5ae3b19",
   "metadata": {},
   "outputs": [],
   "source": [
    "import sqlite3\n",
    "con=sqlite3.connect(\"kutuphane.db\")\n",
    "cursor = con.cursor()\n",
    "\n",
    "def tablo_olustur():\n",
    "    cursor.execute(\"CREATE TABLE IF NOT EXISTS kitaplik(isim TEXT , Yazar TEXT , Yayinevi TEXT , Sayfa_sayisi INT)\")  # Sorguyu Calistiriyoruz\n",
    "    con.commit() # Sorgunun veritabanı üzerinde geçerli olması için commit işlemi gerekli.\n",
    "\n",
    "tablo_olustur()\n",
    "con.close()"
   ]
  },
  {
   "cell_type": "markdown",
   "id": "eb123b75",
   "metadata": {},
   "source": [
    "## Tabloya Veri ekleme\n",
    " INSERT INTO kitaplık VALUES('İstanbul Hatırası','Ahmet Ümit','Everest',561)   \n",
    "         \n",
    "         `Not : SQL Sorguları büyük veya küçük harfle de yazılabilir. Örnek olarak`\n",
    "\n",
    "1.insert into kitaplık values ('İstanbul Hatırası','Ahmet Ümit','Everest',561)  \n",
    "2.Insert Into kitaplık Values ('İstanbul Hatırası','Ahmet Ümit','Everest',561)"
   ]
  },
  {
   "cell_type": "code",
   "execution_count": 9,
   "id": "c66c0fc7",
   "metadata": {},
   "outputs": [],
   "source": [
    "import sqlite3\n",
    "con=sqlite3.connect(\"kutuphane.db\")\n",
    "cursor = con.cursor()\n",
    "\n",
    "def tablo_olustur():\n",
    "    cursor.execute(\"CREATE TABLE IF NOT EXISTS kitaplik(isim TEXT , Yazar TEXT , Yayinevi TEXT , Sayfa_sayisi INT)\")  # Sorguyu Calistiriyoruz\n",
    "    con.commit() # Sorgunun veritabanı üzerinde geçerli olması için commit işlemi gerekli.\n",
    "\n",
    "def veri_ekle():\n",
    "    cursor.execute(\"INSERT INTO kitaplik VALUES ('Istanbul Hatirasi' , 'Ahmet Umit' , 'Everest' , 261)\")\n",
    "    con.commit()\n",
    "\n",
    "veri_ekle()\n",
    "con.close()"
   ]
  },
  {
   "cell_type": "markdown",
   "id": "87d90e5a",
   "metadata": {},
   "source": [
    "**Peki kullanıcıdan aldığımız değerleri tabloya nasıl ekliyoruz ? Onun için de sorgumuzu ve kodumuzu biraz değiştireceğiz.**\n",
    "\n"
   ]
  },
  {
   "cell_type": "code",
   "execution_count": 3,
   "id": "84ca1f59",
   "metadata": {},
   "outputs": [
    {
     "name": "stdout",
     "output_type": "stream",
     "text": [
      "Isim:Homo Deus\n",
      "Yazar:Yuval Noah Harari\n",
      "Yayinevi:bilgi\n",
      "Sayfa Sayisi:430\n"
     ]
    }
   ],
   "source": [
    "import sqlite3\n",
    "con=sqlite3.connect(\"kutuphane.db\")\n",
    "cursor=con.cursor()\n",
    "\n",
    "def tablo_olustur():\n",
    "    cursor.execute(\"CREATE TABLE IF NOT EXISTS kitaplik (İsim TEXT,Yazar TEXT,Yayınevi TEXT,Sayfa_Sayısı INT)\") # Sorguyu çalıştırıyoruz.\n",
    "    con.commit()\n",
    "    \n",
    "def veri_ekle_2(isim,yazar,yayinevi,sayfa_sayisi):\n",
    "    cursor.execute(\"INSERT INTO kitaplik VALUES (? , ? , ? , ?)\",(isim,yazar,yayinevi,sayfa_sayisi))\n",
    "    con.commit()\n",
    "isim=input(\"Isim:\")\n",
    "yazar=input(\"Yazar:\")\n",
    "yayinevi=input(\"Yayinevi:\")\n",
    "sayfa_sayisi=int(input(\"Sayfa Sayisi:\"))\n",
    "veri_ekle_2(isim,yazar,yayinevi,sayfa_sayisi)"
   ]
  },
  {
   "cell_type": "markdown",
   "id": "a4421761",
   "metadata": {},
   "source": [
    "## Tablodan Veri Cekme"
   ]
  },
  {
   "cell_type": "markdown",
   "id": "a72211bb",
   "metadata": {},
   "source": [
    "Tablodan veri çekmek için şu SQL sorgularını kullanacağız:\n",
    "\n",
    "- Select * From kitaplık - Tablodaki tüm bilgileri almamızı sağlar.\n",
    "- Select İsim,Yazar From kitaplık Tablodaki tüm bilgileri sadece İsim ve Yazar özelliklerini almamızı sağlar.\n",
    "- Select * From kitaplık where Yayınevi = 'Everest' Sadece Yayınevi özelliği Everest olanları alır.\n",
    "\n"
   ]
  },
  {
   "cell_type": "code",
   "execution_count": 5,
   "id": "f843805f",
   "metadata": {},
   "outputs": [],
   "source": [
    "import sqlite3\n",
    "con=sqlite3.connect(\"kutuphane.db\")\n",
    "cursor=con.cursor()\n",
    "\n",
    "def tablo_olustur():\n",
    "    cursor.execute(\"CREATE TABLE IF NOT EXISTS kitaplık (İsim TEXT,Yazar TEXT,Yayınevi TEXT,Sayfa_Sayısı INT)\")\n",
    "    con.commit()\n",
    "def veri_ekle(isim,yazar,yayınevi,sayfa_sayısı):\n",
    "    cursor.execute(\"Insert into kitaplik Values(?,?,?,?)\",(isim,yazar,yayınevi,sayfa_sayısı))\n",
    "    con.commit()\n",
    "def verileri_al():\n",
    "    cursor.execute(\"Select * From kitaplik\") # Bütün bilgileri alıyoruz.\n",
    "    data=cursor.fetchall() # Veritabanından bilgileri çekmek için fetchall() kullanıyoruz.\n",
    "    print(\"Kitaplik Tablosunun Bilgileri......\")\n",
    "    for i in data:\n",
    "        print(i)\n",
    "    #` con.commit() işlemine gerek yok. Çünkü tabloda herhangi bir güncelleme yapmıyoruz."
   ]
  },
  {
   "cell_type": "code",
   "execution_count": 7,
   "id": "2351d014",
   "metadata": {},
   "outputs": [
    {
     "name": "stdout",
     "output_type": "stream",
     "text": [
      "Kitaplik Tablosunun Bilgileri......\n",
      "('Istanbul Hatirasi', 'Ahmet Umit', 'Everest', 261)\n",
      "('Homo Deus', 'Yuval Noah Harari', 'bilgi', 430)\n"
     ]
    },
    {
     "data": {
      "text/plain": [
       "<function Connection.close>"
      ]
     },
     "execution_count": 7,
     "metadata": {},
     "output_type": "execute_result"
    }
   ],
   "source": [
    "verileri_al() \n",
    "con.close"
   ]
  },
  {
   "cell_type": "markdown",
   "id": "95fef5f3",
   "metadata": {},
   "source": [
    "**Sadece Isim Ve yazar bilgilerini alalim**"
   ]
  },
  {
   "cell_type": "code",
   "execution_count": 10,
   "id": "b23e3fc7",
   "metadata": {},
   "outputs": [],
   "source": [
    "import sqlite3\n",
    "con=sqlite3.connect(\"kutuphane.db\")\n",
    "cursor=con.cursor()\n",
    "\n",
    "def tablo_olustur():\n",
    "    cursor.execute(\"CREATE TABLE IF NOT EXISTS kitaplık (İsim TEXT,Yazar TEXT,Yayınevi TEXT,Sayfa_Sayısı INT)\")\n",
    "    con.commit()\n",
    "def veri_ekle(isim,yazar,yayınevi,sayfa_sayısı):\n",
    "    cursor.execute(\"Insert into kitaplik Values(?,?,?,?)\",(isim,yazar,yayınevi,sayfa_sayısı))\n",
    "    con.commit()\n",
    "def verileri_al():\n",
    "    cursor.execute(\"Select * From kitaplik\") # Bütün bilgileri alıyoruz.\n",
    "    data=cursor.fetchall() # Veritabanından bilgileri çekmek için fetchall() kullanıyoruz.\n",
    "    print(\"Kitaplik Tablosunun Bilgileri......\")\n",
    "    for i in data:\n",
    "        print(i)\n",
    "def verileri_al2():\n",
    "    cursor.execute(\"Select isim,Yazar From kitaplik\") # Sadece İsim ve Yazar özelliklerini alıyoruz.\n",
    "    data = cursor.fetchall()\n",
    "    print(\"Kitaplık Tablosunun bilgileri.....\")\n",
    "    for i in data:\n",
    "        print(i)"
   ]
  },
  {
   "cell_type": "code",
   "execution_count": 11,
   "id": "7751f2fc",
   "metadata": {},
   "outputs": [
    {
     "name": "stdout",
     "output_type": "stream",
     "text": [
      "Kitaplık Tablosunun bilgileri.....\n",
      "('Istanbul Hatirasi', 'Ahmet Umit')\n",
      "('Homo Deus', 'Yuval Noah Harari')\n"
     ]
    }
   ],
   "source": [
    "verileri_al2()\n",
    "con.close()"
   ]
  },
  {
   "cell_type": "markdown",
   "id": "0682f22e",
   "metadata": {},
   "source": [
    "**Sadece Yayinevi bilgisi almak icin verileri_al3() fonksiyonu ekleyelim**"
   ]
  },
  {
   "cell_type": "code",
   "execution_count": 13,
   "id": "533f2bf8",
   "metadata": {},
   "outputs": [],
   "source": [
    "import sqlite3\n",
    "con=sqlite3.connect(\"kutuphane.db\")\n",
    "cursor=con.cursor()\n",
    "\n",
    "def tablo_olustur():\n",
    "    cursor.execute(\"CREATE TABLE IF NOT EXISTS kitaplık (İsim TEXT,Yazar TEXT,Yayınevi TEXT,Sayfa_Sayısı INT)\")\n",
    "    con.commit()\n",
    "def veri_ekle(isim,yazar,yayınevi,sayfa_sayısı):\n",
    "    cursor.execute(\"Insert into kitaplik Values(?,?,?,?)\",(isim,yazar,yayınevi,sayfa_sayısı))\n",
    "    con.commit()\n",
    "def verileri_al():\n",
    "    cursor.execute(\"Select * From kitaplik\") # Bütün bilgileri alıyoruz.\n",
    "    data=cursor.fetchall() # Veritabanından bilgileri çekmek için fetchall() kullanıyoruz.\n",
    "    print(\"Kitaplik Tablosunun Bilgileri......\")\n",
    "    for i in data:\n",
    "        print(i)\n",
    "def verileri_al2():\n",
    "    cursor.execute(\"Select isim,Yazar From kitaplik\") # Sadece İsim ve Yazar özelliklerini alıyoruz.\n",
    "    data = cursor.fetchall()\n",
    "    print(\"Kitaplık Tablosunun bilgileri.....\")\n",
    "    for i in data:\n",
    "        print(i)\n",
    "def verileri_al3():\n",
    "    cursor.execute(\"Select yayinevi from kitaplik \")\n",
    "    data=cursor.fetchall()\n",
    "    print(\"Kitaplik tablosunun yayinevi bilgileri:\")\n",
    "    for i in data:\n",
    "        print(i)\n"
   ]
  },
  {
   "cell_type": "code",
   "execution_count": 14,
   "id": "54fde816",
   "metadata": {},
   "outputs": [
    {
     "name": "stdout",
     "output_type": "stream",
     "text": [
      "Kitaplik tablosunun yayinevi bilgileri:\n",
      "('Everest',)\n",
      "('bilgi',)\n"
     ]
    }
   ],
   "source": [
    "verileri_al3()\n",
    "con.close()"
   ]
  },
  {
   "cell_type": "markdown",
   "id": "3cdce031",
   "metadata": {},
   "source": [
    "## Tablolardaki Verileri Guncelleme ve Silme"
   ]
  },
  {
   "cell_type": "markdown",
   "id": "d1c7572e",
   "metadata": {},
   "source": [
    "### Verileri Güncelleme\n",
    "Tablodaki verileri güncelleme için şöyle bir sorgu kullanabiliriz:  \n",
    "\n",
    "Update kitaplık set Yayınevi = 'Everest' where Yayınevi = 'Doğan Kitap' -- Yayınevi 'Doğan Kitap' olan kitapların Yayınevi      bilgilerini 'Everest' e günceller.  "
   ]
  },
  {
   "cell_type": "code",
   "execution_count": 20,
   "id": "1d2532aa",
   "metadata": {},
   "outputs": [],
   "source": [
    "import sqlite3\n",
    "con=sqlite3.connect(\"kutuphane.db\")\n",
    "cursor=con.cursor()\n",
    "\n",
    "def tablo_olustur():\n",
    "    cursor.execute(\"CREATE TABLE IF NOT EXISTS kitaplık (İsim TEXT,Yazar TEXT,Yayınevi TEXT,Sayfa_Sayısı INT)\")\n",
    "    con.commit()\n",
    "def veri_ekle(isim,yazar,yayınevi,sayfa_sayısı):\n",
    "    cursor.execute(\"Insert into kitaplik Values(?,?,?,?)\",(isim,yazar,yayınevi,sayfa_sayısı))\n",
    "    con.commit()\n",
    "def verileri_al():\n",
    "    cursor.execute(\"Select * From kitaplik\") # Bütün bilgileri alıyoruz.\n",
    "    data=cursor.fetchall() # Veritabanından bilgileri çekmek için fetchall() kullanıyoruz.\n",
    "    print(\"Kitaplik Tablosunun Bilgileri......\")\n",
    "    for i in data:\n",
    "        print(i)\n",
    "def verileri_al2():\n",
    "    cursor.execute(\"Select İsim,Yazar From kitaplik\") # Sadece İsim ve Yazar özelliklerini alıyoruz.\n",
    "    data = cursor.fetchall()\n",
    "    print(\"Kitaplık Tablosunun bilgileri.....\")\n",
    "    for i in data:\n",
    "        print(i)\n",
    "def verileri_al3(yayınevi):\n",
    "    cursor.execute(\"Select * From kitaplik where Yayınevi = ?\",(yayınevi,)) # Sadece yayınevi ,Everest olan kitapları alıyoruz.\n",
    "    data = cursor.fetchall()\n",
    "    print(\"Kitaplık Tablosunun bilgileri.....\")\n",
    "    for i in data:\n",
    "        print(i)\n",
    "def verigüncelle(yayinevi):\n",
    "    cursor.execute(\"Update kitaplik set Yayinevi = ? where Yayinevi =  ?\",(\"bilgi\",yayinevi))\n",
    "    con.commit()"
   ]
  },
  {
   "cell_type": "code",
   "execution_count": 21,
   "id": "30159996",
   "metadata": {},
   "outputs": [],
   "source": [
    "verigüncelle(\"Doğan Kitap\")\n",
    "con.close()"
   ]
  },
  {
   "cell_type": "markdown",
   "id": "7355b44f",
   "metadata": {},
   "source": [
    "### Veri Silme"
   ]
  },
  {
   "cell_type": "code",
   "execution_count": 22,
   "id": "0693ee76",
   "metadata": {},
   "outputs": [],
   "source": [
    "import sqlite3\n",
    "con=sqlite3.connect(\"kutuphane.db\")\n",
    "cursor=con.cursor()\n",
    "\n",
    "def tablo_olustur():\n",
    "    cursor.execute(\"CREATE TABLE IF NOT EXISTS kitaplık (İsim TEXT,Yazar TEXT,Yayınevi TEXT,Sayfa_Sayısı INT)\")\n",
    "    con.commit()\n",
    "def veri_ekle(isim,yazar,yayınevi,sayfa_sayısı):\n",
    "    cursor.execute(\"Insert into kitaplik Values(?,?,?,?)\",(isim,yazar,yayınevi,sayfa_sayısı))\n",
    "    con.commit()\n",
    "def verileri_al():\n",
    "    cursor.execute(\"Select * From kitaplik\") # Bütün bilgileri alıyoruz.\n",
    "    data=cursor.fetchall() # Veritabanından bilgileri çekmek için fetchall() kullanıyoruz.\n",
    "    print(\"Kitaplik Tablosunun Bilgileri......\")\n",
    "    for i in data:\n",
    "        print(i)\n",
    "def verileri_al2():\n",
    "    cursor.execute(\"Select İsim,Yazar From kitaplik\") # Sadece İsim ve Yazar özelliklerini alıyoruz.\n",
    "    data = cursor.fetchall()\n",
    "    print(\"Kitaplık Tablosunun bilgileri.....\")\n",
    "    for i in data:\n",
    "        print(i)\n",
    "def verileri_al3(yayınevi):\n",
    "    cursor.execute(\"Select * From kitaplik where Yayınevi = ?\",(yayınevi,)) # Sadece yayınevi ,Everest olan kitapları alıyoruz.\n",
    "    data = cursor.fetchall()\n",
    "    print(\"Kitaplık Tablosunun bilgileri.....\")\n",
    "    for i in data:\n",
    "        print(i)\n",
    "def verigüncelle(yayınevi):\n",
    "    cursor.execute(\"Update kitaplik set Yayınevi = ? where Yayınevi =  ?\",(\"Koridor\",yayınevi))\n",
    "    con.commit()\n",
    "\n",
    "\n",
    "def verilerisil(yazar):\n",
    "    cursor.execute(\"Delete  From kitaplik where Yazar = ?\", (yazar,))\n",
    "    con.commit()"
   ]
  },
  {
   "cell_type": "code",
   "execution_count": 23,
   "id": "daae2d6b",
   "metadata": {},
   "outputs": [],
   "source": [
    "verilerisil(\"Yuval Noah Harari\")\n",
    "con.close()"
   ]
  },
  {
   "cell_type": "code",
   "execution_count": null,
   "id": "0605e5ce",
   "metadata": {},
   "outputs": [],
   "source": []
  }
 ],
 "metadata": {
  "kernelspec": {
   "display_name": "Python 3",
   "language": "python",
   "name": "python3"
  },
  "language_info": {
   "codemirror_mode": {
    "name": "ipython",
    "version": 3
   },
   "file_extension": ".py",
   "mimetype": "text/x-python",
   "name": "python",
   "nbconvert_exporter": "python",
   "pygments_lexer": "ipython3",
   "version": "3.9.3"
  },
  "toc": {
   "base_numbering": 1,
   "nav_menu": {},
   "number_sections": false,
   "sideBar": false,
   "skip_h1_title": false,
   "title_cell": "Table of Contents",
   "title_sidebar": "Contents",
   "toc_cell": true,
   "toc_position": {},
   "toc_section_display": true,
   "toc_window_display": false
  }
 },
 "nbformat": 4,
 "nbformat_minor": 5
}
