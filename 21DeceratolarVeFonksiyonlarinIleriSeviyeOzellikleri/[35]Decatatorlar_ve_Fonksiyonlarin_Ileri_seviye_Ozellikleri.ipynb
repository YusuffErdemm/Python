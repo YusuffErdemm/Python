{
 "cells": [
  {
   "cell_type": "markdown",
   "id": "4120e6de",
   "metadata": {
    "toc": true
   },
   "source": [
    "<h1>Table of Contents<span class=\"tocSkip\"></span></h1>\n",
    "<div class=\"toc\"><ul class=\"toc-item\"><li><span><a href=\"#args-and-*kwargs\" data-toc-modified-id=\"args-and-*kwargs-1\"><em>args and *</em>kwargs</a></span><ul class=\"toc-item\"><li><span><a href=\"#*args\" data-toc-modified-id=\"*args-1.1\">*args</a></span></li><li><span><a href=\"#**kwargs-(-anahtar-kelimeli-argumanlar)\" data-toc-modified-id=\"**kwargs-(-anahtar-kelimeli-argumanlar)-1.2\">**kwargs ( anahtar kelimeli argumanlar)</a></span></li><li><span><a href=\"#Unpacking\" data-toc-modified-id=\"Unpacking-1.3\">Unpacking</a></span></li></ul></li><li><span><a href=\"#Ic-ice-Fonksiyonlar\" data-toc-modified-id=\"Ic-ice-Fonksiyonlar-2\">Ic ice Fonksiyonlar</a></span></li><li><span><a href=\"#Fonksiyonlari-Donmek-ve-Aruman-Olarak-Gondermek\" data-toc-modified-id=\"Fonksiyonlari-Donmek-ve-Aruman-Olarak-Gondermek-3\">Fonksiyonlari Donmek ve Aruman Olarak Gondermek</a></span></li><li><span><a href=\"#Fonksiyonları-Argüman-Olarak-Göndermek\" data-toc-modified-id=\"Fonksiyonları-Argüman-Olarak-Göndermek-4\">Fonksiyonları Argüman Olarak Göndermek</a></span></li><li><span><a href=\"#Decorator-Fonksiyonların-Oluşturulması-ve-Kullanılması\" data-toc-modified-id=\"Decorator-Fonksiyonların-Oluşturulması-ve-Kullanılması-5\">Decorator Fonksiyonların Oluşturulması ve Kullanılması</a></span></li></ul></div>"
   ]
  },
  {
   "cell_type": "markdown",
   "id": "28d9b69c",
   "metadata": {},
   "source": [
    "##  *args and **kwargs\n",
    "args ve keyword args fonsiyonlara esnek sayida arguman gonderebilecegimi soyler.\n",
    "\n",
    "### *args\n",
    "Sınırsız sayıda parametreli fonksiyon oluşturmak için parametremizin önüne tek yıldız (*) koyabiliriz."
   ]
  },
  {
   "cell_type": "code",
   "execution_count": 2,
   "id": "8a15f0f2",
   "metadata": {},
   "outputs": [
    {
     "name": "stdout",
     "output_type": "stream",
     "text": [
      "(1, 2, 3, 4, 5)\n",
      "1\n",
      "2\n",
      "3\n",
      "4\n",
      "5\n"
     ]
    }
   ],
   "source": [
    "def fonk(*args):\n",
    "    print(args)  # Args bir demettir.\n",
    "    for i in args:\n",
    "        print(i)\n",
    "        \n",
    "fonk(1,2,3,4,5)"
   ]
  },
  {
   "cell_type": "code",
   "execution_count": 4,
   "id": "b235e96d",
   "metadata": {},
   "outputs": [
    {
     "name": "stdout",
     "output_type": "stream",
     "text": [
      "Isim: Yusuf\n",
      "--------------\n",
      "1\n",
      "2\n",
      "3\n",
      "4\n",
      "5\n",
      "6\n",
      "42\n"
     ]
    }
   ],
   "source": [
    "def fonksiyon(isim,*args):\n",
    "    print(\"Isim:\",isim)\n",
    "    print(\"--------------\")\n",
    "    for i in args:\n",
    "        print(i)\n",
    "            \n",
    "fonksiyon(\"Yusuf\",1,2,3,4,5,6,42)"
   ]
  },
  {
   "cell_type": "markdown",
   "id": "98375dcc",
   "metadata": {},
   "source": [
    "### **kwargs ( anahtar kelimeli argumanlar)\n",
    "**simdide keyword argumanlara bakalim**"
   ]
  },
  {
   "cell_type": "code",
   "execution_count": 5,
   "id": "ffda9d63",
   "metadata": {},
   "outputs": [
    {
     "name": "stdout",
     "output_type": "stream",
     "text": [
      "{'isim': 'Yusuf', 'soyad': 'Erdem', 'numara': 21724369}\n"
     ]
    }
   ],
   "source": [
    "def fonksiyon(**kwargs):\n",
    "    print(kwargs)\n",
    "    \n",
    "fonksiyon(isim=\"Yusuf\",soyad=\"Erdem\",numara=21724369)"
   ]
  },
  {
   "cell_type": "markdown",
   "id": "70453d39",
   "metadata": {},
   "source": [
    "**simdide args ve kwargs argumanlarini beraber kullanalim**"
   ]
  },
  {
   "cell_type": "code",
   "execution_count": 6,
   "id": "b1cb27f1",
   "metadata": {
    "scrolled": true
   },
   "outputs": [
    {
     "name": "stdout",
     "output_type": "stream",
     "text": [
      "Argumanlar 1\n",
      "Argumanlar 2\n",
      "Argumanlar 3\n",
      "Argumanlar 4\n",
      "Argumanlar 5\n",
      "Argumanlar 6\n",
      "Argumanlar 7\n",
      "--------------------\n",
      "Arguman Ismi: isim Arguman Degeri: Yusuf\n",
      "Arguman Ismi: soyad Arguman Degeri: Erdem\n",
      "Arguman Ismi: numara Arguman Degeri: 21724369\n"
     ]
    }
   ],
   "source": [
    "def fonksiyon(*args,**kwargs):\n",
    "    for i in args:\n",
    "        print(\"Argumanlar\",i)\n",
    "    print(\"--------------------\")\n",
    "    for i,j in kwargs.items():\n",
    "        print(\"Arguman Ismi:\",i,\"Arguman Degeri:\",j)\n",
    "    \n",
    "    \n",
    "fonksiyon(1,2,3,4,5,6,7,isim=\"Yusuf\",soyad=\"Erdem\",numara=21724369)\n",
    "        \n",
    "        "
   ]
  },
  {
   "cell_type": "markdown",
   "id": "997f0556",
   "metadata": {},
   "source": [
    "### Unpacking\n"
   ]
  },
  {
   "cell_type": "code",
   "execution_count": 1,
   "id": "da9c6f69",
   "metadata": {},
   "outputs": [
    {
     "name": "stdout",
     "output_type": "stream",
     "text": [
      "[1, 2, 3, 4, 5]\n"
     ]
    }
   ],
   "source": [
    "l=[1,2,3,4,5]\n",
    "print(l)"
   ]
  },
  {
   "cell_type": "code",
   "execution_count": 2,
   "id": "00ab9fd2",
   "metadata": {},
   "outputs": [
    {
     "name": "stdout",
     "output_type": "stream",
     "text": [
      "1 2 3 4 5\n"
     ]
    }
   ],
   "source": [
    "print(*l)"
   ]
  },
  {
   "cell_type": "code",
   "execution_count": 3,
   "id": "d81d0e57",
   "metadata": {},
   "outputs": [
    {
     "name": "stdout",
     "output_type": "stream",
     "text": [
      "[[1, 2, 3, 4, 5], [5, 6, 7, 8]]\n"
     ]
    }
   ],
   "source": [
    "l1 = [1,2,3,4,5]\n",
    "l2=[5,6,7,8]\n",
    "merge=[l1,l2]\n",
    "print(merge)"
   ]
  },
  {
   "cell_type": "code",
   "execution_count": 4,
   "id": "57eb60ea",
   "metadata": {},
   "outputs": [
    {
     "name": "stdout",
     "output_type": "stream",
     "text": [
      "[1, 2, 3, 4, 5, 5, 6, 7, 8]\n"
     ]
    }
   ],
   "source": [
    "merge_1=[*l1,*l2]\n",
    "print(merge_1)"
   ]
  },
  {
   "cell_type": "code",
   "execution_count": 5,
   "id": "79da0f2a",
   "metadata": {},
   "outputs": [
    {
     "name": "stdout",
     "output_type": "stream",
     "text": [
      "{'Name': 'Irem', 'number': 21614861}\n"
     ]
    }
   ],
   "source": [
    "d1={\"Name\":\"Yusuf\",\"number\":21724369}\n",
    "d2={\"Name\":\"Irem\",\"number\":21614861}\n",
    "merge={**d1,**d2}\n",
    "print(merge)"
   ]
  },
  {
   "cell_type": "code",
   "execution_count": 6,
   "id": "8f971d62",
   "metadata": {},
   "outputs": [],
   "source": [
    "str_list=[*\"Hey This is a String\"]"
   ]
  },
  {
   "cell_type": "code",
   "execution_count": 7,
   "id": "712b82b8",
   "metadata": {},
   "outputs": [
    {
     "name": "stdout",
     "output_type": "stream",
     "text": [
      "['H', 'e', 'y', ' ', 'T', 'h', 'i', 's', ' ', 'i', 's', ' ', 'a', ' ', 'S', 't', 'r', 'i', 'n', 'g']\n"
     ]
    }
   ],
   "source": [
    "print(str_list)"
   ]
  },
  {
   "cell_type": "code",
   "execution_count": null,
   "id": "0412687f",
   "metadata": {},
   "outputs": [],
   "source": []
  },
  {
   "cell_type": "markdown",
   "id": "1aa39080",
   "metadata": {},
   "source": [
    "## Ic ice Fonksiyonlar\n",
    "\n",
    "**pythonda fonksiyonlar birer obje olduklari icin hem bir tane degiskene atanabilirler hemde baska bir `fonksiyonun icinde tanimlanabilirler`**"
   ]
  },
  {
   "cell_type": "code",
   "execution_count": 7,
   "id": "a5a72760",
   "metadata": {},
   "outputs": [
    {
     "name": "stdout",
     "output_type": "stream",
     "text": [
      "Selam Irem\n"
     ]
    }
   ],
   "source": [
    "def selamla(isim):\n",
    "    print(\"Selam\",isim)\n",
    "    \n",
    "selamla(\"Irem\")"
   ]
  },
  {
   "cell_type": "code",
   "execution_count": 10,
   "id": "ef963497",
   "metadata": {},
   "outputs": [
    {
     "name": "stdout",
     "output_type": "stream",
     "text": [
      "Selam Yusuf\n"
     ]
    }
   ],
   "source": [
    "# Bu selamla fonksiyonunun bir degiskene atayalim \n",
    "merhaba = selamla\n",
    "merhaba(\"Yusuf\")"
   ]
  },
  {
   "cell_type": "code",
   "execution_count": 11,
   "id": "e5977123",
   "metadata": {},
   "outputs": [
    {
     "ename": "NameError",
     "evalue": "name 'selamla' is not defined",
     "output_type": "error",
     "traceback": [
      "\u001b[0;31m---------------------------------------------------------------------------\u001b[0m",
      "\u001b[0;31mNameError\u001b[0m                                 Traceback (most recent call last)",
      "\u001b[0;32m<ipython-input-11-39c06d82b6bb>\u001b[0m in \u001b[0;36m<module>\u001b[0;34m\u001b[0m\n\u001b[1;32m      1\u001b[0m \u001b[0;32mdel\u001b[0m \u001b[0mselamla\u001b[0m \u001b[0;31m# selamlama fonksiyonumuzu silelim\u001b[0m\u001b[0;34m\u001b[0m\u001b[0;34m\u001b[0m\u001b[0m\n\u001b[0;32m----> 2\u001b[0;31m \u001b[0mselamla\u001b[0m\u001b[0;34m(\u001b[0m\u001b[0;34m\"Yusuf\"\u001b[0m\u001b[0;34m)\u001b[0m\u001b[0;34m\u001b[0m\u001b[0;34m\u001b[0m\u001b[0m\n\u001b[0m",
      "\u001b[0;31mNameError\u001b[0m: name 'selamla' is not defined"
     ]
    }
   ],
   "source": [
    "del selamla # selamlama fonksiyonumuzu silelim\n",
    "selamla(\"Yusuf\")"
   ]
  },
  {
   "cell_type": "code",
   "execution_count": 12,
   "id": "258ae71e",
   "metadata": {},
   "outputs": [
    {
     "name": "stdout",
     "output_type": "stream",
     "text": [
      "Selam Yusuf\n"
     ]
    }
   ],
   "source": [
    "merhaba(\"Yusuf\")"
   ]
  },
  {
   "cell_type": "markdown",
   "id": "5cb47ed3",
   "metadata": {},
   "source": [
    "selamla objesi silinmesine ragmen merhaba objesi silinmedi.\n",
    "\n",
    "- Simdi ic ice fonksiyonlara bakalim"
   ]
  },
  {
   "cell_type": "code",
   "execution_count": 13,
   "id": "e93e0688",
   "metadata": {},
   "outputs": [],
   "source": [
    "def fonksiyon():\n",
    "    def fonksiyon2():\n",
    "        print(\"Kucuk Fonksiyondan merhaba\")\n",
    "    print(\"Buyuk Fonksiyondan Merhabaaa!\")"
   ]
  },
  {
   "cell_type": "code",
   "execution_count": 14,
   "id": "c529a8bd",
   "metadata": {},
   "outputs": [
    {
     "name": "stdout",
     "output_type": "stream",
     "text": [
      "Buyuk Fonksiyondan Merhabaaa!\n"
     ]
    }
   ],
   "source": [
    "fonksiyon()"
   ]
  },
  {
   "cell_type": "code",
   "execution_count": 15,
   "id": "50ab48be",
   "metadata": {},
   "outputs": [
    {
     "ename": "NameError",
     "evalue": "name 'fonksiyon2' is not defined",
     "output_type": "error",
     "traceback": [
      "\u001b[0;31m---------------------------------------------------------------------------\u001b[0m",
      "\u001b[0;31mNameError\u001b[0m                                 Traceback (most recent call last)",
      "\u001b[0;32m<ipython-input-15-f57e2a7e4d73>\u001b[0m in \u001b[0;36m<module>\u001b[0;34m\u001b[0m\n\u001b[0;32m----> 1\u001b[0;31m \u001b[0mfonksiyon2\u001b[0m\u001b[0;34m(\u001b[0m\u001b[0;34m)\u001b[0m\u001b[0;34m\u001b[0m\u001b[0;34m\u001b[0m\u001b[0m\n\u001b[0m",
      "\u001b[0;31mNameError\u001b[0m: name 'fonksiyon2' is not defined"
     ]
    }
   ],
   "source": [
    "fonksiyon2() "
   ]
  },
  {
   "cell_type": "markdown",
   "id": "7290da23",
   "metadata": {},
   "source": [
    "`LOCAL` bir degisken oldugu icin fonksiyon() cagrisindan sonra yok oldu"
   ]
  },
  {
   "cell_type": "code",
   "execution_count": 33,
   "id": "cafbd21d",
   "metadata": {},
   "outputs": [
    {
     "name": "stdout",
     "output_type": "stream",
     "text": [
      "21\n"
     ]
    }
   ],
   "source": [
    "def fonksiyon(*args):\n",
    "    def topla(args):\n",
    "        toplam=0\n",
    "        for i in args:\n",
    "            toplam += i\n",
    "        return toplam\n",
    "\n",
    "    print(topla(args))\n",
    "    \n",
    "fonksiyon(1,2,3,4,5,6)\n"
   ]
  },
  {
   "cell_type": "markdown",
   "id": "f3cdde9d",
   "metadata": {},
   "source": [
    "## Fonksiyonlari Donmek ve Aruman Olarak Gondermek\n",
    "\n",
    "fonksiyonları return ile başka bir fonksiyondan dönmeyi ve diğer fonksiyonlara parametre olarak göndermeyi gorelim"
   ]
  },
  {
   "cell_type": "code",
   "execution_count": 41,
   "id": "726088b6",
   "metadata": {},
   "outputs": [
    {
     "name": "stdout",
     "output_type": "stream",
     "text": [
      "15\n"
     ]
    }
   ],
   "source": [
    "# FONKSIYONLARI RETURN ILE DONMEK\n",
    "# # Bir fonksiyon aynı zamanda bir obje olduğu için, bu fonksiyonu başka bir fonksiyondan return ile döndürebiliriz.\n",
    "\n",
    "def fonksiyon(islemadi):\n",
    "    def toplama(*args):\n",
    "        toplam=0\n",
    "        for i in args:\n",
    "            toplam += i\n",
    "        return toplam\n",
    "\n",
    "    def carpma(*args):\n",
    "        carpim = 1\n",
    "        for i in args:\n",
    "            carpim *= i\n",
    "        return carpim\n",
    "    if islemadi == \"toplama\":\n",
    "        return toplama\n",
    "    else:\n",
    "        return carpma\n",
    "\n",
    "deneme=fonksiyon(\"toplama\")\n",
    "\n",
    "print(deneme(1,2,3,4,5))\n",
    "    \n",
    "    "
   ]
  },
  {
   "cell_type": "code",
   "execution_count": 42,
   "id": "91703568",
   "metadata": {},
   "outputs": [
    {
     "name": "stdout",
     "output_type": "stream",
     "text": [
      "120\n"
     ]
    }
   ],
   "source": [
    "deneme2=fonksiyon(\"carpma\")\n",
    "print(deneme2(1,2,3,4,5))"
   ]
  },
  {
   "cell_type": "markdown",
   "id": "ffc40118",
   "metadata": {},
   "source": [
    "## Fonksiyonları Argüman Olarak Göndermek "
   ]
  },
  {
   "cell_type": "code",
   "execution_count": 51,
   "id": "c3537791",
   "metadata": {},
   "outputs": [
    {
     "name": "stdout",
     "output_type": "stream",
     "text": [
      "7\n"
     ]
    }
   ],
   "source": [
    "def toplama(a,b):\n",
    "    return a+b\n",
    "def cikarma(a,b):\n",
    "    return a-b\n",
    "def carpma(a,b):\n",
    "    return a*b\n",
    "def bolme(a,b):\n",
    "    return a/b\n",
    "\n",
    "def anafonksiyon(func1,func2,func3,func4,islem_adi): # Tanımladığımız 4 fonksiyonu da argüman olarak göndereceğiz.\n",
    "    if (islem_adi == \"toplama\"):\n",
    "        print(func1(3,4))\n",
    "    elif (islem_adi == \"çıkarma\"):\n",
    "        print(func2(10,3))\n",
    "    elif (islem_adi == \"çarpma\"):\n",
    "        print(func3(10,3))\n",
    "    elif (islem_adi == \"bölme\"):\n",
    "        print(func4(10,4))\n",
    "    else:\n",
    "        print(\"Geçersiz işlem adı...\")\n",
    "        \n",
    "anafonksiyon(toplama, cikarma, carpma, bolme, \"toplama\")\n"
   ]
  },
  {
   "cell_type": "markdown",
   "id": "2f6467db",
   "metadata": {},
   "source": [
    "## Decorator Fonksiyonların Oluşturulması ve Kullanılması\n",
    "**Decorator fonksiyonlar, Pythonda fonksiyonlarımıza dinamik olarak ekstra özellik eklediğimiz fonksiyonlardır ve decorator   \n",
    "fonksiyonların kullanımı kod tekrarı yapmamızı engeller. Pythonda decorator fonksiyonlar Flask gibi frameworklerde oldukça    fazla kullanılır.**\n",
    "\n",
    "\n"
   ]
  },
  {
   "cell_type": "code",
   "execution_count": 55,
   "id": "c347ce7c",
   "metadata": {},
   "outputs": [
    {
     "name": "stdout",
     "output_type": "stream",
     "text": [
      "Bu fonksiyon 0.0005359649658203125 saniye sürdü.\n",
      "Bu Fonksiyon 0.0005018711090087891Saniye Surdu.\n"
     ]
    }
   ],
   "source": [
    "import time\n",
    "\n",
    "def kareleri_al(sayilar):\n",
    "    sonuc=[]\n",
    "    baslama=time.time()\n",
    "    \n",
    "    for i in sayilar:\n",
    "        sonuc.append(i**2)\n",
    "    \n",
    "    bitis=time.time()\n",
    "    \n",
    "    print(\"Bu Fonksiyon \" + str(bitis-baslama) + \"Saniye Surdu.\")\n",
    "\n",
    "    \n",
    "\n",
    "def küpleri_hesapla(sayılar):\n",
    "    sonuç = []\n",
    "    baslama = time.time()\n",
    "    for i in sayılar:\n",
    "        sonuç.append(i ** 3)\n",
    "    bitis=time.time()\n",
    "    print(\"Bu fonksiyon \" + str(bitis - baslama) + \" saniye sürdü.\")\n",
    "\n",
    "küpleri_hesapla(range(1000))  \n",
    "kareleri_al(range(1000))  \n",
    "\n",
    "\n",
    "\n",
    "    "
   ]
  },
  {
   "cell_type": "markdown",
   "id": "e3f65abd",
   "metadata": {},
   "source": [
    "**Bu iki fonksiyonda fonksiyonların çalışma sürelerini ölçmek için time modülünü kullandık. Ancak dikkat ederseniz, hem bu\n",
    "fonksiyonlara ekstradan iş yaptırdık , hem de 2 fonksiyonda da aynı satırları yazdık. Yani, aslında kod tekrarına \n",
    "düştük. Ancak eğer bu fonksiyonlara ekstra özellik ekleyen decorator bir fonksiyonumuz olsaydı, burada ne kod tekrarına\n",
    "düşecektik ne de fonksiyonlara ekstradan satır ekleyecektik. İşte decoratorların tam olarak önemi budur. İsterseniz\n",
    "zaman_hesapla isimli decorator'ımızı ilk önce yazalım. Daha sonra decoratorları açıklamaya çalışalım.**"
   ]
  },
  {
   "cell_type": "code",
   "execution_count": null,
   "id": "b9d78a80",
   "metadata": {},
   "outputs": [],
   "source": [
    "import time\n",
    "\n",
    "def zaman_hesapla(func):\n",
    "    def wrapper(sayilar):\n",
    "        baslama=time.time()\n",
    "        sonuc=func(sayilar)\n",
    "        bitis=time.time()\n",
    "        print(func.__name__ + \" \" + str(bitis - baslama) + \" saniye sürdü.\")\n",
    "        return sonuc\n",
    "    return wrapper\n",
    "\n",
    "@zaman_hesapla\n",
    "def kareleri_hesapla(*args,sayilar):\n",
    "    sonuç = []\n",
    "    for i in sayilar:\n",
    "         sonuç.append(i ** 2)\n",
    "            \n",
    "@zaman_hesapla\n",
    "def küpleri_hesapla(sayilar):\n",
    "    sonuç = []\n",
    "    for i in sayilar:\n",
    "        sonuç.append(i ** 3)\n",
    "        \n",
    "kareleri_hesapla(range(100000))\n",
    "\n",
    "küpleri_hesapla(range(100000))"
   ]
  },
  {
   "cell_type": "markdown",
   "id": "ae72ba89",
   "metadata": {},
   "source": [
    " Burada zaman_hesapla() isimli decorator bir fonksiyon yazdık. Örneğin kareleri_hesapla(range(100000)) fonksiyonu \n",
    " çağrılırken aslında senaryomuz şu şekilde çalışıyor;\n",
    "\n",
    "        1. kareleri_hesapla fonksiyonu zaman_hesapla fonksiyonuna argüman olarak gidiyor.\n",
    "        2. wrapper fonksiyonu kareleri_hesapla fonksiyonuna argüman olarak gönderilen \n",
    "        \"sayılar\" argümanını argüman olarak alıyor.sd\n",
    "        3. wrapper fonksiyonu hem zaman hesaplama işlemini gerçekleştiriyor,hem de gönderilen\n",
    "        fonksiyonu çalıştırıyor. Böylelikle bu fonksiyona ekstra özellik ekliyor.\n",
    "        4.zaman_hesaplama fonksiyonu en son işlem olarak wrapper fonksiyonumuzu dönüyor.\"\"\""
   ]
  },
  {
   "cell_type": "code",
   "execution_count": null,
   "id": "89af9656",
   "metadata": {},
   "outputs": [],
   "source": []
  },
  {
   "cell_type": "code",
   "execution_count": null,
   "id": "6d99c44a",
   "metadata": {},
   "outputs": [],
   "source": []
  }
 ],
 "metadata": {
  "kernelspec": {
   "display_name": "Python 3",
   "language": "python",
   "name": "python3"
  },
  "language_info": {
   "codemirror_mode": {
    "name": "ipython",
    "version": 3
   },
   "file_extension": ".py",
   "mimetype": "text/x-python",
   "name": "python",
   "nbconvert_exporter": "python",
   "pygments_lexer": "ipython3",
   "version": "3.9.3"
  },
  "toc": {
   "base_numbering": 1,
   "nav_menu": {},
   "number_sections": false,
   "sideBar": false,
   "skip_h1_title": false,
   "title_cell": "Table of Contents",
   "title_sidebar": "Contents",
   "toc_cell": true,
   "toc_position": {},
   "toc_section_display": true,
   "toc_window_display": false
  }
 },
 "nbformat": 4,
 "nbformat_minor": 5
}
