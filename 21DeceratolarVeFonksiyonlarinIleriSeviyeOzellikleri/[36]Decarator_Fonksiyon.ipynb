{
 "cells": [
  {
   "cell_type": "code",
   "execution_count": 1,
   "id": "e223c3ad",
   "metadata": {},
   "outputs": [
    {
     "name": "stdout",
     "output_type": "stream",
     "text": [
      "Teklerin Ortalamasi: 28.5\n",
      "Ciftlerin Ortalamasi: 31.0\n",
      "Ortalama: 30.0\n",
      "tekler ortlamasi: 3.5\n",
      "ciftler ortalamasi: 34.25\n",
      "Ort: 24.0\n"
     ]
    }
   ],
   "source": [
    "def extra(fonk):\n",
    "    def wrapper(*args):\n",
    "        ciftler_toplami=0\n",
    "        cift_sayilar=0\n",
    "        tekler_toplami=0\n",
    "        tek_sayilar=0\n",
    "\n",
    "        for i in args:\n",
    "            if i % 2 == 0:\n",
    "                ciftler_toplami += i\n",
    "                cift_sayilar += 1\n",
    "            else:\n",
    "                tekler_toplami += i\n",
    "                tek_sayilar += 1\n",
    "        print(\"Teklerin Ortalamasi:\",tekler_toplami/tek_sayilar)\n",
    "        print(\"Ciftlerin Ortalamasi:\",ciftler_toplami/cift_sayilar)\n",
    "\n",
    "        fonk(*args)\n",
    "    return wrapper\n",
    "\n",
    "@extra\n",
    "def ortalama_bul(*args):\n",
    "    toplam=0\n",
    "    for i in args:\n",
    "        toplam += i\n",
    "    print(\"Ortalama:\",toplam/len(args))\n",
    "\n",
    "ortalama_bul(1,2,3,4,5,6,32,100,42,105)\n",
    "\n",
    "# ---------------------------------------------\n",
    "# Tekrar Deneyelim..\n",
    "# 2. adimda extra fonksiyon ekliyorum ve assadaki fonksiyon oncelikle ekstra ozelliklerimde donuyor\n",
    "\n",
    "def ekstra(fonk):\n",
    "    def wrapper(sayilar): # assadaki sayilar listemi gonderdik.\n",
    "        ciftler_top=0\n",
    "        cif_sayilar=0\n",
    "        tekler_top=0\n",
    "        tek_saylar=0\n",
    "\n",
    "        for i in sayilar:\n",
    "            if (i % 2 == 0):\n",
    "                ciftler_top+=i\n",
    "                cif_sayilar+=1\n",
    "            else:\n",
    "                tekler_top+=i\n",
    "                tek_saylar+=1\n",
    "        print(\"tekler ortlamasi:\",tekler_top/tek_saylar)\n",
    "        print(\"ciftler ortalamasi:\",ciftler_top/cif_sayilar)\n",
    "\n",
    "        fonk(sayilar) # sayilari fonksiyona gondermis olduk.\n",
    "    return wrapper #Sonra bunu decerator fonksiyonu icinden donebiliriz.\n",
    "\n",
    "\n",
    "@ekstra\n",
    "# 1. adimda bunu yazdim\n",
    "def ort_bul(sayilar):\n",
    "    toplam=0\n",
    "    for i in sayilar:\n",
    "        toplam+=i\n",
    "    print(\"Ort:\",toplam/len(sayilar))\n",
    "\n",
    "ort_bul([1,2,3,4,12,232,12,4,6,7,2,3])\n",
    "\n"
   ]
  },
  {
   "cell_type": "code",
   "execution_count": null,
   "id": "28a0b4dd",
   "metadata": {},
   "outputs": [],
   "source": []
  }
 ],
 "metadata": {
  "kernelspec": {
   "display_name": "Python 3",
   "language": "python",
   "name": "python3"
  },
  "language_info": {
   "codemirror_mode": {
    "name": "ipython",
    "version": 3
   },
   "file_extension": ".py",
   "mimetype": "text/x-python",
   "name": "python",
   "nbconvert_exporter": "python",
   "pygments_lexer": "ipython3",
   "version": "3.9.3"
  },
  "toc": {
   "base_numbering": 1,
   "nav_menu": {},
   "number_sections": false,
   "sideBar": false,
   "skip_h1_title": false,
   "title_cell": "Table of Contents",
   "title_sidebar": "Contents",
   "toc_cell": false,
   "toc_position": {},
   "toc_section_display": true,
   "toc_window_display": false
  }
 },
 "nbformat": 4,
 "nbformat_minor": 5
}
