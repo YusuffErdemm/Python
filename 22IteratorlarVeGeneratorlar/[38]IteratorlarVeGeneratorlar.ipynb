{
 "cells": [
  {
   "cell_type": "markdown",
   "id": "abf2087a",
   "metadata": {
    "toc": true
   },
   "source": [
    "<h1>Table of Contents<span class=\"tocSkip\"></span></h1>\n",
    "<div class=\"toc\"><ul class=\"toc-item\"><li><span><a href=\"#Iteratorlerin-Olusturulmasi-ve-Kullanilmasi\" data-toc-modified-id=\"Iteratorlerin-Olusturulmasi-ve-Kullanilmasi-1\">Iteratorlerin Olusturulmasi ve Kullanilmasi</a></span><ul class=\"toc-item\"><li><span><a href=\"#Iterator-Nedir?\" data-toc-modified-id=\"Iterator-Nedir?-1.1\">Iterator Nedir?</a></span></li><li><span><a href=\"#Iterator-Olusturma\" data-toc-modified-id=\"Iterator-Olusturma-1.2\">Iterator Olusturma</a></span><ul class=\"toc-item\"><li><span><a href=\"#iter()-fonksiyonu\" data-toc-modified-id=\"iter()-fonksiyonu-1.2.1\">iter() fonksiyonu</a></span></li></ul></li><li><span><a href=\"#Kendi-Iterable-Objelerimizi-Oluşturmak\" data-toc-modified-id=\"Kendi-Iterable-Objelerimizi-Oluşturmak-1.3\">Kendi Iterable Objelerimizi Oluşturmak</a></span></li><li><span><a href=\"#Generatorların-Oluşturulması-ve-Kullanılması\" data-toc-modified-id=\"Generatorların-Oluşturulması-ve-Kullanılması-1.4\">Generatorların Oluşturulması ve Kullanılması</a></span><ul class=\"toc-item\"><li><span><a href=\"#yield-anahtar-kelimesi\" data-toc-modified-id=\"yield-anahtar-kelimesi-1.4.1\">yield anahtar kelimesi</a></span></li></ul></li></ul></li></ul></div>"
   ]
  },
  {
   "cell_type": "markdown",
   "id": "d789b90f",
   "metadata": {},
   "source": [
    "# Iteratorlerin Olusturulmasi ve Kullanilmasi\n",
    "iteratorleri olusturmayi kullanmayi ve kendi objelerimizi iterable(Uzerinde gezinilebilecek) bir obje haline nasil getiririz? Bunlara bakalim."
   ]
  },
  {
   "cell_type": "markdown",
   "id": "ff889cd9",
   "metadata": {},
   "source": [
    "## Iterator Nedir?\n",
    "Iteratorlar ozellikle for dongulerinde , list comprehensionlarında ve  generatorlarda karşımıza çıkar.  \n",
    "\n",
    "Iteratorlar en genel anlamıyla üzerinde gezinilebilecek bir objedir ve bu obje her seferinde bir tane eleman döner.  \n",
    "Pythonda kendisinden iterator oluşturabileceğimiz her obje iterable bir objedir.. Örneğin, demetlerden,listelerden   \n",
    "ve stringlerden oluşturduğumuz bütün objeler iterable bir objedir.  \n",
    " \n",
    "Bir objenin iterable olması için hazır metodlar olan `__iter()__` ve `__next()__`metodlarını mutlaka tanımlaması gerekir.  "
   ]
  },
  {
   "cell_type": "markdown",
   "id": "09d37b90",
   "metadata": {},
   "source": [
    "## Iterator Olusturma\n",
    "Bir iterator objesini , iterable bir objeden (liste,demet,string vs) oluşturmak için Pythonda iter() fonksiyonunu   \n",
    "kullanıyoruz ve bu objenin bir sonraki elemanını almak için next() fonksiyonu kullanıyoruz.\n",
    "### iter() fonksiyonu"
   ]
  },
  {
   "cell_type": "code",
   "execution_count": 3,
   "id": "d1cdc69c",
   "metadata": {},
   "outputs": [
    {
     "name": "stdout",
     "output_type": "stream",
     "text": [
      "['__add__', '__class__', '__class_getitem__', '__contains__', '__delattr__', '__delitem__', '__dir__', '__doc__', '__eq__', '__format__', '__ge__', '__getattribute__', '__getitem__', '__gt__', '__hash__', '__iadd__', '__imul__', '__init__', '__init_subclass__', '__iter__', '__le__', '__len__', '__lt__', '__mul__', '__ne__', '__new__', '__reduce__', '__reduce_ex__', '__repr__', '__reversed__', '__rmul__', '__setattr__', '__setitem__', '__sizeof__', '__str__', '__subclasshook__', 'append', 'clear', 'copy', 'count', 'extend', 'index', 'insert', 'pop', 'remove', 'reverse', 'sort']\n"
     ]
    }
   ],
   "source": [
    "print(dir(list))\n"
   ]
  },
  {
   "cell_type": "code",
   "execution_count": 8,
   "id": "10cdc538",
   "metadata": {},
   "outputs": [
    {
     "name": "stdout",
     "output_type": "stream",
     "text": [
      "1\n",
      "2\n",
      "3\n",
      "4\n",
      "5\n"
     ]
    },
    {
     "ename": "StopIteration",
     "evalue": "",
     "output_type": "error",
     "traceback": [
      "\u001b[0;31m---------------------------------------------------------------------------\u001b[0m",
      "\u001b[0;31mStopIteration\u001b[0m                             Traceback (most recent call last)",
      "\u001b[0;32m<ipython-input-8-4566284e2c7f>\u001b[0m in \u001b[0;36m<module>\u001b[0;34m\u001b[0m\n\u001b[1;32m      6\u001b[0m \u001b[0mprint\u001b[0m\u001b[0;34m(\u001b[0m\u001b[0mnext\u001b[0m\u001b[0;34m(\u001b[0m\u001b[0miterator\u001b[0m\u001b[0;34m)\u001b[0m\u001b[0;34m)\u001b[0m\u001b[0;34m\u001b[0m\u001b[0;34m\u001b[0m\u001b[0m\n\u001b[1;32m      7\u001b[0m \u001b[0mprint\u001b[0m\u001b[0;34m(\u001b[0m\u001b[0mnext\u001b[0m\u001b[0;34m(\u001b[0m\u001b[0miterator\u001b[0m\u001b[0;34m)\u001b[0m\u001b[0;34m)\u001b[0m\u001b[0;34m\u001b[0m\u001b[0;34m\u001b[0m\u001b[0m\n\u001b[0;32m----> 8\u001b[0;31m \u001b[0mprint\u001b[0m\u001b[0;34m(\u001b[0m\u001b[0mnext\u001b[0m\u001b[0;34m(\u001b[0m\u001b[0miterator\u001b[0m\u001b[0;34m)\u001b[0m\u001b[0;34m)\u001b[0m \u001b[0;31m# Uzerinde iterasyon yapilabilecek eleman kalmadigi icin StopIteration Hatasi aldik\u001b[0m\u001b[0;34m\u001b[0m\u001b[0;34m\u001b[0m\u001b[0m\n\u001b[0m\u001b[1;32m      9\u001b[0m \u001b[0;34m\u001b[0m\u001b[0m\n",
      "\u001b[0;31mStopIteration\u001b[0m: "
     ]
    }
   ],
   "source": [
    "liste=[1,2,3,4,5]\n",
    "iterator=iter(liste)\n",
    "print(next(iterator))\n",
    "print(next(iterator))\n",
    "print(next(iterator))\n",
    "print(next(iterator))\n",
    "print(next(iterator))\n",
    "print(next(iterator)) # Uzerinde iterasyon yapilabilecek eleman kalmadigi icin StopIteration Hatasi aldik\n",
    "\n"
   ]
  },
  {
   "cell_type": "markdown",
   "id": "b00c09d1",
   "metadata": {},
   "source": [
    "Aslında biz farketmesek de Pythondaki for döngüleri aslında bir objenin üzerinde gezinirken iteratorları kullanır.  \n"
   ]
  },
  {
   "cell_type": "code",
   "execution_count": 9,
   "id": "9dfae322",
   "metadata": {},
   "outputs": [
    {
     "name": "stdout",
     "output_type": "stream",
     "text": [
      "1\n",
      "2\n",
      "3\n",
      "4\n",
      "5\n"
     ]
    }
   ],
   "source": [
    "liste = [1,2,3,4,5]\n",
    "\n",
    "for i in liste:\n",
    "    print(i)"
   ]
  },
  {
   "cell_type": "markdown",
   "id": "b03e1fc7",
   "metadata": {},
   "source": [
    "Aslinda for dongulerinin sapisi su sekildedir:"
   ]
  },
  {
   "cell_type": "code",
   "execution_count": 11,
   "id": "25c6f2c6",
   "metadata": {},
   "outputs": [
    {
     "name": "stdout",
     "output_type": "stream",
     "text": [
      "1\n",
      "2\n",
      "3\n",
      "4\n",
      "5\n",
      "6\n",
      "7\n",
      "8\n"
     ]
    }
   ],
   "source": [
    "liste=[1,2,3,4,5,6,7,8]\n",
    "iterator=iter(liste)\n",
    "\n",
    "while True:\n",
    "    try:\n",
    "        print(next(iterator))\n",
    "    except StopIteration:\n",
    "        break\n",
    "        "
   ]
  },
  {
   "cell_type": "markdown",
   "id": "f0e438d2",
   "metadata": {},
   "source": [
    "##  Kendi Iterable Objelerimizi Oluşturmak"
   ]
  },
  {
   "cell_type": "markdown",
   "id": "4c266273",
   "metadata": {},
   "source": [
    "Peki biz kendi oluşturduğumuz veritiplerini nasıl iterable yapacağız ?  Bunun için oluşturacağımız sınıfların mutlaka\n",
    "` __iter()__` ve `__next()__` metodlarını tanımlaması gereklidir.\n",
    "\n",
    "Şimdi bir tane kumanda sınıfı oluşturalım ve bu sınıfı iterable yapalım.\n",
    "\n"
   ]
  },
  {
   "cell_type": "code",
   "execution_count": 28,
   "id": "53b03fda",
   "metadata": {},
   "outputs": [],
   "source": [
    "class Kumanda():\n",
    "    def __init__(self,kanal_listesi):\n",
    "        self.kanal_listesi = kanal_listesi # Kanal Listemiz\n",
    "        self.index = -1 # İndeksimiz\n",
    "        \n",
    "    def __iter__(self):\n",
    "        return self # iterator oluşturduğumuzda (iter fonksiyonu çağrıldığında )objemizi döneceğiz.\n",
    "    def __next__(self): # python 3 kullanirsak sadece next()\n",
    "        self.index += 1\n",
    "        if (self.index < len(self.kanal_listesi)):\n",
    "            return self.kanal_listesi[self.index]\n",
    "        else:\n",
    "            self.index = -1\n",
    "            raise StopIteration\n",
    "\n",
    "kumanda=Kumanda([\"KanalD\",\"Fox\",\"BBC\",\"NetGeoWild\"]) #  Objemizi oluşturuyoruz.\n",
    "\n",
    "iterator=iter(kumanda) # Objemiz iterable olduğu için iterator oluşturulabilir."
   ]
  },
  {
   "cell_type": "code",
   "execution_count": 36,
   "id": "b253e822",
   "metadata": {},
   "outputs": [
    {
     "name": "stdout",
     "output_type": "stream",
     "text": [
      "KanalD\n",
      "Fox\n",
      "BBC\n",
      "NetGeoWild\n"
     ]
    }
   ],
   "source": [
    "print(next(iterator))\n",
    "print(next(iterator))\n",
    "print(next(iterator))\n",
    "print(next(iterator))\n",
    "\n",
    "\n"
   ]
  },
  {
   "cell_type": "code",
   "execution_count": 37,
   "id": "a63b5d37",
   "metadata": {},
   "outputs": [
    {
     "ename": "StopIteration",
     "evalue": "",
     "output_type": "error",
     "traceback": [
      "\u001b[0;31m---------------------------------------------------------------------------\u001b[0m",
      "\u001b[0;31mStopIteration\u001b[0m                             Traceback (most recent call last)",
      "\u001b[0;32m<ipython-input-37-d4aa693aba62>\u001b[0m in \u001b[0;36m<module>\u001b[0;34m\u001b[0m\n\u001b[0;32m----> 1\u001b[0;31m \u001b[0mprint\u001b[0m\u001b[0;34m(\u001b[0m\u001b[0mnext\u001b[0m\u001b[0;34m(\u001b[0m\u001b[0miterator\u001b[0m\u001b[0;34m)\u001b[0m\u001b[0;34m)\u001b[0m\u001b[0;34m\u001b[0m\u001b[0;34m\u001b[0m\u001b[0m\n\u001b[0m",
      "\u001b[0;32m<ipython-input-28-67c5baf8ef13>\u001b[0m in \u001b[0;36m__next__\u001b[0;34m(self)\u001b[0m\n\u001b[1;32m     12\u001b[0m         \u001b[0;32melse\u001b[0m\u001b[0;34m:\u001b[0m\u001b[0;34m\u001b[0m\u001b[0;34m\u001b[0m\u001b[0m\n\u001b[1;32m     13\u001b[0m             \u001b[0mself\u001b[0m\u001b[0;34m.\u001b[0m\u001b[0mindex\u001b[0m \u001b[0;34m=\u001b[0m \u001b[0;34m-\u001b[0m\u001b[0;36m1\u001b[0m\u001b[0;34m\u001b[0m\u001b[0;34m\u001b[0m\u001b[0m\n\u001b[0;32m---> 14\u001b[0;31m             \u001b[0;32mraise\u001b[0m \u001b[0mStopIteration\u001b[0m\u001b[0;34m\u001b[0m\u001b[0;34m\u001b[0m\u001b[0m\n\u001b[0m\u001b[1;32m     15\u001b[0m \u001b[0;34m\u001b[0m\u001b[0m\n\u001b[1;32m     16\u001b[0m \u001b[0mkumanda\u001b[0m\u001b[0;34m=\u001b[0m\u001b[0mKumanda\u001b[0m\u001b[0;34m(\u001b[0m\u001b[0;34m[\u001b[0m\u001b[0;34m\"KanalD\"\u001b[0m\u001b[0;34m,\u001b[0m\u001b[0;34m\"Fox\"\u001b[0m\u001b[0;34m,\u001b[0m\u001b[0;34m\"BBC\"\u001b[0m\u001b[0;34m,\u001b[0m\u001b[0;34m\"NetGeoWild\"\u001b[0m\u001b[0;34m]\u001b[0m\u001b[0;34m)\u001b[0m \u001b[0;31m#  Objemizi oluşturuyoruz.\u001b[0m\u001b[0;34m\u001b[0m\u001b[0;34m\u001b[0m\u001b[0m\n",
      "\u001b[0;31mStopIteration\u001b[0m: "
     ]
    }
   ],
   "source": [
    "print(next(iterator))"
   ]
  },
  {
   "cell_type": "markdown",
   "id": "02ca1995",
   "metadata": {},
   "source": [
    "**Güzel ! Objemizi iterable yapmayı başardık. Objemiz iterable olduğuna göre artık for döngüsüyle üzerinde gezinebiliriz.**"
   ]
  },
  {
   "cell_type": "code",
   "execution_count": 39,
   "id": "a868252d",
   "metadata": {},
   "outputs": [
    {
     "name": "stdout",
     "output_type": "stream",
     "text": [
      "KanalD\n",
      "Fox\n",
      "BBC\n",
      "NetGeoWild\n"
     ]
    }
   ],
   "source": [
    "for i in kumanda:\n",
    "    print(i)"
   ]
  },
  {
   "cell_type": "markdown",
   "id": "2f74093a",
   "metadata": {},
   "source": [
    "## Generatorların Oluşturulması ve Kullanılması\n",
    "\n",
    "Generatorlar Pythonda iterable objeler (örnek olarak fonksiyonlar) oluşturmak için kullanılan objelerdir ve bellekte herhangi \n",
    "bir yer kaplamazlar. Örneğin, 100.000 tane değer üretip, bu değerleri bir listede tutmak bellekte oldukça fazla yer  kaplayacaktır.O yüzden bu işlemi gerçekleştiren bir fonksiyonu generator fonksiyon şeklinde yazmak oldukça mantıklı olacaktır.  \n",
    "\n",
    "generator kullanmadan bir kareleri al fonksiyonu yazalim\n"
   ]
  },
  {
   "cell_type": "code",
   "execution_count": 40,
   "id": "af1c6232",
   "metadata": {},
   "outputs": [
    {
     "name": "stdout",
     "output_type": "stream",
     "text": [
      "[1, 4, 9, 16, 25]\n"
     ]
    }
   ],
   "source": [
    "def kareleri_al():\n",
    "\tsonuc=[]\n",
    "\t\n",
    "\tfor i in range(1,6):\n",
    "\t\tsonuc.append(i**2)\n",
    "\treturn sonuc\n",
    "\n",
    "print(kareleri_al())  "
   ]
  },
  {
   "cell_type": "markdown",
   "id": "c47a2ea1",
   "metadata": {},
   "source": [
    "bu fonksiyonu bir de generator kullanarak yazmaya çalışalım. \n",
    "Generatorlerin değer üretmesi için yield anahtar kelimesini kullanacağız.\n",
    "### yield anahtar kelimesi"
   ]
  },
  {
   "cell_type": "code",
   "execution_count": 51,
   "id": "ae0dab59",
   "metadata": {},
   "outputs": [],
   "source": [
    "def kareleri_al():\n",
    "    \n",
    "    for i in range(1,6):\n",
    "        yield i**2\n"
   ]
  },
  {
   "cell_type": "code",
   "execution_count": 52,
   "id": "3c202ab9",
   "metadata": {},
   "outputs": [],
   "source": [
    "generator=kareleri_al()"
   ]
  },
  {
   "cell_type": "markdown",
   "id": "0ffe1964",
   "metadata": {},
   "source": [
    "Yazdığımız ilk fonksiyonda 1'den 6'ya kadar gidip her bir değerin karesini sonuç isimli listeye atıyoruz ve daha sonra bu \n",
    "listeyi dönüyoruz.Yani bellekte liste değişkenin içinde 1,4,9,16,25 değerleri tutuluyor.  \n",
    "\n",
    "Generatorle yazdığımız 2.fonksiyonda yield anahtar kelimesiyle değerleri ürettiğimizi sanıyoruz. Ama aslında bu fonksiyonu  \n",
    "çağırınca bize sadece bir tane generator objesi dönüyor ve biz sadece generator objesinin değerlerine ulaşmaya  \n",
    "çalıştığımızda değerler tek tek üretiliyor. Yani kısacası bellekte değerler tutulmuyor.  \n",
    " \n",
    " Bu generator objesinin üzerinde  bir tane iterator oluşturarak durumu daha iyi anlamaya çalışalım.  "
   ]
  },
  {
   "cell_type": "code",
   "execution_count": 53,
   "id": "b0a55a83",
   "metadata": {},
   "outputs": [
    {
     "name": "stdout",
     "output_type": "stream",
     "text": [
      "1\n"
     ]
    }
   ],
   "source": [
    "iterator=iter(generator)\n",
    "print(next(iterator))\n",
    "\n"
   ]
  },
  {
   "cell_type": "code",
   "execution_count": 54,
   "id": "2c912610",
   "metadata": {},
   "outputs": [
    {
     "name": "stdout",
     "output_type": "stream",
     "text": [
      "4\n",
      "9\n",
      "16\n"
     ]
    }
   ],
   "source": [
    "print(next(iterator))\n",
    "print(next(iterator))\n",
    "print(next(iterator))"
   ]
  },
  {
   "cell_type": "markdown",
   "id": "0ebca1b3",
   "metadata": {},
   "source": [
    "Aslında generator objesi sadece değerlere ulaşmak istediğimiz zaman ```yield``` anahtar kelimesini kullanıp değer üretiyor.\n",
    "Yani generatorler sadece biz değerlere ulaşmak istersek çalışıyor. İşte generatorlerin mantığı tamamıyla bu şekilde !"
   ]
  },
  {
   "cell_type": "markdown",
   "id": "f835de82",
   "metadata": {},
   "source": [
    "Şimdi de list comprehensionları generatorlara çevirmeye çalışalım"
   ]
  },
  {
   "cell_type": "code",
   "execution_count": 55,
   "id": "0be53580",
   "metadata": {},
   "outputs": [
    {
     "name": "stdout",
     "output_type": "stream",
     "text": [
      "[0, 3, 6, 9, 12]\n"
     ]
    }
   ],
   "source": [
    "liste=[i * 3 for i in range(5)]\n",
    "print(liste)"
   ]
  },
  {
   "cell_type": "code",
   "execution_count": 56,
   "id": "884e6929",
   "metadata": {},
   "outputs": [
    {
     "name": "stdout",
     "output_type": "stream",
     "text": [
      "0\n",
      "3\n",
      "6\n",
      "9\n"
     ]
    }
   ],
   "source": [
    "generator=(i*3 for i in range(5))\n",
    "iterator=iter(generator)\n",
    "print(next(iterator))\n",
    "print(next(iterator))\n",
    "print(next(iterator))\n",
    "print(next(iterator))"
   ]
  },
  {
   "cell_type": "code",
   "execution_count": 59,
   "id": "0f537c1b",
   "metadata": {},
   "outputs": [],
   "source": [
    "generator=[i*3 for i in range(5)] # Liste tuple fark etmiyor.\n",
    "iterator=iter(generator)"
   ]
  },
  {
   "cell_type": "code",
   "execution_count": 58,
   "id": "8bc15c71",
   "metadata": {},
   "outputs": [
    {
     "name": "stdout",
     "output_type": "stream",
     "text": [
      "0\n",
      "3\n",
      "6\n",
      "9\n"
     ]
    }
   ],
   "source": [
    "print(next(iterator))\n",
    "print(next(iterator))\n",
    "print(next(iterator))\n",
    "print(next(iterator))"
   ]
  },
  {
   "cell_type": "markdown",
   "id": "ac2a0f3b",
   "metadata": {},
   "source": [
    "Carpim tablosu yazalim generator kullanarak"
   ]
  },
  {
   "cell_type": "code",
   "execution_count": 60,
   "id": "e2ade3a1",
   "metadata": {},
   "outputs": [
    {
     "name": "stdout",
     "output_type": "stream",
     "text": [
      "1x1=1\n",
      "1x2=2\n",
      "1x3=3\n",
      "1x4=4\n",
      "1x5=5\n",
      "1x6=6\n",
      "1x7=7\n",
      "1x8=8\n",
      "1x9=9\n",
      "1x10=10\n",
      "2x1=2\n",
      "2x2=4\n",
      "2x3=6\n",
      "2x4=8\n",
      "2x5=10\n",
      "2x6=12\n",
      "2x7=14\n",
      "2x8=16\n",
      "2x9=18\n",
      "2x10=20\n",
      "3x1=3\n",
      "3x2=6\n",
      "3x3=9\n",
      "3x4=12\n",
      "3x5=15\n",
      "3x6=18\n",
      "3x7=21\n",
      "3x8=24\n",
      "3x9=27\n",
      "3x10=30\n",
      "4x1=4\n",
      "4x2=8\n",
      "4x3=12\n",
      "4x4=16\n",
      "4x5=20\n",
      "4x6=24\n",
      "4x7=28\n",
      "4x8=32\n",
      "4x9=36\n",
      "4x10=40\n",
      "5x1=5\n",
      "5x2=10\n",
      "5x3=15\n",
      "5x4=20\n",
      "5x5=25\n",
      "5x6=30\n",
      "5x7=35\n",
      "5x8=40\n",
      "5x9=45\n",
      "5x10=50\n",
      "6x1=6\n",
      "6x2=12\n",
      "6x3=18\n",
      "6x4=24\n",
      "6x5=30\n",
      "6x6=36\n",
      "6x7=42\n",
      "6x8=48\n",
      "6x9=54\n",
      "6x10=60\n",
      "7x1=7\n",
      "7x2=14\n",
      "7x3=21\n",
      "7x4=28\n",
      "7x5=35\n",
      "7x6=42\n",
      "7x7=49\n",
      "7x8=56\n",
      "7x9=63\n",
      "7x10=70\n",
      "8x1=8\n",
      "8x2=16\n",
      "8x3=24\n",
      "8x4=32\n",
      "8x5=40\n",
      "8x6=48\n",
      "8x7=56\n",
      "8x8=64\n",
      "8x9=72\n",
      "8x10=80\n",
      "9x1=9\n",
      "9x2=18\n",
      "9x3=27\n",
      "9x4=36\n",
      "9x5=45\n",
      "9x6=54\n",
      "9x7=63\n",
      "9x8=72\n",
      "9x9=81\n",
      "9x10=90\n",
      "10x1=10\n",
      "10x2=20\n",
      "10x3=30\n",
      "10x4=40\n",
      "10x5=50\n",
      "10x6=60\n",
      "10x7=70\n",
      "10x8=80\n",
      "10x9=90\n",
      "10x10=100\n"
     ]
    }
   ],
   "source": [
    "def carpim_tablosu():\n",
    "    for i in range(1,11):\n",
    "        for j in range(1,11):\n",
    "            yield \"{}x{}={}\".format(i,j,i*j)\n",
    "for i in carpim_tablosu():\n",
    "    print(i)\n"
   ]
  },
  {
   "cell_type": "code",
   "execution_count": null,
   "id": "28b3b7e4",
   "metadata": {},
   "outputs": [],
   "source": []
  }
 ],
 "metadata": {
  "kernelspec": {
   "display_name": "Python 3",
   "language": "python",
   "name": "python3"
  },
  "language_info": {
   "codemirror_mode": {
    "name": "ipython",
    "version": 3
   },
   "file_extension": ".py",
   "mimetype": "text/x-python",
   "name": "python",
   "nbconvert_exporter": "python",
   "pygments_lexer": "ipython3",
   "version": "3.9.3"
  },
  "toc": {
   "base_numbering": 1,
   "nav_menu": {},
   "number_sections": false,
   "sideBar": false,
   "skip_h1_title": false,
   "title_cell": "Table of Contents",
   "title_sidebar": "Contents",
   "toc_cell": true,
   "toc_position": {},
   "toc_section_display": true,
   "toc_window_display": false
  }
 },
 "nbformat": 4,
 "nbformat_minor": 5
}
