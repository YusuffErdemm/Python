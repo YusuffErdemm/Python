{
 "cells": [
  {
   "cell_type": "markdown",
   "id": "01dea997",
   "metadata": {
    "toc": true
   },
   "source": [
    "<h1>Table of Contents<span class=\"tocSkip\"></span></h1>\n",
    "<div class=\"toc\"><ul class=\"toc-item\"><li><span><a href=\"#Numpy-Array\" data-toc-modified-id=\"Numpy-Array-1\"><span class=\"toc-item-num\">1&nbsp;&nbsp;</span>Numpy Array</a></span><ul class=\"toc-item\"><li><span><a href=\"#Listeden-Array-Yaratmak\" data-toc-modified-id=\"Listeden-Array-Yaratmak-1.1\"><span class=\"toc-item-num\">1.1&nbsp;&nbsp;</span>Listeden Array Yaratmak</a></span></li><li><span><a href=\"#Array-Data-tipini-manuel-belirtmek\" data-toc-modified-id=\"Array-Data-tipini-manuel-belirtmek-1.2\"><span class=\"toc-item-num\">1.2&nbsp;&nbsp;</span>Array Data tipini manuel belirtmek</a></span></li><li><span><a href=\"#Zero-Array\" data-toc-modified-id=\"Zero-Array-1.3\"><span class=\"toc-item-num\">1.3&nbsp;&nbsp;</span>Zero Array</a></span><ul class=\"toc-item\"><li><span><a href=\"#Multidimensional-Zero-Array\" data-toc-modified-id=\"Multidimensional-Zero-Array-1.3.1\"><span class=\"toc-item-num\">1.3.1&nbsp;&nbsp;</span>Multidimensional Zero Array</a></span></li></ul></li><li><span><a href=\"#Spesific-element-array\" data-toc-modified-id=\"Spesific-element-array-1.4\"><span class=\"toc-item-num\">1.4&nbsp;&nbsp;</span>Spesific element array</a></span><ul class=\"toc-item\"><li><span><a href=\"#np.full()\" data-toc-modified-id=\"np.full()-1.4.1\"><span class=\"toc-item-num\">1.4.1&nbsp;&nbsp;</span>np.full()</a></span></li><li><span><a href=\"#HATIRLATMA\" data-toc-modified-id=\"HATIRLATMA-1.4.2\"><span class=\"toc-item-num\">1.4.2&nbsp;&nbsp;</span>HATIRLATMA</a></span></li></ul></li><li><span><a href=\"#Consequtive-Array's\" data-toc-modified-id=\"Consequtive-Array's-1.5\"><span class=\"toc-item-num\">1.5&nbsp;&nbsp;</span>Consequtive Array's</a></span></li><li><span><a href=\"#Dividing-Interval\" data-toc-modified-id=\"Dividing-Interval-1.6\"><span class=\"toc-item-num\">1.6&nbsp;&nbsp;</span>Dividing Interval</a></span></li><li><span><a href=\"#Normal-Distribution-Array\" data-toc-modified-id=\"Normal-Distribution-Array-1.7\"><span class=\"toc-item-num\">1.7&nbsp;&nbsp;</span>Normal Distribution Array</a></span></li><li><span><a href=\"#Random-Integer-Array\" data-toc-modified-id=\"Random-Integer-Array-1.8\"><span class=\"toc-item-num\">1.8&nbsp;&nbsp;</span>Random Integer Array</a></span></li><li><span><a href=\"#Identity-Matrix\" data-toc-modified-id=\"Identity-Matrix-1.9\"><span class=\"toc-item-num\">1.9&nbsp;&nbsp;</span>Identity Matrix</a></span></li><li><span><a href=\"#Array-Operations\" data-toc-modified-id=\"Array-Operations-1.10\"><span class=\"toc-item-num\">1.10&nbsp;&nbsp;</span>Array Operations</a></span></li><li><span><a href=\"#Array-Attributes\" data-toc-modified-id=\"Array-Attributes-1.11\"><span class=\"toc-item-num\">1.11&nbsp;&nbsp;</span>Array Attributes</a></span><ul class=\"toc-item\"><li><span><a href=\"#.shape\" data-toc-modified-id=\".shape-1.11.1\"><span class=\"toc-item-num\">1.11.1&nbsp;&nbsp;</span>.shape</a></span></li><li><span><a href=\"#ndim\" data-toc-modified-id=\"ndim-1.11.2\"><span class=\"toc-item-num\">1.11.2&nbsp;&nbsp;</span>ndim</a></span></li><li><span><a href=\"#size\" data-toc-modified-id=\"size-1.11.3\"><span class=\"toc-item-num\">1.11.3&nbsp;&nbsp;</span>size</a></span></li><li><span><a href=\"#dtype\" data-toc-modified-id=\"dtype-1.11.4\"><span class=\"toc-item-num\">1.11.4&nbsp;&nbsp;</span>dtype</a></span></li></ul></li><li><span><a href=\"#Reshaping\" data-toc-modified-id=\"Reshaping-1.12\"><span class=\"toc-item-num\">1.12&nbsp;&nbsp;</span>Reshaping</a></span></li><li><span><a href=\"#Concatenation\" data-toc-modified-id=\"Concatenation-1.13\"><span class=\"toc-item-num\">1.13&nbsp;&nbsp;</span>Concatenation</a></span><ul class=\"toc-item\"><li><span><a href=\"#Size-Mismatch\" data-toc-modified-id=\"Size-Mismatch-1.13.1\"><span class=\"toc-item-num\">1.13.1&nbsp;&nbsp;</span>Size Mismatch</a></span></li></ul></li><li><span><a href=\"#Stack\" data-toc-modified-id=\"Stack-1.14\"><span class=\"toc-item-num\">1.14&nbsp;&nbsp;</span>Stack</a></span></li><li><span><a href=\"#Splitting\" data-toc-modified-id=\"Splitting-1.15\"><span class=\"toc-item-num\">1.15&nbsp;&nbsp;</span>Splitting</a></span><ul class=\"toc-item\"><li><span><a href=\"#vsplit-(vertical)\" data-toc-modified-id=\"vsplit-(vertical)-1.15.1\"><span class=\"toc-item-num\">1.15.1&nbsp;&nbsp;</span>vsplit (vertical)</a></span></li><li><span><a href=\"#hsplit-(horizontal)\" data-toc-modified-id=\"hsplit-(horizontal)-1.15.2\"><span class=\"toc-item-num\">1.15.2&nbsp;&nbsp;</span>hsplit (horizontal)</a></span></li></ul></li><li><span><a href=\"#Sorting\" data-toc-modified-id=\"Sorting-1.16\"><span class=\"toc-item-num\">1.16&nbsp;&nbsp;</span>Sorting</a></span><ul class=\"toc-item\"><li><span><a href=\"#argsort()\" data-toc-modified-id=\"argsort()-1.16.1\"><span class=\"toc-item-num\">1.16.1&nbsp;&nbsp;</span>argsort()</a></span></li></ul></li><li><span><a href=\"#Indexing\" data-toc-modified-id=\"Indexing-1.17\"><span class=\"toc-item-num\">1.17&nbsp;&nbsp;</span>Indexing</a></span><ul class=\"toc-item\"><li><span><a href=\"#Slice-indexing\" data-toc-modified-id=\"Slice-indexing-1.17.1\"><span class=\"toc-item-num\">1.17.1&nbsp;&nbsp;</span>Slice indexing</a></span></li><li><span><a href=\"#Fancy-Indexing\" data-toc-modified-id=\"Fancy-Indexing-1.17.2\"><span class=\"toc-item-num\">1.17.2&nbsp;&nbsp;</span>Fancy Indexing</a></span></li></ul></li><li><span><a href=\"#Subarray\" data-toc-modified-id=\"Subarray-1.18\"><span class=\"toc-item-num\">1.18&nbsp;&nbsp;</span>Subarray</a></span><ul class=\"toc-item\"><li><span><a href=\"#copy()\" data-toc-modified-id=\"copy()-1.18.1\"><span class=\"toc-item-num\">1.18.1&nbsp;&nbsp;</span>copy()</a></span></li></ul></li><li><span><a href=\"#Conditional-Indexin-/-(filter)\" data-toc-modified-id=\"Conditional-Indexin-/-(filter)-1.19\"><span class=\"toc-item-num\">1.19&nbsp;&nbsp;</span>Conditional Indexin / (filter)</a></span></li><li><span><a href=\"#Sum\" data-toc-modified-id=\"Sum-1.20\"><span class=\"toc-item-num\">1.20&nbsp;&nbsp;</span>Sum</a></span><ul class=\"toc-item\"><li><span><a href=\"#Belirli-Axis-uzerinde-toplama\" data-toc-modified-id=\"Belirli-Axis-uzerinde-toplama-1.20.1\"><span class=\"toc-item-num\">1.20.1&nbsp;&nbsp;</span>Belirli Axis uzerinde toplama</a></span></li></ul></li><li><span><a href=\"#Axisler-Hatirlatma\" data-toc-modified-id=\"Axisler-Hatirlatma-1.21\"><span class=\"toc-item-num\">1.21&nbsp;&nbsp;</span>Axisler Hatirlatma</a></span></li><li><span><a href=\"#All\" data-toc-modified-id=\"All-1.22\"><span class=\"toc-item-num\">1.22&nbsp;&nbsp;</span>All</a></span></li><li><span><a href=\"#Any\" data-toc-modified-id=\"Any-1.23\"><span class=\"toc-item-num\">1.23&nbsp;&nbsp;</span>Any</a></span></li></ul></li></ul></div>"
   ]
  },
  {
   "cell_type": "markdown",
   "id": "34228282",
   "metadata": {},
   "source": [
    "#  Numpy Array\n",
    "\n",
    "> Numpy arayler python listelerine benzer.\n",
    "> Listelerin aksine farkli veri tiplerinde eleman icermezler.\n"
   ]
  },
  {
   "cell_type": "markdown",
   "id": "73be1a16",
   "metadata": {},
   "source": [
    "## Listeden Array Yaratmak\n",
    "__np.array([object],dtype)__"
   ]
  },
  {
   "cell_type": "code",
   "execution_count": 1,
   "id": "0ddac9b1",
   "metadata": {},
   "outputs": [],
   "source": [
    "import numpy as np"
   ]
  },
  {
   "cell_type": "code",
   "execution_count": 6,
   "id": "2c8e44c0",
   "metadata": {},
   "outputs": [
    {
     "data": {
      "text/plain": [
       "array([1, 2, 3, 4, 5])"
      ]
     },
     "execution_count": 6,
     "metadata": {},
     "output_type": "execute_result"
    }
   ],
   "source": [
    "x=np.array([1,2,3,4,5])\n",
    "x"
   ]
  },
  {
   "cell_type": "code",
   "execution_count": 7,
   "id": "5c2ef6c1",
   "metadata": {},
   "outputs": [
    {
     "data": {
      "text/plain": [
       "numpy.ndarray"
      ]
     },
     "execution_count": 7,
     "metadata": {},
     "output_type": "execute_result"
    }
   ],
   "source": [
    "type(x)"
   ]
  },
  {
   "cell_type": "code",
   "execution_count": 13,
   "id": "7b8a50cc",
   "metadata": {},
   "outputs": [
    {
     "data": {
      "text/plain": [
       "array(['a', 'b', '3'], dtype='<U21')"
      ]
     },
     "execution_count": 13,
     "metadata": {},
     "output_type": "execute_result"
    }
   ],
   "source": [
    "y= np.array([\"a\",\"b\",3])\n",
    "y"
   ]
  },
  {
   "cell_type": "code",
   "execution_count": 14,
   "id": "1bdaf1ed",
   "metadata": {},
   "outputs": [
    {
     "data": {
      "text/plain": [
       "numpy.ndarray"
      ]
     },
     "execution_count": 14,
     "metadata": {},
     "output_type": "execute_result"
    }
   ],
   "source": [
    "type(y)"
   ]
  },
  {
   "cell_type": "code",
   "execution_count": 21,
   "id": "f57d3385",
   "metadata": {},
   "outputs": [
    {
     "data": {
      "text/plain": [
       "array([3. , 4. , 5.7])"
      ]
     },
     "execution_count": 21,
     "metadata": {},
     "output_type": "execute_result"
    }
   ],
   "source": [
    "z=np.array([3,4,5.7])\n",
    "z # Integerlar daha genel olan float'a cevirdi"
   ]
  },
  {
   "cell_type": "code",
   "execution_count": 20,
   "id": "54631fe5",
   "metadata": {},
   "outputs": [
    {
     "data": {
      "text/plain": [
       "array(['1', '2', '3.5', '41', '22'], dtype='<U32')"
      ]
     },
     "execution_count": 20,
     "metadata": {},
     "output_type": "execute_result"
    }
   ],
   "source": [
    "f=np.array([1,2,3.5,41,\"22\"])\n",
    "f # Butun integer ve floatlar,  daha genel olan string e cevirildi."
   ]
  },
  {
   "cell_type": "markdown",
   "id": "34f385bd",
   "metadata": {},
   "source": [
    "## Array Data tipini manuel belirtmek \n",
    "__dtype__"
   ]
  },
  {
   "cell_type": "code",
   "execution_count": 22,
   "id": "e511ff92",
   "metadata": {},
   "outputs": [
    {
     "name": "stdout",
     "output_type": "stream",
     "text": [
      "[1 2 3 4]\n"
     ]
    }
   ],
   "source": [
    "x=np.array([1,2,3,4.6],dtype =\"int32\")\n",
    "print(x)"
   ]
  },
  {
   "cell_type": "code",
   "execution_count": 23,
   "id": "e5c8ed0c",
   "metadata": {},
   "outputs": [],
   "source": [
    "x=np.array([1,2,3,4,5],dtype=\"str\")"
   ]
  },
  {
   "cell_type": "code",
   "execution_count": 25,
   "id": "b8fd0ef5",
   "metadata": {},
   "outputs": [
    {
     "name": "stdout",
     "output_type": "stream",
     "text": [
      "['1' '2' '3' '4' '5']\n"
     ]
    }
   ],
   "source": [
    "print(x)"
   ]
  },
  {
   "cell_type": "code",
   "execution_count": 26,
   "id": "7a1be48d",
   "metadata": {},
   "outputs": [
    {
     "ename": "ValueError",
     "evalue": "invalid literal for int() with base 10: 'a'",
     "output_type": "error",
     "traceback": [
      "\u001b[0;31m---------------------------------------------------------------------------\u001b[0m",
      "\u001b[0;31mValueError\u001b[0m                                Traceback (most recent call last)",
      "\u001b[0;32m<ipython-input-26-6c0ccd978e4f>\u001b[0m in \u001b[0;36m<module>\u001b[0;34m\u001b[0m\n\u001b[0;32m----> 1\u001b[0;31m \u001b[0mx\u001b[0m\u001b[0;34m=\u001b[0m\u001b[0mnp\u001b[0m\u001b[0;34m.\u001b[0m\u001b[0marray\u001b[0m\u001b[0;34m(\u001b[0m\u001b[0;34m[\u001b[0m\u001b[0;34m\"a\"\u001b[0m\u001b[0;34m]\u001b[0m\u001b[0;34m,\u001b[0m\u001b[0mdtype\u001b[0m\u001b[0;34m=\u001b[0m\u001b[0;34m\"int32\"\u001b[0m\u001b[0;34m)\u001b[0m\u001b[0;34m\u001b[0m\u001b[0;34m\u001b[0m\u001b[0m\n\u001b[0m",
      "\u001b[0;31mValueError\u001b[0m: invalid literal for int() with base 10: 'a'"
     ]
    }
   ],
   "source": [
    "x=np.array([\"a\"],dtype=\"int32\")"
   ]
  },
  {
   "cell_type": "code",
   "execution_count": 32,
   "id": "43a41603",
   "metadata": {},
   "outputs": [
    {
     "ename": "ValueError",
     "evalue": "invalid literal for int() with base 10: '4.2'",
     "output_type": "error",
     "traceback": [
      "\u001b[0;31m---------------------------------------------------------------------------\u001b[0m",
      "\u001b[0;31mValueError\u001b[0m                                Traceback (most recent call last)",
      "\u001b[0;32m<ipython-input-32-4fc7700d154b>\u001b[0m in \u001b[0;36m<module>\u001b[0;34m\u001b[0m\n\u001b[0;32m----> 1\u001b[0;31m \u001b[0mx\u001b[0m\u001b[0;34m=\u001b[0m\u001b[0mnp\u001b[0m\u001b[0;34m.\u001b[0m\u001b[0marray\u001b[0m\u001b[0;34m(\u001b[0m\u001b[0;34m[\u001b[0m\u001b[0;34m\"4.2\"\u001b[0m\u001b[0;34m]\u001b[0m\u001b[0;34m,\u001b[0m\u001b[0mdtype\u001b[0m\u001b[0;34m=\u001b[0m\u001b[0;34m\"int32\"\u001b[0m\u001b[0;34m)\u001b[0m\u001b[0;34m\u001b[0m\u001b[0;34m\u001b[0m\u001b[0m\n\u001b[0m",
      "\u001b[0;31mValueError\u001b[0m: invalid literal for int() with base 10: '4.2'"
     ]
    }
   ],
   "source": [
    "x=np.array([\"4.2\"],dtype=\"int32\")"
   ]
  },
  {
   "cell_type": "code",
   "execution_count": 27,
   "id": "f96df256",
   "metadata": {},
   "outputs": [],
   "source": [
    "x=np.array([\"5\"],dtype=\"int32\")"
   ]
  },
  {
   "cell_type": "code",
   "execution_count": 29,
   "id": "49cb88dd",
   "metadata": {},
   "outputs": [
    {
     "name": "stdout",
     "output_type": "stream",
     "text": [
      "[5]\n"
     ]
    }
   ],
   "source": [
    "print(x) # Demekki integer gosterimi olmasi gerek!"
   ]
  },
  {
   "cell_type": "markdown",
   "id": "dfa3e5bd",
   "metadata": {},
   "source": [
    "## Zero Array\n",
    "__np.zeros(shape,dtype)__"
   ]
  },
  {
   "cell_type": "code",
   "execution_count": 37,
   "id": "7877c9bd",
   "metadata": {},
   "outputs": [
    {
     "data": {
      "text/plain": [
       "array([0., 0., 0., 0., 0., 0., 0., 0., 0., 0.])"
      ]
     },
     "execution_count": 37,
     "metadata": {},
     "output_type": "execute_result"
    }
   ],
   "source": [
    "np.zeros(10) # Default olarak elemanlari float olarak gelir."
   ]
  },
  {
   "cell_type": "code",
   "execution_count": 36,
   "id": "7847a59b",
   "metadata": {
    "scrolled": true
   },
   "outputs": [
    {
     "data": {
      "text/plain": [
       "array(['', '', '', '', '', '', '', '', '', ''], dtype='<U1')"
      ]
     },
     "execution_count": 36,
     "metadata": {},
     "output_type": "execute_result"
    }
   ],
   "source": [
    "np.zeros(10,dtype=str)"
   ]
  },
  {
   "cell_type": "code",
   "execution_count": 51,
   "id": "17f6a371",
   "metadata": {},
   "outputs": [
    {
     "data": {
      "text/plain": [
       "array([0, 0, 0, 0, 0, 0, 0, 0, 0, 0], dtype=int32)"
      ]
     },
     "execution_count": 51,
     "metadata": {},
     "output_type": "execute_result"
    }
   ],
   "source": [
    "np.zeros(10,dtype=\"int32\")"
   ]
  },
  {
   "cell_type": "code",
   "execution_count": 54,
   "id": "e6ef79f3",
   "metadata": {},
   "outputs": [
    {
     "data": {
      "text/plain": [
       "array([[False, False],\n",
       "       [False, False],\n",
       "       [False, False]])"
      ]
     },
     "execution_count": 54,
     "metadata": {},
     "output_type": "execute_result"
    }
   ],
   "source": [
    "np.zeros([3,2],dtype=\"bool\")"
   ]
  },
  {
   "cell_type": "markdown",
   "id": "910393dc",
   "metadata": {},
   "source": [
    "### Multidimensional Zero Array"
   ]
  },
  {
   "cell_type": "code",
   "execution_count": 43,
   "id": "941be974",
   "metadata": {},
   "outputs": [
    {
     "name": "stdout",
     "output_type": "stream",
     "text": [
      "[[0. 0. 0. 0.]\n",
      " [0. 0. 0. 0.]\n",
      " [0. 0. 0. 0.]]\n",
      "-------------------\n",
      "[[0. 0. 0. 0.]\n",
      " [0. 0. 0. 0.]\n",
      " [0. 0. 0. 0.]]\n"
     ]
    }
   ],
   "source": [
    "print(np.zeros((3,4))) # cift parantez onemli!\n",
    "print(\"-------------------\")\n",
    "print(np.zeros([3,4]))"
   ]
  },
  {
   "cell_type": "code",
   "execution_count": 49,
   "id": "9d10d0fd",
   "metadata": {},
   "outputs": [
    {
     "data": {
      "text/plain": [
       "array([[[0., 0., 0., 0., 0.],\n",
       "        [0., 0., 0., 0., 0.],\n",
       "        [0., 0., 0., 0., 0.],\n",
       "        [0., 0., 0., 0., 0.],\n",
       "        [0., 0., 0., 0., 0.]],\n",
       "\n",
       "       [[0., 0., 0., 0., 0.],\n",
       "        [0., 0., 0., 0., 0.],\n",
       "        [0., 0., 0., 0., 0.],\n",
       "        [0., 0., 0., 0., 0.],\n",
       "        [0., 0., 0., 0., 0.]],\n",
       "\n",
       "       [[0., 0., 0., 0., 0.],\n",
       "        [0., 0., 0., 0., 0.],\n",
       "        [0., 0., 0., 0., 0.],\n",
       "        [0., 0., 0., 0., 0.],\n",
       "        [0., 0., 0., 0., 0.]]])"
      ]
     },
     "execution_count": 49,
     "metadata": {},
     "output_type": "execute_result"
    }
   ],
   "source": [
    "np.zeros([3,5,5]) # bu sefer ilk parametre boyut, 5x5 Lik 3 tane arka arkaya matris dusunebiliriz."
   ]
  },
  {
   "cell_type": "markdown",
   "id": "8e94a0f2",
   "metadata": {},
   "source": [
    "## Spesific element array\n",
    "### np.full()"
   ]
  },
  {
   "cell_type": "markdown",
   "id": "204e9fea",
   "metadata": {},
   "source": [
    "### HATIRLATMA\n",
    "__NOTEBOOKDA shift+tab ile nasil paramaetreler aldigini gorebiliriz__"
   ]
  },
  {
   "cell_type": "code",
   "execution_count": 66,
   "id": "853d2958",
   "metadata": {},
   "outputs": [
    {
     "data": {
      "text/plain": [
       "array([[5, 5, 5, 5, 5],\n",
       "       [5, 5, 5, 5, 5],\n",
       "       [5, 5, 5, 5, 5],\n",
       "       [5, 5, 5, 5, 5]])"
      ]
     },
     "execution_count": 66,
     "metadata": {},
     "output_type": "execute_result"
    }
   ],
   "source": [
    "np.full((4,5),5)"
   ]
  },
  {
   "cell_type": "code",
   "execution_count": 69,
   "id": "4e8388ff",
   "metadata": {},
   "outputs": [
    {
     "data": {
      "text/plain": [
       "array([5, 5, 5, 5])"
      ]
     },
     "execution_count": 69,
     "metadata": {},
     "output_type": "execute_result"
    }
   ],
   "source": [
    "np.full(4,5,5) # HATA !!!"
   ]
  },
  {
   "cell_type": "code",
   "execution_count": 71,
   "id": "0939f968",
   "metadata": {},
   "outputs": [
    {
     "data": {
      "text/plain": [
       "array([5, 5, 5, 5])"
      ]
     },
     "execution_count": 71,
     "metadata": {},
     "output_type": "execute_result"
    }
   ],
   "source": [
    "np.full(4,5) # O Halde default olarak 4x1 lik array i 5 ile doldurur."
   ]
  },
  {
   "cell_type": "code",
   "execution_count": 73,
   "id": "dec7bbb8",
   "metadata": {},
   "outputs": [
    {
     "data": {
      "text/plain": [
       "array([[5.2, 5.2],\n",
       "       [5.2, 5.2],\n",
       "       [5.2, 5.2],\n",
       "       [5.2, 5.2]])"
      ]
     },
     "execution_count": 73,
     "metadata": {},
     "output_type": "execute_result"
    }
   ],
   "source": [
    "np.full([4,2],5.2) # Okey sikinti yok"
   ]
  },
  {
   "cell_type": "code",
   "execution_count": 74,
   "id": "23d95879",
   "metadata": {},
   "outputs": [
    {
     "data": {
      "text/plain": [
       "array([['5', '5'],\n",
       "       ['5', '5'],\n",
       "       ['5', '5'],\n",
       "       ['5', '5']], dtype='<U1')"
      ]
     },
     "execution_count": 74,
     "metadata": {},
     "output_type": "execute_result"
    }
   ],
   "source": [
    "np.full([4,2],5.2 , dtype=str) "
   ]
  },
  {
   "cell_type": "markdown",
   "id": "349438b4",
   "metadata": {},
   "source": [
    "Float bir degeri string almak istersek once integer'a cast ediyor !"
   ]
  },
  {
   "cell_type": "code",
   "execution_count": 76,
   "id": "86032afe",
   "metadata": {},
   "outputs": [
    {
     "data": {
      "text/plain": [
       "array([['5.2', '5.2'],\n",
       "       ['5.2', '5.2'],\n",
       "       ['5.2', '5.2'],\n",
       "       ['5.2', '5.2']], dtype='<U3')"
      ]
     },
     "execution_count": 76,
     "metadata": {},
     "output_type": "execute_result"
    }
   ],
   "source": [
    "np.full([4,2],\"5.2\")  # Tabiki boyle alabiriz"
   ]
  },
  {
   "cell_type": "markdown",
   "id": "7f4e1603",
   "metadata": {},
   "source": [
    "## Consequtive Array's\n",
    "__np.arange(start,stop,step,)__"
   ]
  },
  {
   "cell_type": "code",
   "execution_count": 77,
   "id": "24275328",
   "metadata": {},
   "outputs": [
    {
     "data": {
      "text/plain": [
       "array([ 0,  1,  2,  3,  4,  5,  6,  7,  8,  9, 10, 11])"
      ]
     },
     "execution_count": 77,
     "metadata": {},
     "output_type": "execute_result"
    }
   ],
   "source": [
    "# [0,12)\n",
    "np.arange(0,12)"
   ]
  },
  {
   "cell_type": "code",
   "execution_count": 80,
   "id": "e3e9d825",
   "metadata": {},
   "outputs": [
    {
     "data": {
      "text/plain": [
       "array([ 0,  2,  4,  6,  8, 10])"
      ]
     },
     "execution_count": 80,
     "metadata": {},
     "output_type": "execute_result"
    }
   ],
   "source": [
    "x=np.arange(0,12,2)\n",
    "x\n"
   ]
  },
  {
   "cell_type": "code",
   "execution_count": 83,
   "id": "cd456f25",
   "metadata": {},
   "outputs": [
    {
     "data": {
      "text/plain": [
       "array([12, 10,  8,  6,  4,  2])"
      ]
     },
     "execution_count": 83,
     "metadata": {},
     "output_type": "execute_result"
    }
   ],
   "source": [
    "y=np.arange(12,0,-2)\n",
    "y"
   ]
  },
  {
   "cell_type": "markdown",
   "id": "24cff683",
   "metadata": {},
   "source": [
    "## Dividing Interval\n",
    "__np.linspace(start,stop,num)__  \n",
    "Default olarak 50 parcaya boler.\n"
   ]
  },
  {
   "cell_type": "code",
   "execution_count": 84,
   "id": "4c814079",
   "metadata": {},
   "outputs": [
    {
     "data": {
      "text/plain": [
       "array([1.        , 1.02040816, 1.04081633, 1.06122449, 1.08163265,\n",
       "       1.10204082, 1.12244898, 1.14285714, 1.16326531, 1.18367347,\n",
       "       1.20408163, 1.2244898 , 1.24489796, 1.26530612, 1.28571429,\n",
       "       1.30612245, 1.32653061, 1.34693878, 1.36734694, 1.3877551 ,\n",
       "       1.40816327, 1.42857143, 1.44897959, 1.46938776, 1.48979592,\n",
       "       1.51020408, 1.53061224, 1.55102041, 1.57142857, 1.59183673,\n",
       "       1.6122449 , 1.63265306, 1.65306122, 1.67346939, 1.69387755,\n",
       "       1.71428571, 1.73469388, 1.75510204, 1.7755102 , 1.79591837,\n",
       "       1.81632653, 1.83673469, 1.85714286, 1.87755102, 1.89795918,\n",
       "       1.91836735, 1.93877551, 1.95918367, 1.97959184, 2.        ])"
      ]
     },
     "execution_count": 84,
     "metadata": {},
     "output_type": "execute_result"
    }
   ],
   "source": [
    "np.linspace(1,2)"
   ]
  },
  {
   "cell_type": "code",
   "execution_count": 87,
   "id": "f322a963",
   "metadata": {},
   "outputs": [
    {
     "data": {
      "text/plain": [
       "array([1. , 1.5, 2. , 2.5, 3. ])"
      ]
     },
     "execution_count": 87,
     "metadata": {},
     "output_type": "execute_result"
    }
   ],
   "source": [
    "# Kac parcaya bolecegini belirtelim\n",
    "np.linspace(1,3,num=5)"
   ]
  },
  {
   "cell_type": "code",
   "execution_count": 88,
   "id": "7ee6a185",
   "metadata": {},
   "outputs": [
    {
     "data": {
      "text/plain": [
       "array([1. , 1.5, 2. , 2.5, 3. ])"
      ]
     },
     "execution_count": 88,
     "metadata": {},
     "output_type": "execute_result"
    }
   ],
   "source": [
    "np.linspace(1,3,5)"
   ]
  },
  {
   "cell_type": "markdown",
   "id": "956ef312",
   "metadata": {},
   "source": [
    "Baslagic ve bitis noklari default olarak dahil etmesini istemessek;"
   ]
  },
  {
   "cell_type": "code",
   "execution_count": 90,
   "id": "1d6564ee",
   "metadata": {},
   "outputs": [
    {
     "data": {
      "text/plain": [
       "array([1. , 1.4, 1.8, 2.2, 2.6])"
      ]
     },
     "execution_count": 90,
     "metadata": {},
     "output_type": "execute_result"
    }
   ],
   "source": [
    "np.linspace(1,3,5,endpoint=False)"
   ]
  },
  {
   "cell_type": "markdown",
   "id": "b89c2f1a",
   "metadata": {},
   "source": [
    "Floatlarda 'da gecerli"
   ]
  },
  {
   "cell_type": "code",
   "execution_count": 91,
   "id": "8e968204",
   "metadata": {},
   "outputs": [
    {
     "data": {
      "text/plain": [
       "array([1.4  , 1.725, 2.05 , 2.375, 2.7  ])"
      ]
     },
     "execution_count": 91,
     "metadata": {},
     "output_type": "execute_result"
    }
   ],
   "source": [
    "np.linspace(1.4,2.7,5)"
   ]
  },
  {
   "cell_type": "markdown",
   "id": "cca05baf",
   "metadata": {},
   "source": [
    "## Normal Distribution Array\n",
    "__np.random.normal(mean,std,size)__\n"
   ]
  },
  {
   "cell_type": "code",
   "execution_count": 93,
   "id": "14ed1622",
   "metadata": {},
   "outputs": [
    {
     "data": {
      "text/plain": [
       "array([[-2.32176561,  0.43795856, -0.51017011,  1.11062251,  0.63784951],\n",
       "       [-1.03779294,  1.23508852, -0.05632805, -0.52808345,  0.00851872],\n",
       "       [-0.33484915, -0.68272274, -0.89617369, -0.11246832,  0.66156393],\n",
       "       [ 0.70124196, -1.63288093, -0.2226272 ,  0.64084707, -0.35575293]])"
      ]
     },
     "execution_count": 93,
     "metadata": {},
     "output_type": "execute_result"
    }
   ],
   "source": [
    "np.random.normal(0,1,(4,5)) # ortalamasi 0 standart sapmasi 1 olan 4e5lik"
   ]
  },
  {
   "cell_type": "code",
   "execution_count": 95,
   "id": "eb0996bd",
   "metadata": {},
   "outputs": [
    {
     "data": {
      "text/plain": [
       "array([[  13.55364219,  -52.42110028,   66.6678969 , -154.50124088,\n",
       "        -237.14271001],\n",
       "       [ -27.615284  ,   28.44225855,  -60.90870243,   58.0350082 ,\n",
       "          29.24170579],\n",
       "       [ -74.88811736,  -70.61285034,   56.74621317,  -54.23376927,\n",
       "          33.33240001],\n",
       "       [  50.28073254,  -33.96138152, -181.7713398 ,   70.49795935,\n",
       "          26.90056931]])"
      ]
     },
     "execution_count": 95,
     "metadata": {},
     "output_type": "execute_result"
    }
   ],
   "source": [
    "np.random.normal(0,100,(4,5)) # standart sapma arttikca meandan uzaklasma artabiliyor."
   ]
  },
  {
   "cell_type": "code",
   "execution_count": 96,
   "id": "5b576e78",
   "metadata": {},
   "outputs": [
    {
     "data": {
      "text/plain": [
       "array([[10.71120624,  9.57954451,  9.6210727 ,  9.79569239,  8.88543506],\n",
       "       [10.76820714,  9.83637367, 12.3059119 ,  9.24288115, 10.36753168],\n",
       "       [10.06934138, 10.72118189, 10.66870006,  9.95368911, 11.35441648],\n",
       "       [ 8.10530484, 11.24892175, 10.43644067,  8.60313262,  9.80229617]])"
      ]
     },
     "execution_count": 96,
     "metadata": {},
     "output_type": "execute_result"
    }
   ],
   "source": [
    "np.random.normal(10,1,(4,5))"
   ]
  },
  {
   "cell_type": "markdown",
   "id": "e506d927",
   "metadata": {},
   "source": [
    "## Random Integer Array\n",
    "__np.random.randint(low,high,size)__  \n",
    "[low,high)"
   ]
  },
  {
   "cell_type": "code",
   "execution_count": 98,
   "id": "fea968e2",
   "metadata": {},
   "outputs": [
    {
     "data": {
      "text/plain": [
       "array([[ 6,  2],\n",
       "       [ 7,  2],\n",
       "       [ 2, 10],\n",
       "       [10,  8],\n",
       "       [ 2,  2],\n",
       "       [ 2,  7],\n",
       "       [ 5,  9],\n",
       "       [ 6,  6],\n",
       "       [ 9,  9],\n",
       "       [ 3,  3]])"
      ]
     },
     "execution_count": 98,
     "metadata": {},
     "output_type": "execute_result"
    }
   ],
   "source": [
    "np.random.randint(0,11,(10,2))"
   ]
  },
  {
   "cell_type": "code",
   "execution_count": 99,
   "id": "163e8e58",
   "metadata": {},
   "outputs": [
    {
     "data": {
      "text/plain": [
       "array([[[ 5,  2, 10,  7,  9],\n",
       "        [ 7,  6,  7,  6,  5],\n",
       "        [ 9,  6,  3,  0, 10],\n",
       "        [ 3,  3,  0, 10,  7],\n",
       "        [ 2,  0,  9,  4, 10]],\n",
       "\n",
       "       [[ 0,  7,  6,  5,  8],\n",
       "        [ 1,  8,  9,  1,  0],\n",
       "        [ 0,  8,  1,  1,  0],\n",
       "        [ 4,  2,  4,  1,  5],\n",
       "        [ 2,  3,  4,  8,  9]],\n",
       "\n",
       "       [[ 3,  1,  4,  4,  8],\n",
       "        [ 3,  8,  6,  5,  1],\n",
       "        [ 4, 10,  6,  0,  0],\n",
       "        [ 7,  3,  3,  0,  9],\n",
       "        [ 7,  8,  3,  4,  4]]])"
      ]
     },
     "execution_count": 99,
     "metadata": {},
     "output_type": "execute_result"
    }
   ],
   "source": [
    "np.random.randint(0,11,(3,5,5))"
   ]
  },
  {
   "cell_type": "markdown",
   "id": "39a63aa7",
   "metadata": {},
   "source": [
    "For loopun icerisinde _ underscore'unu  kullanirsak bunu loopda kullanmayacagim anlamina gelir.(ortak dil olarak)"
   ]
  },
  {
   "cell_type": "code",
   "execution_count": 105,
   "id": "f121cd7c",
   "metadata": {},
   "outputs": [],
   "source": [
    "d={}\n",
    "for _ in range(20000):\n",
    "    val=np.random.randint(1,11)\n",
    "    if val not in d:\n",
    "        d[val]=1\n",
    "    else:\n",
    "        d[val]+=1\n",
    "\n"
   ]
  },
  {
   "cell_type": "code",
   "execution_count": 106,
   "id": "150e2ab3",
   "metadata": {},
   "outputs": [
    {
     "data": {
      "text/plain": [
       "{8: 1993,\n",
       " 7: 1992,\n",
       " 1: 2002,\n",
       " 4: 2000,\n",
       " 3: 1986,\n",
       " 9: 2005,\n",
       " 2: 2005,\n",
       " 6: 2029,\n",
       " 5: 2004,\n",
       " 10: 1984}"
      ]
     },
     "execution_count": 106,
     "metadata": {},
     "output_type": "execute_result"
    }
   ],
   "source": [
    "d"
   ]
  },
  {
   "cell_type": "markdown",
   "id": "a9bc01c8",
   "metadata": {},
   "source": [
    "## Identity Matrix\n",
    "__np.eye()__\n"
   ]
  },
  {
   "cell_type": "code",
   "execution_count": 107,
   "id": "d80ab934",
   "metadata": {},
   "outputs": [
    {
     "data": {
      "text/plain": [
       "array([[1., 0., 0.],\n",
       "       [0., 1., 0.],\n",
       "       [0., 0., 1.]])"
      ]
     },
     "execution_count": 107,
     "metadata": {},
     "output_type": "execute_result"
    }
   ],
   "source": [
    "np.eye(3,3)"
   ]
  },
  {
   "cell_type": "code",
   "execution_count": 110,
   "id": "e61d1982",
   "metadata": {},
   "outputs": [
    {
     "data": {
      "text/plain": [
       "array([[1., 0., 0.],\n",
       "       [0., 1., 0.],\n",
       "       [0., 0., 1.]])"
      ]
     },
     "execution_count": 110,
     "metadata": {},
     "output_type": "execute_result"
    }
   ],
   "source": [
    "np.eye(3)"
   ]
  },
  {
   "cell_type": "code",
   "execution_count": 111,
   "id": "10f21981",
   "metadata": {},
   "outputs": [
    {
     "data": {
      "text/plain": [
       "array([[1., 0., 0., 0.],\n",
       "       [0., 1., 0., 0.],\n",
       "       [0., 0., 1., 0.]])"
      ]
     },
     "execution_count": 111,
     "metadata": {},
     "output_type": "execute_result"
    }
   ],
   "source": [
    "np.eye(3,4)"
   ]
  },
  {
   "cell_type": "markdown",
   "id": "b8f02ba0",
   "metadata": {},
   "source": [
    "## Array Operations"
   ]
  },
  {
   "cell_type": "code",
   "execution_count": 113,
   "id": "80a37cf0",
   "metadata": {},
   "outputs": [
    {
     "ename": "TypeError",
     "evalue": "can't multiply sequence by non-int of type 'list'",
     "output_type": "error",
     "traceback": [
      "\u001b[0;31m---------------------------------------------------------------------------\u001b[0m",
      "\u001b[0;31mTypeError\u001b[0m                                 Traceback (most recent call last)",
      "\u001b[0;32m<ipython-input-113-e0cb91254c28>\u001b[0m in \u001b[0;36m<module>\u001b[0;34m\u001b[0m\n\u001b[1;32m      1\u001b[0m \u001b[0ma\u001b[0m\u001b[0;34m=\u001b[0m\u001b[0;34m[\u001b[0m\u001b[0;36m2\u001b[0m\u001b[0;34m,\u001b[0m\u001b[0;36m3\u001b[0m\u001b[0;34m,\u001b[0m\u001b[0;36m4\u001b[0m\u001b[0;34m]\u001b[0m\u001b[0;34m\u001b[0m\u001b[0;34m\u001b[0m\u001b[0m\n\u001b[1;32m      2\u001b[0m \u001b[0mb\u001b[0m\u001b[0;34m=\u001b[0m\u001b[0;34m[\u001b[0m\u001b[0;36m4\u001b[0m\u001b[0;34m,\u001b[0m\u001b[0;36m5\u001b[0m\u001b[0;34m,\u001b[0m\u001b[0;36m6\u001b[0m\u001b[0;34m]\u001b[0m\u001b[0;34m\u001b[0m\u001b[0;34m\u001b[0m\u001b[0m\n\u001b[0;32m----> 3\u001b[0;31m \u001b[0ma\u001b[0m\u001b[0;34m*\u001b[0m\u001b[0mb\u001b[0m \u001b[0;31m# Demekki listelerde carpma tanimli degil\u001b[0m\u001b[0;34m\u001b[0m\u001b[0;34m\u001b[0m\u001b[0m\n\u001b[0m",
      "\u001b[0;31mTypeError\u001b[0m: can't multiply sequence by non-int of type 'list'"
     ]
    }
   ],
   "source": [
    "a=[2,3,4]\n",
    "b=[4,5,6]\n",
    "a*b # Demekki listelerde carpma tanimli degil"
   ]
  },
  {
   "cell_type": "markdown",
   "id": "58b29c02",
   "metadata": {},
   "source": [
    "- __liste bir integer ile carpilirsa ard arda concatanation yapar__"
   ]
  },
  {
   "cell_type": "code",
   "execution_count": 114,
   "id": "19f30f90",
   "metadata": {},
   "outputs": [
    {
     "data": {
      "text/plain": [
       "[2, 3, 4, 2, 3, 4, 2, 3, 4]"
      ]
     },
     "execution_count": 114,
     "metadata": {},
     "output_type": "execute_result"
    }
   ],
   "source": [
    "a=[2,3,4]\n",
    "a*3"
   ]
  },
  {
   "cell_type": "code",
   "execution_count": 115,
   "id": "41a7b87b",
   "metadata": {},
   "outputs": [
    {
     "data": {
      "text/plain": [
       "[2, 3, 4, 5, 6, 7, 8, 9, 10]"
      ]
     },
     "execution_count": 115,
     "metadata": {},
     "output_type": "execute_result"
    }
   ],
   "source": [
    "[2,3,4] + [5,6,7] + [8,9,10]"
   ]
  },
  {
   "cell_type": "markdown",
   "id": "5c83d290",
   "metadata": {},
   "source": [
    "- __numpy'da * operatoru iki numpy array arasinda tanimlidir.Element-wise(eleman-bazli) carpim yapar.__"
   ]
  },
  {
   "cell_type": "code",
   "execution_count": 116,
   "id": "06a724af",
   "metadata": {},
   "outputs": [
    {
     "data": {
      "text/plain": [
       "array([ 4, 10, 18])"
      ]
     },
     "execution_count": 116,
     "metadata": {},
     "output_type": "execute_result"
    }
   ],
   "source": [
    "x=np.array([1,2,3])\n",
    "y=np.array([4,5,6])\n",
    "\n",
    "x * y"
   ]
  },
  {
   "cell_type": "markdown",
   "id": "0db6aa02",
   "metadata": {},
   "source": [
    "- __+ operatoru element-wise toplam yapar__"
   ]
  },
  {
   "cell_type": "code",
   "execution_count": 117,
   "id": "c3ac00c8",
   "metadata": {},
   "outputs": [
    {
     "data": {
      "text/plain": [
       "array([5, 7, 9])"
      ]
     },
     "execution_count": 117,
     "metadata": {},
     "output_type": "execute_result"
    }
   ],
   "source": [
    "x=np.array([1,2,3])\n",
    "y=np.array([4,5,6])\n",
    "\n",
    "x + y"
   ]
  },
  {
   "cell_type": "code",
   "execution_count": 118,
   "id": "94b4ee0d",
   "metadata": {},
   "outputs": [
    {
     "data": {
      "text/plain": [
       "array([3, 6, 9])"
      ]
     },
     "execution_count": 118,
     "metadata": {},
     "output_type": "execute_result"
    }
   ],
   "source": [
    "x=np.array([1,2,3])\n",
    "\n",
    "3*x"
   ]
  },
  {
   "cell_type": "markdown",
   "id": "1cf6020e",
   "metadata": {},
   "source": [
    "## Array Attributes"
   ]
  },
  {
   "cell_type": "markdown",
   "id": "d727eb94",
   "metadata": {},
   "source": [
    "### .shape"
   ]
  },
  {
   "cell_type": "code",
   "execution_count": 133,
   "id": "4e576059",
   "metadata": {},
   "outputs": [
    {
     "data": {
      "text/plain": [
       "array([[0., 0., 0.],\n",
       "       [0., 0., 0.]])"
      ]
     },
     "execution_count": 133,
     "metadata": {},
     "output_type": "execute_result"
    }
   ],
   "source": [
    "x=np.zeros([2,3])\n",
    "x"
   ]
  },
  {
   "cell_type": "code",
   "execution_count": 128,
   "id": "175c27a4",
   "metadata": {},
   "outputs": [
    {
     "data": {
      "text/plain": [
       "array([[[0., 0., 0., 0.],\n",
       "        [0., 0., 0., 0.],\n",
       "        [0., 0., 0., 0.]],\n",
       "\n",
       "       [[0., 0., 0., 0.],\n",
       "        [0., 0., 0., 0.],\n",
       "        [0., 0., 0., 0.]]])"
      ]
     },
     "execution_count": 128,
     "metadata": {},
     "output_type": "execute_result"
    }
   ],
   "source": [
    "y=np.zeros((2,3,4))\n",
    "y"
   ]
  },
  {
   "cell_type": "code",
   "execution_count": 140,
   "id": "10f6c9f7",
   "metadata": {},
   "outputs": [
    {
     "data": {
      "text/plain": [
       "(2, 3)"
      ]
     },
     "execution_count": 140,
     "metadata": {},
     "output_type": "execute_result"
    }
   ],
   "source": [
    "x.shape "
   ]
  },
  {
   "cell_type": "code",
   "execution_count": 141,
   "id": "47438a2b",
   "metadata": {},
   "outputs": [
    {
     "data": {
      "text/plain": [
       "(2, 3, 4)"
      ]
     },
     "execution_count": 141,
     "metadata": {},
     "output_type": "execute_result"
    }
   ],
   "source": [
    "y.shape"
   ]
  },
  {
   "cell_type": "markdown",
   "id": "e1009f58",
   "metadata": {},
   "source": [
    "### ndim\n",
    "__dimensions__\n"
   ]
  },
  {
   "cell_type": "code",
   "execution_count": 142,
   "id": "6a2e395b",
   "metadata": {},
   "outputs": [
    {
     "data": {
      "text/plain": [
       "2"
      ]
     },
     "execution_count": 142,
     "metadata": {},
     "output_type": "execute_result"
    }
   ],
   "source": [
    "x.ndim # 2 boyutlu"
   ]
  },
  {
   "cell_type": "code",
   "execution_count": 143,
   "id": "b72541be",
   "metadata": {},
   "outputs": [
    {
     "data": {
      "text/plain": [
       "3"
      ]
     },
     "execution_count": 143,
     "metadata": {},
     "output_type": "execute_result"
    }
   ],
   "source": [
    "y.ndim # 3 boyutlu"
   ]
  },
  {
   "cell_type": "markdown",
   "id": "96047adf",
   "metadata": {},
   "source": [
    "### size\n",
    "__Kac elemanli__"
   ]
  },
  {
   "cell_type": "code",
   "execution_count": 146,
   "id": "a2eaeaf3",
   "metadata": {},
   "outputs": [
    {
     "data": {
      "text/plain": [
       "6"
      ]
     },
     "execution_count": 146,
     "metadata": {},
     "output_type": "execute_result"
    }
   ],
   "source": [
    "x.size"
   ]
  },
  {
   "cell_type": "code",
   "execution_count": 147,
   "id": "76c68a22",
   "metadata": {},
   "outputs": [
    {
     "data": {
      "text/plain": [
       "24"
      ]
     },
     "execution_count": 147,
     "metadata": {},
     "output_type": "execute_result"
    }
   ],
   "source": [
    "y.size"
   ]
  },
  {
   "cell_type": "markdown",
   "id": "ca902ba2",
   "metadata": {},
   "source": [
    "###  dtype"
   ]
  },
  {
   "cell_type": "code",
   "execution_count": 148,
   "id": "00fa830d",
   "metadata": {},
   "outputs": [
    {
     "data": {
      "text/plain": [
       "dtype('float64')"
      ]
     },
     "execution_count": 148,
     "metadata": {},
     "output_type": "execute_result"
    }
   ],
   "source": [
    "x.dtype"
   ]
  },
  {
   "cell_type": "markdown",
   "id": "2797d2ec",
   "metadata": {},
   "source": [
    "## Reshaping"
   ]
  },
  {
   "cell_type": "code",
   "execution_count": 158,
   "id": "b8eb632a",
   "metadata": {},
   "outputs": [
    {
     "name": "stdout",
     "output_type": "stream",
     "text": [
      "[ 1  2  3  4  5  6  7  8  9 10]\n"
     ]
    },
    {
     "data": {
      "text/plain": [
       "array([[ 1,  2],\n",
       "       [ 3,  4],\n",
       "       [ 5,  6],\n",
       "       [ 7,  8],\n",
       "       [ 9, 10]])"
      ]
     },
     "execution_count": 158,
     "metadata": {},
     "output_type": "execute_result"
    }
   ],
   "source": [
    "x=np.arange(1,11)\n",
    "print(x)\n",
    "x.size\n",
    "x.reshape(5,2)\n"
   ]
  },
  {
   "cell_type": "code",
   "execution_count": 159,
   "id": "8aae3c4e",
   "metadata": {},
   "outputs": [
    {
     "data": {
      "text/plain": [
       "array([[ 1,  2,  3,  4,  5],\n",
       "       [ 6,  7,  8,  9, 10]])"
      ]
     },
     "execution_count": 159,
     "metadata": {},
     "output_type": "execute_result"
    }
   ],
   "source": [
    "x.reshape(2,5)"
   ]
  },
  {
   "cell_type": "code",
   "execution_count": 162,
   "id": "819cd9e3",
   "metadata": {},
   "outputs": [
    {
     "data": {
      "text/plain": [
       "array([[ 1],\n",
       "       [ 2],\n",
       "       [ 3],\n",
       "       [ 4],\n",
       "       [ 5],\n",
       "       [ 6],\n",
       "       [ 7],\n",
       "       [ 8],\n",
       "       [ 9],\n",
       "       [10]])"
      ]
     },
     "execution_count": 162,
     "metadata": {},
     "output_type": "execute_result"
    }
   ],
   "source": [
    "x.reshape(10,1)"
   ]
  },
  {
   "cell_type": "markdown",
   "id": "c7e50696",
   "metadata": {},
   "source": [
    "__-1 Boyuta karar vermek__"
   ]
  },
  {
   "cell_type": "code",
   "execution_count": 165,
   "id": "cf01400c",
   "metadata": {},
   "outputs": [
    {
     "data": {
      "text/plain": [
       "array([[ 1,  2],\n",
       "       [ 3,  4],\n",
       "       [ 5,  6],\n",
       "       [ 7,  8],\n",
       "       [ 9, 10]])"
      ]
     },
     "execution_count": 165,
     "metadata": {},
     "output_type": "execute_result"
    }
   ],
   "source": [
    "x.reshape(-1,2)"
   ]
  },
  {
   "cell_type": "markdown",
   "id": "2014dd8c",
   "metadata": {},
   "source": [
    "-1 ile boyutlandirdigimiz zaman x ' in size ini hesapliyor = 10 .   \n",
    "2 parametresi veriyoruz. Python arka planda su islemi yapiyor 2 * x = 10   \n",
    "o zaman 5 satir koymaliyim."
   ]
  },
  {
   "cell_type": "code",
   "execution_count": 166,
   "id": "c29a7d4d",
   "metadata": {},
   "outputs": [
    {
     "data": {
      "text/plain": [
       "array([[ 1,  2,  3,  4,  5],\n",
       "       [ 6,  7,  8,  9, 10]])"
      ]
     },
     "execution_count": 166,
     "metadata": {},
     "output_type": "execute_result"
    }
   ],
   "source": [
    "x.reshape(-1,5)"
   ]
  },
  {
   "cell_type": "markdown",
   "id": "8dc352a6",
   "metadata": {},
   "source": [
    "__YENI BOYUT EKLEMEK__"
   ]
  },
  {
   "cell_type": "code",
   "execution_count": 176,
   "id": "7cbdee7f",
   "metadata": {},
   "outputs": [
    {
     "name": "stdout",
     "output_type": "stream",
     "text": [
      "[ 1  2  3  4  5  6  7  8  9 10]\n"
     ]
    },
    {
     "data": {
      "text/plain": [
       "(10,)"
      ]
     },
     "execution_count": 176,
     "metadata": {},
     "output_type": "execute_result"
    }
   ],
   "source": [
    "x=np.arange(1,11)\n",
    "print(x)\n",
    "x.shape"
   ]
  },
  {
   "cell_type": "code",
   "execution_count": 169,
   "id": "b7274d40",
   "metadata": {},
   "outputs": [
    {
     "data": {
      "text/plain": [
       "array([[ 1,  2,  3,  4,  5,  6,  7,  8,  9, 10]])"
      ]
     },
     "execution_count": 169,
     "metadata": {},
     "output_type": "execute_result"
    }
   ],
   "source": [
    "x[np.newaxis,:]"
   ]
  },
  {
   "cell_type": "code",
   "execution_count": 171,
   "id": "6140189e",
   "metadata": {},
   "outputs": [
    {
     "data": {
      "text/plain": [
       "(1, 10)"
      ]
     },
     "execution_count": 171,
     "metadata": {},
     "output_type": "execute_result"
    }
   ],
   "source": [
    "x[np.newaxis,:].shape"
   ]
  },
  {
   "cell_type": "code",
   "execution_count": 172,
   "id": "ce96ab8a",
   "metadata": {},
   "outputs": [
    {
     "data": {
      "text/plain": [
       "array([[ 1],\n",
       "       [ 2],\n",
       "       [ 3],\n",
       "       [ 4],\n",
       "       [ 5],\n",
       "       [ 6],\n",
       "       [ 7],\n",
       "       [ 8],\n",
       "       [ 9],\n",
       "       [10]])"
      ]
     },
     "execution_count": 172,
     "metadata": {},
     "output_type": "execute_result"
    }
   ],
   "source": [
    "x[:,np.newaxis]"
   ]
  },
  {
   "cell_type": "code",
   "execution_count": 173,
   "id": "fbaa9e56",
   "metadata": {},
   "outputs": [
    {
     "data": {
      "text/plain": [
       "(10, 1)"
      ]
     },
     "execution_count": 173,
     "metadata": {},
     "output_type": "execute_result"
    }
   ],
   "source": [
    "x[:,np.newaxis].shape"
   ]
  },
  {
   "cell_type": "markdown",
   "id": "4781f469",
   "metadata": {},
   "source": [
    "## Concatenation"
   ]
  },
  {
   "cell_type": "code",
   "execution_count": 178,
   "id": "45c0cd6e",
   "metadata": {},
   "outputs": [
    {
     "data": {
      "text/plain": [
       "array([ 1,  2,  3,  4,  5,  6,  7,  8,  9, 10])"
      ]
     },
     "execution_count": 178,
     "metadata": {},
     "output_type": "execute_result"
    }
   ],
   "source": [
    "x = np.array([1,2,3,4,5])\n",
    "y = np.array([6,7,8,9,10])\n",
    "\n",
    "np.concatenate([x,y])"
   ]
  },
  {
   "cell_type": "markdown",
   "id": "c75213f5",
   "metadata": {},
   "source": [
    "__liste de concatane edilebilir__\n"
   ]
  },
  {
   "cell_type": "code",
   "execution_count": 179,
   "id": "35d490dd",
   "metadata": {},
   "outputs": [
    {
     "data": {
      "text/plain": [
       "array([ 1,  2,  3,  4,  5,  6,  7,  8,  9, 10, 10, 11])"
      ]
     },
     "execution_count": 179,
     "metadata": {},
     "output_type": "execute_result"
    }
   ],
   "source": [
    "x = np.array([1,2,3,4,5])\n",
    "y = np.array([6,7,8,9,10])\n",
    "l=[10,11]\n",
    "\n",
    "np.concatenate([x,y,l])"
   ]
  },
  {
   "cell_type": "code",
   "execution_count": 180,
   "id": "c4d8d272",
   "metadata": {},
   "outputs": [
    {
     "data": {
      "text/plain": [
       "array([ 1. ,  2. ,  3. ,  4. ,  5. ,  6. ,  7. ,  8. ,  9. , 10. , 10. ,\n",
       "       11.2])"
      ]
     },
     "execution_count": 180,
     "metadata": {},
     "output_type": "execute_result"
    }
   ],
   "source": [
    "x = np.array([1,2,3,4,5])\n",
    "y = np.array([6,7,8,9,10])\n",
    "l=[10,11.2]\n",
    "\n",
    "np.concatenate([x,y,l])\n",
    "\n"
   ]
  },
  {
   "cell_type": "markdown",
   "id": "0f40e7dd",
   "metadata": {},
   "source": [
    "__Numpy arrayler homojen listeler oldugu icin daha genel olan float'a casting yapti__"
   ]
  },
  {
   "cell_type": "markdown",
   "id": "5e10fe97",
   "metadata": {},
   "source": [
    "---"
   ]
  },
  {
   "cell_type": "markdown",
   "id": "1ba566d1",
   "metadata": {},
   "source": [
    "__! ! ! Liste olmasi gerekmez tuple veri tipinide concatenete() islemine sokabiliriz.! ! !__"
   ]
  },
  {
   "cell_type": "code",
   "execution_count": 181,
   "id": "f47909af",
   "metadata": {},
   "outputs": [
    {
     "data": {
      "text/plain": [
       "array([ 1. ,  2. ,  3. ,  4. ,  5. ,  6. ,  7. ,  8. ,  9. , 10. , 10. ,\n",
       "       11.2])"
      ]
     },
     "execution_count": 181,
     "metadata": {},
     "output_type": "execute_result"
    }
   ],
   "source": [
    "x = np.array([1,2,3,4,5])\n",
    "y = np.array([6,7,8,9,10])\n",
    "l=(10,11.2)\n",
    "\n",
    "np.concatenate([x,y,l])"
   ]
  },
  {
   "cell_type": "markdown",
   "id": "57a96168",
   "metadata": {},
   "source": [
    "###  Size Mismatch"
   ]
  },
  {
   "cell_type": "code",
   "execution_count": 195,
   "id": "26968c93",
   "metadata": {},
   "outputs": [
    {
     "data": {
      "text/plain": [
       "array([[1, 2, 3],\n",
       "       [4, 5, 6]])"
      ]
     },
     "execution_count": 195,
     "metadata": {},
     "output_type": "execute_result"
    }
   ],
   "source": [
    "\n",
    "x=np.array([1,2,3,4,5,6])\n",
    "y"
   ]
  },
  {
   "cell_type": "code",
   "execution_count": 194,
   "id": "3a176125",
   "metadata": {},
   "outputs": [
    {
     "data": {
      "text/plain": [
       "array([[1, 2, 3],\n",
       "       [4, 5, 6]])"
      ]
     },
     "execution_count": 194,
     "metadata": {},
     "output_type": "execute_result"
    }
   ],
   "source": [
    "y=np.array([[1,2,3],[4,5,6]])\n",
    "y\n"
   ]
  },
  {
   "cell_type": "code",
   "execution_count": 196,
   "id": "ec988ede",
   "metadata": {},
   "outputs": [
    {
     "data": {
      "text/plain": [
       "6"
      ]
     },
     "execution_count": 196,
     "metadata": {},
     "output_type": "execute_result"
    }
   ],
   "source": [
    "x.size"
   ]
  },
  {
   "cell_type": "code",
   "execution_count": 197,
   "id": "e0879908",
   "metadata": {},
   "outputs": [
    {
     "data": {
      "text/plain": [
       "6"
      ]
     },
     "execution_count": 197,
     "metadata": {},
     "output_type": "execute_result"
    }
   ],
   "source": [
    "y.size"
   ]
  },
  {
   "cell_type": "code",
   "execution_count": 202,
   "id": "ad27923b",
   "metadata": {},
   "outputs": [
    {
     "data": {
      "text/plain": [
       "(6,)"
      ]
     },
     "execution_count": 202,
     "metadata": {},
     "output_type": "execute_result"
    }
   ],
   "source": [
    "x.shape # Row column mantigi yok!"
   ]
  },
  {
   "cell_type": "code",
   "execution_count": 201,
   "id": "63048aa8",
   "metadata": {},
   "outputs": [
    {
     "data": {
      "text/plain": [
       "(2, 3)"
      ]
     },
     "execution_count": 201,
     "metadata": {},
     "output_type": "execute_result"
    }
   ],
   "source": [
    "y.shape # Row column mantigi var"
   ]
  },
  {
   "cell_type": "code",
   "execution_count": 205,
   "id": "48a29412",
   "metadata": {},
   "outputs": [
    {
     "ename": "ValueError",
     "evalue": "all the input arrays must have same number of dimensions, but the array at index 0 has 1 dimension(s) and the array at index 1 has 2 dimension(s)",
     "output_type": "error",
     "traceback": [
      "\u001b[0;31m---------------------------------------------------------------------------\u001b[0m",
      "\u001b[0;31mValueError\u001b[0m                                Traceback (most recent call last)",
      "\u001b[0;32m<ipython-input-205-14616cdb4093>\u001b[0m in \u001b[0;36m<module>\u001b[0;34m\u001b[0m\n\u001b[0;32m----> 1\u001b[0;31m \u001b[0mnp\u001b[0m\u001b[0;34m.\u001b[0m\u001b[0mconcatenate\u001b[0m\u001b[0;34m(\u001b[0m\u001b[0;34m[\u001b[0m\u001b[0mx\u001b[0m\u001b[0;34m,\u001b[0m\u001b[0my\u001b[0m\u001b[0;34m]\u001b[0m\u001b[0;34m)\u001b[0m\u001b[0;34m\u001b[0m\u001b[0;34m\u001b[0m\u001b[0m\n\u001b[0m",
      "\u001b[0;32m<__array_function__ internals>\u001b[0m in \u001b[0;36mconcatenate\u001b[0;34m(*args, **kwargs)\u001b[0m\n",
      "\u001b[0;31mValueError\u001b[0m: all the input arrays must have same number of dimensions, but the array at index 0 has 1 dimension(s) and the array at index 1 has 2 dimension(s)"
     ]
    }
   ],
   "source": [
    "np.concatenate([x,y])"
   ]
  },
  {
   "cell_type": "markdown",
   "id": "3c9966f9",
   "metadata": {},
   "source": [
    "__axis belirtilmediginde default olarak row olarak eklenir.__"
   ]
  },
  {
   "cell_type": "code",
   "execution_count": 219,
   "id": "eacf8012",
   "metadata": {},
   "outputs": [
    {
     "data": {
      "text/plain": [
       "array([[1, 2, 3],\n",
       "       [4, 5, 6],\n",
       "       [1, 2, 3],\n",
       "       [4, 5, 6]])"
      ]
     },
     "execution_count": 219,
     "metadata": {},
     "output_type": "execute_result"
    }
   ],
   "source": [
    "np.concatenate([y,y])"
   ]
  },
  {
   "cell_type": "markdown",
   "id": "8cf0f3d5",
   "metadata": {},
   "source": [
    "__axis =1 olarak belirtildiginde yanina column olarak eklenir__"
   ]
  },
  {
   "cell_type": "code",
   "execution_count": 235,
   "id": "a0d41edb",
   "metadata": {},
   "outputs": [
    {
     "data": {
      "text/plain": [
       "array([[1, 2, 3, 1, 2, 3],\n",
       "       [4, 5, 6, 4, 5, 6]])"
      ]
     },
     "execution_count": 235,
     "metadata": {},
     "output_type": "execute_result"
    }
   ],
   "source": [
    "z=np.concatenate([y,y],axis=1) \n",
    "z"
   ]
  },
  {
   "cell_type": "code",
   "execution_count": 236,
   "id": "c15874f7",
   "metadata": {},
   "outputs": [
    {
     "data": {
      "text/plain": [
       "(2, 6)"
      ]
     },
     "execution_count": 236,
     "metadata": {},
     "output_type": "execute_result"
    }
   ],
   "source": [
    "z.shape"
   ]
  },
  {
   "cell_type": "markdown",
   "id": "fc91f9c0",
   "metadata": {},
   "source": [
    "## Stack\n",
    "Stack Mantigini Yeni Dimension ekleyip , o dimension uzerinde yaparakta saglayabiliriz."
   ]
  },
  {
   "cell_type": "code",
   "execution_count": 238,
   "id": "476023fd",
   "metadata": {},
   "outputs": [
    {
     "name": "stdout",
     "output_type": "stream",
     "text": [
      "(4,)\n",
      "(4,)\n"
     ]
    }
   ],
   "source": [
    "a=np.array([1,2,3,4])\n",
    "b=np.array([5,6,7,8])\n",
    "print(a.shape)\n",
    "print(b.shape)"
   ]
  },
  {
   "cell_type": "code",
   "execution_count": 246,
   "id": "df60eeea",
   "metadata": {},
   "outputs": [
    {
     "name": "stdout",
     "output_type": "stream",
     "text": [
      "[[1 2 3 4]\n",
      " [5 6 7 8]]\n",
      "--------\n",
      "(2, 4)\n"
     ]
    }
   ],
   "source": [
    "x=np.stack([a,b])\n",
    "print(x)\n",
    "print('--------')\n",
    "print(x.shape)"
   ]
  },
  {
   "cell_type": "code",
   "execution_count": 242,
   "id": "a8a738c3",
   "metadata": {},
   "outputs": [
    {
     "data": {
      "text/plain": [
       "(2, 4)"
      ]
     },
     "execution_count": 242,
     "metadata": {},
     "output_type": "execute_result"
    }
   ],
   "source": [
    "x.shape"
   ]
  },
  {
   "cell_type": "code",
   "execution_count": 245,
   "id": "1c1949a3",
   "metadata": {},
   "outputs": [
    {
     "name": "stdout",
     "output_type": "stream",
     "text": [
      "[[1 5]\n",
      " [2 6]\n",
      " [3 7]\n",
      " [4 8]]\n",
      "------------\n",
      "(4, 2)\n"
     ]
    }
   ],
   "source": [
    "x=np.stack([a,b],axis=1)\n",
    "print(x)\n",
    "print('------------')\n",
    "print(x.shape)"
   ]
  },
  {
   "cell_type": "markdown",
   "id": "65bbe486",
   "metadata": {},
   "source": [
    "## Splitting"
   ]
  },
  {
   "cell_type": "code",
   "execution_count": 285,
   "id": "6475c8d9",
   "metadata": {},
   "outputs": [
    {
     "data": {
      "text/plain": [
       "[10, 20, 30, 40, 50, 60, 70, 80]"
      ]
     },
     "execution_count": 285,
     "metadata": {},
     "output_type": "execute_result"
    }
   ],
   "source": [
    "l=[10,20,30,40,50,60,70,80]\n",
    "l"
   ]
  },
  {
   "cell_type": "code",
   "execution_count": 286,
   "id": "88d1d2c2",
   "metadata": {},
   "outputs": [
    {
     "data": {
      "text/plain": [
       "[array([10, 20]), array([30, 40, 50, 60]), array([70, 80])]"
      ]
     },
     "execution_count": 286,
     "metadata": {},
     "output_type": "execute_result"
    }
   ],
   "source": [
    "np.split(l,[2,6]) "
   ]
  },
  {
   "cell_type": "markdown",
   "id": "b01e17ee",
   "metadata": {},
   "source": [
    "__Yukaridaki kod 2 ve 6'nin arasina birer centik at ve aralari parcala demek__"
   ]
  },
  {
   "cell_type": "code",
   "execution_count": 287,
   "id": "7d4648e1",
   "metadata": {},
   "outputs": [
    {
     "data": {
      "text/plain": [
       "[array([10, 20, 30]), array([40, 50]), array([60, 70, 80])]"
      ]
     },
     "execution_count": 287,
     "metadata": {},
     "output_type": "execute_result"
    }
   ],
   "source": [
    "np.split(l,[3,5])"
   ]
  },
  {
   "cell_type": "code",
   "execution_count": 288,
   "id": "c086b792",
   "metadata": {},
   "outputs": [
    {
     "data": {
      "text/plain": [
       "[array([10, 20, 30, 40]), array([50, 60, 70, 80])]"
      ]
     },
     "execution_count": 288,
     "metadata": {},
     "output_type": "execute_result"
    }
   ],
   "source": [
    "np.split(l,[4]) # Tek bir noktada belirlenebilir."
   ]
  },
  {
   "cell_type": "markdown",
   "id": "dbcf85f8",
   "metadata": {},
   "source": [
    "__Python listeleri bolunebildigi gibi , Numpy array'lerde bolunebilir__"
   ]
  },
  {
   "cell_type": "code",
   "execution_count": 289,
   "id": "b7ac533a",
   "metadata": {},
   "outputs": [
    {
     "data": {
      "text/plain": [
       "[array([1, 2, 3, 4]), array([5, 6, 7])]"
      ]
     },
     "execution_count": 289,
     "metadata": {},
     "output_type": "execute_result"
    }
   ],
   "source": [
    "a=np.array([1,2,3,4,5,6,7])\n",
    "np.split(a,[4])"
   ]
  },
  {
   "cell_type": "markdown",
   "id": "ae3afd2d",
   "metadata": {},
   "source": [
    "__Multi dimensional arraylerde split__"
   ]
  },
  {
   "cell_type": "code",
   "execution_count": 290,
   "id": "53591d22",
   "metadata": {},
   "outputs": [
    {
     "data": {
      "text/plain": [
       "array([[ 1,  2],\n",
       "       [ 3,  4],\n",
       "       [ 5,  6],\n",
       "       [ 7,  9],\n",
       "       [10, 11]])"
      ]
     },
     "execution_count": 290,
     "metadata": {},
     "output_type": "execute_result"
    }
   ],
   "source": [
    "a=np.array([1,2,3,4,5,6,7,9,10,11]).reshape(5,2)\n",
    "a"
   ]
  },
  {
   "cell_type": "code",
   "execution_count": 291,
   "id": "9d109b4f",
   "metadata": {},
   "outputs": [
    {
     "data": {
      "text/plain": [
       "[array([[1, 2],\n",
       "        [3, 4],\n",
       "        [5, 6]]),\n",
       " array([[ 7,  9],\n",
       "        [10, 11]])]"
      ]
     },
     "execution_count": 291,
     "metadata": {},
     "output_type": "execute_result"
    }
   ],
   "source": [
    "np.split(a,[3]) # 3. satirdan itibaren ayirma yapti dimension'i Bozmadi"
   ]
  },
  {
   "cell_type": "markdown",
   "id": "20f3bffe",
   "metadata": {},
   "source": [
    "__SPLIT ' IN SONUCUNU BIRDEN COK DEGISKENE ESITLEME__"
   ]
  },
  {
   "cell_type": "code",
   "execution_count": 292,
   "id": "abc9039f",
   "metadata": {},
   "outputs": [],
   "source": [
    "a , b = (1, 10)"
   ]
  },
  {
   "cell_type": "code",
   "execution_count": 294,
   "id": "673e5121",
   "metadata": {},
   "outputs": [
    {
     "data": {
      "text/plain": [
       "1"
      ]
     },
     "execution_count": 294,
     "metadata": {},
     "output_type": "execute_result"
    }
   ],
   "source": [
    "a"
   ]
  },
  {
   "cell_type": "code",
   "execution_count": 295,
   "id": "dbf96787",
   "metadata": {},
   "outputs": [
    {
     "data": {
      "text/plain": [
       "10"
      ]
     },
     "execution_count": 295,
     "metadata": {},
     "output_type": "execute_result"
    }
   ],
   "source": [
    "b"
   ]
  },
  {
   "cell_type": "code",
   "execution_count": 296,
   "id": "63423c95",
   "metadata": {},
   "outputs": [],
   "source": [
    "l=l=[10,20,30,40,50,60,70,80]\n",
    "x,y,z = np.split(l,[2,6]) "
   ]
  },
  {
   "cell_type": "code",
   "execution_count": 297,
   "id": "cfb92411",
   "metadata": {},
   "outputs": [
    {
     "data": {
      "text/plain": [
       "array([10, 20])"
      ]
     },
     "execution_count": 297,
     "metadata": {},
     "output_type": "execute_result"
    }
   ],
   "source": [
    "x"
   ]
  },
  {
   "cell_type": "code",
   "execution_count": 298,
   "id": "91593f2a",
   "metadata": {},
   "outputs": [
    {
     "data": {
      "text/plain": [
       "array([30, 40, 50, 60])"
      ]
     },
     "execution_count": 298,
     "metadata": {},
     "output_type": "execute_result"
    }
   ],
   "source": [
    "y"
   ]
  },
  {
   "cell_type": "code",
   "execution_count": 299,
   "id": "7ed6d892",
   "metadata": {},
   "outputs": [
    {
     "data": {
      "text/plain": [
       "array([70, 80])"
      ]
     },
     "execution_count": 299,
     "metadata": {},
     "output_type": "execute_result"
    }
   ],
   "source": [
    "z"
   ]
  },
  {
   "cell_type": "markdown",
   "id": "3bc3e0ff",
   "metadata": {},
   "source": [
    "### vsplit (vertical)"
   ]
  },
  {
   "cell_type": "code",
   "execution_count": 320,
   "id": "ef505c48",
   "metadata": {},
   "outputs": [
    {
     "data": {
      "text/plain": [
       "array([[ 1,  2,  3,  4,  5],\n",
       "       [ 6,  7,  9, 10, 11]])"
      ]
     },
     "execution_count": 320,
     "metadata": {},
     "output_type": "execute_result"
    }
   ],
   "source": [
    "a=np.array([[1,2,3,4,5,6,7,9,10,11]]).reshape(2,5)\n",
    "a"
   ]
  },
  {
   "cell_type": "code",
   "execution_count": 323,
   "id": "13475b7c",
   "metadata": {},
   "outputs": [
    {
     "name": "stdout",
     "output_type": "stream",
     "text": [
      "[[1 2 3 4 5]]\n",
      "[[ 6  7  9 10 11]]\n"
     ]
    }
   ],
   "source": [
    "x,y = np.vsplit(a,[1])\n",
    "print(x)\n",
    "print(y)"
   ]
  },
  {
   "cell_type": "markdown",
   "id": "01fd9a73",
   "metadata": {},
   "source": [
    "### hsplit (horizontal)"
   ]
  },
  {
   "cell_type": "code",
   "execution_count": 342,
   "id": "8905a356",
   "metadata": {},
   "outputs": [
    {
     "data": {
      "text/plain": [
       "array([[ 1,  2,  3,  4,  5],\n",
       "       [ 6,  7,  9, 10, 11]])"
      ]
     },
     "execution_count": 342,
     "metadata": {},
     "output_type": "execute_result"
    }
   ],
   "source": [
    "a=np.array([1,2,3,4,5,6,7,9,10,11]).reshape(2,5)\n",
    "a"
   ]
  },
  {
   "cell_type": "code",
   "execution_count": 354,
   "id": "000f39c0",
   "metadata": {},
   "outputs": [
    {
     "data": {
      "text/plain": [
       "array([[1],\n",
       "       [6]])"
      ]
     },
     "execution_count": 354,
     "metadata": {},
     "output_type": "execute_result"
    }
   ],
   "source": [
    "np.hsplit(a,[1,3])[0]"
   ]
  },
  {
   "cell_type": "code",
   "execution_count": 355,
   "id": "975048f1",
   "metadata": {},
   "outputs": [
    {
     "data": {
      "text/plain": [
       "array([[2, 3],\n",
       "       [7, 9]])"
      ]
     },
     "execution_count": 355,
     "metadata": {},
     "output_type": "execute_result"
    }
   ],
   "source": [
    "np.hsplit(a,[1,3])[1]"
   ]
  },
  {
   "cell_type": "code",
   "execution_count": 356,
   "id": "425d5fc9",
   "metadata": {},
   "outputs": [
    {
     "data": {
      "text/plain": [
       "array([[ 4,  5],\n",
       "       [10, 11]])"
      ]
     },
     "execution_count": 356,
     "metadata": {},
     "output_type": "execute_result"
    }
   ],
   "source": [
    "np.hsplit(a,[1,3])[2]"
   ]
  },
  {
   "cell_type": "code",
   "execution_count": 359,
   "id": "0c38cb5d",
   "metadata": {},
   "outputs": [
    {
     "data": {
      "text/plain": [
       "array([[ 0,  1,  2,  3],\n",
       "       [ 4,  5,  6,  7],\n",
       "       [ 8,  9, 10, 11],\n",
       "       [12, 13, 14, 15],\n",
       "       [16, 17, 18, 19]])"
      ]
     },
     "execution_count": 359,
     "metadata": {},
     "output_type": "execute_result"
    }
   ],
   "source": [
    "a=np.arange(20).reshape(5,4)\n",
    "a"
   ]
  },
  {
   "cell_type": "code",
   "execution_count": 360,
   "id": "26f319a9",
   "metadata": {},
   "outputs": [
    {
     "data": {
      "text/plain": [
       "[array([[0, 1, 2, 3],\n",
       "        [4, 5, 6, 7]]),\n",
       " array([[ 8,  9, 10, 11]]),\n",
       " array([[12, 13, 14, 15],\n",
       "        [16, 17, 18, 19]])]"
      ]
     },
     "execution_count": 360,
     "metadata": {},
     "output_type": "execute_result"
    }
   ],
   "source": [
    "np.vsplit(a,[2,3]) "
   ]
  },
  {
   "cell_type": "markdown",
   "id": "2f35baff",
   "metadata": {},
   "source": [
    "## Sorting"
   ]
  },
  {
   "cell_type": "code",
   "execution_count": 4,
   "id": "e6404a2e",
   "metadata": {},
   "outputs": [
    {
     "data": {
      "text/plain": [
       "array([ 5, 22, 23, 30, 41, 45, 56, 87])"
      ]
     },
     "execution_count": 4,
     "metadata": {},
     "output_type": "execute_result"
    }
   ],
   "source": [
    "import numpy as np\n",
    "a = np.array([30,22,5,41,23,45,87,56])\n",
    "np.sort(a)"
   ]
  },
  {
   "cell_type": "code",
   "execution_count": 6,
   "id": "179f3689",
   "metadata": {},
   "outputs": [
    {
     "data": {
      "text/plain": [
       "array([30, 22,  5, 41, 23, 45, 87, 56])"
      ]
     },
     "execution_count": 6,
     "metadata": {},
     "output_type": "execute_result"
    }
   ],
   "source": [
    "a # o halde np.sort() a yi guncellemedi"
   ]
  },
  {
   "cell_type": "code",
   "execution_count": 7,
   "id": "31736eb9",
   "metadata": {},
   "outputs": [],
   "source": [
    "a=np.sort(a)"
   ]
  },
  {
   "cell_type": "code",
   "execution_count": 9,
   "id": "8e28bdb3",
   "metadata": {},
   "outputs": [
    {
     "data": {
      "text/plain": [
       "array([ 5, 22, 23, 30, 41, 45, 56, 87])"
      ]
     },
     "execution_count": 9,
     "metadata": {},
     "output_type": "execute_result"
    }
   ],
   "source": [
    "a # Bu sekilde guncelleme yapilabilir."
   ]
  },
  {
   "cell_type": "code",
   "execution_count": 12,
   "id": "9d8f4398",
   "metadata": {},
   "outputs": [],
   "source": [
    "a = np.array([30,22,5,41,23,45,87,56])\n",
    "a.sort()"
   ]
  },
  {
   "cell_type": "code",
   "execution_count": 14,
   "id": "74daa477",
   "metadata": {},
   "outputs": [
    {
     "data": {
      "text/plain": [
       "array([ 5, 22, 23, 30, 41, 45, 56, 87])"
      ]
     },
     "execution_count": 14,
     "metadata": {},
     "output_type": "execute_result"
    }
   ],
   "source": [
    "a # o halde a=np.sort(a)  == a.sort()"
   ]
  },
  {
   "cell_type": "markdown",
   "id": "26b25d91",
   "metadata": {},
   "source": [
    "### argsort()"
   ]
  },
  {
   "cell_type": "code",
   "execution_count": 15,
   "id": "46d01d00",
   "metadata": {},
   "outputs": [
    {
     "data": {
      "text/plain": [
       "array([1, 3, 4, 2, 5, 6, 0, 7])"
      ]
     },
     "execution_count": 15,
     "metadata": {},
     "output_type": "execute_result"
    }
   ],
   "source": [
    "a = np.array([7,1,4,2,3,5,6,9])\n",
    "np.argsort(a)"
   ]
  },
  {
   "cell_type": "markdown",
   "id": "19c69af1",
   "metadata": {},
   "source": [
    "__siralanmis halinin indexlerini array icerisinde dondurur.__"
   ]
  },
  {
   "cell_type": "markdown",
   "id": "182f4ddf",
   "metadata": {},
   "source": [
    "## Indexing "
   ]
  },
  {
   "cell_type": "code",
   "execution_count": 17,
   "id": "df84277e",
   "metadata": {},
   "outputs": [
    {
     "data": {
      "text/plain": [
       "array([[ 1,  2,  3,  4,  5],\n",
       "       [ 6,  7,  8,  9, 10],\n",
       "       [11, 12, 13, 14, 15],\n",
       "       [16, 17, 18, 19, 20]])"
      ]
     },
     "execution_count": 17,
     "metadata": {},
     "output_type": "execute_result"
    }
   ],
   "source": [
    "a = np.arange(1,21).reshape(4,5)\n",
    "a"
   ]
  },
  {
   "cell_type": "code",
   "execution_count": 19,
   "id": "c91bedba",
   "metadata": {},
   "outputs": [
    {
     "data": {
      "text/plain": [
       "(array([1, 2, 3, 4, 5]), array([ 6,  7,  8,  9, 10]))"
      ]
     },
     "execution_count": 19,
     "metadata": {},
     "output_type": "execute_result"
    }
   ],
   "source": [
    "a[0],a[1]"
   ]
  },
  {
   "cell_type": "code",
   "execution_count": 20,
   "id": "46bf629c",
   "metadata": {},
   "outputs": [
    {
     "data": {
      "text/plain": [
       "1"
      ]
     },
     "execution_count": 20,
     "metadata": {},
     "output_type": "execute_result"
    }
   ],
   "source": [
    "a[0,0]"
   ]
  },
  {
   "cell_type": "code",
   "execution_count": 21,
   "id": "5cff2b20",
   "metadata": {},
   "outputs": [
    {
     "data": {
      "text/plain": [
       "1"
      ]
     },
     "execution_count": 21,
     "metadata": {},
     "output_type": "execute_result"
    }
   ],
   "source": [
    "a[0][0]"
   ]
  },
  {
   "cell_type": "code",
   "execution_count": 23,
   "id": "769cd6e5",
   "metadata": {},
   "outputs": [
    {
     "data": {
      "text/plain": [
       "1"
      ]
     },
     "execution_count": 23,
     "metadata": {},
     "output_type": "execute_result"
    }
   ],
   "source": [
    "a[0].ndim"
   ]
  },
  {
   "cell_type": "code",
   "execution_count": 24,
   "id": "dd79e090",
   "metadata": {},
   "outputs": [],
   "source": [
    "a[1,1]=10"
   ]
  },
  {
   "cell_type": "code",
   "execution_count": 26,
   "id": "934e98e4",
   "metadata": {},
   "outputs": [
    {
     "data": {
      "text/plain": [
       "array([[ 1,  2,  3,  4,  5],\n",
       "       [ 6, 10,  8,  9, 10],\n",
       "       [11, 12, 13, 14, 15],\n",
       "       [16, 17, 18, 19, 20]])"
      ]
     },
     "execution_count": 26,
     "metadata": {},
     "output_type": "execute_result"
    }
   ],
   "source": [
    "a"
   ]
  },
  {
   "cell_type": "code",
   "execution_count": 27,
   "id": "5553b9a8",
   "metadata": {},
   "outputs": [
    {
     "data": {
      "text/plain": [
       "array([[ 1,  2, 23,  4,  5],\n",
       "       [ 6, 10,  8,  9, 10],\n",
       "       [11, 12, 13, 14, 15],\n",
       "       [16, 17, 18, 19, 20]])"
      ]
     },
     "execution_count": 27,
     "metadata": {},
     "output_type": "execute_result"
    }
   ],
   "source": [
    "a[0][2]=23.5\n",
    "a"
   ]
  },
  {
   "cell_type": "markdown",
   "id": "40088dba",
   "metadata": {},
   "source": [
    "### Slice indexing"
   ]
  },
  {
   "cell_type": "code",
   "execution_count": 28,
   "id": "fce63ce6",
   "metadata": {},
   "outputs": [],
   "source": [
    "a=np.arange(1,21).reshape(4,5)"
   ]
  },
  {
   "cell_type": "code",
   "execution_count": 29,
   "id": "a6475937",
   "metadata": {},
   "outputs": [
    {
     "data": {
      "text/plain": [
       "4"
      ]
     },
     "execution_count": 29,
     "metadata": {},
     "output_type": "execute_result"
    }
   ],
   "source": [
    "a[0,3]"
   ]
  },
  {
   "cell_type": "code",
   "execution_count": 30,
   "id": "1673f7cb",
   "metadata": {},
   "outputs": [
    {
     "data": {
      "text/plain": [
       "array([[ 1,  2,  3,  4,  5],\n",
       "       [ 6,  7,  8,  9, 10],\n",
       "       [11, 12, 13, 14, 15]])"
      ]
     },
     "execution_count": 30,
     "metadata": {},
     "output_type": "execute_result"
    }
   ],
   "source": [
    "a[0:3]"
   ]
  },
  {
   "cell_type": "code",
   "execution_count": 33,
   "id": "d96738ad",
   "metadata": {},
   "outputs": [
    {
     "data": {
      "text/plain": [
       "array([[ 1,  2,  3,  4,  5],\n",
       "       [ 6,  7,  8,  9, 10]])"
      ]
     },
     "execution_count": 33,
     "metadata": {},
     "output_type": "execute_result"
    }
   ],
   "source": [
    "a[:2] # birsey belli etmessek 0 olarak alir"
   ]
  },
  {
   "cell_type": "code",
   "execution_count": 34,
   "id": "5e9b23dd",
   "metadata": {},
   "outputs": [
    {
     "data": {
      "text/plain": [
       "array([[ 1,  2,  3,  4,  5],\n",
       "       [ 6,  7,  8,  9, 10],\n",
       "       [11, 12, 13, 14, 15],\n",
       "       [16, 17, 18, 19, 20]])"
      ]
     },
     "execution_count": 34,
     "metadata": {},
     "output_type": "execute_result"
    }
   ],
   "source": [
    "a[0:]"
   ]
  },
  {
   "cell_type": "code",
   "execution_count": 36,
   "id": "dd193c8d",
   "metadata": {},
   "outputs": [
    {
     "data": {
      "text/plain": [
       "array([[ 1,  2,  3,  4,  5],\n",
       "       [11, 12, 13, 14, 15]])"
      ]
     },
     "execution_count": 36,
     "metadata": {},
     "output_type": "execute_result"
    }
   ],
   "source": [
    "a[::2] # bastan sonra 2ser atla"
   ]
  },
  {
   "cell_type": "code",
   "execution_count": 61,
   "id": "c1fcde67",
   "metadata": {},
   "outputs": [
    {
     "data": {
      "text/plain": [
       "array([[5, 6, 7, 8]])"
      ]
     },
     "execution_count": 61,
     "metadata": {},
     "output_type": "execute_result"
    }
   ],
   "source": [
    "a[1::2] # 2 yine step oldu"
   ]
  },
  {
   "cell_type": "code",
   "execution_count": 41,
   "id": "fdc3040f",
   "metadata": {},
   "outputs": [
    {
     "data": {
      "text/plain": [
       "array([ 4,  9, 14, 19])"
      ]
     },
     "execution_count": 41,
     "metadata": {},
     "output_type": "execute_result"
    }
   ],
   "source": [
    "a[:,3] # Tum rowlar fakat 3. indexdekileri al"
   ]
  },
  {
   "cell_type": "code",
   "execution_count": 43,
   "id": "f4bdcdcd",
   "metadata": {},
   "outputs": [
    {
     "data": {
      "text/plain": [
       "array([ 4, 14])"
      ]
     },
     "execution_count": 43,
     "metadata": {},
     "output_type": "execute_result"
    }
   ],
   "source": [
    "a[::2,3] # Bastan sona 2 ser atlayarak 3. indexleri al"
   ]
  },
  {
   "cell_type": "code",
   "execution_count": 44,
   "id": "b9b58e44",
   "metadata": {},
   "outputs": [
    {
     "data": {
      "text/plain": [
       "14"
      ]
     },
     "execution_count": 44,
     "metadata": {},
     "output_type": "execute_result"
    }
   ],
   "source": [
    "a[2,3]"
   ]
  },
  {
   "cell_type": "code",
   "execution_count": 51,
   "id": "a110d4ae",
   "metadata": {},
   "outputs": [
    {
     "data": {
      "text/plain": [
       "array([[1, 2, 3],\n",
       "       [6, 7, 8]])"
      ]
     },
     "execution_count": 51,
     "metadata": {},
     "output_type": "execute_result"
    }
   ],
   "source": [
    "a[:2,:3]"
   ]
  },
  {
   "cell_type": "code",
   "execution_count": 50,
   "id": "f3ddea5b",
   "metadata": {},
   "outputs": [
    {
     "data": {
      "text/plain": [
       "array([[1, 2, 3],\n",
       "       [6, 7, 8]])"
      ]
     },
     "execution_count": 50,
     "metadata": {},
     "output_type": "execute_result"
    }
   ],
   "source": [
    "a[0:2,0:3]"
   ]
  },
  {
   "cell_type": "code",
   "execution_count": 52,
   "id": "2aa706cb",
   "metadata": {},
   "outputs": [
    {
     "data": {
      "text/plain": [
       "array([[ 1,  2,  3,  4],\n",
       "       [ 6,  7,  8,  9],\n",
       "       [11, 12, 13, 14],\n",
       "       [16, 17, 18, 19]])"
      ]
     },
     "execution_count": 52,
     "metadata": {},
     "output_type": "execute_result"
    }
   ],
   "source": [
    "a[::,:4]"
   ]
  },
  {
   "cell_type": "code",
   "execution_count": 53,
   "id": "2a841386",
   "metadata": {},
   "outputs": [
    {
     "data": {
      "text/plain": [
       "array([[ 5],\n",
       "       [10],\n",
       "       [15],\n",
       "       [20]])"
      ]
     },
     "execution_count": 53,
     "metadata": {},
     "output_type": "execute_result"
    }
   ],
   "source": [
    "a[::,4:]"
   ]
  },
  {
   "cell_type": "markdown",
   "id": "79848965",
   "metadata": {},
   "source": [
    "ORNEK\n",
    "```\n",
    "a=np.arange(1,13).reshape(3,4)\n",
    "```\n",
    "```\n",
    "array([[ 1, 2, 3, 4],[ 9, 10, 11, 12]]) Bunu Dondurmek istiyoruz\n",
    "```\n"
   ]
  },
  {
   "cell_type": "code",
   "execution_count": 55,
   "id": "891edb13",
   "metadata": {},
   "outputs": [
    {
     "data": {
      "text/plain": [
       "array([[ 1,  2,  3,  4],\n",
       "       [ 5,  6,  7,  8],\n",
       "       [ 9, 10, 11, 12]])"
      ]
     },
     "execution_count": 55,
     "metadata": {},
     "output_type": "execute_result"
    }
   ],
   "source": [
    "a=np.arange(1,13).reshape(3,4)\n",
    "a"
   ]
  },
  {
   "cell_type": "code",
   "execution_count": 57,
   "id": "f9a511ef",
   "metadata": {},
   "outputs": [
    {
     "data": {
      "text/plain": [
       "array([[ 4],\n",
       "       [12]])"
      ]
     },
     "execution_count": 57,
     "metadata": {},
     "output_type": "execute_result"
    }
   ],
   "source": [
    "a[::2]"
   ]
  },
  {
   "cell_type": "code",
   "execution_count": 59,
   "id": "bcbb7cee",
   "metadata": {},
   "outputs": [
    {
     "data": {
      "text/plain": [
       "array([[ 3,  4],\n",
       "       [11, 12]])"
      ]
     },
     "execution_count": 59,
     "metadata": {},
     "output_type": "execute_result"
    }
   ],
   "source": [
    "a[::2,2:4]"
   ]
  },
  {
   "cell_type": "markdown",
   "id": "ca7c7109",
   "metadata": {},
   "source": [
    "### Fancy Indexing\n",
    "Simdiye kadar , hep belirli elemanlari , belirli kesitteki elemanlari veya belirli elemanlari atlaya atlaya aldik.Fancy indexing ile birkac tane belirli indexteki elemani bana dondur demis olacagiz. "
   ]
  },
  {
   "cell_type": "code",
   "execution_count": 68,
   "id": "e324ca2e",
   "metadata": {},
   "outputs": [
    {
     "data": {
      "text/plain": [
       "array([ 1,  2,  3,  4,  5,  6,  7,  8,  9, 10, 11, 12, 13, 14])"
      ]
     },
     "execution_count": 68,
     "metadata": {},
     "output_type": "execute_result"
    }
   ],
   "source": [
    "x=np.arange(1,15)\n",
    "x"
   ]
  },
  {
   "cell_type": "code",
   "execution_count": 66,
   "id": "3a720664",
   "metadata": {},
   "outputs": [],
   "source": [
    "indx=[0,3,4,5,9]"
   ]
  },
  {
   "cell_type": "code",
   "execution_count": 67,
   "id": "d9f77e0e",
   "metadata": {},
   "outputs": [
    {
     "data": {
      "text/plain": [
       "array([ 1,  4,  5,  6, 10])"
      ]
     },
     "execution_count": 67,
     "metadata": {},
     "output_type": "execute_result"
    }
   ],
   "source": [
    "x[indx]"
   ]
  },
  {
   "cell_type": "code",
   "execution_count": 70,
   "id": "3adbe059",
   "metadata": {},
   "outputs": [
    {
     "data": {
      "text/plain": [
       "array([[ 0,  1,  2,  3],\n",
       "       [ 4,  5,  6,  7],\n",
       "       [ 8,  9, 10, 11]])"
      ]
     },
     "execution_count": 70,
     "metadata": {},
     "output_type": "execute_result"
    }
   ],
   "source": [
    "a=np.arange(12).reshape(3,4)\n",
    "a"
   ]
  },
  {
   "cell_type": "code",
   "execution_count": 81,
   "id": "a3aa738e",
   "metadata": {},
   "outputs": [
    {
     "data": {
      "text/plain": [
       "array([[ 1,  2],\n",
       "       [ 5,  6],\n",
       "       [ 9, 10]])"
      ]
     },
     "execution_count": 81,
     "metadata": {},
     "output_type": "execute_result"
    }
   ],
   "source": [
    "a[0:,1:3]"
   ]
  },
  {
   "cell_type": "code",
   "execution_count": 83,
   "id": "e3028ab3",
   "metadata": {},
   "outputs": [
    {
     "data": {
      "text/plain": [
       "(3, 2)"
      ]
     },
     "execution_count": 83,
     "metadata": {},
     "output_type": "execute_result"
    }
   ],
   "source": [
    "a[0:,1:3].shape"
   ]
  },
  {
   "cell_type": "code",
   "execution_count": 79,
   "id": "21816ee5",
   "metadata": {},
   "outputs": [
    {
     "data": {
      "text/plain": [
       "array([[ 1,  3],\n",
       "       [ 5,  7],\n",
       "       [ 9, 11]])"
      ]
     },
     "execution_count": 79,
     "metadata": {},
     "output_type": "execute_result"
    }
   ],
   "source": [
    "a[0:,[1,3]]"
   ]
  },
  {
   "cell_type": "code",
   "execution_count": 80,
   "id": "b9d86e78",
   "metadata": {},
   "outputs": [
    {
     "data": {
      "text/plain": [
       "(3, 2)"
      ]
     },
     "execution_count": 80,
     "metadata": {},
     "output_type": "execute_result"
    }
   ],
   "source": [
    "a[0:,[1,3]].shape"
   ]
  },
  {
   "cell_type": "code",
   "execution_count": 85,
   "id": "d5f52846",
   "metadata": {},
   "outputs": [
    {
     "data": {
      "text/plain": [
       "array([[ 0,  1,  2,  3,  4],\n",
       "       [ 5,  6,  7,  8,  9],\n",
       "       [10, 11, 12, 13, 14],\n",
       "       [15, 16, 17, 18, 19]])"
      ]
     },
     "execution_count": 85,
     "metadata": {},
     "output_type": "execute_result"
    }
   ],
   "source": [
    "a=np.arange(20).reshape(4,5)\n",
    "a"
   ]
  },
  {
   "cell_type": "code",
   "execution_count": 89,
   "id": "a67d3b0a",
   "metadata": {},
   "outputs": [
    {
     "data": {
      "text/plain": [
       "array([ 8, 15, 12])"
      ]
     },
     "execution_count": 89,
     "metadata": {},
     "output_type": "execute_result"
    }
   ],
   "source": [
    "indx1=[1,3,2] # Row\n",
    "indx2=[3,0,2] # Couloumb\n",
    "a[indx1,indx2] #1. row 3. columb | 3. row 0. Column | 2.row 2.column - Kesistir demek"
   ]
  },
  {
   "cell_type": "markdown",
   "id": "c8d89b2f",
   "metadata": {},
   "source": [
    "__Fancy indexing sonucunu belirli index'e esitlemek__"
   ]
  },
  {
   "cell_type": "code",
   "execution_count": 99,
   "id": "a178c9d9",
   "metadata": {},
   "outputs": [
    {
     "data": {
      "text/plain": [
       "array([2, 4, 3])"
      ]
     },
     "execution_count": 99,
     "metadata": {},
     "output_type": "execute_result"
    }
   ],
   "source": [
    "a=np.array([1,2,3,4,5,6,7])\n",
    "indx=[1,3,2]\n",
    "a[indx]"
   ]
  },
  {
   "cell_type": "code",
   "execution_count": 102,
   "id": "5fb9d959",
   "metadata": {},
   "outputs": [],
   "source": [
    "a[indx]=[10,20,30] # 1. INDEXI 10 A 3. INDEXI 20 YE 2. INDEXI 30 A ESITLE"
   ]
  },
  {
   "cell_type": "code",
   "execution_count": 103,
   "id": "5a38efe6",
   "metadata": {},
   "outputs": [
    {
     "data": {
      "text/plain": [
       "array([ 1, 10, 30, 20,  5,  6,  7])"
      ]
     },
     "execution_count": 103,
     "metadata": {},
     "output_type": "execute_result"
    }
   ],
   "source": [
    "a"
   ]
  },
  {
   "cell_type": "markdown",
   "id": "c4aaf258",
   "metadata": {},
   "source": [
    "## Subarray"
   ]
  },
  {
   "cell_type": "code",
   "execution_count": 104,
   "id": "6aacc513",
   "metadata": {},
   "outputs": [
    {
     "data": {
      "text/plain": [
       "array([[ 1,  2,  3,  4,  5],\n",
       "       [ 6,  7,  8,  9, 10],\n",
       "       [11, 12, 13, 14, 15],\n",
       "       [16, 17, 18, 19, 20]])"
      ]
     },
     "execution_count": 104,
     "metadata": {},
     "output_type": "execute_result"
    }
   ],
   "source": [
    "a = np.arange(1,21).reshape(4,5)\n",
    "a"
   ]
  },
  {
   "cell_type": "code",
   "execution_count": 130,
   "id": "23253ca7",
   "metadata": {},
   "outputs": [],
   "source": [
    "b=a[:2,:3]"
   ]
  },
  {
   "cell_type": "code",
   "execution_count": 131,
   "id": "58cf7e3d",
   "metadata": {},
   "outputs": [],
   "source": [
    "b[0,0]=100"
   ]
  },
  {
   "cell_type": "code",
   "execution_count": 140,
   "id": "2ecdb67b",
   "metadata": {},
   "outputs": [
    {
     "data": {
      "text/plain": [
       "array([[ 1,  2,  3],\n",
       "       [ 6,  7,  8],\n",
       "       [11, 12, 13],\n",
       "       [16, 17, 18]])"
      ]
     },
     "execution_count": 140,
     "metadata": {},
     "output_type": "execute_result"
    }
   ],
   "source": [
    "b"
   ]
  },
  {
   "cell_type": "code",
   "execution_count": 141,
   "id": "3e9edfb8",
   "metadata": {},
   "outputs": [
    {
     "data": {
      "text/plain": [
       "array([[ 1,  2,  3,  4,  5],\n",
       "       [ 6,  7,  8,  9, 10],\n",
       "       [11, 12, 13, 14, 15],\n",
       "       [16, 17, 18, 19, 20]])"
      ]
     },
     "execution_count": 141,
     "metadata": {},
     "output_type": "execute_result"
    }
   ],
   "source": [
    "a"
   ]
  },
  {
   "cell_type": "markdown",
   "id": "85b64770",
   "metadata": {},
   "source": [
    "__a array'i de guncellendi__  \n",
    "__bunu engellemek icin;__"
   ]
  },
  {
   "cell_type": "markdown",
   "id": "6dd7c7b8",
   "metadata": {},
   "source": [
    "### copy()\n"
   ]
  },
  {
   "cell_type": "code",
   "execution_count": 142,
   "id": "98d69c16",
   "metadata": {},
   "outputs": [
    {
     "data": {
      "text/plain": [
       "array([[ 1,  2,  3,  4,  5],\n",
       "       [ 6,  7,  8,  9, 10],\n",
       "       [11, 12, 13, 14, 15],\n",
       "       [16, 17, 18, 19, 20]])"
      ]
     },
     "execution_count": 142,
     "metadata": {},
     "output_type": "execute_result"
    }
   ],
   "source": [
    "a = np.arange(1,21).reshape(4,5)\n",
    "a"
   ]
  },
  {
   "cell_type": "code",
   "execution_count": 143,
   "id": "6fb7473b",
   "metadata": {},
   "outputs": [],
   "source": [
    "b=a[::,:3].copy()"
   ]
  },
  {
   "cell_type": "code",
   "execution_count": 144,
   "id": "4eaa65b4",
   "metadata": {},
   "outputs": [
    {
     "data": {
      "text/plain": [
       "array([[ 1,  2,  3],\n",
       "       [ 6,  7,  8],\n",
       "       [11, 12, 13],\n",
       "       [16, 17, 18]])"
      ]
     },
     "execution_count": 144,
     "metadata": {},
     "output_type": "execute_result"
    }
   ],
   "source": [
    "b"
   ]
  },
  {
   "cell_type": "code",
   "execution_count": 145,
   "id": "10b54b8c",
   "metadata": {},
   "outputs": [
    {
     "data": {
      "text/plain": [
       "array([[ 1,  2,  3,  4,  5],\n",
       "       [ 6,  7,  8,  9, 10],\n",
       "       [11, 12, 13, 14, 15],\n",
       "       [16, 17, 18, 19, 20]])"
      ]
     },
     "execution_count": 145,
     "metadata": {},
     "output_type": "execute_result"
    }
   ],
   "source": [
    "a"
   ]
  },
  {
   "cell_type": "markdown",
   "id": "c32ace4f",
   "metadata": {},
   "source": [
    "##  Conditional Indexin / (filter)"
   ]
  },
  {
   "cell_type": "code",
   "execution_count": 150,
   "id": "ecd1958d",
   "metadata": {},
   "outputs": [],
   "source": [
    "a=np.arange(1,10)"
   ]
  },
  {
   "cell_type": "code",
   "execution_count": 151,
   "id": "b4f1b675",
   "metadata": {},
   "outputs": [
    {
     "data": {
      "text/plain": [
       "array([ True,  True,  True,  True, False, False, False, False, False])"
      ]
     },
     "execution_count": 151,
     "metadata": {},
     "output_type": "execute_result"
    }
   ],
   "source": [
    "a < 5 # 5 den kucuk degerleri getir."
   ]
  },
  {
   "cell_type": "code",
   "execution_count": 154,
   "id": "7afd6e1b",
   "metadata": {},
   "outputs": [
    {
     "data": {
      "text/plain": [
       "array([1, 2, 3, 4])"
      ]
     },
     "execution_count": 154,
     "metadata": {},
     "output_type": "execute_result"
    }
   ],
   "source": [
    "a[a<5] # Yukarda true olan degerleri dondur."
   ]
  },
  {
   "cell_type": "code",
   "execution_count": 155,
   "id": "9c6a98dc",
   "metadata": {},
   "outputs": [],
   "source": [
    "flt= a < 3"
   ]
  },
  {
   "cell_type": "code",
   "execution_count": 156,
   "id": "d46a38a7",
   "metadata": {},
   "outputs": [
    {
     "data": {
      "text/plain": [
       "array([1, 2])"
      ]
     },
     "execution_count": 156,
     "metadata": {},
     "output_type": "execute_result"
    }
   ],
   "source": [
    "a[flt]"
   ]
  },
  {
   "cell_type": "code",
   "execution_count": 170,
   "id": "a1d56c16",
   "metadata": {},
   "outputs": [
    {
     "data": {
      "text/plain": [
       "(array([1, 2, 3, 4, 5, 6, 7, 8, 9]),\n",
       " array([ 2,  3,  3,  4,  5, 61,  7,  8, 11]))"
      ]
     },
     "execution_count": 170,
     "metadata": {},
     "output_type": "execute_result"
    }
   ],
   "source": [
    "a=np.array([1,2,3,4,5,6,7,8,9])\n",
    "b=np.array([2,3,3,4,5,61,7,8,11])\n",
    "a,b"
   ]
  },
  {
   "cell_type": "code",
   "execution_count": 171,
   "id": "9aec3045",
   "metadata": {},
   "outputs": [
    {
     "data": {
      "text/plain": [
       "(9, 9)"
      ]
     },
     "execution_count": 171,
     "metadata": {},
     "output_type": "execute_result"
    }
   ],
   "source": [
    "a.size,b.size"
   ]
  },
  {
   "cell_type": "code",
   "execution_count": 172,
   "id": "d729594c",
   "metadata": {},
   "outputs": [
    {
     "data": {
      "text/plain": [
       "array([False, False,  True,  True,  True, False,  True,  True, False])"
      ]
     },
     "execution_count": 172,
     "metadata": {},
     "output_type": "execute_result"
    }
   ],
   "source": [
    "a == b "
   ]
  },
  {
   "cell_type": "code",
   "execution_count": 174,
   "id": "d2986836",
   "metadata": {},
   "outputs": [
    {
     "data": {
      "text/plain": [
       "array([3, 4, 5, 7, 8])"
      ]
     },
     "execution_count": 174,
     "metadata": {},
     "output_type": "execute_result"
    }
   ],
   "source": [
    "a[a==b] # asadaki ile ayni"
   ]
  },
  {
   "cell_type": "code",
   "execution_count": 176,
   "id": "72111d01",
   "metadata": {},
   "outputs": [
    {
     "data": {
      "text/plain": [
       "array([3, 4, 5, 7, 8])"
      ]
     },
     "execution_count": 176,
     "metadata": {},
     "output_type": "execute_result"
    }
   ],
   "source": [
    "b[a==b] # Ayni indexde ayni deger var ise true"
   ]
  },
  {
   "cell_type": "markdown",
   "id": "ebf0ad8d",
   "metadata": {},
   "source": [
    "__Brodcasting__"
   ]
  },
  {
   "cell_type": "code",
   "execution_count": 177,
   "id": "0da9536c",
   "metadata": {},
   "outputs": [
    {
     "data": {
      "text/plain": [
       "array([ True, False, False, False, False, False, False, False, False])"
      ]
     },
     "execution_count": 177,
     "metadata": {},
     "output_type": "execute_result"
    }
   ],
   "source": [
    "a == 1"
   ]
  },
  {
   "cell_type": "code",
   "execution_count": 179,
   "id": "63a58ff9",
   "metadata": {},
   "outputs": [
    {
     "ename": "ValueError",
     "evalue": "The truth value of an array with more than one element is ambiguous. Use a.any() or a.all()",
     "output_type": "error",
     "traceback": [
      "\u001b[0;31m---------------------------------------------------------------------------\u001b[0m",
      "\u001b[0;31mValueError\u001b[0m                                Traceback (most recent call last)",
      "\u001b[0;32m<ipython-input-179-a3cb4cd78495>\u001b[0m in \u001b[0;36m<module>\u001b[0;34m\u001b[0m\n\u001b[0;32m----> 1\u001b[0;31m \u001b[0ma\u001b[0m \u001b[0;34m<\u001b[0m \u001b[0;36m3\u001b[0m \u001b[0;32mor\u001b[0m \u001b[0ma\u001b[0m \u001b[0;34m>\u001b[0m \u001b[0;36m5\u001b[0m  \u001b[0;31m# Bunu numpy arraylerde kullanamiyoruz.\u001b[0m\u001b[0;34m\u001b[0m\u001b[0;34m\u001b[0m\u001b[0m\n\u001b[0m",
      "\u001b[0;31mValueError\u001b[0m: The truth value of an array with more than one element is ambiguous. Use a.any() or a.all()"
     ]
    }
   ],
   "source": [
    "a < 3 or a > 5  # Bunu numpy arraylerde kullanamiyoruz."
   ]
  },
  {
   "cell_type": "code",
   "execution_count": 184,
   "id": "3b74ff0c",
   "metadata": {},
   "outputs": [
    {
     "data": {
      "text/plain": [
       "array([ True,  True, False, False, False,  True,  True,  True,  True])"
      ]
     },
     "execution_count": 184,
     "metadata": {},
     "output_type": "execute_result"
    }
   ],
   "source": [
    "(a < 3) | (a > 5) # 3 den kucuk veya 5 den buyuk ise True"
   ]
  },
  {
   "cell_type": "code",
   "execution_count": 185,
   "id": "985ae0e9",
   "metadata": {},
   "outputs": [
    {
     "data": {
      "text/plain": [
       "array([False, False, False, False, False, False, False, False, False])"
      ]
     },
     "execution_count": 185,
     "metadata": {},
     "output_type": "execute_result"
    }
   ],
   "source": [
    "(a < 3) & (a > 5)"
   ]
  },
  {
   "cell_type": "markdown",
   "id": "9eba5ed0",
   "metadata": {},
   "source": [
    "__Multidimensional arraylerde filtreleme__\n"
   ]
  },
  {
   "cell_type": "code",
   "execution_count": 193,
   "id": "6234e9d0",
   "metadata": {},
   "outputs": [],
   "source": [
    "a=np.arange(0,20).reshape(4,5)"
   ]
  },
  {
   "cell_type": "code",
   "execution_count": 195,
   "id": "7470bf74",
   "metadata": {},
   "outputs": [
    {
     "data": {
      "text/plain": [
       "array([0, 1, 2, 3, 4, 5, 6])"
      ]
     },
     "execution_count": 195,
     "metadata": {},
     "output_type": "execute_result"
    }
   ],
   "source": [
    "a[a<7]"
   ]
  },
  {
   "cell_type": "code",
   "execution_count": 196,
   "id": "e89ff6cb",
   "metadata": {},
   "outputs": [
    {
     "data": {
      "text/plain": [
       "array([[ True,  True,  True,  True,  True],\n",
       "       [ True,  True, False, False, False],\n",
       "       [False, False, False, False, False],\n",
       "       [False, False, False, False, False]])"
      ]
     },
     "execution_count": 196,
     "metadata": {},
     "output_type": "execute_result"
    }
   ],
   "source": [
    "a < 7 "
   ]
  },
  {
   "cell_type": "markdown",
   "id": "6628a326",
   "metadata": {},
   "source": [
    "__SORU__\n",
    "```\n",
    "a=np.arange(-5,3).reshape(2,4)\n",
    "\n",
    "Aşağıdakilerden hangisi 0’dan küçük veya 2’ye eşit array değerlerini döndürür?\n",
    "```"
   ]
  },
  {
   "cell_type": "code",
   "execution_count": 198,
   "id": "2199490b",
   "metadata": {},
   "outputs": [
    {
     "data": {
      "text/plain": [
       "array([[-5, -4, -3, -2],\n",
       "       [-1,  0,  1,  2]])"
      ]
     },
     "execution_count": 198,
     "metadata": {},
     "output_type": "execute_result"
    }
   ],
   "source": [
    "a=np.arange(-5,3).reshape(2,4)\n",
    "a"
   ]
  },
  {
   "cell_type": "code",
   "execution_count": 201,
   "id": "c59931f5",
   "metadata": {},
   "outputs": [
    {
     "data": {
      "text/plain": [
       "array([-5, -4, -3, -2, -1,  2])"
      ]
     },
     "execution_count": 201,
     "metadata": {},
     "output_type": "execute_result"
    }
   ],
   "source": [
    "a[(a<0) | (a==2)]"
   ]
  },
  {
   "cell_type": "markdown",
   "id": "8b43d72a",
   "metadata": {},
   "source": [
    "## Sum"
   ]
  },
  {
   "cell_type": "code",
   "execution_count": 204,
   "id": "a87bf746",
   "metadata": {},
   "outputs": [],
   "source": [
    "a=np.arange(1,21).reshape(4,5)"
   ]
  },
  {
   "cell_type": "code",
   "execution_count": 205,
   "id": "d5b58cda",
   "metadata": {},
   "outputs": [
    {
     "data": {
      "text/plain": [
       "210"
      ]
     },
     "execution_count": 205,
     "metadata": {},
     "output_type": "execute_result"
    }
   ],
   "source": [
    "np.sum(a)"
   ]
  },
  {
   "cell_type": "code",
   "execution_count": 206,
   "id": "650d1436",
   "metadata": {},
   "outputs": [],
   "source": [
    "filt = a<5"
   ]
  },
  {
   "cell_type": "code",
   "execution_count": 207,
   "id": "2aee1bb3",
   "metadata": {},
   "outputs": [
    {
     "data": {
      "text/plain": [
       "array([[ True,  True,  True,  True, False],\n",
       "       [False, False, False, False, False],\n",
       "       [False, False, False, False, False],\n",
       "       [False, False, False, False, False]])"
      ]
     },
     "execution_count": 207,
     "metadata": {},
     "output_type": "execute_result"
    }
   ],
   "source": [
    "filt"
   ]
  },
  {
   "cell_type": "code",
   "execution_count": 210,
   "id": "2b3052dd",
   "metadata": {},
   "outputs": [
    {
     "data": {
      "text/plain": [
       "4"
      ]
     },
     "execution_count": 210,
     "metadata": {},
     "output_type": "execute_result"
    }
   ],
   "source": [
    "np.sum(filt) # 4 deger varmis."
   ]
  },
  {
   "cell_type": "code",
   "execution_count": 212,
   "id": "bbfe186a",
   "metadata": {},
   "outputs": [
    {
     "data": {
      "text/plain": [
       "array([1, 2, 3, 4])"
      ]
     },
     "execution_count": 212,
     "metadata": {},
     "output_type": "execute_result"
    }
   ],
   "source": [
    "a[filt] # Dogru bilgi."
   ]
  },
  {
   "cell_type": "code",
   "execution_count": 213,
   "id": "4fb20d93",
   "metadata": {},
   "outputs": [
    {
     "data": {
      "text/plain": [
       "10"
      ]
     },
     "execution_count": 213,
     "metadata": {},
     "output_type": "execute_result"
    }
   ],
   "source": [
    "np.sum(a[filt])"
   ]
  },
  {
   "cell_type": "code",
   "execution_count": 214,
   "id": "ce70342c",
   "metadata": {},
   "outputs": [],
   "source": [
    "flt=(a>5) & (a<9)"
   ]
  },
  {
   "cell_type": "code",
   "execution_count": 215,
   "id": "2401b0c9",
   "metadata": {},
   "outputs": [
    {
     "data": {
      "text/plain": [
       "array([6, 7, 8])"
      ]
     },
     "execution_count": 215,
     "metadata": {},
     "output_type": "execute_result"
    }
   ],
   "source": [
    "a[flt]"
   ]
  },
  {
   "cell_type": "code",
   "execution_count": 217,
   "id": "ba72d0ef",
   "metadata": {},
   "outputs": [
    {
     "data": {
      "text/plain": [
       "21"
      ]
     },
     "execution_count": 217,
     "metadata": {},
     "output_type": "execute_result"
    }
   ],
   "source": [
    "np.sum(a[flt])"
   ]
  },
  {
   "cell_type": "markdown",
   "id": "2fa985a6",
   "metadata": {},
   "source": [
    "### Belirli Axis uzerinde toplama"
   ]
  },
  {
   "cell_type": "code",
   "execution_count": 218,
   "id": "7c5891fe",
   "metadata": {},
   "outputs": [
    {
     "data": {
      "text/plain": [
       "array([[ 1,  2,  3,  4,  5],\n",
       "       [ 6,  7,  8,  9, 10],\n",
       "       [11, 12, 13, 14, 15],\n",
       "       [16, 17, 18, 19, 20]])"
      ]
     },
     "execution_count": 218,
     "metadata": {},
     "output_type": "execute_result"
    }
   ],
   "source": [
    "a"
   ]
  },
  {
   "cell_type": "code",
   "execution_count": 222,
   "id": "640049c3",
   "metadata": {},
   "outputs": [
    {
     "data": {
      "text/plain": [
       "array([34, 38, 42, 46, 50])"
      ]
     },
     "execution_count": 222,
     "metadata": {},
     "output_type": "execute_result"
    }
   ],
   "source": [
    "np.sum(a,axis=0) # Columnlar toplandi"
   ]
  },
  {
   "cell_type": "code",
   "execution_count": 223,
   "id": "97d2adf8",
   "metadata": {},
   "outputs": [
    {
     "data": {
      "text/plain": [
       "array([15, 40, 65, 90])"
      ]
     },
     "execution_count": 223,
     "metadata": {},
     "output_type": "execute_result"
    }
   ],
   "source": [
    "np.sum(a,axis=1) # Satirlar Toplandi"
   ]
  },
  {
   "cell_type": "markdown",
   "id": "857b1563",
   "metadata": {},
   "source": [
    "##  Axisler Hatirlatma\n",
    "```\n",
    "|                 --------> Axis 1 \n",
    "|\n",
    "|  Axis 0      \n",
    "|\n",
    "v\n",
    "```"
   ]
  },
  {
   "cell_type": "markdown",
   "id": "20ca897e",
   "metadata": {},
   "source": [
    "## All\n",
    "Tum Elemanlar verilen sarti sagliyormu?   \n",
    "\n",
    "Axislerdede denenebiliyor"
   ]
  },
  {
   "cell_type": "code",
   "execution_count": 225,
   "id": "75304c77",
   "metadata": {},
   "outputs": [
    {
     "data": {
      "text/plain": [
       "array([[ 1,  2,  3,  4,  5],\n",
       "       [ 6,  7,  8,  9, 10],\n",
       "       [11, 12, 13, 14, 15],\n",
       "       [16, 17, 18, 19, 20]])"
      ]
     },
     "execution_count": 225,
     "metadata": {},
     "output_type": "execute_result"
    }
   ],
   "source": [
    "a=np.arange(1,21).reshape(4,5)\n",
    "a"
   ]
  },
  {
   "cell_type": "code",
   "execution_count": 226,
   "id": "67e7ed73",
   "metadata": {},
   "outputs": [
    {
     "data": {
      "text/plain": [
       "array([[ True,  True,  True,  True,  True],\n",
       "       [ True,  True,  True,  True,  True],\n",
       "       [ True,  True,  True,  True,  True],\n",
       "       [ True,  True,  True,  True,  True]])"
      ]
     },
     "execution_count": 226,
     "metadata": {},
     "output_type": "execute_result"
    }
   ],
   "source": [
    "a > -1"
   ]
  },
  {
   "cell_type": "code",
   "execution_count": 227,
   "id": "94bb6b47",
   "metadata": {},
   "outputs": [
    {
     "data": {
      "text/plain": [
       "True"
      ]
     },
     "execution_count": 227,
     "metadata": {},
     "output_type": "execute_result"
    }
   ],
   "source": [
    "np.all(a>-1)"
   ]
  },
  {
   "cell_type": "code",
   "execution_count": 229,
   "id": "a71507b2",
   "metadata": {},
   "outputs": [
    {
     "data": {
      "text/plain": [
       "array([False,  True,  True,  True])"
      ]
     },
     "execution_count": 229,
     "metadata": {},
     "output_type": "execute_result"
    }
   ],
   "source": [
    "np.all(a>5,axis=1) # 1. satir icin icin false 2. 3. ve 4. dogru"
   ]
  },
  {
   "cell_type": "markdown",
   "id": "2db87def",
   "metadata": {},
   "source": [
    "## Any\n",
    "\n",
    "Her hangi bir eleman sagliyor ise True , Yoksa false\n",
    "\n",
    "yine , Axislerde inceleme yapilabilir."
   ]
  },
  {
   "cell_type": "code",
   "execution_count": 230,
   "id": "55335800",
   "metadata": {},
   "outputs": [
    {
     "data": {
      "text/plain": [
       "array([[ 1,  2,  3,  4,  5],\n",
       "       [ 6,  7,  8,  9, 10],\n",
       "       [11, 12, 13, 14, 15],\n",
       "       [16, 17, 18, 19, 20]])"
      ]
     },
     "execution_count": 230,
     "metadata": {},
     "output_type": "execute_result"
    }
   ],
   "source": [
    "a"
   ]
  },
  {
   "cell_type": "code",
   "execution_count": 232,
   "id": "d8341114",
   "metadata": {},
   "outputs": [
    {
     "data": {
      "text/plain": [
       "array([[False,  True, False, False, False],\n",
       "       [False, False, False, False, False],\n",
       "       [False, False, False, False, False],\n",
       "       [False, False, False, False, False]])"
      ]
     },
     "execution_count": 232,
     "metadata": {},
     "output_type": "execute_result"
    }
   ],
   "source": [
    "a == 2 "
   ]
  },
  {
   "cell_type": "code",
   "execution_count": 233,
   "id": "85915bf0",
   "metadata": {},
   "outputs": [
    {
     "data": {
      "text/plain": [
       "True"
      ]
     },
     "execution_count": 233,
     "metadata": {},
     "output_type": "execute_result"
    }
   ],
   "source": [
    "np.any(a==2)"
   ]
  },
  {
   "cell_type": "code",
   "execution_count": null,
   "id": "68672181",
   "metadata": {},
   "outputs": [],
   "source": []
  }
 ],
 "metadata": {
  "kernelspec": {
   "display_name": "Python 3",
   "language": "python",
   "name": "python3"
  },
  "language_info": {
   "codemirror_mode": {
    "name": "ipython",
    "version": 3
   },
   "file_extension": ".py",
   "mimetype": "text/x-python",
   "name": "python",
   "nbconvert_exporter": "python",
   "pygments_lexer": "ipython3",
   "version": "3.9.3"
  },
  "toc": {
   "base_numbering": 1,
   "nav_menu": {},
   "number_sections": true,
   "sideBar": false,
   "skip_h1_title": false,
   "title_cell": "Table of Contents",
   "title_sidebar": "Contents",
   "toc_cell": true,
   "toc_position": {},
   "toc_section_display": true,
   "toc_window_display": false
  }
 },
 "nbformat": 4,
 "nbformat_minor": 5
}
